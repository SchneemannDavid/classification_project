{
 "cells": [
  {
   "cell_type": "markdown",
   "id": "0bd6308e",
   "metadata": {},
   "source": [
    "# Title:"
   ]
  },
  {
   "cell_type": "markdown",
   "id": "3b0a5b12",
   "metadata": {},
   "source": [
    "by David Schneemann"
   ]
  },
  {
   "cell_type": "markdown",
   "id": "1ee88618",
   "metadata": {},
   "source": [
    "## Project Goal"
   ]
  },
  {
   "cell_type": "markdown",
   "id": "4f3f30e8",
   "metadata": {},
   "source": [
    "My goal with this project is to identify Telco's key drivers of customer churn and to provide insight into why and how these factors are producing churn. With this information and the following recommendations, our organization can work together to improve business processes and procedures in order to minimize customer churn moving forward."
   ]
  },
  {
   "cell_type": "markdown",
   "id": "cfb5be14",
   "metadata": {},
   "source": [
    "## Project Description"
   ]
  },
  {
   "cell_type": "markdown",
   "id": "b9aeb1ae",
   "metadata": {},
   "source": [
    "Losing customers, expressed as churn, is a real issue for the Telco Co. \n",
    "\n",
    "In today's business world, the cost of acquiring customers can be steep. Thus, businesses are seeking ways to retain the customers they already have through providing more options to consumers that can meet the needs of a diverse customer population. \n",
    "\n",
    "In order to meet the desire for customer retention at Telco Co., we will analyze the attributes (features) of customers who are more or less likely to churn. We will then develop models for predicting churn based on these attributes and provide recommendations and predictions to Telco for reducing churn and predicting churn for their customer base moving forward."
   ]
  },
  {
   "cell_type": "markdown",
   "id": "7eecae8a",
   "metadata": {},
   "source": [
    "## Initial Questions"
   ]
  },
  {
   "cell_type": "markdown",
   "id": "1d735b74",
   "metadata": {},
   "source": [
    "##### 1. Do M2m customers churn more than 1-yr or 2-yr customers?\n",
    "    \n",
    "- Ho = M2M customers churn <= 1&2-yr customers\n",
    "- Ha = M2M customers churn > 1&2-yr customers"
   ]
  },
  {
   "cell_type": "markdown",
   "id": "3f3015af",
   "metadata": {},
   "source": [
    "##### 2. Does paying by electronic check influence churn?\n",
    "\n",
    "- Ho = Electronic check churn <= other payment types\n",
    "- Ha = Electronic check churns > other payment types"
   ]
  },
  {
   "cell_type": "markdown",
   "id": "a348b677",
   "metadata": {},
   "source": [
    "##### 3. Do customers with Fiber churn more than other internet service types?\n",
    "\n",
    "- Ho = Fiber internet churn <= DSL or no internet churn\n",
    "- Ha = Fiber internet churn > DSL or no internet churn"
   ]
  },
  {
   "cell_type": "markdown",
   "id": "80375a84",
   "metadata": {},
   "source": [
    "##### 4. Do adults with dependents churn more than adults without dependents?\n",
    "\n",
    "- Ho = Adults with dependents churn <= adults without dependents\n",
    "- Ha = Adults with dependents churn > adults without dependents"
   ]
  },
  {
   "cell_type": "markdown",
   "id": "139dac51",
   "metadata": {},
   "source": [
    "## Data Dictionary"
   ]
  },
  {
   "cell_type": "markdown",
   "id": "86d016d0",
   "metadata": {},
   "source": [
    "In order to effectively meet our goals, the following module imports are required. \\\n",
    "Below is an extensive list of all modules I imported and used to create and complete the desired analysis for Telco Co."
   ]
  },
  {
   "cell_type": "code",
   "execution_count": 1,
   "id": "3f1a0ab3",
   "metadata": {},
   "outputs": [],
   "source": [
    "# Ignore warnings\n",
    "import warnings\n",
    "warnings.filterwarnings(\"ignore\")\n",
    "\n",
    "# Data handling\n",
    "import pandas as pd\n",
    "import numpy as np\n",
    "\n",
    "# Data visualization\n",
    "import matplotlib.pyplot as plt\n",
    "import seaborn as sns\n",
    "\n",
    "# Sklearn modules\n",
    "from sklearn.neighbors import KNeighborsClassifier\n",
    "from sklearn.metrics import accuracy_score\n",
    "from sklearn.model_selection import train_test_split\n",
    "from sklearn.tree import DecisionTreeClassifier, plot_tree, export_text\n",
    "from sklearn.model_selection import train_test_split\n",
    "from sklearn.metrics import classification_report, confusion_matrix, plot_confusion_matrix\n",
    "from sklearn.ensemble import RandomForestClassifier\n",
    "from sklearn.neighbors import KNeighborsClassifier\n",
    "from sklearn.linear_model import LogisticRegression\n",
    "import sklearn.linear_model\n",
    "\n",
    "# Data acquisition\n",
    "from pydataset import data\n",
    "\n",
    "# Data statistics & modeling\n",
    "from scipy import stats\n",
    "from model import map_setosa_knn, train_validate_test_split\n",
    "\n",
    "# Data\n",
    "import prepare\n",
    "import env\n",
    "import prepare\n",
    "import model\n",
    "import acquire_telco\n",
    "import split_telco"
   ]
  },
  {
   "cell_type": "markdown",
   "id": "8a613677",
   "metadata": {},
   "source": [
    "| Variable      | Meaning |\n",
    "| ----------- | ----------- |\n",
    "| Churn      | Defines whether a customer left their service contract       |\n",
    "| Monthly Charges   | The average monthly charge per customer        |\n",
    "| m2m      | Customers who have month to month contracts       |\n",
    "| yr1      | Customers who have 1-yr contracts       |\n",
    "| yr2      | Customers who have 1-yr contracts       |\n",
    "| a_bank_transfer   | Customers who pay via bank transfer (automatic)       |\n",
    "| a_ccard      | Customers who pay via credit card (automatic)      |\n",
    "| e_check      | Customers who pay via electronic check       |\n",
    "| m_check      | Customers who pay via mailed check       |\n",
    "| p_w_d   | Defines customers who have both a partner and dependents        |\n",
    "| p_no_d      | Defines customers who have a partner but no dependents|\n",
    "| d_no_p      | Defines customers who have dependents but no partner  |\n",
    "| no_pod      | Defines customers who have neither a partner nor dependents       |"
   ]
  },
  {
   "cell_type": "markdown",
   "id": "ef22df86",
   "metadata": {},
   "source": [
    "## Wrangle Telco Data"
   ]
  },
  {
   "cell_type": "markdown",
   "id": "0adc23f4",
   "metadata": {},
   "source": [
    "To acquire the telco data, I used the telco_db in our mySQL server. I selected all columns from the customers table. I then joined this table with the contract_type, payment_type, and internet_service_type tables."
   ]
  },
  {
   "cell_type": "code",
   "execution_count": 2,
   "id": "058c6db0",
   "metadata": {},
   "outputs": [
    {
     "data": {
      "text/html": [
       "<div>\n",
       "<style scoped>\n",
       "    .dataframe tbody tr th:only-of-type {\n",
       "        vertical-align: middle;\n",
       "    }\n",
       "\n",
       "    .dataframe tbody tr th {\n",
       "        vertical-align: top;\n",
       "    }\n",
       "\n",
       "    .dataframe thead th {\n",
       "        text-align: right;\n",
       "    }\n",
       "</style>\n",
       "<table border=\"1\" class=\"dataframe\">\n",
       "  <thead>\n",
       "    <tr style=\"text-align: right;\">\n",
       "      <th></th>\n",
       "      <th>Unnamed: 0</th>\n",
       "      <th>customer_id</th>\n",
       "      <th>gender</th>\n",
       "      <th>senior_citizen</th>\n",
       "      <th>partner</th>\n",
       "      <th>dependents</th>\n",
       "      <th>tenure</th>\n",
       "      <th>phone_service</th>\n",
       "      <th>multiple_lines</th>\n",
       "      <th>internet_service_type_id</th>\n",
       "      <th>...</th>\n",
       "      <th>payment_type_id</th>\n",
       "      <th>monthly_charges</th>\n",
       "      <th>total_charges</th>\n",
       "      <th>churn</th>\n",
       "      <th>contract_type_id.1</th>\n",
       "      <th>contract_type</th>\n",
       "      <th>payment_type_id.1</th>\n",
       "      <th>payment_type</th>\n",
       "      <th>internet_service_type_id.1</th>\n",
       "      <th>internet_service_type</th>\n",
       "    </tr>\n",
       "  </thead>\n",
       "  <tbody>\n",
       "    <tr>\n",
       "      <th>0</th>\n",
       "      <td>0</td>\n",
       "      <td>0002-ORFBO</td>\n",
       "      <td>Female</td>\n",
       "      <td>0</td>\n",
       "      <td>Yes</td>\n",
       "      <td>Yes</td>\n",
       "      <td>9</td>\n",
       "      <td>Yes</td>\n",
       "      <td>No</td>\n",
       "      <td>1</td>\n",
       "      <td>...</td>\n",
       "      <td>2</td>\n",
       "      <td>65.6</td>\n",
       "      <td>593.3</td>\n",
       "      <td>No</td>\n",
       "      <td>2</td>\n",
       "      <td>One year</td>\n",
       "      <td>2</td>\n",
       "      <td>Mailed check</td>\n",
       "      <td>1</td>\n",
       "      <td>DSL</td>\n",
       "    </tr>\n",
       "    <tr>\n",
       "      <th>1</th>\n",
       "      <td>1</td>\n",
       "      <td>0003-MKNFE</td>\n",
       "      <td>Male</td>\n",
       "      <td>0</td>\n",
       "      <td>No</td>\n",
       "      <td>No</td>\n",
       "      <td>9</td>\n",
       "      <td>Yes</td>\n",
       "      <td>Yes</td>\n",
       "      <td>1</td>\n",
       "      <td>...</td>\n",
       "      <td>2</td>\n",
       "      <td>59.9</td>\n",
       "      <td>542.4</td>\n",
       "      <td>No</td>\n",
       "      <td>1</td>\n",
       "      <td>Month-to-month</td>\n",
       "      <td>2</td>\n",
       "      <td>Mailed check</td>\n",
       "      <td>1</td>\n",
       "      <td>DSL</td>\n",
       "    </tr>\n",
       "    <tr>\n",
       "      <th>2</th>\n",
       "      <td>2</td>\n",
       "      <td>0004-TLHLJ</td>\n",
       "      <td>Male</td>\n",
       "      <td>0</td>\n",
       "      <td>No</td>\n",
       "      <td>No</td>\n",
       "      <td>4</td>\n",
       "      <td>Yes</td>\n",
       "      <td>No</td>\n",
       "      <td>2</td>\n",
       "      <td>...</td>\n",
       "      <td>1</td>\n",
       "      <td>73.9</td>\n",
       "      <td>280.85</td>\n",
       "      <td>Yes</td>\n",
       "      <td>1</td>\n",
       "      <td>Month-to-month</td>\n",
       "      <td>1</td>\n",
       "      <td>Electronic check</td>\n",
       "      <td>2</td>\n",
       "      <td>Fiber optic</td>\n",
       "    </tr>\n",
       "    <tr>\n",
       "      <th>3</th>\n",
       "      <td>3</td>\n",
       "      <td>0011-IGKFF</td>\n",
       "      <td>Male</td>\n",
       "      <td>1</td>\n",
       "      <td>Yes</td>\n",
       "      <td>No</td>\n",
       "      <td>13</td>\n",
       "      <td>Yes</td>\n",
       "      <td>No</td>\n",
       "      <td>2</td>\n",
       "      <td>...</td>\n",
       "      <td>1</td>\n",
       "      <td>98.0</td>\n",
       "      <td>1237.85</td>\n",
       "      <td>Yes</td>\n",
       "      <td>1</td>\n",
       "      <td>Month-to-month</td>\n",
       "      <td>1</td>\n",
       "      <td>Electronic check</td>\n",
       "      <td>2</td>\n",
       "      <td>Fiber optic</td>\n",
       "    </tr>\n",
       "    <tr>\n",
       "      <th>4</th>\n",
       "      <td>4</td>\n",
       "      <td>0013-EXCHZ</td>\n",
       "      <td>Female</td>\n",
       "      <td>1</td>\n",
       "      <td>Yes</td>\n",
       "      <td>No</td>\n",
       "      <td>3</td>\n",
       "      <td>Yes</td>\n",
       "      <td>No</td>\n",
       "      <td>2</td>\n",
       "      <td>...</td>\n",
       "      <td>2</td>\n",
       "      <td>83.9</td>\n",
       "      <td>267.4</td>\n",
       "      <td>Yes</td>\n",
       "      <td>1</td>\n",
       "      <td>Month-to-month</td>\n",
       "      <td>2</td>\n",
       "      <td>Mailed check</td>\n",
       "      <td>2</td>\n",
       "      <td>Fiber optic</td>\n",
       "    </tr>\n",
       "  </tbody>\n",
       "</table>\n",
       "<p>5 rows × 28 columns</p>\n",
       "</div>"
      ],
      "text/plain": [
       "   Unnamed: 0 customer_id  gender  senior_citizen partner dependents  tenure  \\\n",
       "0           0  0002-ORFBO  Female               0     Yes        Yes       9   \n",
       "1           1  0003-MKNFE    Male               0      No         No       9   \n",
       "2           2  0004-TLHLJ    Male               0      No         No       4   \n",
       "3           3  0011-IGKFF    Male               1     Yes         No      13   \n",
       "4           4  0013-EXCHZ  Female               1     Yes         No       3   \n",
       "\n",
       "  phone_service multiple_lines  internet_service_type_id  ... payment_type_id  \\\n",
       "0           Yes             No                         1  ...               2   \n",
       "1           Yes            Yes                         1  ...               2   \n",
       "2           Yes             No                         2  ...               1   \n",
       "3           Yes             No                         2  ...               1   \n",
       "4           Yes             No                         2  ...               2   \n",
       "\n",
       "  monthly_charges total_charges churn contract_type_id.1   contract_type  \\\n",
       "0            65.6         593.3    No                  2        One year   \n",
       "1            59.9         542.4    No                  1  Month-to-month   \n",
       "2            73.9        280.85   Yes                  1  Month-to-month   \n",
       "3            98.0       1237.85   Yes                  1  Month-to-month   \n",
       "4            83.9         267.4   Yes                  1  Month-to-month   \n",
       "\n",
       "   payment_type_id.1      payment_type  internet_service_type_id.1  \\\n",
       "0                  2      Mailed check                           1   \n",
       "1                  2      Mailed check                           1   \n",
       "2                  1  Electronic check                           2   \n",
       "3                  1  Electronic check                           2   \n",
       "4                  2      Mailed check                           2   \n",
       "\n",
       "   internet_service_type  \n",
       "0                    DSL  \n",
       "1                    DSL  \n",
       "2            Fiber optic  \n",
       "3            Fiber optic  \n",
       "4            Fiber optic  \n",
       "\n",
       "[5 rows x 28 columns]"
      ]
     },
     "execution_count": 2,
     "metadata": {},
     "output_type": "execute_result"
    }
   ],
   "source": [
    "# py file to acquire data from sql database telco_db\n",
    "import acquire_telco\n",
    "\n",
    "# Utilizing our py file function 'get_telco_data' to return our table in the form of a dataframe\n",
    "df = acquire_telco.get_telco_data()\n",
    "df.head()"
   ]
  },
  {
   "cell_type": "markdown",
   "id": "74ef8aa8",
   "metadata": {},
   "source": [
    "To clean the data, I did the following:\n",
    "\n",
    "1. Drop Duplicate Columns: \"id\" columns such as 'payment_type_id' are duplicates and don't serve a purpose in our table, thus I removed them.\n",
    "2. Transforming numerical variables: 'total_charges' has whitespace removed and is converted into the appropriate datatype\n",
    "3. Encoding binary categorical variables: Variables like 'gender', 'partner', and 'dependents' (among others) need to be encoded numerically for exploration and analysis purposes\n",
    "4. Dummy vars: I attained dummy variables for 'multiple_lines',security choices, streaming choices, and other variables such as 'contract_type'.\n",
    "5. Concatenate dummy df with original df: I concat our df to include our dummy variables\n",
    "6. Feature engineering: In order to perform proper exploration and analysis, I create additional features that break down existing variables into more concise values that pinpoint potential causes of churn"
   ]
  },
  {
   "cell_type": "code",
   "execution_count": 3,
   "id": "f169d378",
   "metadata": {},
   "outputs": [],
   "source": [
    "# I acquire my prepare.py file, this file includes data cleaning instructions\n",
    "import prepare"
   ]
  },
  {
   "cell_type": "code",
   "execution_count": 4,
   "id": "9fc8bad4",
   "metadata": {},
   "outputs": [
    {
     "data": {
      "text/html": [
       "<div>\n",
       "<style scoped>\n",
       "    .dataframe tbody tr th:only-of-type {\n",
       "        vertical-align: middle;\n",
       "    }\n",
       "\n",
       "    .dataframe tbody tr th {\n",
       "        vertical-align: top;\n",
       "    }\n",
       "\n",
       "    .dataframe thead th {\n",
       "        text-align: right;\n",
       "    }\n",
       "</style>\n",
       "<table border=\"1\" class=\"dataframe\">\n",
       "  <thead>\n",
       "    <tr style=\"text-align: right;\">\n",
       "      <th></th>\n",
       "      <th>gender</th>\n",
       "      <th>senior_citizen</th>\n",
       "      <th>partner</th>\n",
       "      <th>dependents</th>\n",
       "      <th>tenure</th>\n",
       "      <th>phone_service</th>\n",
       "      <th>multiple_lines</th>\n",
       "      <th>online_security</th>\n",
       "      <th>online_backup</th>\n",
       "      <th>device_protection</th>\n",
       "      <th>...</th>\n",
       "      <th>payment_type_Credit card (automatic)</th>\n",
       "      <th>payment_type_Electronic check</th>\n",
       "      <th>payment_type_Mailed check</th>\n",
       "      <th>partner_w_dependents</th>\n",
       "      <th>partner_no_dependents</th>\n",
       "      <th>dependents_no_partner</th>\n",
       "      <th>no_pod</th>\n",
       "      <th>male_w_dependents</th>\n",
       "      <th>female_w_dependents</th>\n",
       "      <th>number_relationships</th>\n",
       "    </tr>\n",
       "  </thead>\n",
       "  <tbody>\n",
       "    <tr>\n",
       "      <th>0</th>\n",
       "      <td>Female</td>\n",
       "      <td>0</td>\n",
       "      <td>Yes</td>\n",
       "      <td>Yes</td>\n",
       "      <td>9</td>\n",
       "      <td>Yes</td>\n",
       "      <td>No</td>\n",
       "      <td>No</td>\n",
       "      <td>Yes</td>\n",
       "      <td>No</td>\n",
       "      <td>...</td>\n",
       "      <td>0</td>\n",
       "      <td>0</td>\n",
       "      <td>1</td>\n",
       "      <td>1</td>\n",
       "      <td>0</td>\n",
       "      <td>0</td>\n",
       "      <td>0</td>\n",
       "      <td>0</td>\n",
       "      <td>0</td>\n",
       "      <td>2</td>\n",
       "    </tr>\n",
       "    <tr>\n",
       "      <th>1</th>\n",
       "      <td>Male</td>\n",
       "      <td>0</td>\n",
       "      <td>No</td>\n",
       "      <td>No</td>\n",
       "      <td>9</td>\n",
       "      <td>Yes</td>\n",
       "      <td>Yes</td>\n",
       "      <td>No</td>\n",
       "      <td>No</td>\n",
       "      <td>No</td>\n",
       "      <td>...</td>\n",
       "      <td>0</td>\n",
       "      <td>0</td>\n",
       "      <td>1</td>\n",
       "      <td>0</td>\n",
       "      <td>0</td>\n",
       "      <td>0</td>\n",
       "      <td>1</td>\n",
       "      <td>0</td>\n",
       "      <td>0</td>\n",
       "      <td>0</td>\n",
       "    </tr>\n",
       "    <tr>\n",
       "      <th>2</th>\n",
       "      <td>Male</td>\n",
       "      <td>0</td>\n",
       "      <td>No</td>\n",
       "      <td>No</td>\n",
       "      <td>4</td>\n",
       "      <td>Yes</td>\n",
       "      <td>No</td>\n",
       "      <td>No</td>\n",
       "      <td>No</td>\n",
       "      <td>Yes</td>\n",
       "      <td>...</td>\n",
       "      <td>0</td>\n",
       "      <td>1</td>\n",
       "      <td>0</td>\n",
       "      <td>0</td>\n",
       "      <td>0</td>\n",
       "      <td>0</td>\n",
       "      <td>1</td>\n",
       "      <td>0</td>\n",
       "      <td>0</td>\n",
       "      <td>0</td>\n",
       "    </tr>\n",
       "    <tr>\n",
       "      <th>3</th>\n",
       "      <td>Male</td>\n",
       "      <td>1</td>\n",
       "      <td>Yes</td>\n",
       "      <td>No</td>\n",
       "      <td>13</td>\n",
       "      <td>Yes</td>\n",
       "      <td>No</td>\n",
       "      <td>No</td>\n",
       "      <td>Yes</td>\n",
       "      <td>Yes</td>\n",
       "      <td>...</td>\n",
       "      <td>0</td>\n",
       "      <td>1</td>\n",
       "      <td>0</td>\n",
       "      <td>0</td>\n",
       "      <td>1</td>\n",
       "      <td>0</td>\n",
       "      <td>0</td>\n",
       "      <td>0</td>\n",
       "      <td>0</td>\n",
       "      <td>1</td>\n",
       "    </tr>\n",
       "    <tr>\n",
       "      <th>4</th>\n",
       "      <td>Female</td>\n",
       "      <td>1</td>\n",
       "      <td>Yes</td>\n",
       "      <td>No</td>\n",
       "      <td>3</td>\n",
       "      <td>Yes</td>\n",
       "      <td>No</td>\n",
       "      <td>No</td>\n",
       "      <td>No</td>\n",
       "      <td>No</td>\n",
       "      <td>...</td>\n",
       "      <td>0</td>\n",
       "      <td>0</td>\n",
       "      <td>1</td>\n",
       "      <td>0</td>\n",
       "      <td>1</td>\n",
       "      <td>0</td>\n",
       "      <td>0</td>\n",
       "      <td>0</td>\n",
       "      <td>0</td>\n",
       "      <td>1</td>\n",
       "    </tr>\n",
       "  </tbody>\n",
       "</table>\n",
       "<p>5 rows × 67 columns</p>\n",
       "</div>"
      ],
      "text/plain": [
       "   gender  senior_citizen partner dependents  tenure phone_service  \\\n",
       "0  Female               0     Yes        Yes       9           Yes   \n",
       "1    Male               0      No         No       9           Yes   \n",
       "2    Male               0      No         No       4           Yes   \n",
       "3    Male               1     Yes         No      13           Yes   \n",
       "4  Female               1     Yes         No       3           Yes   \n",
       "\n",
       "  multiple_lines online_security online_backup device_protection  ...  \\\n",
       "0             No              No           Yes                No  ...   \n",
       "1            Yes              No            No                No  ...   \n",
       "2             No              No            No               Yes  ...   \n",
       "3             No              No           Yes               Yes  ...   \n",
       "4             No              No            No                No  ...   \n",
       "\n",
       "  payment_type_Credit card (automatic) payment_type_Electronic check  \\\n",
       "0                                    0                             0   \n",
       "1                                    0                             0   \n",
       "2                                    0                             1   \n",
       "3                                    0                             1   \n",
       "4                                    0                             0   \n",
       "\n",
       "  payment_type_Mailed check partner_w_dependents  partner_no_dependents  \\\n",
       "0                         1                    1                      0   \n",
       "1                         1                    0                      0   \n",
       "2                         0                    0                      0   \n",
       "3                         0                    0                      1   \n",
       "4                         1                    0                      1   \n",
       "\n",
       "   dependents_no_partner no_pod  male_w_dependents female_w_dependents  \\\n",
       "0                      0      0                  0                   0   \n",
       "1                      0      1                  0                   0   \n",
       "2                      0      1                  0                   0   \n",
       "3                      0      0                  0                   0   \n",
       "4                      0      0                  0                   0   \n",
       "\n",
       "   number_relationships  \n",
       "0                     2  \n",
       "1                     0  \n",
       "2                     0  \n",
       "3                     1  \n",
       "4                     1  \n",
       "\n",
       "[5 rows x 67 columns]"
      ]
     },
     "execution_count": 4,
     "metadata": {},
     "output_type": "execute_result"
    }
   ],
   "source": [
    "# Utilizing our py file function 'prep_telco_data' to return our dataframe tidy and clean \n",
    "df = prepare.prep_telco_data(df)\n",
    "df.head()"
   ]
  },
  {
   "cell_type": "markdown",
   "id": "5e355963",
   "metadata": {},
   "source": [
    "For simplicity, I have separated my 'prepare' and 'split' files. My 'split' file includes functions that split our dataset into train, validate, and test dataframes that allow appropriate statistical analysis."
   ]
  },
  {
   "cell_type": "code",
   "execution_count": 5,
   "id": "2d9b2336",
   "metadata": {},
   "outputs": [],
   "source": [
    "# acquiring and implementing my 'split' py file and accompanying function\n",
    "import split_telco\n",
    "\n",
    "# calling the function and applying it to our df\n",
    "train, validate, test = split_telco.telco_split_explore(df)"
   ]
  },
  {
   "cell_type": "code",
   "execution_count": 6,
   "id": "8f12eb57",
   "metadata": {},
   "outputs": [
    {
     "data": {
      "text/html": [
       "<div>\n",
       "<style scoped>\n",
       "    .dataframe tbody tr th:only-of-type {\n",
       "        vertical-align: middle;\n",
       "    }\n",
       "\n",
       "    .dataframe tbody tr th {\n",
       "        vertical-align: top;\n",
       "    }\n",
       "\n",
       "    .dataframe thead th {\n",
       "        text-align: right;\n",
       "    }\n",
       "</style>\n",
       "<table border=\"1\" class=\"dataframe\">\n",
       "  <thead>\n",
       "    <tr style=\"text-align: right;\">\n",
       "      <th></th>\n",
       "      <th>gender</th>\n",
       "      <th>senior_citizen</th>\n",
       "      <th>partner</th>\n",
       "      <th>dependents</th>\n",
       "      <th>tenure</th>\n",
       "      <th>phone_service</th>\n",
       "      <th>multiple_lines</th>\n",
       "      <th>online_security</th>\n",
       "      <th>online_backup</th>\n",
       "      <th>device_protection</th>\n",
       "      <th>...</th>\n",
       "      <th>payment_type_Credit card (automatic)</th>\n",
       "      <th>payment_type_Electronic check</th>\n",
       "      <th>payment_type_Mailed check</th>\n",
       "      <th>partner_w_dependents</th>\n",
       "      <th>partner_no_dependents</th>\n",
       "      <th>dependents_no_partner</th>\n",
       "      <th>no_pod</th>\n",
       "      <th>male_w_dependents</th>\n",
       "      <th>female_w_dependents</th>\n",
       "      <th>number_relationships</th>\n",
       "    </tr>\n",
       "  </thead>\n",
       "  <tbody>\n",
       "    <tr>\n",
       "      <th>5919</th>\n",
       "      <td>Female</td>\n",
       "      <td>0</td>\n",
       "      <td>No</td>\n",
       "      <td>No</td>\n",
       "      <td>58</td>\n",
       "      <td>Yes</td>\n",
       "      <td>Yes</td>\n",
       "      <td>Yes</td>\n",
       "      <td>Yes</td>\n",
       "      <td>Yes</td>\n",
       "      <td>...</td>\n",
       "      <td>1</td>\n",
       "      <td>0</td>\n",
       "      <td>0</td>\n",
       "      <td>0</td>\n",
       "      <td>0</td>\n",
       "      <td>0</td>\n",
       "      <td>1</td>\n",
       "      <td>0</td>\n",
       "      <td>0</td>\n",
       "      <td>0</td>\n",
       "    </tr>\n",
       "    <tr>\n",
       "      <th>1915</th>\n",
       "      <td>Male</td>\n",
       "      <td>0</td>\n",
       "      <td>No</td>\n",
       "      <td>Yes</td>\n",
       "      <td>71</td>\n",
       "      <td>Yes</td>\n",
       "      <td>Yes</td>\n",
       "      <td>Yes</td>\n",
       "      <td>Yes</td>\n",
       "      <td>No</td>\n",
       "      <td>...</td>\n",
       "      <td>1</td>\n",
       "      <td>0</td>\n",
       "      <td>0</td>\n",
       "      <td>0</td>\n",
       "      <td>0</td>\n",
       "      <td>1</td>\n",
       "      <td>0</td>\n",
       "      <td>1</td>\n",
       "      <td>0</td>\n",
       "      <td>1</td>\n",
       "    </tr>\n",
       "    <tr>\n",
       "      <th>5054</th>\n",
       "      <td>Female</td>\n",
       "      <td>0</td>\n",
       "      <td>Yes</td>\n",
       "      <td>Yes</td>\n",
       "      <td>35</td>\n",
       "      <td>Yes</td>\n",
       "      <td>Yes</td>\n",
       "      <td>No internet service</td>\n",
       "      <td>No internet service</td>\n",
       "      <td>No internet service</td>\n",
       "      <td>...</td>\n",
       "      <td>0</td>\n",
       "      <td>1</td>\n",
       "      <td>0</td>\n",
       "      <td>1</td>\n",
       "      <td>0</td>\n",
       "      <td>0</td>\n",
       "      <td>0</td>\n",
       "      <td>0</td>\n",
       "      <td>0</td>\n",
       "      <td>2</td>\n",
       "    </tr>\n",
       "    <tr>\n",
       "      <th>2355</th>\n",
       "      <td>Male</td>\n",
       "      <td>0</td>\n",
       "      <td>Yes</td>\n",
       "      <td>Yes</td>\n",
       "      <td>1</td>\n",
       "      <td>Yes</td>\n",
       "      <td>No</td>\n",
       "      <td>No internet service</td>\n",
       "      <td>No internet service</td>\n",
       "      <td>No internet service</td>\n",
       "      <td>...</td>\n",
       "      <td>0</td>\n",
       "      <td>0</td>\n",
       "      <td>1</td>\n",
       "      <td>1</td>\n",
       "      <td>0</td>\n",
       "      <td>0</td>\n",
       "      <td>0</td>\n",
       "      <td>0</td>\n",
       "      <td>0</td>\n",
       "      <td>2</td>\n",
       "    </tr>\n",
       "    <tr>\n",
       "      <th>6279</th>\n",
       "      <td>Male</td>\n",
       "      <td>1</td>\n",
       "      <td>No</td>\n",
       "      <td>No</td>\n",
       "      <td>20</td>\n",
       "      <td>Yes</td>\n",
       "      <td>No</td>\n",
       "      <td>Yes</td>\n",
       "      <td>No</td>\n",
       "      <td>No</td>\n",
       "      <td>...</td>\n",
       "      <td>0</td>\n",
       "      <td>0</td>\n",
       "      <td>1</td>\n",
       "      <td>0</td>\n",
       "      <td>0</td>\n",
       "      <td>0</td>\n",
       "      <td>1</td>\n",
       "      <td>0</td>\n",
       "      <td>0</td>\n",
       "      <td>0</td>\n",
       "    </tr>\n",
       "  </tbody>\n",
       "</table>\n",
       "<p>5 rows × 67 columns</p>\n",
       "</div>"
      ],
      "text/plain": [
       "      gender  senior_citizen partner dependents  tenure phone_service  \\\n",
       "5919  Female               0      No         No      58           Yes   \n",
       "1915    Male               0      No        Yes      71           Yes   \n",
       "5054  Female               0     Yes        Yes      35           Yes   \n",
       "2355    Male               0     Yes        Yes       1           Yes   \n",
       "6279    Male               1      No         No      20           Yes   \n",
       "\n",
       "     multiple_lines      online_security        online_backup  \\\n",
       "5919            Yes                  Yes                  Yes   \n",
       "1915            Yes                  Yes                  Yes   \n",
       "5054            Yes  No internet service  No internet service   \n",
       "2355             No  No internet service  No internet service   \n",
       "6279             No                  Yes                   No   \n",
       "\n",
       "        device_protection  ... payment_type_Credit card (automatic)  \\\n",
       "5919                  Yes  ...                                    1   \n",
       "1915                   No  ...                                    1   \n",
       "5054  No internet service  ...                                    0   \n",
       "2355  No internet service  ...                                    0   \n",
       "6279                   No  ...                                    0   \n",
       "\n",
       "     payment_type_Electronic check payment_type_Mailed check  \\\n",
       "5919                             0                         0   \n",
       "1915                             0                         0   \n",
       "5054                             1                         0   \n",
       "2355                             0                         1   \n",
       "6279                             0                         1   \n",
       "\n",
       "     partner_w_dependents  partner_no_dependents  dependents_no_partner  \\\n",
       "5919                    0                      0                      0   \n",
       "1915                    0                      0                      1   \n",
       "5054                    1                      0                      0   \n",
       "2355                    1                      0                      0   \n",
       "6279                    0                      0                      0   \n",
       "\n",
       "     no_pod  male_w_dependents female_w_dependents  number_relationships  \n",
       "5919      1                  0                   0                     0  \n",
       "1915      0                  1                   0                     1  \n",
       "5054      0                  0                   0                     2  \n",
       "2355      0                  0                   0                     2  \n",
       "6279      1                  0                   0                     0  \n",
       "\n",
       "[5 rows x 67 columns]"
      ]
     },
     "execution_count": 6,
     "metadata": {},
     "output_type": "execute_result"
    }
   ],
   "source": [
    "# confirming data is properly wrangled, cleaned, and split\n",
    "train.head()"
   ]
  },
  {
   "cell_type": "markdown",
   "id": "f366edca",
   "metadata": {},
   "source": [
    "## Set the Data Context"
   ]
  },
  {
   "cell_type": "markdown",
   "id": "fe5ac351",
   "metadata": {},
   "source": [
    "Our dataset contains customer information from the Telco Company.\n",
    "\n",
    "26.6% of customers churned. We have data from 7032 customers, 3875 of which are month to month customers, 2365 of which payed by electronic check, and 3280 of which are single adults (no partner or dependents). The average monthly charge for all customers was $64.80."
   ]
  },
  {
   "cell_type": "code",
   "execution_count": 7,
   "id": "dd11f961",
   "metadata": {},
   "outputs": [
    {
     "data": {
      "image/png": "[encoded data removed]",
      "text/plain": [
       "<Figure size 1152x432 with 3 Axes>"
      ]
     },
     "metadata": {
      "needs_background": "light"
     },
     "output_type": "display_data"
    }
   ],
   "source": [
    "# My visualization setting the context of the data\n",
    "# This visual shows churn rate of the three most prominent features I explore\n",
    "features = ['contract_type_Month-to-month', 'payment_type_Electronic check', 'no_pod']\n",
    "\n",
    "enumerate(features)\n",
    "\n",
    "list(enumerate(features))\n",
    "\n",
    "churn_rate = train.churn_encoded.mean()\n",
    "_, ax = plt.subplots(nrows=1, ncols=3, figsize=(16, 6), sharey=True)\n",
    "for i, feature in enumerate(features):\n",
    "    sns.barplot('churn', feature, data=train\n",
    "                , ax=ax[i], alpha=0.5)\n",
    "    ax[i].set_xlabel('Churn Rate')\n",
    "    ax[i].set_ylabel('')\n",
    "    ax[i].set_title(feature)\n",
    "    ax[i].axhline(churn_rate, ls='--', color='grey')"
   ]
  },
  {
   "cell_type": "markdown",
   "id": "994f4510",
   "metadata": {},
   "source": [
    "## Exploratory Analysis: [question]"
   ]
  },
  {
   "cell_type": "markdown",
   "id": "c8d16d8a",
   "metadata": {},
   "source": [
    "I have answered these questions:\n",
    "\n",
    "1. Do M2m customers churn more than 1-yr or 2-yr customers?\n",
    "2. Does paying by electronic check influence churn?\n",
    "3. Do customers with Fiber churn more than other internet service types?\n",
    "4. Do adults with dependents churn more than adults without dependents?"
   ]
  },
  {
   "cell_type": "markdown",
   "id": "c71c104c",
   "metadata": {},
   "source": [
    "### Question 1"
   ]
  },
  {
   "cell_type": "markdown",
   "id": "6dbbca70",
   "metadata": {},
   "source": [
    "Do M2m customers churn more than 1-yr or 2-yr customers? \\\n",
    "If so, what are potential underlying causes of this high churn rate?"
   ]
  },
  {
   "cell_type": "code",
   "execution_count": 8,
   "id": "2ef1ad5b",
   "metadata": {},
   "outputs": [
    {
     "data": {
      "image/png": "[encoded data removed]",
      "text/plain": [
       "<Figure size 432x288 with 1 Axes>"
      ]
     },
     "metadata": {
      "needs_background": "light"
     },
     "output_type": "display_data"
    },
    {
     "data": {
      "image/png": "[encoded data removed]",
      "text/plain": [
       "<Figure size 432x288 with 1 Axes>"
      ]
     },
     "metadata": {
      "needs_background": "light"
     },
     "output_type": "display_data"
    },
    {
     "data": {
      "image/png": "[encoded data removed]",
      "text/plain": [
       "<Figure size 432x288 with 1 Axes>"
      ]
     },
     "metadata": {
      "needs_background": "light"
     },
     "output_type": "display_data"
    }
   ],
   "source": [
    "# Barplot expressing churn rate of customers by contract type: Month-to-Month, 1-yr, and 2-yr contracts\n",
    "variables = ['contract_type_Month-to-month', 'contract_type_One year', 'contract_type_Two year']\n",
    "\n",
    "mean = [train['contract_type_Month-to-month'].mean(), train['contract_type_One year'].mean(), train['contract_type_Two year'].mean()]\n",
    "\n",
    "for x in range(0,3):\n",
    "    sns.barplot('churn',variables[x], data=train)\n",
    "    \n",
    "    plt.xlabel('')\n",
    "    plt.title(variables[x])\n",
    "    plt.axhline(mean[x], ls = '--', color = 'black')\n",
    "    plt.show()"
   ]
  },
  {
   "cell_type": "code",
   "execution_count": 9,
   "id": "6a31d282",
   "metadata": {},
   "outputs": [
    {
     "name": "stdout",
     "output_type": "stream",
     "text": [
      "churn_encoded                    0    1\n",
      "contract_type_Month-to-month           \n",
      "0                             1653  119\n",
      "1                             1238  927\n",
      "We reject the null hypothesis and this variable is statistically significant\n"
     ]
    }
   ],
   "source": [
    "# Chi-squared test determining whether Month-to-Month churn rate is statistically significant\n",
    "m2m_stat = pd.crosstab(train['contract_type_Month-to-month'], train.churn_encoded)\n",
    "\n",
    "print(m2m_stat)\n",
    "\n",
    "a = 0.05\n",
    "\n",
    "chi2, p, degf, expected = stats.chi2_contingency(m2m_stat)\n",
    "\n",
    "chi2, p\n",
    "\n",
    "\n",
    "if p < a:\n",
    "    print(\"We reject the null hypothesis and this variable is statistically significant\")\n",
    "else:\n",
    "    print(\"We fail to reject the null hypothesis and this feature is not statisitcally significant\")"
   ]
  },
  {
   "cell_type": "markdown",
   "id": "cb8f75c2",
   "metadata": {},
   "source": [
    "### Answer 1"
   ]
  },
  {
   "cell_type": "markdown",
   "id": "64482f85",
   "metadata": {},
   "source": [
    "Customers with Month-to-Month contracts are much more likely to churn compared to those with 1 or 2 year contracts."
   ]
  },
  {
   "cell_type": "markdown",
   "id": "f50020c9",
   "metadata": {},
   "source": [
    "### Question 2"
   ]
  },
  {
   "cell_type": "markdown",
   "id": "81d74e8e",
   "metadata": {},
   "source": [
    "Does paying by electronic check lead to a higher churn rate? \\\n",
    "If so, what are the potential underlying factors of this phenomenon?"
   ]
  },
  {
   "cell_type": "code",
   "execution_count": 10,
   "id": "44bdce37",
   "metadata": {},
   "outputs": [
    {
     "data": {
      "image/png": "[encoded data removed]",
      "text/plain": [
       "<Figure size 432x288 with 1 Axes>"
      ]
     },
     "metadata": {
      "needs_background": "light"
     },
     "output_type": "display_data"
    },
    {
     "data": {
      "image/png": "[encoded data removed]",
      "text/plain": [
       "<Figure size 432x288 with 1 Axes>"
      ]
     },
     "metadata": {
      "needs_background": "light"
     },
     "output_type": "display_data"
    },
    {
     "data": {
      "image/png": "[encoded data removed]",
      "text/plain": [
       "<Figure size 432x288 with 1 Axes>"
      ]
     },
     "metadata": {
      "needs_background": "light"
     },
     "output_type": "display_data"
    },
    {
     "data": {
      "image/png": "[encoded data removed]",
      "text/plain": [
       "<Figure size 432x288 with 1 Axes>"
      ]
     },
     "metadata": {
      "needs_background": "light"
     },
     "output_type": "display_data"
    }
   ],
   "source": [
    "# Barplot expressing churn rate of customers by payment type: bank transfer, cc, e-check, mailed-check\n",
    "variables = ['payment_type_Bank transfer (automatic)', 'payment_type_Credit card (automatic)', 'payment_type_Electronic check', 'payment_type_Mailed check']\n",
    "\n",
    "mean = [train['payment_type_Bank transfer (automatic)'].mean(), train['payment_type_Credit card (automatic)'].mean(), train['payment_type_Electronic check'].mean(), train['payment_type_Mailed check'].mean()]\n",
    "\n",
    "for x in range(0,4):\n",
    "    sns.barplot('churn',variables[x], data=train)\n",
    "    \n",
    "    plt.xlabel('Churn')\n",
    "    plt.title(variables[x])\n",
    "    plt.axhline(mean[x], ls = '--', color = 'black')\n",
    "    plt.show()"
   ]
  },
  {
   "cell_type": "code",
   "execution_count": 11,
   "id": "db552338",
   "metadata": {},
   "outputs": [
    {
     "name": "stdout",
     "output_type": "stream",
     "text": [
      "churn_encoded                     0    1\n",
      "payment_type_Electronic check           \n",
      "0                              2183  465\n",
      "1                               708  581\n",
      "We reject the null hypothesis and this variable is statistically significant\n"
     ]
    }
   ],
   "source": [
    "# Chi-squared test determining whether churn rate for customers who pay by electronic check is statistically significant\n",
    "e_check_stat = pd.crosstab(train['payment_type_Electronic check'], train.churn_encoded)\n",
    "\n",
    "print(e_check_stat)\n",
    "\n",
    "a = 0.05\n",
    "\n",
    "chi2, p, degf, expected = stats.chi2_contingency(e_check_stat)\n",
    "\n",
    "chi2, p\n",
    "\n",
    "\n",
    "if p < a:\n",
    "    print(\"We reject the null hypothesis and this variable is statistically significant\")\n",
    "else:\n",
    "    print(\"We fail to reject the null hypothesis and this feature is not statisitcally significant\")"
   ]
  },
  {
   "cell_type": "markdown",
   "id": "59683a5c",
   "metadata": {},
   "source": [
    "### Answer 2"
   ]
  },
  {
   "cell_type": "markdown",
   "id": "bc31b217",
   "metadata": {},
   "source": [
    "Customers who pay by electronic check are more likely to churn than those who pay via alternative payments types. \\\n",
    "Additionally, those alternative payments show an opposing correlation and are also statistically significant (worth including in analysis)."
   ]
  },
  {
   "cell_type": "markdown",
   "id": "d317f0ce",
   "metadata": {},
   "source": [
    "### Question 3"
   ]
  },
  {
   "cell_type": "markdown",
   "id": "84c6caac",
   "metadata": {},
   "source": [
    "Do customers with Fiber churn more than other internet service types?"
   ]
  },
  {
   "cell_type": "code",
   "execution_count": 28,
   "id": "2cd5f3db",
   "metadata": {},
   "outputs": [
    {
     "data": {
      "image/png": "[encoded data removed]",
      "text/plain": [
       "<Figure size 432x288 with 1 Axes>"
      ]
     },
     "metadata": {
      "needs_background": "light"
     },
     "output_type": "display_data"
    },
    {
     "data": {
      "image/png": "[encoded data removed]",
      "text/plain": [
       "<Figure size 432x288 with 1 Axes>"
      ]
     },
     "metadata": {
      "needs_background": "light"
     },
     "output_type": "display_data"
    },
    {
     "data": {
      "image/png": "[encoded data removed]",
      "text/plain": [
       "<Figure size 432x288 with 1 Axes>"
      ]
     },
     "metadata": {
      "needs_background": "light"
     },
     "output_type": "display_data"
    }
   ],
   "source": [
    "# Barplot expressing churn rate of customers by internet type: Fiber, DSL, or none\n",
    "variables = ['internet_service_type_DSL', 'internet_service_type_Fiber optic', 'internet_service_type_None']\n",
    "\n",
    "mean = [train['internet_service_type_DSL'].mean(), train['internet_service_type_Fiber optic'].mean(), train['internet_service_type_None'].mean()]\n",
    "\n",
    "for x in range(0,3):\n",
    "    sns.barplot('churn',variables[x], data=train)\n",
    "    \n",
    "    plt.xlabel('')\n",
    "    plt.title(variables[x])\n",
    "    plt.axhline(mean[x], ls = '--', color = 'black')\n",
    "    plt.show()"
   ]
  },
  {
   "cell_type": "code",
   "execution_count": 103,
   "id": "0b8605d0",
   "metadata": {},
   "outputs": [
    {
     "name": "stdout",
     "output_type": "stream",
     "text": [
      "churn_encoded                 0    1\n",
      "internet_service_type_DSL           \n",
      "0                          1790  799\n",
      "1                          1101  247\n",
      "--------------------------------------\n",
      "p: 3.983806924956342e-17\n",
      "We reject the null hypothesis and this variable is statistically significant\n"
     ]
    }
   ],
   "source": [
    "# Chi-squared test determining whether churn rate for customers with DSL internet is statistically significant\n",
    "dsl_stat = pd.crosstab(train['internet_service_type_DSL'], train.churn_encoded)\n",
    "\n",
    "print(dsl_stat)\n",
    "\n",
    "a = 0.05\n",
    "\n",
    "chi2, p, degf, expected = stats.chi2_contingency(dsl_stat)\n",
    "\n",
    "chi2, p\n",
    "\n",
    "print('--------------------------------------')\n",
    "\n",
    "print(f'p: {p}')\n",
    "\n",
    "if p < a:\n",
    "    print(\"We reject the null hypothesis and this variable is statistically significant\")\n",
    "else:\n",
    "    print(\"We fail to reject the null hypothesis and this feature is not statisitcally significant\")"
   ]
  },
  {
   "cell_type": "code",
   "execution_count": 105,
   "id": "548eeef7",
   "metadata": {},
   "outputs": [
    {
     "name": "stdout",
     "output_type": "stream",
     "text": [
      "churn_encoded                         0    1\n",
      "internet_service_type_Fiber optic           \n",
      "0                                  1904  311\n",
      "1                                   987  735\n",
      "--------------------------------------------\n",
      "p: 2.831419548361709e-90\n",
      "We reject the null hypothesis and this variable is statistically significant\n"
     ]
    }
   ],
   "source": [
    "# Chi-squared test determining whether churn rate for customers with Fiber internet is statistically significant\n",
    "fiber_stat = pd.crosstab(train['internet_service_type_Fiber optic'], train.churn_encoded)\n",
    "\n",
    "print(fiber_stat)\n",
    "\n",
    "a = 0.05\n",
    "\n",
    "chi2, p, degf, expected = stats.chi2_contingency(fiber_stat)\n",
    "\n",
    "chi2, p\n",
    "\n",
    "print('--------------------------------------------')\n",
    "\n",
    "print(f'p: {p}')\n",
    "\n",
    "if p < a:\n",
    "    print(\"We reject the null hypothesis and this variable is statistically significant\")\n",
    "else:\n",
    "    print(\"We fail to reject the null hypothesis and this feature is not statisitcally significant\")"
   ]
  },
  {
   "cell_type": "code",
   "execution_count": 106,
   "id": "59d15a15",
   "metadata": {},
   "outputs": [
    {
     "name": "stdout",
     "output_type": "stream",
     "text": [
      "churn_encoded                  0    1\n",
      "internet_service_type_None           \n",
      "0                           2088  982\n",
      "1                            803   64\n",
      "--------------------------------------------\n",
      "p: 2.8653012180661676e-47\n",
      "We reject the null hypothesis and this variable is statistically significant\n"
     ]
    }
   ],
   "source": [
    "# Chi-squared test determining whether churn rate for customers with NO internet is statistically significant\n",
    "no_net_stat = pd.crosstab(train['internet_service_type_None'], train.churn_encoded)\n",
    "\n",
    "print(no_net_stat)\n",
    "\n",
    "a = 0.05\n",
    "\n",
    "chi2, p, degf, expected = stats.chi2_contingency(no_net_stat)\n",
    "\n",
    "chi2, p\n",
    "\n",
    "print('--------------------------------------------')\n",
    "\n",
    "print(f'p: {p}')\n",
    "\n",
    "if p < a:\n",
    "    print(\"We reject the null hypothesis and this variable is statistically significant\")\n",
    "else:\n",
    "    print(\"We fail to reject the null hypothesis and this feature is not statisitcally significant\")"
   ]
  },
  {
   "cell_type": "markdown",
   "id": "e8b0fba6",
   "metadata": {},
   "source": [
    "### Answer 3"
   ]
  },
  {
   "cell_type": "markdown",
   "id": "78764e16",
   "metadata": {},
   "source": [
    "Customers with no partner or dependents are shown to be more likely to churn than customers with a partner but no dependents."
   ]
  },
  {
   "cell_type": "markdown",
   "id": "fe7cf1aa",
   "metadata": {},
   "source": [
    "### Question 4"
   ]
  },
  {
   "cell_type": "markdown",
   "id": "c2c1bc38",
   "metadata": {},
   "source": [
    "Are adults with dependents (d_no_p) more likely to churn than adults without dependents (no_pod)?"
   ]
  },
  {
   "cell_type": "code",
   "execution_count": 15,
   "id": "ac2ff698",
   "metadata": {},
   "outputs": [
    {
     "data": {
      "image/png": "[encoded data removed]",
      "text/plain": [
       "<Figure size 432x288 with 1 Axes>"
      ]
     },
     "metadata": {
      "needs_background": "light"
     },
     "output_type": "display_data"
    },
    {
     "data": {
      "image/png": "[encoded data removed]",
      "text/plain": [
       "<Figure size 432x288 with 1 Axes>"
      ]
     },
     "metadata": {
      "needs_background": "light"
     },
     "output_type": "display_data"
    }
   ],
   "source": [
    "# Barplot expressing churn rate of customers by dependent status: Single Adults no dependents vs. Single Adults with dependents\n",
    "variables = ['dependents_no_partner', 'no_pod']\n",
    "\n",
    "mean = [train['dependents_no_partner'].mean(), train['no_pod'].mean()]\n",
    "\n",
    "for x in range(0,2):\n",
    "    sns.barplot('churn',variables[x], data=train)\n",
    "    \n",
    "    plt.xlabel('')\n",
    "    plt.title(variables[x])\n",
    "    plt.axhline(mean[x], ls = '--', color = 'black')\n",
    "    plt.show()"
   ]
  },
  {
   "cell_type": "code",
   "execution_count": 29,
   "id": "a48f3957",
   "metadata": {},
   "outputs": [
    {
     "name": "stdout",
     "output_type": "stream",
     "text": [
      "churn_encoded     0    1\n",
      "no_pod                  \n",
      "0              1691  425\n",
      "1              1200  621\n",
      "We reject the null hypothesis and this variable is statistically significant\n"
     ]
    }
   ],
   "source": [
    "# Chi-squared test determining whether churn rate for customers with no partner or dependents is statistically significant\n",
    "no_pod_stat = pd.crosstab(train['no_pod'], train.churn_encoded)\n",
    "\n",
    "print(no_pod_stat)\n",
    "\n",
    "a = 0.05\n",
    "\n",
    "chi2, p, degf, expected = stats.chi2_contingency(no_pod_stat)\n",
    "\n",
    "chi2, p\n",
    "\n",
    "\n",
    "if p < a:\n",
    "    print(\"We reject the null hypothesis and this variable is statistically significant\")\n",
    "else:\n",
    "    print(\"We fail to reject the null hypothesis and this feature is not statisitcally significant\")"
   ]
  },
  {
   "cell_type": "code",
   "execution_count": 16,
   "id": "15a5bfc5",
   "metadata": {},
   "outputs": [
    {
     "name": "stdout",
     "output_type": "stream",
     "text": [
      "churn_encoded             0     1\n",
      "dependents_no_partner            \n",
      "0                      2727  1004\n",
      "1                       164    42\n",
      "We reject the null hypothesis and this variable is statistically significant\n"
     ]
    }
   ],
   "source": [
    "# Chi-squared test determining whether churn rate for customers with no partner or dependents is statistically significant\n",
    "d_no_p_stat = pd.crosstab(train['dependents_no_partner'], train.churn_encoded)\n",
    "\n",
    "print(d_no_p_stat)\n",
    "\n",
    "a = 0.05\n",
    "\n",
    "chi2, p, degf, expected = stats.chi2_contingency(d_no_p_stat)\n",
    "\n",
    "chi2, p\n",
    "\n",
    "\n",
    "if p < a:\n",
    "    print(\"We reject the null hypothesis and this variable is statistically significant\")\n",
    "else:\n",
    "    print(\"We fail to reject the null hypothesis and this feature is not statisitcally significant\")"
   ]
  },
  {
   "cell_type": "markdown",
   "id": "69b9d015",
   "metadata": {},
   "source": [
    "In complement to our exploration of partner and dependent status, below I show how customers with a partner AND dependents (p_w_d) have an opposing correlation, making this feature statistically significant.\n"
   ]
  },
  {
   "cell_type": "code",
   "execution_count": 17,
   "id": "6c2c2bdb",
   "metadata": {},
   "outputs": [
    {
     "data": {
      "image/png": "[encoded data removed]",
      "text/plain": [
       "<Figure size 432x288 with 1 Axes>"
      ]
     },
     "metadata": {
      "needs_background": "light"
     },
     "output_type": "display_data"
    }
   ],
   "source": [
    "# Barplot expressing churn rate of customers with partner and dependents\n",
    "variables = ['partner_w_dependents']\n",
    "\n",
    "mean = [train['partner_w_dependents'].mean()]\n",
    "\n",
    "for x in range(0,1):\n",
    "    sns.barplot('churn',variables[x], data=train)\n",
    "    \n",
    "    plt.xlabel('')\n",
    "    plt.title(variables[x])\n",
    "    plt.axhline(mean[x], ls = '--', color = 'black')\n",
    "    plt.show()"
   ]
  },
  {
   "cell_type": "code",
   "execution_count": 18,
   "id": "6e0a0d29",
   "metadata": {},
   "outputs": [
    {
     "name": "stdout",
     "output_type": "stream",
     "text": [
      "churn_encoded            0    1\n",
      "partner_w_dependents           \n",
      "0                     2049  902\n",
      "1                      842  144\n",
      "We reject the null hypothesis and this variable is statistically significant\n"
     ]
    }
   ],
   "source": [
    "# Chi-squared test determining whether churn rate for customers with no partner or dependents is statistically significant\n",
    "p_w_d_stat = pd.crosstab(train['partner_w_dependents'], train.churn_encoded)\n",
    "\n",
    "print(p_w_d_stat)\n",
    "\n",
    "a = 0.05\n",
    "\n",
    "chi2, p, degf, expected = stats.chi2_contingency(p_w_d_stat)\n",
    "\n",
    "chi2, p\n",
    "\n",
    "\n",
    "if p < a:\n",
    "    print(\"We reject the null hypothesis and this variable is statistically significant\")\n",
    "else:\n",
    "    print(\"We fail to reject the null hypothesis and this feature is not statisitcally significant\")"
   ]
  },
  {
   "cell_type": "markdown",
   "id": "e34db7ff",
   "metadata": {},
   "source": [
    "### Answer 4"
   ]
  },
  {
   "cell_type": "markdown",
   "id": "29af876a",
   "metadata": {},
   "source": [
    "Customers with no partner but with dependents (d_no_p) are NOT more likely to churn than adults without dependents (no_pod)? In fact, this customer group is statistically insignificant. \\\n",
    "In addition to no_pod being statistically significant as proven above, customers with dependents but no partner also expresse statistical significance."
   ]
  },
  {
   "cell_type": "markdown",
   "id": "70144dc6",
   "metadata": {},
   "source": [
    "### Summary: Who is most likely to churn?"
   ]
  },
  {
   "cell_type": "markdown",
   "id": "9c3b5d96",
   "metadata": {},
   "source": [
    "[features i will move forward with]"
   ]
  },
  {
   "cell_type": "markdown",
   "id": "b8d5b9c2",
   "metadata": {},
   "source": [
    "## Predicting Churn"
   ]
  },
  {
   "cell_type": "markdown",
   "id": "3862debc",
   "metadata": {},
   "source": [
    "WRITE IN OWN WORDS: Because churn is a boolean/yes or no value, we will use classification machine learning algorithms to fit to our training data and we will evaluate on validate. We will pick the best model using accuracy because the data is mostly balanced, and the risk of an event happening balances the risk of getting a prediction wrong.\n",
    "\n"
   ]
  },
  {
   "cell_type": "markdown",
   "id": "118323ad",
   "metadata": {},
   "source": [
    "#### Baseline"
   ]
  },
  {
   "cell_type": "markdown",
   "id": "09b6c1f2",
   "metadata": {},
   "source": [
    "I will now set a baseline prediction by predicting that all customers will not churn. Below, I evaluate the accuracy of this prediction."
   ]
  },
  {
   "cell_type": "code",
   "execution_count": 19,
   "id": "1fd53f79",
   "metadata": {},
   "outputs": [],
   "source": [
    "# I create the variable `baseline`, setting all values equal to 0 (which indicates no churn).\n",
    "train['baseline'] = 0"
   ]
  },
  {
   "cell_type": "code",
   "execution_count": 20,
   "id": "e329f099",
   "metadata": {},
   "outputs": [
    {
     "name": "stdout",
     "output_type": "stream",
     "text": [
      "baseline accuracy: 73.43%\n"
     ]
    }
   ],
   "source": [
    "# I find the baseline accuracy by taking the mean of our prediction set against actual churn\n",
    "baseline_accuracy = (train.churn_encoded == train.baseline).mean()\n",
    "\n",
    "print(f'baseline accuracy: {baseline_accuracy:.2%}')"
   ]
  },
  {
   "cell_type": "markdown",
   "id": "b2986a90",
   "metadata": {},
   "source": [
    "### Fit 3 models"
   ]
  },
  {
   "cell_type": "markdown",
   "id": "6a5505fb",
   "metadata": {},
   "source": [
    "In order to split our dataset into x & y train, validate, and test, I call the other function within my split_telco.py file:"
   ]
  },
  {
   "cell_type": "code",
   "execution_count": 21,
   "id": "c18f4e89",
   "metadata": {},
   "outputs": [],
   "source": [
    "# Calling my split function specific to modeling\n",
    "x_train, y_train, x_validate, y_validate, x_test, y_test = split_telco.telco_split_model(df)"
   ]
  },
  {
   "cell_type": "markdown",
   "id": "bfac8841",
   "metadata": {},
   "source": [
    "The top 3 models I built were:\n",
    "\n",
    "- Random Forest\n",
    "- KNN\n",
    "- Logistic Regression\n",
    "\n",
    "These models all used the same set of features and were looped to determine the optimal hyperparameters for maximum accuracy.\n",
    "\n",
    "[best model] performed best with an accuracy of __%"
   ]
  },
  {
   "cell_type": "markdown",
   "id": "1ffd556f",
   "metadata": {},
   "source": [
    "#### Random Forest"
   ]
  },
  {
   "cell_type": "code",
   "execution_count": 23,
   "id": "287d9db1",
   "metadata": {},
   "outputs": [
    {
     "data": {
      "text/html": [
       "<div>\n",
       "<style scoped>\n",
       "    .dataframe tbody tr th:only-of-type {\n",
       "        vertical-align: middle;\n",
       "    }\n",
       "\n",
       "    .dataframe tbody tr th {\n",
       "        vertical-align: top;\n",
       "    }\n",
       "\n",
       "    .dataframe thead th {\n",
       "        text-align: right;\n",
       "    }\n",
       "</style>\n",
       "<table border=\"1\" class=\"dataframe\">\n",
       "  <thead>\n",
       "    <tr style=\"text-align: right;\">\n",
       "      <th></th>\n",
       "      <th>max_depth</th>\n",
       "      <th>train_accuracy</th>\n",
       "      <th>validate_accuracy</th>\n",
       "      <th>difference</th>\n",
       "    </tr>\n",
       "  </thead>\n",
       "  <tbody>\n",
       "    <tr>\n",
       "      <th>0</th>\n",
       "      <td>2</td>\n",
       "      <td>0.734315</td>\n",
       "      <td>0.734005</td>\n",
       "      <td>0.000311</td>\n",
       "    </tr>\n",
       "    <tr>\n",
       "      <th>1</th>\n",
       "      <td>3</td>\n",
       "      <td>0.751588</td>\n",
       "      <td>0.760071</td>\n",
       "      <td>-0.008484</td>\n",
       "    </tr>\n",
       "    <tr>\n",
       "      <th>2</th>\n",
       "      <td>4</td>\n",
       "      <td>0.758192</td>\n",
       "      <td>0.760071</td>\n",
       "      <td>-0.001880</td>\n",
       "    </tr>\n",
       "    <tr>\n",
       "      <th>3</th>\n",
       "      <td>5</td>\n",
       "      <td>0.758192</td>\n",
       "      <td>0.760071</td>\n",
       "      <td>-0.001880</td>\n",
       "    </tr>\n",
       "    <tr>\n",
       "      <th>4</th>\n",
       "      <td>6</td>\n",
       "      <td>0.758192</td>\n",
       "      <td>0.760071</td>\n",
       "      <td>-0.001880</td>\n",
       "    </tr>\n",
       "    <tr>\n",
       "      <th>5</th>\n",
       "      <td>7</td>\n",
       "      <td>0.758192</td>\n",
       "      <td>0.760071</td>\n",
       "      <td>-0.001880</td>\n",
       "    </tr>\n",
       "    <tr>\n",
       "      <th>6</th>\n",
       "      <td>8</td>\n",
       "      <td>0.758192</td>\n",
       "      <td>0.760071</td>\n",
       "      <td>-0.001880</td>\n",
       "    </tr>\n",
       "    <tr>\n",
       "      <th>7</th>\n",
       "      <td>9</td>\n",
       "      <td>0.758192</td>\n",
       "      <td>0.760071</td>\n",
       "      <td>-0.001880</td>\n",
       "    </tr>\n",
       "    <tr>\n",
       "      <th>8</th>\n",
       "      <td>10</td>\n",
       "      <td>0.758192</td>\n",
       "      <td>0.760071</td>\n",
       "      <td>-0.001880</td>\n",
       "    </tr>\n",
       "    <tr>\n",
       "      <th>9</th>\n",
       "      <td>11</td>\n",
       "      <td>0.758192</td>\n",
       "      <td>0.760071</td>\n",
       "      <td>-0.001880</td>\n",
       "    </tr>\n",
       "    <tr>\n",
       "      <th>10</th>\n",
       "      <td>12</td>\n",
       "      <td>0.758192</td>\n",
       "      <td>0.760071</td>\n",
       "      <td>-0.001880</td>\n",
       "    </tr>\n",
       "    <tr>\n",
       "      <th>11</th>\n",
       "      <td>13</td>\n",
       "      <td>0.758192</td>\n",
       "      <td>0.760071</td>\n",
       "      <td>-0.001880</td>\n",
       "    </tr>\n",
       "    <tr>\n",
       "      <th>12</th>\n",
       "      <td>14</td>\n",
       "      <td>0.758192</td>\n",
       "      <td>0.760071</td>\n",
       "      <td>-0.001880</td>\n",
       "    </tr>\n",
       "    <tr>\n",
       "      <th>13</th>\n",
       "      <td>15</td>\n",
       "      <td>0.758192</td>\n",
       "      <td>0.760071</td>\n",
       "      <td>-0.001880</td>\n",
       "    </tr>\n",
       "    <tr>\n",
       "      <th>14</th>\n",
       "      <td>16</td>\n",
       "      <td>0.758192</td>\n",
       "      <td>0.760071</td>\n",
       "      <td>-0.001880</td>\n",
       "    </tr>\n",
       "    <tr>\n",
       "      <th>15</th>\n",
       "      <td>17</td>\n",
       "      <td>0.758192</td>\n",
       "      <td>0.760071</td>\n",
       "      <td>-0.001880</td>\n",
       "    </tr>\n",
       "    <tr>\n",
       "      <th>16</th>\n",
       "      <td>18</td>\n",
       "      <td>0.758192</td>\n",
       "      <td>0.760071</td>\n",
       "      <td>-0.001880</td>\n",
       "    </tr>\n",
       "    <tr>\n",
       "      <th>17</th>\n",
       "      <td>19</td>\n",
       "      <td>0.758192</td>\n",
       "      <td>0.760071</td>\n",
       "      <td>-0.001880</td>\n",
       "    </tr>\n",
       "    <tr>\n",
       "      <th>18</th>\n",
       "      <td>20</td>\n",
       "      <td>0.758192</td>\n",
       "      <td>0.760071</td>\n",
       "      <td>-0.001880</td>\n",
       "    </tr>\n",
       "    <tr>\n",
       "      <th>19</th>\n",
       "      <td>21</td>\n",
       "      <td>0.758192</td>\n",
       "      <td>0.760071</td>\n",
       "      <td>-0.001880</td>\n",
       "    </tr>\n",
       "    <tr>\n",
       "      <th>20</th>\n",
       "      <td>22</td>\n",
       "      <td>0.758192</td>\n",
       "      <td>0.760071</td>\n",
       "      <td>-0.001880</td>\n",
       "    </tr>\n",
       "    <tr>\n",
       "      <th>21</th>\n",
       "      <td>23</td>\n",
       "      <td>0.758192</td>\n",
       "      <td>0.760071</td>\n",
       "      <td>-0.001880</td>\n",
       "    </tr>\n",
       "    <tr>\n",
       "      <th>22</th>\n",
       "      <td>24</td>\n",
       "      <td>0.758192</td>\n",
       "      <td>0.760071</td>\n",
       "      <td>-0.001880</td>\n",
       "    </tr>\n",
       "  </tbody>\n",
       "</table>\n",
       "</div>"
      ],
      "text/plain": [
       "    max_depth  train_accuracy  validate_accuracy  difference\n",
       "0           2        0.734315           0.734005    0.000311\n",
       "1           3        0.751588           0.760071   -0.008484\n",
       "2           4        0.758192           0.760071   -0.001880\n",
       "3           5        0.758192           0.760071   -0.001880\n",
       "4           6        0.758192           0.760071   -0.001880\n",
       "5           7        0.758192           0.760071   -0.001880\n",
       "6           8        0.758192           0.760071   -0.001880\n",
       "7           9        0.758192           0.760071   -0.001880\n",
       "8          10        0.758192           0.760071   -0.001880\n",
       "9          11        0.758192           0.760071   -0.001880\n",
       "10         12        0.758192           0.760071   -0.001880\n",
       "11         13        0.758192           0.760071   -0.001880\n",
       "12         14        0.758192           0.760071   -0.001880\n",
       "13         15        0.758192           0.760071   -0.001880\n",
       "14         16        0.758192           0.760071   -0.001880\n",
       "15         17        0.758192           0.760071   -0.001880\n",
       "16         18        0.758192           0.760071   -0.001880\n",
       "17         19        0.758192           0.760071   -0.001880\n",
       "18         20        0.758192           0.760071   -0.001880\n",
       "19         21        0.758192           0.760071   -0.001880\n",
       "20         22        0.758192           0.760071   -0.001880\n",
       "21         23        0.758192           0.760071   -0.001880\n",
       "22         24        0.758192           0.760071   -0.001880"
      ]
     },
     "execution_count": 23,
     "metadata": {},
     "output_type": "execute_result"
    }
   ],
   "source": [
    "metrics = []\n",
    "\n",
    "for i in range(2, 25):\n",
    "    # Making the model\n",
    "    forest = RandomForestClassifier(max_depth=i, random_state=123)\n",
    "\n",
    "    # Fitting the model (on train only)\n",
    "    forest = forest.fit(x_train, y_train)\n",
    "\n",
    "    # Using the model\n",
    "    # We'll evaluate the model's performance on train, first\n",
    "    in_sample_accuracy = forest.score(x_train, y_train)\n",
    "    \n",
    "    # We now evaluate the model's performance on validate, to compare\n",
    "    out_of_sample_accuracy = forest.score(x_validate, y_validate)\n",
    "\n",
    "    output = {\n",
    "        \"max_depth\": i,\n",
    "        \"train_accuracy\": in_sample_accuracy,\n",
    "        \"validate_accuracy\": out_of_sample_accuracy\n",
    "    }\n",
    "    \n",
    "    metrics.append(output)\n",
    "    \n",
    "## We now compile our metrics into a dataframe and create a column \n",
    "# showing the difference in our train and validate accuracy performance\n",
    "df = pd.DataFrame(metrics)\n",
    "df[\"difference\"] = df.train_accuracy - df.validate_accuracy\n",
    "df"
   ]
  },
  {
   "cell_type": "markdown",
   "id": "ac32b905",
   "metadata": {},
   "source": [
    "#### KNN"
   ]
  },
  {
   "cell_type": "code",
   "execution_count": 24,
   "id": "b587ca0c",
   "metadata": {},
   "outputs": [
    {
     "data": {
      "image/png": "[encoded data removed]",
      "text/plain": [
       "<Figure size 1152x648 with 1 Axes>"
      ]
     },
     "metadata": {
      "needs_background": "light"
     },
     "output_type": "display_data"
    }
   ],
   "source": [
    "metrics = []\n",
    "\n",
    "# Looping through different values of k\n",
    "for k in range(1, 21):\n",
    "            \n",
    "    # Defining the model\n",
    "    knn = KNeighborsClassifier(n_neighbors=k)\n",
    "    \n",
    "    # Fitting the model (only on training data)\n",
    "    knn.fit(x_train, y_train)\n",
    "    \n",
    "    # Using the model to calculate accuracy on both train and validate\n",
    "    train_accuracy = knn.score(x_train, y_train)\n",
    "    validate_accuracy = knn.score(x_validate, y_validate)\n",
    "    \n",
    "    output = {\n",
    "        \"k\": k,\n",
    "        \"train_accuracy\": train_accuracy,\n",
    "        \"validate_accuracy\": validate_accuracy\n",
    "    }\n",
    "    \n",
    "    metrics.append(output)\n",
    "\n",
    "## We now compile our metrics into a dataframe \n",
    "results = pd.DataFrame(metrics)\n",
    "\n",
    "\n",
    "# Additionally, we plot the data to more easily express \n",
    "# the difference in accuracy between our train and validate datasets\n",
    "results.set_index('k').plot(figsize = (16,9))\n",
    "plt.ylabel('Accuracy')\n",
    "plt.xticks(np.arange(0,21,1))\n",
    "plt.grid()"
   ]
  },
  {
   "cell_type": "code",
   "execution_count": 25,
   "id": "9a685885",
   "metadata": {},
   "outputs": [
    {
     "data": {
      "text/html": [
       "<div>\n",
       "<style scoped>\n",
       "    .dataframe tbody tr th:only-of-type {\n",
       "        vertical-align: middle;\n",
       "    }\n",
       "\n",
       "    .dataframe tbody tr th {\n",
       "        vertical-align: top;\n",
       "    }\n",
       "\n",
       "    .dataframe thead th {\n",
       "        text-align: right;\n",
       "    }\n",
       "</style>\n",
       "<table border=\"1\" class=\"dataframe\">\n",
       "  <thead>\n",
       "    <tr style=\"text-align: right;\">\n",
       "      <th></th>\n",
       "      <th>k</th>\n",
       "      <th>train_accuracy</th>\n",
       "      <th>validate_accuracy</th>\n",
       "      <th>difference</th>\n",
       "    </tr>\n",
       "  </thead>\n",
       "  <tbody>\n",
       "    <tr>\n",
       "      <th>0</th>\n",
       "      <td>1</td>\n",
       "      <td>0.706883</td>\n",
       "      <td>0.713863</td>\n",
       "      <td>-0.006979</td>\n",
       "    </tr>\n",
       "    <tr>\n",
       "      <th>1</th>\n",
       "      <td>2</td>\n",
       "      <td>0.730759</td>\n",
       "      <td>0.721564</td>\n",
       "      <td>0.009195</td>\n",
       "    </tr>\n",
       "    <tr>\n",
       "      <th>2</th>\n",
       "      <td>3</td>\n",
       "      <td>0.737617</td>\n",
       "      <td>0.741706</td>\n",
       "      <td>-0.004089</td>\n",
       "    </tr>\n",
       "    <tr>\n",
       "      <th>3</th>\n",
       "      <td>4</td>\n",
       "      <td>0.745491</td>\n",
       "      <td>0.757109</td>\n",
       "      <td>-0.011618</td>\n",
       "    </tr>\n",
       "    <tr>\n",
       "      <th>4</th>\n",
       "      <td>5</td>\n",
       "      <td>0.745491</td>\n",
       "      <td>0.757109</td>\n",
       "      <td>-0.011618</td>\n",
       "    </tr>\n",
       "    <tr>\n",
       "      <th>5</th>\n",
       "      <td>6</td>\n",
       "      <td>0.751588</td>\n",
       "      <td>0.760071</td>\n",
       "      <td>-0.008484</td>\n",
       "    </tr>\n",
       "    <tr>\n",
       "      <th>6</th>\n",
       "      <td>7</td>\n",
       "      <td>0.758192</td>\n",
       "      <td>0.760071</td>\n",
       "      <td>-0.001880</td>\n",
       "    </tr>\n",
       "    <tr>\n",
       "      <th>7</th>\n",
       "      <td>8</td>\n",
       "      <td>0.740919</td>\n",
       "      <td>0.734005</td>\n",
       "      <td>0.006915</td>\n",
       "    </tr>\n",
       "    <tr>\n",
       "      <th>8</th>\n",
       "      <td>9</td>\n",
       "      <td>0.758192</td>\n",
       "      <td>0.760071</td>\n",
       "      <td>-0.001880</td>\n",
       "    </tr>\n",
       "    <tr>\n",
       "      <th>9</th>\n",
       "      <td>10</td>\n",
       "      <td>0.734315</td>\n",
       "      <td>0.734005</td>\n",
       "      <td>0.000311</td>\n",
       "    </tr>\n",
       "    <tr>\n",
       "      <th>10</th>\n",
       "      <td>11</td>\n",
       "      <td>0.752096</td>\n",
       "      <td>0.757109</td>\n",
       "      <td>-0.005014</td>\n",
       "    </tr>\n",
       "    <tr>\n",
       "      <th>11</th>\n",
       "      <td>12</td>\n",
       "      <td>0.751588</td>\n",
       "      <td>0.760071</td>\n",
       "      <td>-0.008484</td>\n",
       "    </tr>\n",
       "    <tr>\n",
       "      <th>12</th>\n",
       "      <td>13</td>\n",
       "      <td>0.758192</td>\n",
       "      <td>0.760071</td>\n",
       "      <td>-0.001880</td>\n",
       "    </tr>\n",
       "    <tr>\n",
       "      <th>13</th>\n",
       "      <td>14</td>\n",
       "      <td>0.751588</td>\n",
       "      <td>0.760071</td>\n",
       "      <td>-0.008484</td>\n",
       "    </tr>\n",
       "    <tr>\n",
       "      <th>14</th>\n",
       "      <td>15</td>\n",
       "      <td>0.752096</td>\n",
       "      <td>0.757109</td>\n",
       "      <td>-0.005014</td>\n",
       "    </tr>\n",
       "    <tr>\n",
       "      <th>15</th>\n",
       "      <td>16</td>\n",
       "      <td>0.751588</td>\n",
       "      <td>0.760071</td>\n",
       "      <td>-0.008484</td>\n",
       "    </tr>\n",
       "    <tr>\n",
       "      <th>16</th>\n",
       "      <td>17</td>\n",
       "      <td>0.752096</td>\n",
       "      <td>0.757109</td>\n",
       "      <td>-0.005014</td>\n",
       "    </tr>\n",
       "    <tr>\n",
       "      <th>17</th>\n",
       "      <td>18</td>\n",
       "      <td>0.758192</td>\n",
       "      <td>0.760071</td>\n",
       "      <td>-0.001880</td>\n",
       "    </tr>\n",
       "    <tr>\n",
       "      <th>18</th>\n",
       "      <td>19</td>\n",
       "      <td>0.758192</td>\n",
       "      <td>0.760071</td>\n",
       "      <td>-0.001880</td>\n",
       "    </tr>\n",
       "    <tr>\n",
       "      <th>19</th>\n",
       "      <td>20</td>\n",
       "      <td>0.758192</td>\n",
       "      <td>0.760071</td>\n",
       "      <td>-0.001880</td>\n",
       "    </tr>\n",
       "  </tbody>\n",
       "</table>\n",
       "</div>"
      ],
      "text/plain": [
       "     k  train_accuracy  validate_accuracy  difference\n",
       "0    1        0.706883           0.713863   -0.006979\n",
       "1    2        0.730759           0.721564    0.009195\n",
       "2    3        0.737617           0.741706   -0.004089\n",
       "3    4        0.745491           0.757109   -0.011618\n",
       "4    5        0.745491           0.757109   -0.011618\n",
       "5    6        0.751588           0.760071   -0.008484\n",
       "6    7        0.758192           0.760071   -0.001880\n",
       "7    8        0.740919           0.734005    0.006915\n",
       "8    9        0.758192           0.760071   -0.001880\n",
       "9   10        0.734315           0.734005    0.000311\n",
       "10  11        0.752096           0.757109   -0.005014\n",
       "11  12        0.751588           0.760071   -0.008484\n",
       "12  13        0.758192           0.760071   -0.001880\n",
       "13  14        0.751588           0.760071   -0.008484\n",
       "14  15        0.752096           0.757109   -0.005014\n",
       "15  16        0.751588           0.760071   -0.008484\n",
       "16  17        0.752096           0.757109   -0.005014\n",
       "17  18        0.758192           0.760071   -0.001880\n",
       "18  19        0.758192           0.760071   -0.001880\n",
       "19  20        0.758192           0.760071   -0.001880"
      ]
     },
     "execution_count": 25,
     "metadata": {},
     "output_type": "execute_result"
    }
   ],
   "source": [
    "# Once again, creating this column showing the difference in our \n",
    "# train and validate accuracy performance\n",
    "df = pd.DataFrame(metrics)\n",
    "df[\"difference\"] = df.train_accuracy - df.validate_accuracy\n",
    "df"
   ]
  },
  {
   "cell_type": "markdown",
   "id": "f90447f5",
   "metadata": {},
   "source": [
    "#### Logistic Regression"
   ]
  },
  {
   "cell_type": "code",
   "execution_count": 26,
   "id": "e9c99295",
   "metadata": {},
   "outputs": [],
   "source": [
    "# Defining and fitting the model. \n",
    "# Also creating variables to use in our loop below:\n",
    "model = sklearn.linear_model.LogisticRegression(C=1)\n",
    "model.fit(x_train, y_train)\n",
    "accuracy = model.score(x_validate, y_validate)\n",
    "coefs = dict(zip(x_train.columns, model.coef_[0]))"
   ]
  },
  {
   "cell_type": "code",
   "execution_count": 27,
   "id": "8605ebc8",
   "metadata": {},
   "outputs": [
    {
     "data": {
      "text/html": [
       "<style type=\"text/css\">\n",
       "</style>\n",
       "<table id=\"T_c68e9\">\n",
       "  <caption>Effect of different C values on accuracy (t=.5) and the resulting coefficients.</caption>\n",
       "  <thead>\n",
       "    <tr>\n",
       "      <th class=\"blank\" >&nbsp;</th>\n",
       "      <th class=\"blank level0\" >&nbsp;</th>\n",
       "      <th id=\"T_c68e9_level0_col0\" class=\"col_heading level0 col0\" >contract_type_Month-to-month</th>\n",
       "      <th id=\"T_c68e9_level0_col1\" class=\"col_heading level0 col1\" >contract_type_One year</th>\n",
       "      <th id=\"T_c68e9_level0_col2\" class=\"col_heading level0 col2\" >contract_type_Two year</th>\n",
       "      <th id=\"T_c68e9_level0_col3\" class=\"col_heading level0 col3\" >payment_type_Bank transfer (automatic)</th>\n",
       "      <th id=\"T_c68e9_level0_col4\" class=\"col_heading level0 col4\" >payment_type_Credit card (automatic)</th>\n",
       "      <th id=\"T_c68e9_level0_col5\" class=\"col_heading level0 col5\" >payment_type_Electronic check</th>\n",
       "      <th id=\"T_c68e9_level0_col6\" class=\"col_heading level0 col6\" >payment_type_Mailed check</th>\n",
       "      <th id=\"T_c68e9_level0_col7\" class=\"col_heading level0 col7\" >no_pod</th>\n",
       "      <th id=\"T_c68e9_level0_col8\" class=\"col_heading level0 col8\" >partner_w_dependents</th>\n",
       "    </tr>\n",
       "    <tr>\n",
       "      <th class=\"index_name level0\" >C</th>\n",
       "      <th class=\"index_name level1\" >accuracy</th>\n",
       "      <th class=\"blank col0\" >&nbsp;</th>\n",
       "      <th class=\"blank col1\" >&nbsp;</th>\n",
       "      <th class=\"blank col2\" >&nbsp;</th>\n",
       "      <th class=\"blank col3\" >&nbsp;</th>\n",
       "      <th class=\"blank col4\" >&nbsp;</th>\n",
       "      <th class=\"blank col5\" >&nbsp;</th>\n",
       "      <th class=\"blank col6\" >&nbsp;</th>\n",
       "      <th class=\"blank col7\" >&nbsp;</th>\n",
       "      <th class=\"blank col8\" >&nbsp;</th>\n",
       "    </tr>\n",
       "  </thead>\n",
       "  <tbody>\n",
       "    <tr>\n",
       "      <th id=\"T_c68e9_level0_row0\" class=\"row_heading level0 row0\" >0.001000</th>\n",
       "      <th id=\"T_c68e9_level1_row0\" class=\"row_heading level1 row0\" >0.734000</th>\n",
       "      <td id=\"T_c68e9_row0_col0\" class=\"data row0 col0\" >0.259</td>\n",
       "      <td id=\"T_c68e9_row0_col1\" class=\"data row0 col1\" >-0.094</td>\n",
       "      <td id=\"T_c68e9_row0_col2\" class=\"data row0 col2\" >-0.165</td>\n",
       "      <td id=\"T_c68e9_row0_col3\" class=\"data row0 col3\" >-0.054</td>\n",
       "      <td id=\"T_c68e9_row0_col4\" class=\"data row0 col4\" >-0.064</td>\n",
       "      <td id=\"T_c68e9_row0_col5\" class=\"data row0 col5\" >0.172</td>\n",
       "      <td id=\"T_c68e9_row0_col6\" class=\"data row0 col6\" >-0.054</td>\n",
       "      <td id=\"T_c68e9_row0_col7\" class=\"data row0 col7\" >0.089</td>\n",
       "      <td id=\"T_c68e9_row0_col8\" class=\"data row0 col8\" >-0.080</td>\n",
       "    </tr>\n",
       "    <tr>\n",
       "      <th id=\"T_c68e9_level0_row1\" class=\"row_heading level0 row1\" >0.010000</th>\n",
       "      <th id=\"T_c68e9_level1_row1\" class=\"row_heading level1 row1\" >0.760000</th>\n",
       "      <td id=\"T_c68e9_row1_col0\" class=\"data row1 col0\" >0.872</td>\n",
       "      <td id=\"T_c68e9_row1_col1\" class=\"data row1 col1\" >-0.273</td>\n",
       "      <td id=\"T_c68e9_row1_col2\" class=\"data row1 col2\" >-0.599</td>\n",
       "      <td id=\"T_c68e9_row1_col3\" class=\"data row1 col3\" >-0.120</td>\n",
       "      <td id=\"T_c68e9_row1_col4\" class=\"data row1 col4\" >-0.158</td>\n",
       "      <td id=\"T_c68e9_row1_col5\" class=\"data row1 col5\" >0.496</td>\n",
       "      <td id=\"T_c68e9_row1_col6\" class=\"data row1 col6\" >-0.218</td>\n",
       "      <td id=\"T_c68e9_row1_col7\" class=\"data row1 col7\" >0.186</td>\n",
       "      <td id=\"T_c68e9_row1_col8\" class=\"data row1 col8\" >-0.232</td>\n",
       "    </tr>\n",
       "    <tr>\n",
       "      <th id=\"T_c68e9_level0_row2\" class=\"row_heading level0 row2\" >0.100000</th>\n",
       "      <th id=\"T_c68e9_level1_row2\" class=\"row_heading level1 row2\" >0.760000</th>\n",
       "      <td id=\"T_c68e9_row2_col0\" class=\"data row2 col0\" >1.330</td>\n",
       "      <td id=\"T_c68e9_row2_col1\" class=\"data row2 col1\" >-0.233</td>\n",
       "      <td id=\"T_c68e9_row2_col2\" class=\"data row2 col2\" >-1.097</td>\n",
       "      <td id=\"T_c68e9_row2_col3\" class=\"data row2 col3\" >-0.098</td>\n",
       "      <td id=\"T_c68e9_row2_col4\" class=\"data row2 col4\" >-0.157</td>\n",
       "      <td id=\"T_c68e9_row2_col5\" class=\"data row2 col5\" >0.601</td>\n",
       "      <td id=\"T_c68e9_row2_col6\" class=\"data row2 col6\" >-0.346</td>\n",
       "      <td id=\"T_c68e9_row2_col7\" class=\"data row2 col7\" >0.149</td>\n",
       "      <td id=\"T_c68e9_row2_col8\" class=\"data row2 col8\" >-0.342</td>\n",
       "    </tr>\n",
       "    <tr>\n",
       "      <th id=\"T_c68e9_level0_row3\" class=\"row_heading level0 row3\" >1.000000</th>\n",
       "      <th id=\"T_c68e9_level1_row3\" class=\"row_heading level1 row3\" >0.760000</th>\n",
       "      <td id=\"T_c68e9_row3_col0\" class=\"data row3 col0\" >1.451</td>\n",
       "      <td id=\"T_c68e9_row3_col1\" class=\"data row3 col1\" >-0.167</td>\n",
       "      <td id=\"T_c68e9_row3_col2\" class=\"data row3 col2\" >-1.284</td>\n",
       "      <td id=\"T_c68e9_row3_col3\" class=\"data row3 col3\" >-0.087</td>\n",
       "      <td id=\"T_c68e9_row3_col4\" class=\"data row3 col4\" >-0.150</td>\n",
       "      <td id=\"T_c68e9_row3_col5\" class=\"data row3 col5\" >0.609</td>\n",
       "      <td id=\"T_c68e9_row3_col6\" class=\"data row3 col6\" >-0.372</td>\n",
       "      <td id=\"T_c68e9_row3_col7\" class=\"data row3 col7\" >0.130</td>\n",
       "      <td id=\"T_c68e9_row3_col8\" class=\"data row3 col8\" >-0.369</td>\n",
       "    </tr>\n",
       "    <tr>\n",
       "      <th id=\"T_c68e9_level0_row4\" class=\"row_heading level0 row4\" >10.000000</th>\n",
       "      <th id=\"T_c68e9_level1_row4\" class=\"row_heading level1 row4\" >0.760000</th>\n",
       "      <td id=\"T_c68e9_row4_col0\" class=\"data row4 col0\" >1.466</td>\n",
       "      <td id=\"T_c68e9_row4_col1\" class=\"data row4 col1\" >-0.156</td>\n",
       "      <td id=\"T_c68e9_row4_col2\" class=\"data row4 col2\" >-1.310</td>\n",
       "      <td id=\"T_c68e9_row4_col3\" class=\"data row4 col3\" >-0.085</td>\n",
       "      <td id=\"T_c68e9_row4_col4\" class=\"data row4 col4\" >-0.149</td>\n",
       "      <td id=\"T_c68e9_row4_col5\" class=\"data row4 col5\" >0.610</td>\n",
       "      <td id=\"T_c68e9_row4_col6\" class=\"data row4 col6\" >-0.375</td>\n",
       "      <td id=\"T_c68e9_row4_col7\" class=\"data row4 col7\" >0.128</td>\n",
       "      <td id=\"T_c68e9_row4_col8\" class=\"data row4 col8\" >-0.372</td>\n",
       "    </tr>\n",
       "    <tr>\n",
       "      <th id=\"T_c68e9_level0_row5\" class=\"row_heading level0 row5\" >100.000000</th>\n",
       "      <th id=\"T_c68e9_level1_row5\" class=\"row_heading level1 row5\" >0.760000</th>\n",
       "      <td id=\"T_c68e9_row5_col0\" class=\"data row5 col0\" >1.058</td>\n",
       "      <td id=\"T_c68e9_row5_col1\" class=\"data row5 col1\" >-0.565</td>\n",
       "      <td id=\"T_c68e9_row5_col2\" class=\"data row5 col2\" >-1.723</td>\n",
       "      <td id=\"T_c68e9_row5_col3\" class=\"data row5 col3\" >-0.393</td>\n",
       "      <td id=\"T_c68e9_row5_col4\" class=\"data row5 col4\" >-0.457</td>\n",
       "      <td id=\"T_c68e9_row5_col5\" class=\"data row5 col5\" >0.302</td>\n",
       "      <td id=\"T_c68e9_row5_col6\" class=\"data row5 col6\" >-0.683</td>\n",
       "      <td id=\"T_c68e9_row5_col7\" class=\"data row5 col7\" >0.127</td>\n",
       "      <td id=\"T_c68e9_row5_col8\" class=\"data row5 col8\" >-0.373</td>\n",
       "    </tr>\n",
       "    <tr>\n",
       "      <th id=\"T_c68e9_level0_row6\" class=\"row_heading level0 row6\" >1000.000000</th>\n",
       "      <th id=\"T_c68e9_level1_row6\" class=\"row_heading level1 row6\" >0.760000</th>\n",
       "      <td id=\"T_c68e9_row6_col0\" class=\"data row6 col0\" >1.058</td>\n",
       "      <td id=\"T_c68e9_row6_col1\" class=\"data row6 col1\" >-0.565</td>\n",
       "      <td id=\"T_c68e9_row6_col2\" class=\"data row6 col2\" >-1.724</td>\n",
       "      <td id=\"T_c68e9_row6_col3\" class=\"data row6 col3\" >-0.393</td>\n",
       "      <td id=\"T_c68e9_row6_col4\" class=\"data row6 col4\" >-0.457</td>\n",
       "      <td id=\"T_c68e9_row6_col5\" class=\"data row6 col5\" >0.302</td>\n",
       "      <td id=\"T_c68e9_row6_col6\" class=\"data row6 col6\" >-0.683</td>\n",
       "      <td id=\"T_c68e9_row6_col7\" class=\"data row6 col7\" >0.127</td>\n",
       "      <td id=\"T_c68e9_row6_col8\" class=\"data row6 col8\" >-0.373</td>\n",
       "    </tr>\n",
       "  </tbody>\n",
       "</table>\n"
      ],
      "text/plain": [
       "<pandas.io.formats.style.Styler at 0x7fadf0366fa0>"
      ]
     },
     "execution_count": 27,
     "metadata": {},
     "output_type": "execute_result"
    }
   ],
   "source": [
    "# Looping through different C values and look at resulting model coefficients\n",
    "\n",
    "# Creating a function for C\n",
    "def evaluate_model(c):\n",
    "    model = sklearn.linear_model.LogisticRegression(C=c)\n",
    "    model.fit(x_train, y_train)\n",
    "    accuracy = model.score(x_validate, y_validate)\n",
    "    coefs = dict(zip(x_train.columns, model.coef_[0]))\n",
    "    return {'C': c, 'accuracy': accuracy, **coefs}\n",
    "\n",
    "# Looping through different C values\n",
    "models = [evaluate_model(c) for c in [.001, .01, .1, 1, 10, 100, 1000]]\n",
    "\n",
    "# Returning our dataframe, which expresses the different C values \n",
    "# and accuracies in tandem with the coefficients for each feature\n",
    "(pd.DataFrame(models).round(3)\n",
    " .set_index(['C', 'accuracy'])\n",
    " .style\n",
    " .set_caption('Effect of different C values on accuracy (t=.5) and the resulting coefficients.')\n",
    " .set_precision(3)\n",
    ")"
   ]
  },
  {
   "cell_type": "markdown",
   "id": "ad58424c",
   "metadata": {},
   "source": [
    "WRITE IN OWN WORDS: I expect this model to perform with x% accuracy in the future on data it has not seen, given no major changes in our data source."
   ]
  },
  {
   "cell_type": "markdown",
   "id": "bbeb55ba",
   "metadata": {},
   "source": [
    "## Conclusion"
   ]
  },
  {
   "cell_type": "markdown",
   "id": "645742b6",
   "metadata": {},
   "source": [
    "### Summary"
   ]
  },
  {
   "cell_type": "markdown",
   "id": "e5f70cda",
   "metadata": {},
   "source": []
  },
  {
   "cell_type": "markdown",
   "id": "16f47029",
   "metadata": {},
   "source": [
    "### Recommendations"
   ]
  },
  {
   "cell_type": "markdown",
   "id": "099de845",
   "metadata": {},
   "source": []
  },
  {
   "cell_type": "markdown",
   "id": "19015220",
   "metadata": {},
   "source": [
    "### Next Steps"
   ]
  },
  {
   "cell_type": "markdown",
   "id": "288b63e9",
   "metadata": {},
   "source": []
  },
  {
   "cell_type": "code",
   "execution_count": null,
   "id": "c6b4db76",
   "metadata": {},
   "outputs": [],
   "source": []
  },
  {
   "cell_type": "code",
   "execution_count": null,
   "id": "a09219ac",
   "metadata": {},
   "outputs": [],
   "source": []
  }
 ],
 "metadata": {
  "kernelspec": {
   "display_name": "Python 3 (ipykernel)",
   "language": "python",
   "name": "python3"
  },
  "language_info": {
   "codemirror_mode": {
    "name": "ipython",
    "version": 3
   },
   "file_extension": ".py",
   "mimetype": "text/x-python",
   "name": "python",
   "nbconvert_exporter": "python",
   "pygments_lexer": "ipython3",
   "version": "3.9.12"
  }
 },
 "nbformat": 4,
 "nbformat_minor": 5
}
