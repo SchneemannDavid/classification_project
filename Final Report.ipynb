{
 "cells": [
  {
   "cell_type": "markdown",
   "id": "447c6b4b",
   "metadata": {},
   "source": [
    "# Understanding Churn at Telco"
   ]
  },
  {
   "cell_type": "markdown",
   "id": "56f200be",
   "metadata": {},
   "source": [
    "by David Schneemann"
   ]
  },
  {
   "cell_type": "markdown",
   "id": "38927531",
   "metadata": {},
   "source": [
    "## Project Goal"
   ]
  },
  {
   "cell_type": "markdown",
   "id": "044ff557",
   "metadata": {},
   "source": [
    "My goal with this project is to identify Telco's key drivers of customer churn and to provide insight into why and how these factors are producing churn. With this information and the following recommendations, our organization can work together to improve business processes and procedures in order to minimize customer churn moving forward."
   ]
  },
  {
   "cell_type": "markdown",
   "id": "cc6bee69",
   "metadata": {},
   "source": [
    "## Project Description"
   ]
  },
  {
   "cell_type": "markdown",
   "id": "b05e72d7",
   "metadata": {},
   "source": [
    "Losing customers, expressed as churn, is a real issue for the Telco Co. \n",
    "\n",
    "In today's business world, the cost of acquiring customers can be steep. Thus, businesses are seeking ways to retain the customers they already have through providing more options to consumers that can meet the needs of a diverse customer population. \n",
    "\n",
    "In order to meet the desire for customer retention at Telco Co., we will analyze the attributes (features) of customers who are more or less likely to churn. We will then develop models for predicting churn based on these attributes and provide recommendations and predictions to Telco for reducing churn and predicting churn for their customer base moving forward."
   ]
  },
  {
   "cell_type": "markdown",
   "id": "c7967c18",
   "metadata": {},
   "source": [
    "## Initial Questions"
   ]
  },
  {
   "cell_type": "markdown",
   "id": "fd53e5f5",
   "metadata": {},
   "source": [
    "##### 1. Do M2m customers churn more than 1-yr or 2-yr customers?\n",
    "    \n",
    "- Ho = M2M customers churn <= 1&2-yr customers\n",
    "- Ha = M2M customers churn > 1&2-yr customers"
   ]
  },
  {
   "cell_type": "markdown",
   "id": "6e12eb2c",
   "metadata": {},
   "source": [
    "##### 2. Does paying by electronic check influence churn?\n",
    "\n",
    "- Ho = Electronic check churn <= other payment types\n",
    "- Ha = Electronic check churns > other payment types"
   ]
  },
  {
   "cell_type": "markdown",
   "id": "b9b507cc",
   "metadata": {},
   "source": [
    "##### 3. Do customers with Fiber churn more than other internet service types?\n",
    "\n",
    "- Ho = Fiber internet churn <= DSL or no internet churn\n",
    "- Ha = Fiber internet churn > DSL or no internet churn"
   ]
  },
  {
   "cell_type": "markdown",
   "id": "487871a3",
   "metadata": {},
   "source": [
    "##### 4. Do adults with dependents churn more than other family types?\n",
    "\n",
    "- Ho = Adults with dependents churn <= adults without dependents and adults with just partner\n",
    "- Ha = Adults with dependents churn > adults without dependents and adults with just partner"
   ]
  },
  {
   "cell_type": "markdown",
   "id": "39172923",
   "metadata": {},
   "source": [
    "## Data Dictionary"
   ]
  },
  {
   "cell_type": "markdown",
   "id": "d9e53e41",
   "metadata": {},
   "source": [
    "In order to effectively meet our goals, the following module imports are required. \\\n",
    "Below is an extensive list of all modules I imported and used to create and complete the desired analysis for Telco Co."
   ]
  },
  {
   "cell_type": "code",
   "execution_count": 46,
   "id": "0f5c4ca9",
   "metadata": {},
   "outputs": [],
   "source": [
    "# Ignore warnings\n",
    "import warnings\n",
    "warnings.filterwarnings(\"ignore\")\n",
    "\n",
    "# Data handling\n",
    "import pandas as pd\n",
    "import numpy as np\n",
    "\n",
    "# Data visualization\n",
    "import matplotlib.pyplot as plt\n",
    "import seaborn as sns\n",
    "\n",
    "# Sklearn modules\n",
    "from sklearn.neighbors import KNeighborsClassifier\n",
    "from sklearn.metrics import accuracy_score\n",
    "from sklearn.model_selection import train_test_split\n",
    "from sklearn.tree import DecisionTreeClassifier, plot_tree, export_text\n",
    "from sklearn.model_selection import train_test_split\n",
    "from sklearn.metrics import classification_report, confusion_matrix, plot_confusion_matrix\n",
    "from sklearn.ensemble import RandomForestClassifier\n",
    "from sklearn.neighbors import KNeighborsClassifier\n",
    "from sklearn.linear_model import LogisticRegression\n",
    "import sklearn.linear_model as slm\n",
    "\n",
    "# Data acquisition\n",
    "from pydataset import data\n",
    "\n",
    "# Data statistics & modeling\n",
    "from scipy import stats\n",
    "from model import map_setosa_knn, train_validate_test_split\n",
    "\n",
    "# Data\n",
    "import prepare\n",
    "import env\n",
    "import prepare\n",
    "import model\n",
    "import acquire_telco\n",
    "import split_telco"
   ]
  },
  {
   "cell_type": "markdown",
   "id": "25e18d7a",
   "metadata": {},
   "source": [
    "| Variable      | Meaning |\n",
    "| ----------- | ----------- |\n",
    "| Churn      | Defines whether a customer left their service contract       |\n",
    "| Monthly Charges   | The average monthly charge per customer        |\n",
    "| m2m      | Customers who have month to month contracts       |\n",
    "| yr1      | Customers who have 1-yr contracts       |\n",
    "| yr2      | Customers who have 1-yr contracts       |\n",
    "| a_bank_transfer   | Customers who pay via bank transfer (automatic)       |\n",
    "| a_ccard      | Customers who pay via credit card (automatic)      |\n",
    "| e_check      | Customers who pay via electronic check       |\n",
    "| m_check      | Customers who pay via mailed check       |\n",
    "| p_w_d   | Defines customers who have both a partner and dependents        |\n",
    "| p_no_d      | Defines customers who have a partner but no dependents|\n",
    "| d_no_p      | Defines customers who have dependents but no partner  |\n",
    "| no_pod      | Defines customers who have neither a partner nor dependents       |"
   ]
  },
  {
   "cell_type": "markdown",
   "id": "07976605",
   "metadata": {},
   "source": [
    "## Wrangle Telco Data"
   ]
  },
  {
   "cell_type": "markdown",
   "id": "b384aabb",
   "metadata": {},
   "source": [
    "To acquire the telco data, I used the telco_db in our mySQL server. I selected all columns from the customers table. I then joined this table with the contract_type, payment_type, and internet_service_type tables."
   ]
  },
  {
   "cell_type": "code",
   "execution_count": 2,
   "id": "bb8f590c",
   "metadata": {},
   "outputs": [
    {
     "data": {
      "text/html": [
       "<div>\n",
       "<style scoped>\n",
       "    .dataframe tbody tr th:only-of-type {\n",
       "        vertical-align: middle;\n",
       "    }\n",
       "\n",
       "    .dataframe tbody tr th {\n",
       "        vertical-align: top;\n",
       "    }\n",
       "\n",
       "    .dataframe thead th {\n",
       "        text-align: right;\n",
       "    }\n",
       "</style>\n",
       "<table border=\"1\" class=\"dataframe\">\n",
       "  <thead>\n",
       "    <tr style=\"text-align: right;\">\n",
       "      <th></th>\n",
       "      <th>Unnamed: 0</th>\n",
       "      <th>customer_id</th>\n",
       "      <th>gender</th>\n",
       "      <th>senior_citizen</th>\n",
       "      <th>partner</th>\n",
       "      <th>dependents</th>\n",
       "      <th>tenure</th>\n",
       "      <th>phone_service</th>\n",
       "      <th>multiple_lines</th>\n",
       "      <th>internet_service_type_id</th>\n",
       "      <th>...</th>\n",
       "      <th>payment_type_id</th>\n",
       "      <th>monthly_charges</th>\n",
       "      <th>total_charges</th>\n",
       "      <th>churn</th>\n",
       "      <th>contract_type_id.1</th>\n",
       "      <th>contract_type</th>\n",
       "      <th>payment_type_id.1</th>\n",
       "      <th>payment_type</th>\n",
       "      <th>internet_service_type_id.1</th>\n",
       "      <th>internet_service_type</th>\n",
       "    </tr>\n",
       "  </thead>\n",
       "  <tbody>\n",
       "    <tr>\n",
       "      <th>0</th>\n",
       "      <td>0</td>\n",
       "      <td>0002-ORFBO</td>\n",
       "      <td>Female</td>\n",
       "      <td>0</td>\n",
       "      <td>Yes</td>\n",
       "      <td>Yes</td>\n",
       "      <td>9</td>\n",
       "      <td>Yes</td>\n",
       "      <td>No</td>\n",
       "      <td>1</td>\n",
       "      <td>...</td>\n",
       "      <td>2</td>\n",
       "      <td>65.6</td>\n",
       "      <td>593.3</td>\n",
       "      <td>No</td>\n",
       "      <td>2</td>\n",
       "      <td>One year</td>\n",
       "      <td>2</td>\n",
       "      <td>Mailed check</td>\n",
       "      <td>1</td>\n",
       "      <td>DSL</td>\n",
       "    </tr>\n",
       "    <tr>\n",
       "      <th>1</th>\n",
       "      <td>1</td>\n",
       "      <td>0003-MKNFE</td>\n",
       "      <td>Male</td>\n",
       "      <td>0</td>\n",
       "      <td>No</td>\n",
       "      <td>No</td>\n",
       "      <td>9</td>\n",
       "      <td>Yes</td>\n",
       "      <td>Yes</td>\n",
       "      <td>1</td>\n",
       "      <td>...</td>\n",
       "      <td>2</td>\n",
       "      <td>59.9</td>\n",
       "      <td>542.4</td>\n",
       "      <td>No</td>\n",
       "      <td>1</td>\n",
       "      <td>Month-to-month</td>\n",
       "      <td>2</td>\n",
       "      <td>Mailed check</td>\n",
       "      <td>1</td>\n",
       "      <td>DSL</td>\n",
       "    </tr>\n",
       "    <tr>\n",
       "      <th>2</th>\n",
       "      <td>2</td>\n",
       "      <td>0004-TLHLJ</td>\n",
       "      <td>Male</td>\n",
       "      <td>0</td>\n",
       "      <td>No</td>\n",
       "      <td>No</td>\n",
       "      <td>4</td>\n",
       "      <td>Yes</td>\n",
       "      <td>No</td>\n",
       "      <td>2</td>\n",
       "      <td>...</td>\n",
       "      <td>1</td>\n",
       "      <td>73.9</td>\n",
       "      <td>280.85</td>\n",
       "      <td>Yes</td>\n",
       "      <td>1</td>\n",
       "      <td>Month-to-month</td>\n",
       "      <td>1</td>\n",
       "      <td>Electronic check</td>\n",
       "      <td>2</td>\n",
       "      <td>Fiber optic</td>\n",
       "    </tr>\n",
       "    <tr>\n",
       "      <th>3</th>\n",
       "      <td>3</td>\n",
       "      <td>0011-IGKFF</td>\n",
       "      <td>Male</td>\n",
       "      <td>1</td>\n",
       "      <td>Yes</td>\n",
       "      <td>No</td>\n",
       "      <td>13</td>\n",
       "      <td>Yes</td>\n",
       "      <td>No</td>\n",
       "      <td>2</td>\n",
       "      <td>...</td>\n",
       "      <td>1</td>\n",
       "      <td>98.0</td>\n",
       "      <td>1237.85</td>\n",
       "      <td>Yes</td>\n",
       "      <td>1</td>\n",
       "      <td>Month-to-month</td>\n",
       "      <td>1</td>\n",
       "      <td>Electronic check</td>\n",
       "      <td>2</td>\n",
       "      <td>Fiber optic</td>\n",
       "    </tr>\n",
       "    <tr>\n",
       "      <th>4</th>\n",
       "      <td>4</td>\n",
       "      <td>0013-EXCHZ</td>\n",
       "      <td>Female</td>\n",
       "      <td>1</td>\n",
       "      <td>Yes</td>\n",
       "      <td>No</td>\n",
       "      <td>3</td>\n",
       "      <td>Yes</td>\n",
       "      <td>No</td>\n",
       "      <td>2</td>\n",
       "      <td>...</td>\n",
       "      <td>2</td>\n",
       "      <td>83.9</td>\n",
       "      <td>267.4</td>\n",
       "      <td>Yes</td>\n",
       "      <td>1</td>\n",
       "      <td>Month-to-month</td>\n",
       "      <td>2</td>\n",
       "      <td>Mailed check</td>\n",
       "      <td>2</td>\n",
       "      <td>Fiber optic</td>\n",
       "    </tr>\n",
       "  </tbody>\n",
       "</table>\n",
       "<p>5 rows × 28 columns</p>\n",
       "</div>"
      ],
      "text/plain": [
       "   Unnamed: 0 customer_id  gender  senior_citizen partner dependents  tenure  \\\n",
       "0           0  0002-ORFBO  Female               0     Yes        Yes       9   \n",
       "1           1  0003-MKNFE    Male               0      No         No       9   \n",
       "2           2  0004-TLHLJ    Male               0      No         No       4   \n",
       "3           3  0011-IGKFF    Male               1     Yes         No      13   \n",
       "4           4  0013-EXCHZ  Female               1     Yes         No       3   \n",
       "\n",
       "  phone_service multiple_lines  internet_service_type_id  ... payment_type_id  \\\n",
       "0           Yes             No                         1  ...               2   \n",
       "1           Yes            Yes                         1  ...               2   \n",
       "2           Yes             No                         2  ...               1   \n",
       "3           Yes             No                         2  ...               1   \n",
       "4           Yes             No                         2  ...               2   \n",
       "\n",
       "  monthly_charges total_charges churn contract_type_id.1   contract_type  \\\n",
       "0            65.6         593.3    No                  2        One year   \n",
       "1            59.9         542.4    No                  1  Month-to-month   \n",
       "2            73.9        280.85   Yes                  1  Month-to-month   \n",
       "3            98.0       1237.85   Yes                  1  Month-to-month   \n",
       "4            83.9         267.4   Yes                  1  Month-to-month   \n",
       "\n",
       "   payment_type_id.1      payment_type  internet_service_type_id.1  \\\n",
       "0                  2      Mailed check                           1   \n",
       "1                  2      Mailed check                           1   \n",
       "2                  1  Electronic check                           2   \n",
       "3                  1  Electronic check                           2   \n",
       "4                  2      Mailed check                           2   \n",
       "\n",
       "   internet_service_type  \n",
       "0                    DSL  \n",
       "1                    DSL  \n",
       "2            Fiber optic  \n",
       "3            Fiber optic  \n",
       "4            Fiber optic  \n",
       "\n",
       "[5 rows x 28 columns]"
      ]
     },
     "execution_count": 2,
     "metadata": {},
     "output_type": "execute_result"
    }
   ],
   "source": [
    "# py file to acquire data from sql database telco_db\n",
    "import acquire_telco\n",
    "\n",
    "# Utilizing our py file function 'get_telco_data' to return our table in the form of a dataframe\n",
    "df = acquire_telco.get_telco_data()\n",
    "df.head()"
   ]
  },
  {
   "cell_type": "markdown",
   "id": "e96295f4",
   "metadata": {},
   "source": [
    "To clean the data, I did the following:\n",
    "\n",
    "1. Drop Duplicate Columns: \"id\" columns such as 'payment_type_id' are duplicates and don't serve a purpose in our table, thus I removed them.\n",
    "2. Transforming numerical variables: 'total_charges' has whitespace removed and is converted into the appropriate datatype\n",
    "3. Encoding binary categorical variables: Variables like 'gender', 'partner', and 'dependents' (among others) need to be encoded numerically for exploration and analysis purposes\n",
    "4. Dummy vars: I attained dummy variables for 'multiple_lines',security choices, streaming choices, and other variables such as 'contract_type'.\n",
    "5. Concatenate dummy df with original df: I concat our df to include our dummy variables\n",
    "6. Feature engineering: In order to perform proper exploration and analysis, I create additional features that break down existing variables into more concise values that pinpoint potential causes of churn"
   ]
  },
  {
   "cell_type": "code",
   "execution_count": 3,
   "id": "1dc38870",
   "metadata": {},
   "outputs": [],
   "source": [
    "# I acquire my prepare.py file, this file includes data cleaning instructions\n",
    "import prepare"
   ]
  },
  {
   "cell_type": "code",
   "execution_count": 4,
   "id": "ac79296e",
   "metadata": {},
   "outputs": [
    {
     "data": {
      "text/html": [
       "<div>\n",
       "<style scoped>\n",
       "    .dataframe tbody tr th:only-of-type {\n",
       "        vertical-align: middle;\n",
       "    }\n",
       "\n",
       "    .dataframe tbody tr th {\n",
       "        vertical-align: top;\n",
       "    }\n",
       "\n",
       "    .dataframe thead th {\n",
       "        text-align: right;\n",
       "    }\n",
       "</style>\n",
       "<table border=\"1\" class=\"dataframe\">\n",
       "  <thead>\n",
       "    <tr style=\"text-align: right;\">\n",
       "      <th></th>\n",
       "      <th>gender</th>\n",
       "      <th>senior_citizen</th>\n",
       "      <th>partner</th>\n",
       "      <th>dependents</th>\n",
       "      <th>tenure</th>\n",
       "      <th>phone_service</th>\n",
       "      <th>multiple_lines</th>\n",
       "      <th>online_security</th>\n",
       "      <th>online_backup</th>\n",
       "      <th>device_protection</th>\n",
       "      <th>...</th>\n",
       "      <th>payment_type_Credit card (automatic)</th>\n",
       "      <th>payment_type_Electronic check</th>\n",
       "      <th>payment_type_Mailed check</th>\n",
       "      <th>partner_w_dependents</th>\n",
       "      <th>partner_no_dependents</th>\n",
       "      <th>dependents_no_partner</th>\n",
       "      <th>no_pod</th>\n",
       "      <th>male_w_dependents</th>\n",
       "      <th>female_w_dependents</th>\n",
       "      <th>number_relationships</th>\n",
       "    </tr>\n",
       "  </thead>\n",
       "  <tbody>\n",
       "    <tr>\n",
       "      <th>0</th>\n",
       "      <td>Female</td>\n",
       "      <td>0</td>\n",
       "      <td>Yes</td>\n",
       "      <td>Yes</td>\n",
       "      <td>9</td>\n",
       "      <td>Yes</td>\n",
       "      <td>No</td>\n",
       "      <td>No</td>\n",
       "      <td>Yes</td>\n",
       "      <td>No</td>\n",
       "      <td>...</td>\n",
       "      <td>0</td>\n",
       "      <td>0</td>\n",
       "      <td>1</td>\n",
       "      <td>1</td>\n",
       "      <td>0</td>\n",
       "      <td>0</td>\n",
       "      <td>0</td>\n",
       "      <td>0</td>\n",
       "      <td>0</td>\n",
       "      <td>2</td>\n",
       "    </tr>\n",
       "    <tr>\n",
       "      <th>1</th>\n",
       "      <td>Male</td>\n",
       "      <td>0</td>\n",
       "      <td>No</td>\n",
       "      <td>No</td>\n",
       "      <td>9</td>\n",
       "      <td>Yes</td>\n",
       "      <td>Yes</td>\n",
       "      <td>No</td>\n",
       "      <td>No</td>\n",
       "      <td>No</td>\n",
       "      <td>...</td>\n",
       "      <td>0</td>\n",
       "      <td>0</td>\n",
       "      <td>1</td>\n",
       "      <td>0</td>\n",
       "      <td>0</td>\n",
       "      <td>0</td>\n",
       "      <td>1</td>\n",
       "      <td>0</td>\n",
       "      <td>0</td>\n",
       "      <td>0</td>\n",
       "    </tr>\n",
       "    <tr>\n",
       "      <th>2</th>\n",
       "      <td>Male</td>\n",
       "      <td>0</td>\n",
       "      <td>No</td>\n",
       "      <td>No</td>\n",
       "      <td>4</td>\n",
       "      <td>Yes</td>\n",
       "      <td>No</td>\n",
       "      <td>No</td>\n",
       "      <td>No</td>\n",
       "      <td>Yes</td>\n",
       "      <td>...</td>\n",
       "      <td>0</td>\n",
       "      <td>1</td>\n",
       "      <td>0</td>\n",
       "      <td>0</td>\n",
       "      <td>0</td>\n",
       "      <td>0</td>\n",
       "      <td>1</td>\n",
       "      <td>0</td>\n",
       "      <td>0</td>\n",
       "      <td>0</td>\n",
       "    </tr>\n",
       "    <tr>\n",
       "      <th>3</th>\n",
       "      <td>Male</td>\n",
       "      <td>1</td>\n",
       "      <td>Yes</td>\n",
       "      <td>No</td>\n",
       "      <td>13</td>\n",
       "      <td>Yes</td>\n",
       "      <td>No</td>\n",
       "      <td>No</td>\n",
       "      <td>Yes</td>\n",
       "      <td>Yes</td>\n",
       "      <td>...</td>\n",
       "      <td>0</td>\n",
       "      <td>1</td>\n",
       "      <td>0</td>\n",
       "      <td>0</td>\n",
       "      <td>1</td>\n",
       "      <td>0</td>\n",
       "      <td>0</td>\n",
       "      <td>0</td>\n",
       "      <td>0</td>\n",
       "      <td>1</td>\n",
       "    </tr>\n",
       "    <tr>\n",
       "      <th>4</th>\n",
       "      <td>Female</td>\n",
       "      <td>1</td>\n",
       "      <td>Yes</td>\n",
       "      <td>No</td>\n",
       "      <td>3</td>\n",
       "      <td>Yes</td>\n",
       "      <td>No</td>\n",
       "      <td>No</td>\n",
       "      <td>No</td>\n",
       "      <td>No</td>\n",
       "      <td>...</td>\n",
       "      <td>0</td>\n",
       "      <td>0</td>\n",
       "      <td>1</td>\n",
       "      <td>0</td>\n",
       "      <td>1</td>\n",
       "      <td>0</td>\n",
       "      <td>0</td>\n",
       "      <td>0</td>\n",
       "      <td>0</td>\n",
       "      <td>1</td>\n",
       "    </tr>\n",
       "  </tbody>\n",
       "</table>\n",
       "<p>5 rows × 67 columns</p>\n",
       "</div>"
      ],
      "text/plain": [
       "   gender  senior_citizen partner dependents  tenure phone_service  \\\n",
       "0  Female               0     Yes        Yes       9           Yes   \n",
       "1    Male               0      No         No       9           Yes   \n",
       "2    Male               0      No         No       4           Yes   \n",
       "3    Male               1     Yes         No      13           Yes   \n",
       "4  Female               1     Yes         No       3           Yes   \n",
       "\n",
       "  multiple_lines online_security online_backup device_protection  ...  \\\n",
       "0             No              No           Yes                No  ...   \n",
       "1            Yes              No            No                No  ...   \n",
       "2             No              No            No               Yes  ...   \n",
       "3             No              No           Yes               Yes  ...   \n",
       "4             No              No            No                No  ...   \n",
       "\n",
       "  payment_type_Credit card (automatic) payment_type_Electronic check  \\\n",
       "0                                    0                             0   \n",
       "1                                    0                             0   \n",
       "2                                    0                             1   \n",
       "3                                    0                             1   \n",
       "4                                    0                             0   \n",
       "\n",
       "  payment_type_Mailed check partner_w_dependents  partner_no_dependents  \\\n",
       "0                         1                    1                      0   \n",
       "1                         1                    0                      0   \n",
       "2                         0                    0                      0   \n",
       "3                         0                    0                      1   \n",
       "4                         1                    0                      1   \n",
       "\n",
       "   dependents_no_partner no_pod  male_w_dependents female_w_dependents  \\\n",
       "0                      0      0                  0                   0   \n",
       "1                      0      1                  0                   0   \n",
       "2                      0      1                  0                   0   \n",
       "3                      0      0                  0                   0   \n",
       "4                      0      0                  0                   0   \n",
       "\n",
       "   number_relationships  \n",
       "0                     2  \n",
       "1                     0  \n",
       "2                     0  \n",
       "3                     1  \n",
       "4                     1  \n",
       "\n",
       "[5 rows x 67 columns]"
      ]
     },
     "execution_count": 4,
     "metadata": {},
     "output_type": "execute_result"
    }
   ],
   "source": [
    "# Utilizing our py file function 'prep_telco_data' to return our dataframe tidy and clean \n",
    "df = prepare.prep_telco_data(df)\n",
    "df.head()"
   ]
  },
  {
   "cell_type": "markdown",
   "id": "1a49f4bb",
   "metadata": {},
   "source": [
    "For simplicity, I have separated my 'prepare' and 'split' files. My 'split' file includes functions that split our dataset into train, validate, and test dataframes that allow appropriate statistical analysis."
   ]
  },
  {
   "cell_type": "code",
   "execution_count": 5,
   "id": "ed0135f0",
   "metadata": {},
   "outputs": [],
   "source": [
    "# acquiring and implementing my 'split' py file and accompanying function\n",
    "import split_telco\n",
    "\n",
    "# calling the function and applying it to our df\n",
    "train, validate, test = split_telco.telco_split_explore(df)"
   ]
  },
  {
   "cell_type": "code",
   "execution_count": 6,
   "id": "a839ac7f",
   "metadata": {},
   "outputs": [
    {
     "data": {
      "text/html": [
       "<div>\n",
       "<style scoped>\n",
       "    .dataframe tbody tr th:only-of-type {\n",
       "        vertical-align: middle;\n",
       "    }\n",
       "\n",
       "    .dataframe tbody tr th {\n",
       "        vertical-align: top;\n",
       "    }\n",
       "\n",
       "    .dataframe thead th {\n",
       "        text-align: right;\n",
       "    }\n",
       "</style>\n",
       "<table border=\"1\" class=\"dataframe\">\n",
       "  <thead>\n",
       "    <tr style=\"text-align: right;\">\n",
       "      <th></th>\n",
       "      <th>gender</th>\n",
       "      <th>senior_citizen</th>\n",
       "      <th>partner</th>\n",
       "      <th>dependents</th>\n",
       "      <th>tenure</th>\n",
       "      <th>phone_service</th>\n",
       "      <th>multiple_lines</th>\n",
       "      <th>online_security</th>\n",
       "      <th>online_backup</th>\n",
       "      <th>device_protection</th>\n",
       "      <th>...</th>\n",
       "      <th>payment_type_Credit card (automatic)</th>\n",
       "      <th>payment_type_Electronic check</th>\n",
       "      <th>payment_type_Mailed check</th>\n",
       "      <th>partner_w_dependents</th>\n",
       "      <th>partner_no_dependents</th>\n",
       "      <th>dependents_no_partner</th>\n",
       "      <th>no_pod</th>\n",
       "      <th>male_w_dependents</th>\n",
       "      <th>female_w_dependents</th>\n",
       "      <th>number_relationships</th>\n",
       "    </tr>\n",
       "  </thead>\n",
       "  <tbody>\n",
       "    <tr>\n",
       "      <th>5919</th>\n",
       "      <td>Female</td>\n",
       "      <td>0</td>\n",
       "      <td>No</td>\n",
       "      <td>No</td>\n",
       "      <td>58</td>\n",
       "      <td>Yes</td>\n",
       "      <td>Yes</td>\n",
       "      <td>Yes</td>\n",
       "      <td>Yes</td>\n",
       "      <td>Yes</td>\n",
       "      <td>...</td>\n",
       "      <td>1</td>\n",
       "      <td>0</td>\n",
       "      <td>0</td>\n",
       "      <td>0</td>\n",
       "      <td>0</td>\n",
       "      <td>0</td>\n",
       "      <td>1</td>\n",
       "      <td>0</td>\n",
       "      <td>0</td>\n",
       "      <td>0</td>\n",
       "    </tr>\n",
       "    <tr>\n",
       "      <th>1915</th>\n",
       "      <td>Male</td>\n",
       "      <td>0</td>\n",
       "      <td>No</td>\n",
       "      <td>Yes</td>\n",
       "      <td>71</td>\n",
       "      <td>Yes</td>\n",
       "      <td>Yes</td>\n",
       "      <td>Yes</td>\n",
       "      <td>Yes</td>\n",
       "      <td>No</td>\n",
       "      <td>...</td>\n",
       "      <td>1</td>\n",
       "      <td>0</td>\n",
       "      <td>0</td>\n",
       "      <td>0</td>\n",
       "      <td>0</td>\n",
       "      <td>1</td>\n",
       "      <td>0</td>\n",
       "      <td>1</td>\n",
       "      <td>0</td>\n",
       "      <td>1</td>\n",
       "    </tr>\n",
       "    <tr>\n",
       "      <th>5054</th>\n",
       "      <td>Female</td>\n",
       "      <td>0</td>\n",
       "      <td>Yes</td>\n",
       "      <td>Yes</td>\n",
       "      <td>35</td>\n",
       "      <td>Yes</td>\n",
       "      <td>Yes</td>\n",
       "      <td>No internet service</td>\n",
       "      <td>No internet service</td>\n",
       "      <td>No internet service</td>\n",
       "      <td>...</td>\n",
       "      <td>0</td>\n",
       "      <td>1</td>\n",
       "      <td>0</td>\n",
       "      <td>1</td>\n",
       "      <td>0</td>\n",
       "      <td>0</td>\n",
       "      <td>0</td>\n",
       "      <td>0</td>\n",
       "      <td>0</td>\n",
       "      <td>2</td>\n",
       "    </tr>\n",
       "    <tr>\n",
       "      <th>2355</th>\n",
       "      <td>Male</td>\n",
       "      <td>0</td>\n",
       "      <td>Yes</td>\n",
       "      <td>Yes</td>\n",
       "      <td>1</td>\n",
       "      <td>Yes</td>\n",
       "      <td>No</td>\n",
       "      <td>No internet service</td>\n",
       "      <td>No internet service</td>\n",
       "      <td>No internet service</td>\n",
       "      <td>...</td>\n",
       "      <td>0</td>\n",
       "      <td>0</td>\n",
       "      <td>1</td>\n",
       "      <td>1</td>\n",
       "      <td>0</td>\n",
       "      <td>0</td>\n",
       "      <td>0</td>\n",
       "      <td>0</td>\n",
       "      <td>0</td>\n",
       "      <td>2</td>\n",
       "    </tr>\n",
       "    <tr>\n",
       "      <th>6279</th>\n",
       "      <td>Male</td>\n",
       "      <td>1</td>\n",
       "      <td>No</td>\n",
       "      <td>No</td>\n",
       "      <td>20</td>\n",
       "      <td>Yes</td>\n",
       "      <td>No</td>\n",
       "      <td>Yes</td>\n",
       "      <td>No</td>\n",
       "      <td>No</td>\n",
       "      <td>...</td>\n",
       "      <td>0</td>\n",
       "      <td>0</td>\n",
       "      <td>1</td>\n",
       "      <td>0</td>\n",
       "      <td>0</td>\n",
       "      <td>0</td>\n",
       "      <td>1</td>\n",
       "      <td>0</td>\n",
       "      <td>0</td>\n",
       "      <td>0</td>\n",
       "    </tr>\n",
       "  </tbody>\n",
       "</table>\n",
       "<p>5 rows × 67 columns</p>\n",
       "</div>"
      ],
      "text/plain": [
       "      gender  senior_citizen partner dependents  tenure phone_service  \\\n",
       "5919  Female               0      No         No      58           Yes   \n",
       "1915    Male               0      No        Yes      71           Yes   \n",
       "5054  Female               0     Yes        Yes      35           Yes   \n",
       "2355    Male               0     Yes        Yes       1           Yes   \n",
       "6279    Male               1      No         No      20           Yes   \n",
       "\n",
       "     multiple_lines      online_security        online_backup  \\\n",
       "5919            Yes                  Yes                  Yes   \n",
       "1915            Yes                  Yes                  Yes   \n",
       "5054            Yes  No internet service  No internet service   \n",
       "2355             No  No internet service  No internet service   \n",
       "6279             No                  Yes                   No   \n",
       "\n",
       "        device_protection  ... payment_type_Credit card (automatic)  \\\n",
       "5919                  Yes  ...                                    1   \n",
       "1915                   No  ...                                    1   \n",
       "5054  No internet service  ...                                    0   \n",
       "2355  No internet service  ...                                    0   \n",
       "6279                   No  ...                                    0   \n",
       "\n",
       "     payment_type_Electronic check payment_type_Mailed check  \\\n",
       "5919                             0                         0   \n",
       "1915                             0                         0   \n",
       "5054                             1                         0   \n",
       "2355                             0                         1   \n",
       "6279                             0                         1   \n",
       "\n",
       "     partner_w_dependents  partner_no_dependents  dependents_no_partner  \\\n",
       "5919                    0                      0                      0   \n",
       "1915                    0                      0                      1   \n",
       "5054                    1                      0                      0   \n",
       "2355                    1                      0                      0   \n",
       "6279                    0                      0                      0   \n",
       "\n",
       "     no_pod  male_w_dependents female_w_dependents  number_relationships  \n",
       "5919      1                  0                   0                     0  \n",
       "1915      0                  1                   0                     1  \n",
       "5054      0                  0                   0                     2  \n",
       "2355      0                  0                   0                     2  \n",
       "6279      1                  0                   0                     0  \n",
       "\n",
       "[5 rows x 67 columns]"
      ]
     },
     "execution_count": 6,
     "metadata": {},
     "output_type": "execute_result"
    }
   ],
   "source": [
    "# confirming data is properly wrangled, cleaned, and split\n",
    "train.head()"
   ]
  },
  {
   "cell_type": "markdown",
   "id": "cff58a66",
   "metadata": {},
   "source": [
    "## Set the Data Context"
   ]
  },
  {
   "cell_type": "markdown",
   "id": "0fb8eddf",
   "metadata": {},
   "source": [
    "Our dataset contains customer information from the Telco Company.\n",
    "\n",
    "26.6% of customers churned. We have data from 7032 customers, 3875 of which are month to month customers, 2365 of which payed by electronic check, and 3280 of which are single adults (no partner or dependents). The average monthly charge for all customers was $64.80."
   ]
  },
  {
   "cell_type": "code",
   "execution_count": 7,
   "id": "10651369",
   "metadata": {
    "scrolled": true
   },
   "outputs": [
    {
     "data": {
      "image/png": "[encoded data removed]",
      "text/plain": [
       "<Figure size 1152x432 with 4 Axes>"
      ]
     },
     "metadata": {
      "needs_background": "light"
     },
     "output_type": "display_data"
    }
   ],
   "source": [
    "# My visualization setting the context of the data\n",
    "# This visual shows churn rate of the four most prominent features I explore\n",
    "features = ['contract_type_Month-to-month', 'payment_type_Electronic check', 'internet_service_type_Fiber optic','no_pod']\n",
    "\n",
    "enumerate(features)\n",
    "\n",
    "list(enumerate(features))\n",
    "\n",
    "churn_rate = train.churn_encoded.mean()\n",
    "_, ax = plt.subplots(nrows=1, ncols=4, figsize=(16, 6), sharey=True)\n",
    "for i, feature in enumerate(features):\n",
    "    sns.barplot('churn', feature, data=train\n",
    "                , ax=ax[i], alpha=0.5)\n",
    "    ax[i].set_xlabel('Churn Rate')\n",
    "    ax[i].set_ylabel('')\n",
    "    ax[i].set_title(feature)\n",
    "    ax[i].axhline(churn_rate, ls='--', color='grey')"
   ]
  },
  {
   "cell_type": "markdown",
   "id": "5460c99b",
   "metadata": {},
   "source": [
    "## Exploratory Analysis: [question]"
   ]
  },
  {
   "cell_type": "markdown",
   "id": "0876953a",
   "metadata": {},
   "source": [
    "I have answered these questions:\n",
    "\n",
    "1. Do M2m customers churn more than 1-yr or 2-yr customers?\n",
    "2. Does paying by electronic check influence churn? Do customers paying by electronic check churn more than other payment types?\n",
    "3. Do customers with Fiber churn more than other internet service types?\n",
    "4. Do adults with dependents churn more than adults without dependents? Furthermore, are single adults more likely to churn than customers with a partner?"
   ]
  },
  {
   "cell_type": "markdown",
   "id": "c8b3fa66",
   "metadata": {},
   "source": [
    "### Question 1"
   ]
  },
  {
   "cell_type": "markdown",
   "id": "a14ccda9",
   "metadata": {},
   "source": [
    "Do M2m customers churn more than 1-yr or 2-yr customers? \\\n",
    "If so, what are potential underlying causes of this high churn rate?"
   ]
  },
  {
   "cell_type": "code",
   "execution_count": 8,
   "id": "af39ee37",
   "metadata": {},
   "outputs": [
    {
     "data": {
      "image/png": "[encoded data removed]",
      "text/plain": [
       "<Figure size 432x288 with 1 Axes>"
      ]
     },
     "metadata": {
      "needs_background": "light"
     },
     "output_type": "display_data"
    },
    {
     "data": {
      "image/png": "[encoded data removed]",
      "text/plain": [
       "<Figure size 432x288 with 1 Axes>"
      ]
     },
     "metadata": {
      "needs_background": "light"
     },
     "output_type": "display_data"
    },
    {
     "data": {
      "image/png": "[encoded data removed]",
      "text/plain": [
       "<Figure size 432x288 with 1 Axes>"
      ]
     },
     "metadata": {
      "needs_background": "light"
     },
     "output_type": "display_data"
    }
   ],
   "source": [
    "# Barplot expressing churn rate of customers by contract type: Month-to-Month, 1-yr, and 2-yr contracts\n",
    "variables = ['contract_type_Month-to-month', 'contract_type_One year', 'contract_type_Two year']\n",
    "\n",
    "mean = [train['contract_type_Month-to-month'].mean(), train['contract_type_One year'].mean(), train['contract_type_Two year'].mean()]\n",
    "\n",
    "for x in range(0,3):\n",
    "    sns.barplot('churn',variables[x], data=train)\n",
    "    \n",
    "    plt.xlabel('')\n",
    "    plt.title(variables[x])\n",
    "    plt.axhline(mean[x], ls = '--', color = 'black')\n",
    "    plt.show()"
   ]
  },
  {
   "cell_type": "code",
   "execution_count": 9,
   "id": "78a92f6e",
   "metadata": {},
   "outputs": [
    {
     "name": "stdout",
     "output_type": "stream",
     "text": [
      "churn_encoded                    0    1\n",
      "contract_type_Month-to-month           \n",
      "0                             1653  119\n",
      "1                             1238  927\n",
      "We reject the null hypothesis and this variable is statistically significant\n"
     ]
    }
   ],
   "source": [
    "# Chi-squared test determining whether Month-to-Month churn rate is statistically significant\n",
    "\n",
    "#   Ho = M2M customers churn <= 1&2-yr customers\n",
    "#   Ha = M2M customers churn > 1&2-yr customers\n",
    "\n",
    "m2m_stat = pd.crosstab(train['contract_type_Month-to-month'], train.churn_encoded)\n",
    "\n",
    "print(m2m_stat)\n",
    "\n",
    "a = 0.05\n",
    "\n",
    "chi2, p, degf, expected = stats.chi2_contingency(m2m_stat)\n",
    "\n",
    "chi2, p\n",
    "\n",
    "\n",
    "if p < a:\n",
    "    print(\"We reject the null hypothesis and this variable is statistically significant\")\n",
    "else:\n",
    "    print(\"We fail to reject the null hypothesis and this feature is not statisitcally significant\")"
   ]
  },
  {
   "cell_type": "code",
   "execution_count": 72,
   "id": "b25af575",
   "metadata": {},
   "outputs": [
    {
     "name": "stdout",
     "output_type": "stream",
     "text": [
      "churn_encoded              0    1\n",
      "contract_type_One year           \n",
      "0                       2165  957\n",
      "1                        726   89\n",
      "We reject the null hypothesis and this variable is statistically significant\n"
     ]
    }
   ],
   "source": [
    "# Chi-squared test determining whether 1-yr churn rate is statistically significant\n",
    "\n",
    "#   Ho = 1-yr customers churn <= other contract types\n",
    "#   Ha = 1-yr customers churn > other contract types\n",
    "\n",
    "yr1_stat = pd.crosstab(train['contract_type_One year'], train.churn_encoded)\n",
    "\n",
    "print(yr1_stat)\n",
    "\n",
    "a = 0.05\n",
    "\n",
    "chi2, p, degf, expected = stats.chi2_contingency(yr1_stat)\n",
    "\n",
    "chi2, p\n",
    "\n",
    "\n",
    "if p < a:\n",
    "    print(\"We reject the null hypothesis and this variable is statistically significant\")\n",
    "else:\n",
    "    print(\"We fail to reject the null hypothesis and this feature is not statisitcally significant\")"
   ]
  },
  {
   "cell_type": "code",
   "execution_count": 73,
   "id": "2f84bbab",
   "metadata": {},
   "outputs": [
    {
     "name": "stdout",
     "output_type": "stream",
     "text": [
      "churn_encoded              0     1\n",
      "contract_type_Two year            \n",
      "0                       1964  1016\n",
      "1                        927    30\n",
      "We reject the null hypothesis and this variable is statistically significant\n"
     ]
    }
   ],
   "source": [
    "# Chi-squared test determining whether 2-yr churn rate is statistically significant\n",
    "\n",
    "#   Ho = 2-yr customers churn <= other contract types\n",
    "#   Ha = 2-yr customers churn > other contract types\n",
    "\n",
    "yr2_stat = pd.crosstab(train['contract_type_Two year'], train.churn_encoded)\n",
    "\n",
    "print(yr2_stat)\n",
    "\n",
    "a = 0.05\n",
    "\n",
    "chi2, p, degf, expected = stats.chi2_contingency(yr2_stat)\n",
    "\n",
    "chi2, p\n",
    "\n",
    "\n",
    "if p < a:\n",
    "    print(\"We reject the null hypothesis and this variable is statistically significant\")\n",
    "else:\n",
    "    print(\"We fail to reject the null hypothesis and this feature is not statisitcally significant\")"
   ]
  },
  {
   "cell_type": "markdown",
   "id": "443091f7",
   "metadata": {},
   "source": [
    "### Answer 1"
   ]
  },
  {
   "cell_type": "markdown",
   "id": "d67db539",
   "metadata": {},
   "source": [
    "Customers with Month-to-Month contracts are much more likely to churn compared to those with 1 or 2 year contracts. Yet both 1 and 2 year contracts are statistically significant, so we will use all three features in our models moving forward."
   ]
  },
  {
   "cell_type": "markdown",
   "id": "ab0aa637",
   "metadata": {},
   "source": [
    "### Question 2"
   ]
  },
  {
   "cell_type": "markdown",
   "id": "b5fb9b52",
   "metadata": {},
   "source": [
    "Does paying by electronic check lead to a higher churn rate? \\\n",
    "If so, what are the potential underlying factors of this phenomenon?"
   ]
  },
  {
   "cell_type": "code",
   "execution_count": 10,
   "id": "db2fe53c",
   "metadata": {},
   "outputs": [
    {
     "data": {
      "image/png": "[encoded data removed]",
      "text/plain": [
       "<Figure size 432x288 with 1 Axes>"
      ]
     },
     "metadata": {
      "needs_background": "light"
     },
     "output_type": "display_data"
    },
    {
     "data": {
      "image/png": "[encoded data removed]",
      "text/plain": [
       "<Figure size 432x288 with 1 Axes>"
      ]
     },
     "metadata": {
      "needs_background": "light"
     },
     "output_type": "display_data"
    },
    {
     "data": {
      "image/png": "[encoded data removed]",
      "text/plain": [
       "<Figure size 432x288 with 1 Axes>"
      ]
     },
     "metadata": {
      "needs_background": "light"
     },
     "output_type": "display_data"
    },
    {
     "data": {
      "image/png": "[encoded data removed]",
      "text/plain": [
       "<Figure size 432x288 with 1 Axes>"
      ]
     },
     "metadata": {
      "needs_background": "light"
     },
     "output_type": "display_data"
    }
   ],
   "source": [
    "# Barplot expressing churn rate of customers by payment type: bank transfer, cc, e-check, mailed-check\n",
    "variables = ['payment_type_Bank transfer (automatic)', 'payment_type_Credit card (automatic)', 'payment_type_Electronic check', 'payment_type_Mailed check']\n",
    "\n",
    "mean = [train['payment_type_Bank transfer (automatic)'].mean(), train['payment_type_Credit card (automatic)'].mean(), train['payment_type_Electronic check'].mean(), train['payment_type_Mailed check'].mean()]\n",
    "\n",
    "for x in range(0,4):\n",
    "    sns.barplot('churn',variables[x], data=train)\n",
    "    \n",
    "    plt.xlabel('Churn')\n",
    "    plt.title(variables[x])\n",
    "    plt.axhline(mean[x], ls = '--', color = 'black')\n",
    "    plt.show()"
   ]
  },
  {
   "cell_type": "code",
   "execution_count": 11,
   "id": "ede6aa52",
   "metadata": {},
   "outputs": [
    {
     "name": "stdout",
     "output_type": "stream",
     "text": [
      "churn_encoded                     0    1\n",
      "payment_type_Electronic check           \n",
      "0                              2183  465\n",
      "1                               708  581\n",
      "We reject the null hypothesis and this variable is statistically significant\n"
     ]
    }
   ],
   "source": [
    "# Chi-squared test determining whether churn rate for customers who pay by electronic check is statistically significant\n",
    "\n",
    "#   Ho = Electronic check churn <= other payment types\n",
    "#   Ha = Electronic check churn > other payment types\n",
    "\n",
    "e_check_stat = pd.crosstab(train['payment_type_Electronic check'], train.churn_encoded)\n",
    "\n",
    "print(e_check_stat)\n",
    "\n",
    "a = 0.05\n",
    "\n",
    "chi2, p, degf, expected = stats.chi2_contingency(e_check_stat)\n",
    "\n",
    "chi2, p\n",
    "\n",
    "\n",
    "if p < a:\n",
    "    print(\"We reject the null hypothesis and this variable is statistically significant\")\n",
    "else:\n",
    "    print(\"We fail to reject the null hypothesis and this feature is not statisitcally significant\")"
   ]
  },
  {
   "cell_type": "code",
   "execution_count": 12,
   "id": "45fd6550",
   "metadata": {},
   "outputs": [
    {
     "name": "stdout",
     "output_type": "stream",
     "text": [
      "churn_encoded                              0    1\n",
      "payment_type_Bank transfer (automatic)           \n",
      "0                                       2178  897\n",
      "1                                        713  149\n",
      "We reject the null hypothesis and this variable is statistically significant\n"
     ]
    }
   ],
   "source": [
    "# Chi-squared test determining whether churn rate for customers who pay by electronic check is statistically significant\n",
    "\n",
    "#   Ho = Bank transfer churn <= other payment types\n",
    "#   Ha = Bank transfer churn > other payment types\n",
    "\n",
    "bank_tr_stat = pd.crosstab(train['payment_type_Bank transfer (automatic)'], train.churn_encoded)\n",
    "\n",
    "print(bank_tr_stat)\n",
    "\n",
    "a = 0.05\n",
    "\n",
    "chi2, p, degf, expected = stats.chi2_contingency(bank_tr_stat)\n",
    "\n",
    "chi2, p\n",
    "\n",
    "\n",
    "if p < a:\n",
    "    print(\"We reject the null hypothesis and this variable is statistically significant\")\n",
    "else:\n",
    "    print(\"We fail to reject the null hypothesis and this feature is not statisitcally significant\")"
   ]
  },
  {
   "cell_type": "code",
   "execution_count": 13,
   "id": "80cfed36",
   "metadata": {},
   "outputs": [
    {
     "name": "stdout",
     "output_type": "stream",
     "text": [
      "churn_encoded                            0    1\n",
      "payment_type_Credit card (automatic)           \n",
      "0                                     2141  901\n",
      "1                                      750  145\n",
      "We reject the null hypothesis and this variable is statistically significant\n"
     ]
    }
   ],
   "source": [
    "# Chi-squared test determining whether churn rate for customers who pay by electronic check is statistically significant\n",
    "\n",
    "#   Ho = Credit card churn <= other payment types\n",
    "#   Ha = Credit card churn > other payment types\n",
    "\n",
    "a_cc_stat = pd.crosstab(train['payment_type_Credit card (automatic)'], train.churn_encoded)\n",
    "\n",
    "print(a_cc_stat)\n",
    "\n",
    "a = 0.05\n",
    "\n",
    "chi2, p, degf, expected = stats.chi2_contingency(a_cc_stat)\n",
    "\n",
    "chi2, p\n",
    "\n",
    "\n",
    "if p < a:\n",
    "    print(\"We reject the null hypothesis and this variable is statistically significant\")\n",
    "else:\n",
    "    print(\"We fail to reject the null hypothesis and this feature is not statisitcally significant\")"
   ]
  },
  {
   "cell_type": "code",
   "execution_count": 14,
   "id": "823cba13",
   "metadata": {},
   "outputs": [
    {
     "name": "stdout",
     "output_type": "stream",
     "text": [
      "churn_encoded                 0    1\n",
      "payment_type_Mailed check           \n",
      "0                          2171  875\n",
      "1                           720  171\n",
      "We reject the null hypothesis and this variable is statistically significant\n"
     ]
    }
   ],
   "source": [
    "# Chi-squared test determining whether churn rate for customers who pay by electronic check is statistically significant\n",
    "\n",
    "#   Ho = Mailed check churn <= other payment types\n",
    "#   Ha = Mailed check churns > other payment types\n",
    "\n",
    "m_check_stat = pd.crosstab(train['payment_type_Mailed check'], train.churn_encoded)\n",
    "\n",
    "print(m_check_stat)\n",
    "\n",
    "a = 0.05\n",
    "\n",
    "chi2, p, degf, expected = stats.chi2_contingency(m_check_stat)\n",
    "\n",
    "chi2, p\n",
    "\n",
    "\n",
    "if p < a:\n",
    "    print(\"We reject the null hypothesis and this variable is statistically significant\")\n",
    "else:\n",
    "    print(\"We fail to reject the null hypothesis and this feature is not statisitcally significant\")"
   ]
  },
  {
   "cell_type": "markdown",
   "id": "8031cf75",
   "metadata": {},
   "source": [
    "### Answer 2"
   ]
  },
  {
   "cell_type": "markdown",
   "id": "57cbaf6d",
   "metadata": {},
   "source": [
    "Customers who pay by electronic check are more likely to churn than those who pay via alternative payments types. \\\n",
    "Additionally, those alternative payments show an opposing correlation and are also statistically significant (worth including in analysis)."
   ]
  },
  {
   "cell_type": "markdown",
   "id": "2ab3eabb",
   "metadata": {},
   "source": [
    "### Question 3"
   ]
  },
  {
   "cell_type": "markdown",
   "id": "f3a59bf4",
   "metadata": {},
   "source": [
    "Do customers with Fiber churn more than other internet service types?"
   ]
  },
  {
   "cell_type": "code",
   "execution_count": 15,
   "id": "4eace6fe",
   "metadata": {},
   "outputs": [
    {
     "data": {
      "image/png": "[encoded data removed]",
      "text/plain": [
       "<Figure size 432x288 with 1 Axes>"
      ]
     },
     "metadata": {
      "needs_background": "light"
     },
     "output_type": "display_data"
    },
    {
     "data": {
      "image/png": "[encoded data removed]",
      "text/plain": [
       "<Figure size 432x288 with 1 Axes>"
      ]
     },
     "metadata": {
      "needs_background": "light"
     },
     "output_type": "display_data"
    },
    {
     "data": {
      "image/png": "[encoded data removed]",
      "text/plain": [
       "<Figure size 432x288 with 1 Axes>"
      ]
     },
     "metadata": {
      "needs_background": "light"
     },
     "output_type": "display_data"
    }
   ],
   "source": [
    "# Barplot expressing churn rate of customers by internet type: Fiber, DSL, or none\n",
    "variables = ['internet_service_type_DSL', 'internet_service_type_Fiber optic', 'internet_service_type_None']\n",
    "\n",
    "mean = [train['internet_service_type_DSL'].mean(), train['internet_service_type_Fiber optic'].mean(), train['internet_service_type_None'].mean()]\n",
    "\n",
    "for x in range(0,3):\n",
    "    sns.barplot('churn',variables[x], data=train)\n",
    "    \n",
    "    plt.xlabel('')\n",
    "    plt.title(variables[x])\n",
    "    plt.axhline(mean[x], ls = '--', color = 'black')\n",
    "    plt.show()"
   ]
  },
  {
   "cell_type": "code",
   "execution_count": 16,
   "id": "a6fcfaa0",
   "metadata": {},
   "outputs": [
    {
     "name": "stdout",
     "output_type": "stream",
     "text": [
      "churn_encoded                         0    1\n",
      "internet_service_type_Fiber optic           \n",
      "0                                  1904  311\n",
      "1                                   987  735\n",
      "--------------------------------------------\n",
      "p: 2.831419548361709e-90\n",
      "We reject the null hypothesis and this variable is statistically significant\n"
     ]
    }
   ],
   "source": [
    "# Chi-squared test determining whether churn rate for customers with Fiber internet is statistically significant\n",
    "\n",
    "#   Ho = Fiber internet churn <= other internet types\n",
    "#   Ha = Fiber internet churn > other internet types\n",
    "\n",
    "\n",
    "fiber_stat = pd.crosstab(train['internet_service_type_Fiber optic'], train.churn_encoded)\n",
    "\n",
    "print(fiber_stat)\n",
    "\n",
    "a = 0.05\n",
    "\n",
    "chi2, p, degf, expected = stats.chi2_contingency(fiber_stat)\n",
    "\n",
    "chi2, p\n",
    "\n",
    "print('--------------------------------------------')\n",
    "\n",
    "print(f'p: {p}')\n",
    "\n",
    "if p < a:\n",
    "    print(\"We reject the null hypothesis and this variable is statistically significant\")\n",
    "else:\n",
    "    print(\"We fail to reject the null hypothesis and this feature is not statisitcally significant\")"
   ]
  },
  {
   "cell_type": "code",
   "execution_count": 17,
   "id": "cf226e16",
   "metadata": {},
   "outputs": [
    {
     "name": "stdout",
     "output_type": "stream",
     "text": [
      "churn_encoded                 0    1\n",
      "internet_service_type_DSL           \n",
      "0                          1790  799\n",
      "1                          1101  247\n",
      "--------------------------------------\n",
      "p: 3.983806924956342e-17\n",
      "We reject the null hypothesis and this variable is statistically significant\n"
     ]
    }
   ],
   "source": [
    "# Chi-squared test determining whether churn rate for customers with DSL internet is statistically significant\n",
    "\n",
    "#   Ho = DSL internet churn <= other internet types\n",
    "#   Ha = DSL internet churn > other internet types\n",
    "\n",
    "dsl_stat = pd.crosstab(train['internet_service_type_DSL'], train.churn_encoded)\n",
    "\n",
    "print(dsl_stat)\n",
    "\n",
    "a = 0.05\n",
    "\n",
    "chi2, p, degf, expected = stats.chi2_contingency(dsl_stat)\n",
    "\n",
    "chi2, p\n",
    "\n",
    "print('--------------------------------------')\n",
    "\n",
    "print(f'p: {p}')\n",
    "\n",
    "if p < a:\n",
    "    print(\"We reject the null hypothesis and this variable is statistically significant\")\n",
    "else:\n",
    "    print(\"We fail to reject the null hypothesis and this feature is not statisitcally significant\")"
   ]
  },
  {
   "cell_type": "code",
   "execution_count": 18,
   "id": "f59b75e2",
   "metadata": {},
   "outputs": [
    {
     "name": "stdout",
     "output_type": "stream",
     "text": [
      "churn_encoded                  0    1\n",
      "internet_service_type_None           \n",
      "0                           2088  982\n",
      "1                            803   64\n",
      "--------------------------------------------\n",
      "p: 2.8653012180661676e-47\n",
      "We reject the null hypothesis and this variable is statistically significant\n"
     ]
    }
   ],
   "source": [
    "# Chi-squared test determining whether churn rate for customers with NO internet is statistically significant\n",
    "\n",
    "#   Ho = No internet churn <= other internet types\n",
    "#   Ha = No internet churn > other internet types\n",
    "\n",
    "no_net_stat = pd.crosstab(train['internet_service_type_None'], train.churn_encoded)\n",
    "\n",
    "print(no_net_stat)\n",
    "\n",
    "a = 0.05\n",
    "\n",
    "chi2, p, degf, expected = stats.chi2_contingency(no_net_stat)\n",
    "\n",
    "chi2, p\n",
    "\n",
    "print('--------------------------------------------')\n",
    "\n",
    "print(f'p: {p}')\n",
    "\n",
    "if p < a:\n",
    "    print(\"We reject the null hypothesis and this variable is statistically significant\")\n",
    "else:\n",
    "    print(\"We fail to reject the null hypothesis and this feature is not statisitcally significant\")"
   ]
  },
  {
   "cell_type": "markdown",
   "id": "ea2237fa",
   "metadata": {},
   "source": [
    "### Answer 3"
   ]
  },
  {
   "cell_type": "markdown",
   "id": "12ccd2eb",
   "metadata": {},
   "source": [
    "Customers with Fiber internet are shown to be more likely to churn than other internet service types. \\\n",
    "Additionally, all internet types: Fiber, DSL, and no internet are statistically significant"
   ]
  },
  {
   "cell_type": "markdown",
   "id": "e94eeec3",
   "metadata": {},
   "source": [
    "### Question 4"
   ]
  },
  {
   "cell_type": "markdown",
   "id": "e9d4211a",
   "metadata": {},
   "source": [
    "Are adults with dependents (d_no_p) more likely to churn than adults without dependents (no_pod)? Furthermore, are single adults more likely to churn than customers with a partner?"
   ]
  },
  {
   "cell_type": "code",
   "execution_count": 19,
   "id": "cbed2425",
   "metadata": {},
   "outputs": [
    {
     "data": {
      "image/png": "[encoded data removed]",
      "text/plain": [
       "<Figure size 432x288 with 1 Axes>"
      ]
     },
     "metadata": {
      "needs_background": "light"
     },
     "output_type": "display_data"
    },
    {
     "data": {
      "image/png": "[encoded data removed]",
      "text/plain": [
       "<Figure size 432x288 with 1 Axes>"
      ]
     },
     "metadata": {
      "needs_background": "light"
     },
     "output_type": "display_data"
    },
    {
     "data": {
      "image/png": "[encoded data removed]",
      "text/plain": [
       "<Figure size 432x288 with 1 Axes>"
      ]
     },
     "metadata": {
      "needs_background": "light"
     },
     "output_type": "display_data"
    },
    {
     "data": {
      "image/png": "[encoded data removed]",
      "text/plain": [
       "<Figure size 432x288 with 1 Axes>"
      ]
     },
     "metadata": {
      "needs_background": "light"
     },
     "output_type": "display_data"
    }
   ],
   "source": [
    "# Barplot expressing churn rate of customers by dependent status: Single Adults no dependents vs. Single Adults with dependents\n",
    "variables = ['dependents_no_partner', 'no_pod', 'partner_w_dependents', 'partner_no_dependents']\n",
    "\n",
    "mean = [train['dependents_no_partner'].mean(), train['no_pod'].mean(), train['partner_w_dependents'].mean(), train['partner_no_dependents'].mean()]\n",
    "\n",
    "for x in range(0,4):\n",
    "    sns.barplot('churn',variables[x], data=train)\n",
    "    \n",
    "    plt.xlabel('')\n",
    "    plt.title(variables[x])\n",
    "    plt.axhline(mean[x], ls = '--', color = 'black')\n",
    "    plt.show()"
   ]
  },
  {
   "cell_type": "code",
   "execution_count": 20,
   "id": "c0a7c32a",
   "metadata": {},
   "outputs": [
    {
     "name": "stdout",
     "output_type": "stream",
     "text": [
      "churn_encoded     0    1\n",
      "no_pod                  \n",
      "0              1691  425\n",
      "1              1200  621\n",
      "We reject the null hypothesis and this variable is statistically significant\n"
     ]
    }
   ],
   "source": [
    "# Chi-squared test determining whether churn rate for customers with no partner or dependents is statistically significant\n",
    "\n",
    "#   Ho = single adult (no_pod) churn <= other family types\n",
    "#   Ha = single adult (no_pod) churn > other family types\n",
    "\n",
    "no_pod_stat = pd.crosstab(train['no_pod'], train.churn_encoded)\n",
    "\n",
    "print(no_pod_stat)\n",
    "\n",
    "a = 0.05\n",
    "\n",
    "chi2, p, degf, expected = stats.chi2_contingency(no_pod_stat)\n",
    "\n",
    "chi2, p\n",
    "\n",
    "\n",
    "if p < a:\n",
    "    print(\"We reject the null hypothesis and this variable is statistically significant\")\n",
    "else:\n",
    "    print(\"We fail to reject the null hypothesis and this feature is not statisitcally significant\")"
   ]
  },
  {
   "cell_type": "code",
   "execution_count": 21,
   "id": "8c3da728",
   "metadata": {
    "scrolled": true
   },
   "outputs": [
    {
     "name": "stdout",
     "output_type": "stream",
     "text": [
      "churn_encoded             0     1\n",
      "dependents_no_partner            \n",
      "0                      2727  1004\n",
      "1                       164    42\n",
      "We reject the null hypothesis and this variable is statistically significant\n"
     ]
    }
   ],
   "source": [
    "# Chi-squared test determining whether churn rate for customers with dependents but no partner is statistically significant\n",
    "\n",
    "#   Ho = customers with dependents, no partner (d_no_p) churn <= other family types\n",
    "#   Ha = customers with dependents, no partner (d_no_p) churn > other family types\n",
    "\n",
    "d_no_p_stat = pd.crosstab(train['dependents_no_partner'], train.churn_encoded)\n",
    "\n",
    "print(d_no_p_stat)\n",
    "\n",
    "a = 0.05\n",
    "\n",
    "chi2, p, degf, expected = stats.chi2_contingency(d_no_p_stat)\n",
    "\n",
    "chi2, p\n",
    "\n",
    "\n",
    "if p < a:\n",
    "    print(\"We reject the null hypothesis and this variable is statistically significant\")\n",
    "else:\n",
    "    print(\"We fail to reject the null hypothesis and this feature is not statisitcally significant\")"
   ]
  },
  {
   "cell_type": "code",
   "execution_count": 22,
   "id": "ffa4799d",
   "metadata": {},
   "outputs": [
    {
     "name": "stdout",
     "output_type": "stream",
     "text": [
      "churn_encoded            0    1\n",
      "partner_w_dependents           \n",
      "0                     2049  902\n",
      "1                      842  144\n",
      "We reject the null hypothesis and this variable is statistically significant\n"
     ]
    }
   ],
   "source": [
    "# Chi-squared test determining whether churn rate for customers with a partner & dependents is statistically significant\n",
    "\n",
    "#   Ho = customers with a partner & dependents (p_w_d) churn <= other family types\n",
    "#   Ha = customers with a partner & dependents (p_w_d) churn > other family types\n",
    "\n",
    "p_w_d_stat = pd.crosstab(train['partner_w_dependents'], train.churn_encoded)\n",
    "\n",
    "print(p_w_d_stat)\n",
    "\n",
    "a = 0.05\n",
    "\n",
    "chi2, p, degf, expected = stats.chi2_contingency(p_w_d_stat)\n",
    "\n",
    "chi2, p\n",
    "\n",
    "\n",
    "if p < a:\n",
    "    print(\"We reject the null hypothesis and this variable is statistically significant\")\n",
    "else:\n",
    "    print(\"We fail to reject the null hypothesis and this feature is not statisitcally significant\")"
   ]
  },
  {
   "cell_type": "markdown",
   "id": "795e4fab",
   "metadata": {},
   "source": [
    "### Answer 4"
   ]
  },
  {
   "cell_type": "markdown",
   "id": "43fecb6e",
   "metadata": {},
   "source": [
    "Customers with no partner but with dependents (d_no_p) are NOT more likely to churn than adults without dependents (no_pod)? However, this customer group is still statistically significant. \\\n",
    "In addition to no_pod being statistically significant as proven above, customers with dependents but no partner also expresses statistical significance."
   ]
  },
  {
   "cell_type": "markdown",
   "id": "61983c13",
   "metadata": {},
   "source": [
    "### Summary: Who is most likely to churn?"
   ]
  },
  {
   "cell_type": "markdown",
   "id": "884082e0",
   "metadata": {},
   "source": [
    "My exploration demonstrates the following key takeaways: \n",
    "- Month-to-Month contract customers are much more likely to churn than either 1 or 2 year contracts.\n",
    "- Customers who pay via electronic check are more likely to churn than any other payment type\n",
    "- Fiber internet customers are more likely to churn than other internet types\n",
    "- Customers with no partner nor dependents churn less \n",
    "\n",
    "Since most of my observed features are statistically significant, I'll be moving forward with the majority of these features. \\\n",
    "Of those selected features, a majority are statistically significant but also indicate being less likely to churn as opposed to more. \\\n",
    "The following are features that are MORE likely to churn:\n",
    "\n",
    "1. Month-to-Month contract\n",
    "2. Electronic Check payment\n",
    "3. Fiber internet\n",
    "4. No partner or dependents (single adults)\n",
    "\n",
    "List of additional features moving forward; LESS likely to churn:\n",
    "\n",
    "1. 1 year contract\n",
    "2. 2 year contract\n",
    "3. Bank Transfer\n",
    "4. Credit Card Transfer\n",
    "5. Mailed Check\n",
    "6. DSL internet\n",
    "7. No internet\n",
    "8. Dependents, no partner\n",
    "9. Partner and dependents\n",
    "\n",
    "Features I chose not to move forward with:\n",
    "\n",
    "1. Partner, no dependents (due to statistical insignificance)"
   ]
  },
  {
   "cell_type": "code",
   "execution_count": 23,
   "id": "f39febb4",
   "metadata": {},
   "outputs": [],
   "source": [
    "x_vars = ['contract_type_Month-to-month', 'contract_type_One year', 'contract_type_Two year', 'payment_type_Bank transfer (automatic)', 'payment_type_Credit card (automatic)', 'payment_type_Electronic check', 'payment_type_Mailed check', 'internet_service_type_DSL', 'internet_service_type_Fiber optic', 'internet_service_type_None', 'no_pod', 'partner_w_dependents', 'dependents_no_partner', 'tenure']"
   ]
  },
  {
   "cell_type": "markdown",
   "id": "b007b601",
   "metadata": {},
   "source": [
    "## Predicting Churn"
   ]
  },
  {
   "cell_type": "markdown",
   "id": "c3e7debe",
   "metadata": {},
   "source": [
    "Because churn is a boolean/yes or no value, we will use classification machine learning algorithms, namely Random Forest, KNN, and Logistic Regression, to fit to our training data. Then, we will evaluate on validate. We will pick the best model using accuracy because the data is mostly balanced, and the risk of an event happening offsets the risk of getting a prediction wrong."
   ]
  },
  {
   "cell_type": "markdown",
   "id": "5c6eff8f",
   "metadata": {},
   "source": [
    "#### Baseline"
   ]
  },
  {
   "cell_type": "markdown",
   "id": "0906bf22",
   "metadata": {},
   "source": [
    "I will now set a baseline prediction by predicting that all customers will not churn. Below, I evaluate the accuracy of this prediction."
   ]
  },
  {
   "cell_type": "code",
   "execution_count": 24,
   "id": "0c6d7c24",
   "metadata": {},
   "outputs": [],
   "source": [
    "# I create the variable `baseline`, setting all values equal to 0 (which indicates no churn).\n",
    "train['baseline'] = 0"
   ]
  },
  {
   "cell_type": "code",
   "execution_count": 25,
   "id": "8150f8ba",
   "metadata": {},
   "outputs": [
    {
     "name": "stdout",
     "output_type": "stream",
     "text": [
      "baseline accuracy: 73.43%\n"
     ]
    }
   ],
   "source": [
    "# I find the baseline accuracy by taking the mean of our prediction set against actual churn\n",
    "baseline_accuracy = (train.churn_encoded == train.baseline).mean()\n",
    "\n",
    "print(f'baseline accuracy: {baseline_accuracy:.2%}')"
   ]
  },
  {
   "cell_type": "markdown",
   "id": "ae35a6b7",
   "metadata": {},
   "source": [
    "### Fit 3 models"
   ]
  },
  {
   "cell_type": "markdown",
   "id": "a0116dca",
   "metadata": {},
   "source": [
    "In order to split our dataset into x & y train, validate, and test, I call the other function within my split_telco.py file:"
   ]
  },
  {
   "cell_type": "code",
   "execution_count": 26,
   "id": "412c815d",
   "metadata": {},
   "outputs": [],
   "source": [
    "# Calling my split function specific to modeling\n",
    "x_train, y_train, x_validate, y_validate, x_test, y_test = split_telco.telco_split_model(df)"
   ]
  },
  {
   "cell_type": "markdown",
   "id": "84b0c1f9",
   "metadata": {},
   "source": [
    "The top 3 models I built were:\n",
    "\n",
    "- Random Forest\n",
    "- KNN\n",
    "- Logistic Regression\n",
    "\n",
    "These models all used the same set of features and were looped to determine the optimal hyperparameters for maximum accuracy.\n",
    "\n",
    "Random Forest performed best with an accuracy of __%"
   ]
  },
  {
   "cell_type": "markdown",
   "id": "052ab53e",
   "metadata": {},
   "source": [
    "#### Random Forest"
   ]
  },
  {
   "cell_type": "markdown",
   "id": "99ce986e",
   "metadata": {},
   "source": [
    "In our explore file, our Random Forest model was constructed within a loop that processed 23 iterations of our hyperparameter, max depth. The resulting dataframe allowed us to choose the most effective iteration after fitting against both our train and validate datasets."
   ]
  },
  {
   "cell_type": "code",
   "execution_count": 54,
   "id": "6b2ab6a5",
   "metadata": {},
   "outputs": [
    {
     "data": {
      "text/html": [
       "<div>\n",
       "<style scoped>\n",
       "    .dataframe tbody tr th:only-of-type {\n",
       "        vertical-align: middle;\n",
       "    }\n",
       "\n",
       "    .dataframe tbody tr th {\n",
       "        vertical-align: top;\n",
       "    }\n",
       "\n",
       "    .dataframe thead th {\n",
       "        text-align: right;\n",
       "    }\n",
       "</style>\n",
       "<table border=\"1\" class=\"dataframe\">\n",
       "  <thead>\n",
       "    <tr style=\"text-align: right;\">\n",
       "      <th></th>\n",
       "      <th>max_depth</th>\n",
       "      <th>train_accuracy</th>\n",
       "      <th>validate_accuracy</th>\n",
       "      <th>difference</th>\n",
       "    </tr>\n",
       "  </thead>\n",
       "  <tbody>\n",
       "    <tr>\n",
       "      <th>0</th>\n",
       "      <td>5</td>\n",
       "      <td>0.801372</td>\n",
       "      <td>0.785545</td>\n",
       "      <td>0.015827</td>\n",
       "    </tr>\n",
       "  </tbody>\n",
       "</table>\n",
       "</div>"
      ],
      "text/plain": [
       "   max_depth  train_accuracy  validate_accuracy  difference\n",
       "0          5        0.801372           0.785545    0.015827"
      ]
     },
     "execution_count": 54,
     "metadata": {},
     "output_type": "execute_result"
    }
   ],
   "source": [
    "# Utilizing a loop in my explore file, \n",
    "# I have determined best fit using a max depth of 5\n",
    "metrics = []\n",
    "\n",
    "# Making the model\n",
    "forest = RandomForestClassifier(max_depth=5, random_state=123)\n",
    "\n",
    "# Fitting the model (on train only)\n",
    "forest = forest.fit(x_train, y_train)\n",
    "\n",
    "# Using the model\n",
    "# We'll evaluate the model's performance on train, first\n",
    "in_sample_accuracy = forest.score(x_train, y_train)\n",
    "    \n",
    "# We now evaluate the model's performance on validate, to compare\n",
    "out_of_sample_accuracy = forest.score(x_validate, y_validate)\n",
    "\n",
    "output = {\n",
    "    \"max_depth\": 5,\n",
    "    \"train_accuracy\": in_sample_accuracy,\n",
    "    \"validate_accuracy\": out_of_sample_accuracy\n",
    "    }\n",
    "    \n",
    "metrics.append(output)\n",
    "    \n",
    "## We now compile our metrics into a dataframe and create a column \n",
    "# showing the difference in our train and validate accuracy performance\n",
    "df = pd.DataFrame(metrics)\n",
    "df[\"difference\"] = df.train_accuracy - df.validate_accuracy\n",
    "df"
   ]
  },
  {
   "cell_type": "markdown",
   "id": "e4719781",
   "metadata": {},
   "source": [
    "#### KNN"
   ]
  },
  {
   "cell_type": "markdown",
   "id": "c37e9285",
   "metadata": {},
   "source": [
    "In our explore file, our K-nearest-neighbors model was constructed within a loop that processed 20 iterations of our hyperparameter, k. The resulting dataframe allowed us to choose the most effective iteration after fitting against both our train and validate datasets."
   ]
  },
  {
   "cell_type": "code",
   "execution_count": 62,
   "id": "79c14b54",
   "metadata": {},
   "outputs": [],
   "source": [
    "# Utilizing a loop in my explore file, \n",
    "# I have determined best fit using k = 18\n",
    "\n",
    "metrics = []\n",
    "            \n",
    "# Defining the model\n",
    "knn = KNeighborsClassifier(n_neighbors=18)\n",
    "    \n",
    "# Fitting the model (only on training data)\n",
    "knn.fit(x_train, y_train)\n",
    "    \n",
    "# Using the model to calculate accuracy on both train and validate\n",
    "train_accuracy = knn.score(x_train, y_train)\n",
    "validate_accuracy = knn.score(x_validate, y_validate)\n",
    "    \n",
    "output = {\n",
    "    \"k\": 18,\n",
    "    \"train_accuracy\": train_accuracy,\n",
    "    \"validate_accuracy\": validate_accuracy\n",
    "    }\n",
    "    \n",
    "metrics.append(output)\n",
    "\n",
    "## We now compile our metrics into a dataframe \n",
    "results = pd.DataFrame(metrics)"
   ]
  },
  {
   "cell_type": "code",
   "execution_count": 63,
   "id": "a3a1efdb",
   "metadata": {},
   "outputs": [
    {
     "data": {
      "text/html": [
       "<div>\n",
       "<style scoped>\n",
       "    .dataframe tbody tr th:only-of-type {\n",
       "        vertical-align: middle;\n",
       "    }\n",
       "\n",
       "    .dataframe tbody tr th {\n",
       "        vertical-align: top;\n",
       "    }\n",
       "\n",
       "    .dataframe thead th {\n",
       "        text-align: right;\n",
       "    }\n",
       "</style>\n",
       "<table border=\"1\" class=\"dataframe\">\n",
       "  <thead>\n",
       "    <tr style=\"text-align: right;\">\n",
       "      <th></th>\n",
       "      <th>k</th>\n",
       "      <th>train_accuracy</th>\n",
       "      <th>validate_accuracy</th>\n",
       "      <th>difference</th>\n",
       "    </tr>\n",
       "  </thead>\n",
       "  <tbody>\n",
       "    <tr>\n",
       "      <th>0</th>\n",
       "      <td>18</td>\n",
       "      <td>0.801372</td>\n",
       "      <td>0.772512</td>\n",
       "      <td>0.02886</td>\n",
       "    </tr>\n",
       "  </tbody>\n",
       "</table>\n",
       "</div>"
      ],
      "text/plain": [
       "    k  train_accuracy  validate_accuracy  difference\n",
       "0  18        0.801372           0.772512     0.02886"
      ]
     },
     "execution_count": 63,
     "metadata": {},
     "output_type": "execute_result"
    }
   ],
   "source": [
    "# Once again, creating this column showing the difference in our \n",
    "# train and validate accuracy performance\n",
    "df = pd.DataFrame(metrics)\n",
    "df[\"difference\"] = df.train_accuracy - df.validate_accuracy\n",
    "df"
   ]
  },
  {
   "cell_type": "markdown",
   "id": "50fd7235",
   "metadata": {},
   "source": [
    "#### Logistic Regression"
   ]
  },
  {
   "cell_type": "markdown",
   "id": "503d1982",
   "metadata": {},
   "source": [
    "In our explore file, our Logistic Regression model was constructed within a loop that processed 7 iterations of our hyperparameter, C. The resulting dataframe allowed us to choose the most effective iteration after fitting against both our train and validate datasets."
   ]
  },
  {
   "cell_type": "code",
   "execution_count": 67,
   "id": "cd05567c",
   "metadata": {},
   "outputs": [],
   "source": [
    "# Defining and fitting the model. \n",
    "# Utilizing a loop in my explore file, \n",
    "# I have determined best fit using the value of C: 0.01\n",
    "model = sklearn.linear_model.LogisticRegression(C=0.01)\n",
    "model.fit(x_train, y_train)\n",
    "accuracy = model.score(x_validate, y_validate)\n",
    "coefs = dict(zip(x_train.columns, model.coef_[0]))"
   ]
  },
  {
   "cell_type": "code",
   "execution_count": 68,
   "id": "7ac3161b",
   "metadata": {},
   "outputs": [
    {
     "data": {
      "text/html": [
       "<style type=\"text/css\">\n",
       "</style>\n",
       "<table id=\"T_bef83\">\n",
       "  <caption>Effect of optimal C value on accuracy (t=.5) and the resulting coefficients.</caption>\n",
       "  <thead>\n",
       "    <tr>\n",
       "      <th class=\"blank\" >&nbsp;</th>\n",
       "      <th class=\"blank level0\" >&nbsp;</th>\n",
       "      <th id=\"T_bef83_level0_col0\" class=\"col_heading level0 col0\" >contract_type_Month-to-month</th>\n",
       "      <th id=\"T_bef83_level0_col1\" class=\"col_heading level0 col1\" >contract_type_One year</th>\n",
       "      <th id=\"T_bef83_level0_col2\" class=\"col_heading level0 col2\" >contract_type_Two year</th>\n",
       "      <th id=\"T_bef83_level0_col3\" class=\"col_heading level0 col3\" >payment_type_Bank transfer (automatic)</th>\n",
       "      <th id=\"T_bef83_level0_col4\" class=\"col_heading level0 col4\" >payment_type_Credit card (automatic)</th>\n",
       "      <th id=\"T_bef83_level0_col5\" class=\"col_heading level0 col5\" >payment_type_Electronic check</th>\n",
       "      <th id=\"T_bef83_level0_col6\" class=\"col_heading level0 col6\" >payment_type_Mailed check</th>\n",
       "      <th id=\"T_bef83_level0_col7\" class=\"col_heading level0 col7\" >internet_service_type_DSL</th>\n",
       "      <th id=\"T_bef83_level0_col8\" class=\"col_heading level0 col8\" >internet_service_type_Fiber optic</th>\n",
       "      <th id=\"T_bef83_level0_col9\" class=\"col_heading level0 col9\" >internet_service_type_None</th>\n",
       "      <th id=\"T_bef83_level0_col10\" class=\"col_heading level0 col10\" >no_pod</th>\n",
       "      <th id=\"T_bef83_level0_col11\" class=\"col_heading level0 col11\" >partner_w_dependents</th>\n",
       "      <th id=\"T_bef83_level0_col12\" class=\"col_heading level0 col12\" >dependents_no_partner</th>\n",
       "      <th id=\"T_bef83_level0_col13\" class=\"col_heading level0 col13\" >tenure</th>\n",
       "    </tr>\n",
       "    <tr>\n",
       "      <th class=\"index_name level0\" >C</th>\n",
       "      <th class=\"index_name level1\" >accuracy</th>\n",
       "      <th class=\"blank col0\" >&nbsp;</th>\n",
       "      <th class=\"blank col1\" >&nbsp;</th>\n",
       "      <th class=\"blank col2\" >&nbsp;</th>\n",
       "      <th class=\"blank col3\" >&nbsp;</th>\n",
       "      <th class=\"blank col4\" >&nbsp;</th>\n",
       "      <th class=\"blank col5\" >&nbsp;</th>\n",
       "      <th class=\"blank col6\" >&nbsp;</th>\n",
       "      <th class=\"blank col7\" >&nbsp;</th>\n",
       "      <th class=\"blank col8\" >&nbsp;</th>\n",
       "      <th class=\"blank col9\" >&nbsp;</th>\n",
       "      <th class=\"blank col10\" >&nbsp;</th>\n",
       "      <th class=\"blank col11\" >&nbsp;</th>\n",
       "      <th class=\"blank col12\" >&nbsp;</th>\n",
       "      <th class=\"blank col13\" >&nbsp;</th>\n",
       "    </tr>\n",
       "  </thead>\n",
       "  <tbody>\n",
       "    <tr>\n",
       "      <th id=\"T_bef83_level0_row0\" class=\"row_heading level0 row0\" >0.010000</th>\n",
       "      <th id=\"T_bef83_level1_row0\" class=\"row_heading level1 row0\" >0.778000</th>\n",
       "      <td id=\"T_bef83_row0_col0\" class=\"data row0 col0\" >0.428</td>\n",
       "      <td id=\"T_bef83_row0_col1\" class=\"data row0 col1\" >-0.148</td>\n",
       "      <td id=\"T_bef83_row0_col2\" class=\"data row0 col2\" >-0.280</td>\n",
       "      <td id=\"T_bef83_row0_col3\" class=\"data row0 col3\" >-0.036</td>\n",
       "      <td id=\"T_bef83_row0_col4\" class=\"data row0 col4\" >-0.064</td>\n",
       "      <td id=\"T_bef83_row0_col5\" class=\"data row0 col5\" >0.315</td>\n",
       "      <td id=\"T_bef83_row0_col6\" class=\"data row0 col6\" >-0.216</td>\n",
       "      <td id=\"T_bef83_row0_col7\" class=\"data row0 col7\" >-0.190</td>\n",
       "      <td id=\"T_bef83_row0_col8\" class=\"data row0 col8\" >0.723</td>\n",
       "      <td id=\"T_bef83_row0_col9\" class=\"data row0 col9\" >-0.533</td>\n",
       "      <td id=\"T_bef83_row0_col10\" class=\"data row0 col10\" >0.021</td>\n",
       "      <td id=\"T_bef83_row0_col11\" class=\"data row0 col11\" >-0.140</td>\n",
       "      <td id=\"T_bef83_row0_col12\" class=\"data row0 col12\" >-0.071</td>\n",
       "      <td id=\"T_bef83_row0_col13\" class=\"data row0 col13\" >-0.033</td>\n",
       "    </tr>\n",
       "  </tbody>\n",
       "</table>\n"
      ],
      "text/plain": [
       "<pandas.io.formats.style.Styler at 0x7ff1edb2f7f0>"
      ]
     },
     "execution_count": 68,
     "metadata": {},
     "output_type": "execute_result"
    }
   ],
   "source": [
    "# Creating a function for C\n",
    "def evaluate_model(c):\n",
    "    model = sklearn.linear_model.LogisticRegression(C=c)\n",
    "    model.fit(x_train, y_train)\n",
    "    accuracy = model.score(x_validate, y_validate)\n",
    "    coefs = dict(zip(x_train.columns, model.coef_[0]))\n",
    "    return {'C': c, 'accuracy': accuracy, **coefs}\n",
    "\n",
    "# Selecting the appropriate C value\n",
    "models = [evaluate_model(c) for c in [.01]]\n",
    "\n",
    "# Returning our dataframe, which expresses the optimal C value \n",
    "# and accuracy in tandem with the coefficients for each feature\n",
    "(pd.DataFrame(models).round(3)\n",
    " .set_index(['C', 'accuracy'])\n",
    " .style\n",
    " .set_caption('Effect of optimal C value on accuracy (t=.5) and the resulting coefficients.')\n",
    " .set_precision(3)\n",
    ")"
   ]
  },
  {
   "cell_type": "markdown",
   "id": "7cd98e23",
   "metadata": {},
   "source": [
    "#### Predict and Evaluate Test dataset\n",
    "None of these models appear to be overfit. The Random Forest model performed the best on the validate sample, therefore, I am moving forward with that model. "
   ]
  },
  {
   "cell_type": "markdown",
   "id": "bd60d8be",
   "metadata": {},
   "source": [
    "Below is the Random Forest model, fit to train, validate, and test."
   ]
  },
  {
   "cell_type": "code",
   "execution_count": 71,
   "id": "dceaf347",
   "metadata": {},
   "outputs": [
    {
     "data": {
      "text/html": [
       "<div>\n",
       "<style scoped>\n",
       "    .dataframe tbody tr th:only-of-type {\n",
       "        vertical-align: middle;\n",
       "    }\n",
       "\n",
       "    .dataframe tbody tr th {\n",
       "        vertical-align: top;\n",
       "    }\n",
       "\n",
       "    .dataframe thead th {\n",
       "        text-align: right;\n",
       "    }\n",
       "</style>\n",
       "<table border=\"1\" class=\"dataframe\">\n",
       "  <thead>\n",
       "    <tr style=\"text-align: right;\">\n",
       "      <th></th>\n",
       "      <th>max_depth</th>\n",
       "      <th>train_accuracy</th>\n",
       "      <th>validate_accuracy</th>\n",
       "      <th>test_accuracy</th>\n",
       "      <th>difference</th>\n",
       "      <th>test_diff</th>\n",
       "    </tr>\n",
       "  </thead>\n",
       "  <tbody>\n",
       "    <tr>\n",
       "      <th>0</th>\n",
       "      <td>5</td>\n",
       "      <td>0.801372</td>\n",
       "      <td>0.785545</td>\n",
       "      <td>0.803127</td>\n",
       "      <td>0.015827</td>\n",
       "      <td>-0.017582</td>\n",
       "    </tr>\n",
       "  </tbody>\n",
       "</table>\n",
       "</div>"
      ],
      "text/plain": [
       "   max_depth  train_accuracy  validate_accuracy  test_accuracy  difference  \\\n",
       "0          5        0.801372           0.785545       0.803127    0.015827   \n",
       "\n",
       "   test_diff  \n",
       "0  -0.017582  "
      ]
     },
     "execution_count": 71,
     "metadata": {},
     "output_type": "execute_result"
    }
   ],
   "source": [
    "# Using our loop in the explore file once more, \n",
    "# I determine optimal max depth for maximum accuracy: max_depth = 5\n",
    "\n",
    "metrics = []\n",
    "\n",
    "# Making the model\n",
    "forest = RandomForestClassifier(max_depth=5, random_state=123)\n",
    "\n",
    "# Fitting the model (on train only)\n",
    "forest = forest.fit(x_train, y_train)\n",
    "\n",
    "# Using the model\n",
    "# We'll evaluate the model's performance on train, first\n",
    "in_sample_accuracy = forest.score(x_train, y_train)\n",
    "    \n",
    "# We now evaluate the model's performance on validate, to compare\n",
    "out_of_sample_accuracy = forest.score(x_validate, y_validate)\n",
    "\n",
    "# We now evaluate the model's performance on test, to compare\n",
    "test_accuracy = forest.score(x_test, y_test)\n",
    "\n",
    "output = {\n",
    "    \"max_depth\": 5,\n",
    "    \"train_accuracy\": in_sample_accuracy,\n",
    "    \"validate_accuracy\": out_of_sample_accuracy,\n",
    "    \"test_accuracy\": test_accuracy\n",
    "    }\n",
    "    \n",
    "metrics.append(output)\n",
    "    \n",
    "## We now compile our metrics into a dataframe and create a column \n",
    "# showing the difference in our train and validate accuracy performance\n",
    "df = pd.DataFrame(metrics)\n",
    "df[\"difference\"] = df.train_accuracy - df.validate_accuracy\n",
    "df[\"test_diff\"] = df.validate_accuracy - df.test_accuracy\n",
    "df"
   ]
  },
  {
   "cell_type": "markdown",
   "id": "036bda9a",
   "metadata": {},
   "source": [
    "I expect this model to perform with 80% accuracy in the future on data it has not seen, given no major changes in our data source.\n",
    "This model's accuracy is best at a max depth of 5."
   ]
  },
  {
   "cell_type": "markdown",
   "id": "8275d20a",
   "metadata": {},
   "source": [
    "## Conclusion"
   ]
  },
  {
   "cell_type": "markdown",
   "id": "ac684dee",
   "metadata": {},
   "source": [
    "### Summary"
   ]
  },
  {
   "cell_type": "markdown",
   "id": "01b8b0de",
   "metadata": {},
   "source": [
    "In seeking solutions to Telco's churn, we have explored a multiplicity of factors in the dataset that affect churn rate. We have shown that some potential primary drivers of churn are :\n",
    "\n",
    "- Having a month-to-month contract\n",
    "- Paying by electronic check \n",
    "- Paying for fiber internet\n",
    "- Having a contract as a single adult, without a partner or dependents.\n",
    "\n",
    "The statistical significance of these features, combined within our analysis and models, expresses 95% confidence in the validity of our findings. With the addition of the other features within contract type, payment type, internet type, and family type, we have created robust models that perform significantly better than our baseline of 73%.\n",
    "\n",
    "Having fit the best performing model to our train, validate, and test datasets, we expect this model to perform with 80% accuracy in the future on data it has not seen, given no major changes to our data source."
   ]
  },
  {
   "cell_type": "markdown",
   "id": "60d9a969",
   "metadata": {},
   "source": [
    "### Recommendations"
   ]
  },
  {
   "cell_type": "markdown",
   "id": "287767de",
   "metadata": {},
   "source": [
    "There are a number of recommendations that can be offered based on the above analysis. These suggestions are tied directly to the findings within each of our primary drivers of churn:\n",
    "\n",
    "1. Month-to-Month contracts - Although month-to-month contracts are here to stay, we could feasibly limit churn by offering a discount on 1 and 2 yr contracts. By offering a discount that still maintains a healthy profit margin, we could incentivize customers to sign on for longer contracts which is shown to reduce churn in the long term.\n",
    "\n",
    "2. Electronic check - We have shown that churn is significantly higher for electronic check customers than any other payment type. Although there are multiple potential solutions to this phenomenon, I believe Telco needs to perform a full review of the customer process for submitting payment via electronic check. It is my experience that online portals for submitting payment by e-check can be inefficient, not well designed, and frustrating to the user. This could be a significant reason why customers who use this method of payment are cancelling their contracts.\n",
    "\n",
    "3. Fiber internet - Customers with this internet type express a significant likelihood of churn, despite Fiber being the optimal option for internet access. Although fiber is undoubtedly more expensive to implement, due to infrastructure costs, the amount of potential churn of this internet type needs to inform our business practices. Options include a potential discount for fiber customers if this is profitably viable. Otherwise, increased company investment in fiber infrastructure may lead to increased profit margin down the road, allowing the company greater leverage for retaining these customers. \n",
    "\n",
    "4. Customers with no partner or dependents (single adults) - This customer demographic has a significant likelihood of churn. Yet, attempting to retain these customers may not be the most effective option for maximizing customer retention. Instead, by observing the likelihood of churn for other partner/dependent statuses, we find that customers with dependents are less likely to churn. Therefore, offering a family discount for those customers who have dependents could attract more customers who fall under this demographic. This customer base has shown to be less likely to churn, thus decreasing potential churn by attracting more stable and committed customers.\n",
    "\n",
    "\n",
    "\n"
   ]
  },
  {
   "cell_type": "markdown",
   "id": "81e232b9",
   "metadata": {},
   "source": [
    "### Next Steps"
   ]
  },
  {
   "cell_type": "markdown",
   "id": "23a95973",
   "metadata": {},
   "source": [
    "Despite the overall effectiveness of our best-performing model, there is always room for improvement and optimization. \\\n",
    "If given more time to pursue a better results, I would begin by further exploration and analysis of other features within our dataset. Through additional exploration I've already performed, I can say with confidence that there are a number of features I could analyze and implement into my models to improve prediction accuracy. \\\n",
    "Namely, observing features such as whether a customer has online security or tech support could improve our models' predictions.\n",
    "\n",
    "Additionally, prompting customers who churn to fill out a simple satisfaction survey could produce meaningful insight into more specific reasons customers choose to cancel their contracts. This information could be analyzed using methods such as Natural Language Processing in order to improve Telco's understanding of its customers' needs and the resulting customer service they provide."
   ]
  },
  {
   "cell_type": "markdown",
   "id": "f4334c53",
   "metadata": {},
   "source": [
    "### Preparing a CSV with the best model's predictions"
   ]
  },
  {
   "cell_type": "code",
   "execution_count": 40,
   "id": "bdb33887",
   "metadata": {},
   "outputs": [],
   "source": [
    "# Reacquiring the data to have a fresh dataset with all columns\n",
    "csv_df = acquire_telco.get_telco_data()"
   ]
  },
  {
   "cell_type": "code",
   "execution_count": 41,
   "id": "6b82e3dc",
   "metadata": {},
   "outputs": [],
   "source": [
    "csv_df = prepare.prep_telco_csv(csv_df)"
   ]
  },
  {
   "cell_type": "code",
   "execution_count": 42,
   "id": "9faa7013",
   "metadata": {},
   "outputs": [],
   "source": [
    "predict_telco = csv_df[x_vars]"
   ]
  },
  {
   "cell_type": "code",
   "execution_count": 48,
   "id": "8eae5d42",
   "metadata": {
    "scrolled": true
   },
   "outputs": [],
   "source": [
    "csv_df['probability'] = forest.predict_proba(predict_telco)[:,1]"
   ]
  },
  {
   "cell_type": "code",
   "execution_count": 49,
   "id": "26ff9e0e",
   "metadata": {},
   "outputs": [],
   "source": [
    "csv_df['prediction'] = forest.predict(predict_telco)"
   ]
  },
  {
   "cell_type": "code",
   "execution_count": 50,
   "id": "820cdf51",
   "metadata": {},
   "outputs": [],
   "source": [
    "prediction_probability = csv_df[['customer_id','probability','prediction']]"
   ]
  },
  {
   "cell_type": "code",
   "execution_count": 51,
   "id": "d171a212",
   "metadata": {},
   "outputs": [
    {
     "data": {
      "text/html": [
       "<div>\n",
       "<style scoped>\n",
       "    .dataframe tbody tr th:only-of-type {\n",
       "        vertical-align: middle;\n",
       "    }\n",
       "\n",
       "    .dataframe tbody tr th {\n",
       "        vertical-align: top;\n",
       "    }\n",
       "\n",
       "    .dataframe thead th {\n",
       "        text-align: right;\n",
       "    }\n",
       "</style>\n",
       "<table border=\"1\" class=\"dataframe\">\n",
       "  <thead>\n",
       "    <tr style=\"text-align: right;\">\n",
       "      <th></th>\n",
       "      <th>customer_id</th>\n",
       "      <th>probability</th>\n",
       "      <th>prediction</th>\n",
       "    </tr>\n",
       "  </thead>\n",
       "  <tbody>\n",
       "    <tr>\n",
       "      <th>0</th>\n",
       "      <td>0002-ORFBO</td>\n",
       "      <td>0.000000</td>\n",
       "      <td>No</td>\n",
       "    </tr>\n",
       "    <tr>\n",
       "      <th>1</th>\n",
       "      <td>0003-MKNFE</td>\n",
       "      <td>0.455648</td>\n",
       "      <td>No</td>\n",
       "    </tr>\n",
       "    <tr>\n",
       "      <th>2</th>\n",
       "      <td>0004-TLHLJ</td>\n",
       "      <td>0.739163</td>\n",
       "      <td>Yes</td>\n",
       "    </tr>\n",
       "    <tr>\n",
       "      <th>3</th>\n",
       "      <td>0011-IGKFF</td>\n",
       "      <td>1.000000</td>\n",
       "      <td>Yes</td>\n",
       "    </tr>\n",
       "    <tr>\n",
       "      <th>4</th>\n",
       "      <td>0013-EXCHZ</td>\n",
       "      <td>0.957778</td>\n",
       "      <td>Yes</td>\n",
       "    </tr>\n",
       "  </tbody>\n",
       "</table>\n",
       "</div>"
      ],
      "text/plain": [
       "  customer_id  probability prediction\n",
       "0  0002-ORFBO     0.000000         No\n",
       "1  0003-MKNFE     0.455648         No\n",
       "2  0004-TLHLJ     0.739163        Yes\n",
       "3  0011-IGKFF     1.000000        Yes\n",
       "4  0013-EXCHZ     0.957778        Yes"
      ]
     },
     "execution_count": 51,
     "metadata": {},
     "output_type": "execute_result"
    }
   ],
   "source": [
    "# Checking code\n",
    "prediction_probability.head()"
   ]
  },
  {
   "cell_type": "code",
   "execution_count": 52,
   "id": "402eadef",
   "metadata": {},
   "outputs": [],
   "source": [
    "# Reading to csv file\n",
    "# prediction_probability.to_csv('telco_prediction_probability.csv')"
   ]
  }
 ],
 "metadata": {
  "kernelspec": {
   "display_name": "Python 3 (ipykernel)",
   "language": "python",
   "name": "python3"
  },
  "language_info": {
   "codemirror_mode": {
    "name": "ipython",
    "version": 3
   },
   "file_extension": ".py",
   "mimetype": "text/x-python",
   "name": "python",
   "nbconvert_exporter": "python",
   "pygments_lexer": "ipython3",
   "version": "3.9.12"
  }
 },
 "nbformat": 4,
 "nbformat_minor": 5
}
