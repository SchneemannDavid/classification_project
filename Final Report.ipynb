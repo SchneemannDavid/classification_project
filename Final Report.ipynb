{
 "cells": [
  {
   "cell_type": "markdown",
   "id": "14eb3c67",
   "metadata": {},
   "source": [
    "# Title:"
   ]
  },
  {
   "cell_type": "markdown",
   "id": "573a30a2",
   "metadata": {},
   "source": [
    "by David Schneemann"
   ]
  },
  {
   "cell_type": "markdown",
   "id": "3b4e6dd0",
   "metadata": {},
   "source": [
    "## Project Goal"
   ]
  },
  {
   "cell_type": "markdown",
   "id": "f957215e",
   "metadata": {},
   "source": []
  },
  {
   "cell_type": "code",
   "execution_count": null,
   "id": "e31ef56e",
   "metadata": {},
   "outputs": [],
   "source": []
  },
  {
   "cell_type": "code",
   "execution_count": null,
   "id": "1832bfc1",
   "metadata": {},
   "outputs": [],
   "source": []
  },
  {
   "cell_type": "code",
   "execution_count": null,
   "id": "2ba3daa2",
   "metadata": {},
   "outputs": [],
   "source": []
  },
  {
   "cell_type": "markdown",
   "id": "29cda219",
   "metadata": {},
   "source": [
    "## Project Description"
   ]
  },
  {
   "cell_type": "markdown",
   "id": "300ff73e",
   "metadata": {},
   "source": []
  },
  {
   "cell_type": "code",
   "execution_count": null,
   "id": "b8d67a56",
   "metadata": {},
   "outputs": [],
   "source": []
  },
  {
   "cell_type": "code",
   "execution_count": null,
   "id": "5d777504",
   "metadata": {},
   "outputs": [],
   "source": []
  },
  {
   "cell_type": "code",
   "execution_count": null,
   "id": "781a88fd",
   "metadata": {},
   "outputs": [],
   "source": []
  },
  {
   "cell_type": "markdown",
   "id": "c978f911",
   "metadata": {},
   "source": [
    "## Initial Questions"
   ]
  },
  {
   "cell_type": "markdown",
   "id": "85704022",
   "metadata": {},
   "source": [
    "1. Why is M2M churn so high?\n",
    "    Do M2m customers churn more than 1-yr or 2-yr customers?\n",
    "    \n",
    "Ho = M2M customers churn <= 1&2-yr customers\n",
    "Ha = M2M customers churn > 1&2-yr customers"
   ]
  },
  {
   "cell_type": "markdown",
   "id": "d3b495d4",
   "metadata": {},
   "source": [
    "2. Does paying by electronic check influence churn?\n",
    "\n",
    "Ho = Electronic check churn <= other payment types\n",
    "Ha = Electronic check churns > other payment types"
   ]
  },
  {
   "cell_type": "markdown",
   "id": "e8b92247",
   "metadata": {},
   "source": [
    "3. Do single adults churn more than adults with partner?\n",
    "\n",
    "Ho = Single adults churn <= adults with partner\n",
    "Ha = Single adults churn > adults with partner"
   ]
  },
  {
   "cell_type": "markdown",
   "id": "3c40e660",
   "metadata": {},
   "source": [
    "4. Do adults with dependents churn more than adults without dependents?\n",
    "\n",
    "Ho = Adults with dependents churn <= adults without dependents\n",
    "Ha = Adults with dependents churn > adults without dependents"
   ]
  },
  {
   "cell_type": "markdown",
   "id": "0ad5285f",
   "metadata": {},
   "source": [
    "## Data Dictionary"
   ]
  },
  {
   "cell_type": "markdown",
   "id": "d6c86437",
   "metadata": {},
   "source": []
  },
  {
   "cell_type": "code",
   "execution_count": null,
   "id": "bc256945",
   "metadata": {},
   "outputs": [],
   "source": []
  },
  {
   "cell_type": "code",
   "execution_count": null,
   "id": "b50e93a9",
   "metadata": {},
   "outputs": [],
   "source": []
  },
  {
   "cell_type": "code",
   "execution_count": null,
   "id": "378a63c9",
   "metadata": {},
   "outputs": [],
   "source": []
  },
  {
   "cell_type": "markdown",
   "id": "e5799db5",
   "metadata": {},
   "source": [
    "## Wrangle Telco Data"
   ]
  },
  {
   "cell_type": "markdown",
   "id": "6560f641",
   "metadata": {},
   "source": []
  },
  {
   "cell_type": "code",
   "execution_count": null,
   "id": "db6f747b",
   "metadata": {},
   "outputs": [],
   "source": []
  },
  {
   "cell_type": "code",
   "execution_count": null,
   "id": "55336985",
   "metadata": {},
   "outputs": [],
   "source": []
  },
  {
   "cell_type": "code",
   "execution_count": null,
   "id": "c465fa3d",
   "metadata": {},
   "outputs": [],
   "source": []
  },
  {
   "cell_type": "markdown",
   "id": "269a7a9b",
   "metadata": {},
   "source": [
    "## Set the Data Context"
   ]
  },
  {
   "cell_type": "markdown",
   "id": "a6890899",
   "metadata": {},
   "source": []
  },
  {
   "cell_type": "code",
   "execution_count": null,
   "id": "aaa90878",
   "metadata": {},
   "outputs": [],
   "source": []
  },
  {
   "cell_type": "code",
   "execution_count": null,
   "id": "c85e10b9",
   "metadata": {},
   "outputs": [],
   "source": []
  },
  {
   "cell_type": "code",
   "execution_count": null,
   "id": "a2591e35",
   "metadata": {},
   "outputs": [],
   "source": []
  },
  {
   "cell_type": "markdown",
   "id": "28a7f2ed",
   "metadata": {},
   "source": [
    "## Exploratory Analysis: [question]"
   ]
  },
  {
   "cell_type": "markdown",
   "id": "b63d71ea",
   "metadata": {},
   "source": [
    "I have answered these questions:\n",
    "\n",
    "1. a\n",
    "2. b\n",
    "3. c"
   ]
  },
  {
   "cell_type": "markdown",
   "id": "8208b9b4",
   "metadata": {},
   "source": [
    "### Question 1"
   ]
  },
  {
   "cell_type": "markdown",
   "id": "1f6f6f79",
   "metadata": {},
   "source": [
    "[Elaborate]"
   ]
  },
  {
   "cell_type": "code",
   "execution_count": null,
   "id": "be3235f0",
   "metadata": {},
   "outputs": [],
   "source": []
  },
  {
   "cell_type": "code",
   "execution_count": null,
   "id": "2114db2e",
   "metadata": {},
   "outputs": [],
   "source": []
  },
  {
   "cell_type": "code",
   "execution_count": null,
   "id": "f5824ae8",
   "metadata": {},
   "outputs": [],
   "source": []
  },
  {
   "cell_type": "markdown",
   "id": "42adadd4",
   "metadata": {},
   "source": [
    "### Answer 1"
   ]
  },
  {
   "cell_type": "markdown",
   "id": "11d118f7",
   "metadata": {},
   "source": []
  },
  {
   "cell_type": "markdown",
   "id": "75ee5c23",
   "metadata": {},
   "source": [
    "### Question 2"
   ]
  },
  {
   "cell_type": "markdown",
   "id": "75e49e45",
   "metadata": {},
   "source": [
    "[Elaborate]"
   ]
  },
  {
   "cell_type": "code",
   "execution_count": null,
   "id": "e19d1085",
   "metadata": {},
   "outputs": [],
   "source": []
  },
  {
   "cell_type": "code",
   "execution_count": null,
   "id": "b36f04cc",
   "metadata": {},
   "outputs": [],
   "source": []
  },
  {
   "cell_type": "markdown",
   "id": "82affa90",
   "metadata": {},
   "source": [
    "### Answer 2"
   ]
  },
  {
   "cell_type": "markdown",
   "id": "971b886d",
   "metadata": {},
   "source": []
  },
  {
   "cell_type": "markdown",
   "id": "ae1e8e60",
   "metadata": {},
   "source": [
    "### Question 3"
   ]
  },
  {
   "cell_type": "markdown",
   "id": "bec14353",
   "metadata": {},
   "source": [
    "[Elaborate]"
   ]
  },
  {
   "cell_type": "code",
   "execution_count": null,
   "id": "919ea9a2",
   "metadata": {},
   "outputs": [],
   "source": []
  },
  {
   "cell_type": "code",
   "execution_count": null,
   "id": "0f47a044",
   "metadata": {},
   "outputs": [],
   "source": []
  },
  {
   "cell_type": "code",
   "execution_count": null,
   "id": "36b17731",
   "metadata": {},
   "outputs": [],
   "source": []
  },
  {
   "cell_type": "markdown",
   "id": "596d502e",
   "metadata": {},
   "source": [
    "### Answer 3"
   ]
  },
  {
   "cell_type": "markdown",
   "id": "f5a4ad01",
   "metadata": {},
   "source": []
  },
  {
   "cell_type": "markdown",
   "id": "b47a675c",
   "metadata": {},
   "source": [
    "### Summary: "
   ]
  },
  {
   "cell_type": "markdown",
   "id": "2cbe99ba",
   "metadata": {},
   "source": [
    "[features i will move forward with]"
   ]
  },
  {
   "cell_type": "markdown",
   "id": "14fd5246",
   "metadata": {},
   "source": [
    "## Predicting Churn"
   ]
  },
  {
   "cell_type": "markdown",
   "id": "204911c1",
   "metadata": {},
   "source": [
    "WRITE IN OWN WORDS: Because survival is a boolean/yes or no value, we will use classification machine learning algorithms to fit to our training data and we will evaluate on validate. We will pick the best model using accuracy because the data is mostly balanced, and the risk of an event happening balances the risk of getting a prediction wrong.\n",
    "\n"
   ]
  },
  {
   "cell_type": "markdown",
   "id": "2ce5fd6a",
   "metadata": {},
   "source": [
    "#### Baseline"
   ]
  },
  {
   "cell_type": "markdown",
   "id": "64111601",
   "metadata": {},
   "source": []
  },
  {
   "cell_type": "markdown",
   "id": "b758773e",
   "metadata": {},
   "source": []
  },
  {
   "cell_type": "markdown",
   "id": "9264aa55",
   "metadata": {},
   "source": [
    "### Fit 3 models"
   ]
  },
  {
   "cell_type": "markdown",
   "id": "34853381",
   "metadata": {},
   "source": [
    "... the top 3 models I built were:"
   ]
  },
  {
   "cell_type": "code",
   "execution_count": null,
   "id": "ddadc35a",
   "metadata": {},
   "outputs": [],
   "source": []
  },
  {
   "cell_type": "code",
   "execution_count": null,
   "id": "3d345eed",
   "metadata": {},
   "outputs": [],
   "source": []
  },
  {
   "cell_type": "code",
   "execution_count": null,
   "id": "300499cd",
   "metadata": {},
   "outputs": [],
   "source": []
  },
  {
   "cell_type": "markdown",
   "id": "3cf13e89",
   "metadata": {},
   "source": [
    "WRITE IN OWN WORDS: I expect this model to perform with x% accuracy in the future on data it has not seen, given no major changes in our data source."
   ]
  },
  {
   "cell_type": "markdown",
   "id": "2f3c1ddd",
   "metadata": {},
   "source": []
  },
  {
   "cell_type": "markdown",
   "id": "47873922",
   "metadata": {},
   "source": [
    "## Conclusion"
   ]
  },
  {
   "cell_type": "markdown",
   "id": "20232622",
   "metadata": {},
   "source": [
    "### Summary"
   ]
  },
  {
   "cell_type": "markdown",
   "id": "8a1b5b74",
   "metadata": {},
   "source": []
  },
  {
   "cell_type": "markdown",
   "id": "ea2e2150",
   "metadata": {},
   "source": [
    "### Recommendations"
   ]
  },
  {
   "cell_type": "markdown",
   "id": "74d15643",
   "metadata": {},
   "source": []
  },
  {
   "cell_type": "markdown",
   "id": "a0f1468a",
   "metadata": {},
   "source": [
    "### Next Steps"
   ]
  },
  {
   "cell_type": "markdown",
   "id": "9835b540",
   "metadata": {},
   "source": []
  },
  {
   "cell_type": "code",
   "execution_count": null,
   "id": "17b8be61",
   "metadata": {},
   "outputs": [],
   "source": []
  },
  {
   "cell_type": "code",
   "execution_count": null,
   "id": "95631220",
   "metadata": {},
   "outputs": [],
   "source": []
  }
 ],
 "metadata": {
  "kernelspec": {
   "display_name": "Python 3 (ipykernel)",
   "language": "python",
   "name": "python3"
  },
  "language_info": {
   "codemirror_mode": {
    "name": "ipython",
    "version": 3
   },
   "file_extension": ".py",
   "mimetype": "text/x-python",
   "name": "python",
   "nbconvert_exporter": "python",
   "pygments_lexer": "ipython3",
   "version": "3.9.12"
  }
 },
 "nbformat": 4,
 "nbformat_minor": 5
}
