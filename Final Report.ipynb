{
 "cells": [
  {
   "cell_type": "markdown",
   "id": "2998d95e",
   "metadata": {},
   "source": [
    "# Title:"
   ]
  },
  {
   "cell_type": "markdown",
   "id": "29c539cb",
   "metadata": {},
   "source": [
    "by David Schneemann"
   ]
  },
  {
   "cell_type": "markdown",
   "id": "18a2d590",
   "metadata": {},
   "source": [
    "## Project Goal"
   ]
  },
  {
   "cell_type": "markdown",
   "id": "1f1674f1",
   "metadata": {},
   "source": [
    "My goal with this project is to identify Telco's key drivers of customer churn and to provide insight into why and how these factors are producing churn. With this information and the following recommendations, our organization can work together to improve business processes and procedures in order to minimize customer churn moving forward."
   ]
  },
  {
   "cell_type": "markdown",
   "id": "3e862d7c",
   "metadata": {},
   "source": [
    "## Project Description"
   ]
  },
  {
   "cell_type": "markdown",
   "id": "0696bb1a",
   "metadata": {},
   "source": []
  },
  {
   "cell_type": "code",
   "execution_count": null,
   "id": "4aeb2c0b",
   "metadata": {},
   "outputs": [],
   "source": []
  },
  {
   "cell_type": "code",
   "execution_count": null,
   "id": "149c9a16",
   "metadata": {},
   "outputs": [],
   "source": []
  },
  {
   "cell_type": "code",
   "execution_count": null,
   "id": "22f96815",
   "metadata": {},
   "outputs": [],
   "source": []
  },
  {
   "cell_type": "markdown",
   "id": "6c70d1f6",
   "metadata": {},
   "source": [
    "## Initial Questions"
   ]
  },
  {
   "cell_type": "markdown",
   "id": "07d35974",
   "metadata": {},
   "source": [
    "##### 1. Do M2m customers churn more than 1-yr or 2-yr customers?\n",
    "    \n",
    "- Ho = M2M customers churn <= 1&2-yr customers\n",
    "- Ha = M2M customers churn > 1&2-yr customers"
   ]
  },
  {
   "cell_type": "markdown",
   "id": "eef19890",
   "metadata": {},
   "source": [
    "##### 2. Does paying by electronic check influence churn?\n",
    "\n",
    "- Ho = Electronic check churn <= other payment types\n",
    "- Ha = Electronic check churns > other payment types"
   ]
  },
  {
   "cell_type": "markdown",
   "id": "7b095dae",
   "metadata": {},
   "source": [
    "##### 3. Do single adults churn more than adults with partner?\n",
    "\n",
    "- Ho = Single adults churn <= adults with partner\n",
    "- Ha = Single adults churn > adults with partner"
   ]
  },
  {
   "cell_type": "markdown",
   "id": "d3b15600",
   "metadata": {},
   "source": [
    "##### 4. Do adults with dependents churn more than adults without dependents?\n",
    "\n",
    "- Ho = Adults with dependents churn <= adults without dependents\n",
    "- Ha = Adults with dependents churn > adults without dependents"
   ]
  },
  {
   "cell_type": "markdown",
   "id": "a978d0e3",
   "metadata": {},
   "source": [
    "## Data Dictionary"
   ]
  },
  {
   "cell_type": "code",
   "execution_count": 1,
   "id": "a64aaae9",
   "metadata": {},
   "outputs": [],
   "source": [
    "# Ignore warnings\n",
    "import warnings\n",
    "warnings.filterwarnings(\"ignore\")\n",
    "\n",
    "# Data handling\n",
    "import pandas as pd\n",
    "import numpy as np\n",
    "\n",
    "# Data visualization\n",
    "import matplotlib.pyplot as plt\n",
    "import seaborn as sns\n",
    "\n",
    "# Sklearn modules\n",
    "from sklearn.neighbors import KNeighborsClassifier\n",
    "from sklearn.metrics import accuracy_score\n",
    "from sklearn.model_selection import train_test_split\n",
    "from sklearn.tree import DecisionTreeClassifier, plot_tree, export_text\n",
    "from sklearn.model_selection import train_test_split\n",
    "from sklearn.metrics import classification_report, confusion_matrix, plot_confusion_matrix\n",
    "from sklearn.ensemble import RandomForestClassifier\n",
    "from sklearn.neighbors import KNeighborsClassifier\n",
    "from sklearn.linear_model import LogisticRegression\n",
    "import sklearn.linear_model\n",
    "\n",
    "# Data acquisition\n",
    "from pydataset import data\n",
    "\n",
    "# Data statistics & modeling\n",
    "from scipy import stats\n",
    "from model import map_setosa_knn, train_validate_test_split\n",
    "\n",
    "# Data\n",
    "import prepare\n",
    "import env\n",
    "import prepare\n",
    "import model\n",
    "import acquire_telco\n",
    "import split_telco"
   ]
  },
  {
   "cell_type": "markdown",
   "id": "1f53631b",
   "metadata": {},
   "source": [
    "| Variable      | Meaning |\n",
    "| ----------- | ----------- |\n",
    "| Churn      | Defines whether a customer left their service contract       |\n",
    "| Monthly Charges   | The average monthly charge per customer        |\n",
    "| m2m      | Customers who have month to month contracts       |\n",
    "| yr1      | Customers who have 1-yr contracts       |\n",
    "| yr2      | Customers who have 1-yr contracts       |\n",
    "| a_bank_transfer   | Customers who pay via bank transfer (automatic)       |\n",
    "| a_ccard      | Customers who pay via credit card (automatic)      |\n",
    "| e_check      | Customers who pay via electronic check       |\n",
    "| m_check      | Customers who pay via mailed check       |\n",
    "| p_w_d   | Defines customers who have both a partner and dependents        |\n",
    "| p_no_d      | Defines customers who have a partner but no dependents|\n",
    "| d_no_p      | Defines customers who have dependents but no partner  |\n",
    "| no_pod      | Defines customers who have neither a partner nor dependents       |"
   ]
  },
  {
   "cell_type": "markdown",
   "id": "f9ae4df9",
   "metadata": {},
   "source": [
    "## Wrangle Telco Data"
   ]
  },
  {
   "cell_type": "markdown",
   "id": "d47edcb9",
   "metadata": {},
   "source": [
    "To acquire the telco data, I used the telco_db in our mySQL server. I selected all columns from the customers table. I then joined this table with the contract_type, payment_type, and internet_service_type tables."
   ]
  },
  {
   "cell_type": "code",
   "execution_count": 2,
   "id": "cdc10221",
   "metadata": {},
   "outputs": [
    {
     "data": {
      "text/html": [
       "<div>\n",
       "<style scoped>\n",
       "    .dataframe tbody tr th:only-of-type {\n",
       "        vertical-align: middle;\n",
       "    }\n",
       "\n",
       "    .dataframe tbody tr th {\n",
       "        vertical-align: top;\n",
       "    }\n",
       "\n",
       "    .dataframe thead th {\n",
       "        text-align: right;\n",
       "    }\n",
       "</style>\n",
       "<table border=\"1\" class=\"dataframe\">\n",
       "  <thead>\n",
       "    <tr style=\"text-align: right;\">\n",
       "      <th></th>\n",
       "      <th>Unnamed: 0</th>\n",
       "      <th>customer_id</th>\n",
       "      <th>gender</th>\n",
       "      <th>senior_citizen</th>\n",
       "      <th>partner</th>\n",
       "      <th>dependents</th>\n",
       "      <th>tenure</th>\n",
       "      <th>phone_service</th>\n",
       "      <th>multiple_lines</th>\n",
       "      <th>internet_service_type_id</th>\n",
       "      <th>...</th>\n",
       "      <th>payment_type_id</th>\n",
       "      <th>monthly_charges</th>\n",
       "      <th>total_charges</th>\n",
       "      <th>churn</th>\n",
       "      <th>contract_type_id.1</th>\n",
       "      <th>contract_type</th>\n",
       "      <th>payment_type_id.1</th>\n",
       "      <th>payment_type</th>\n",
       "      <th>internet_service_type_id.1</th>\n",
       "      <th>internet_service_type</th>\n",
       "    </tr>\n",
       "  </thead>\n",
       "  <tbody>\n",
       "    <tr>\n",
       "      <th>0</th>\n",
       "      <td>0</td>\n",
       "      <td>0002-ORFBO</td>\n",
       "      <td>Female</td>\n",
       "      <td>0</td>\n",
       "      <td>Yes</td>\n",
       "      <td>Yes</td>\n",
       "      <td>9</td>\n",
       "      <td>Yes</td>\n",
       "      <td>No</td>\n",
       "      <td>1</td>\n",
       "      <td>...</td>\n",
       "      <td>2</td>\n",
       "      <td>65.6</td>\n",
       "      <td>593.3</td>\n",
       "      <td>No</td>\n",
       "      <td>2</td>\n",
       "      <td>One year</td>\n",
       "      <td>2</td>\n",
       "      <td>Mailed check</td>\n",
       "      <td>1</td>\n",
       "      <td>DSL</td>\n",
       "    </tr>\n",
       "    <tr>\n",
       "      <th>1</th>\n",
       "      <td>1</td>\n",
       "      <td>0003-MKNFE</td>\n",
       "      <td>Male</td>\n",
       "      <td>0</td>\n",
       "      <td>No</td>\n",
       "      <td>No</td>\n",
       "      <td>9</td>\n",
       "      <td>Yes</td>\n",
       "      <td>Yes</td>\n",
       "      <td>1</td>\n",
       "      <td>...</td>\n",
       "      <td>2</td>\n",
       "      <td>59.9</td>\n",
       "      <td>542.4</td>\n",
       "      <td>No</td>\n",
       "      <td>1</td>\n",
       "      <td>Month-to-month</td>\n",
       "      <td>2</td>\n",
       "      <td>Mailed check</td>\n",
       "      <td>1</td>\n",
       "      <td>DSL</td>\n",
       "    </tr>\n",
       "    <tr>\n",
       "      <th>2</th>\n",
       "      <td>2</td>\n",
       "      <td>0004-TLHLJ</td>\n",
       "      <td>Male</td>\n",
       "      <td>0</td>\n",
       "      <td>No</td>\n",
       "      <td>No</td>\n",
       "      <td>4</td>\n",
       "      <td>Yes</td>\n",
       "      <td>No</td>\n",
       "      <td>2</td>\n",
       "      <td>...</td>\n",
       "      <td>1</td>\n",
       "      <td>73.9</td>\n",
       "      <td>280.85</td>\n",
       "      <td>Yes</td>\n",
       "      <td>1</td>\n",
       "      <td>Month-to-month</td>\n",
       "      <td>1</td>\n",
       "      <td>Electronic check</td>\n",
       "      <td>2</td>\n",
       "      <td>Fiber optic</td>\n",
       "    </tr>\n",
       "    <tr>\n",
       "      <th>3</th>\n",
       "      <td>3</td>\n",
       "      <td>0011-IGKFF</td>\n",
       "      <td>Male</td>\n",
       "      <td>1</td>\n",
       "      <td>Yes</td>\n",
       "      <td>No</td>\n",
       "      <td>13</td>\n",
       "      <td>Yes</td>\n",
       "      <td>No</td>\n",
       "      <td>2</td>\n",
       "      <td>...</td>\n",
       "      <td>1</td>\n",
       "      <td>98.0</td>\n",
       "      <td>1237.85</td>\n",
       "      <td>Yes</td>\n",
       "      <td>1</td>\n",
       "      <td>Month-to-month</td>\n",
       "      <td>1</td>\n",
       "      <td>Electronic check</td>\n",
       "      <td>2</td>\n",
       "      <td>Fiber optic</td>\n",
       "    </tr>\n",
       "    <tr>\n",
       "      <th>4</th>\n",
       "      <td>4</td>\n",
       "      <td>0013-EXCHZ</td>\n",
       "      <td>Female</td>\n",
       "      <td>1</td>\n",
       "      <td>Yes</td>\n",
       "      <td>No</td>\n",
       "      <td>3</td>\n",
       "      <td>Yes</td>\n",
       "      <td>No</td>\n",
       "      <td>2</td>\n",
       "      <td>...</td>\n",
       "      <td>2</td>\n",
       "      <td>83.9</td>\n",
       "      <td>267.4</td>\n",
       "      <td>Yes</td>\n",
       "      <td>1</td>\n",
       "      <td>Month-to-month</td>\n",
       "      <td>2</td>\n",
       "      <td>Mailed check</td>\n",
       "      <td>2</td>\n",
       "      <td>Fiber optic</td>\n",
       "    </tr>\n",
       "  </tbody>\n",
       "</table>\n",
       "<p>5 rows × 28 columns</p>\n",
       "</div>"
      ],
      "text/plain": [
       "   Unnamed: 0 customer_id  gender  senior_citizen partner dependents  tenure  \\\n",
       "0           0  0002-ORFBO  Female               0     Yes        Yes       9   \n",
       "1           1  0003-MKNFE    Male               0      No         No       9   \n",
       "2           2  0004-TLHLJ    Male               0      No         No       4   \n",
       "3           3  0011-IGKFF    Male               1     Yes         No      13   \n",
       "4           4  0013-EXCHZ  Female               1     Yes         No       3   \n",
       "\n",
       "  phone_service multiple_lines  internet_service_type_id  ... payment_type_id  \\\n",
       "0           Yes             No                         1  ...               2   \n",
       "1           Yes            Yes                         1  ...               2   \n",
       "2           Yes             No                         2  ...               1   \n",
       "3           Yes             No                         2  ...               1   \n",
       "4           Yes             No                         2  ...               2   \n",
       "\n",
       "  monthly_charges total_charges churn contract_type_id.1   contract_type  \\\n",
       "0            65.6         593.3    No                  2        One year   \n",
       "1            59.9         542.4    No                  1  Month-to-month   \n",
       "2            73.9        280.85   Yes                  1  Month-to-month   \n",
       "3            98.0       1237.85   Yes                  1  Month-to-month   \n",
       "4            83.9         267.4   Yes                  1  Month-to-month   \n",
       "\n",
       "   payment_type_id.1      payment_type  internet_service_type_id.1  \\\n",
       "0                  2      Mailed check                           1   \n",
       "1                  2      Mailed check                           1   \n",
       "2                  1  Electronic check                           2   \n",
       "3                  1  Electronic check                           2   \n",
       "4                  2      Mailed check                           2   \n",
       "\n",
       "   internet_service_type  \n",
       "0                    DSL  \n",
       "1                    DSL  \n",
       "2            Fiber optic  \n",
       "3            Fiber optic  \n",
       "4            Fiber optic  \n",
       "\n",
       "[5 rows x 28 columns]"
      ]
     },
     "execution_count": 2,
     "metadata": {},
     "output_type": "execute_result"
    }
   ],
   "source": [
    "# py file to acquire data from sql database telco_db\n",
    "import acquire_telco\n",
    "\n",
    "# Utilizing our py file function 'get_telco_data' to return our table in the form of a dataframe\n",
    "df = acquire_telco.get_telco_data()\n",
    "df.head()"
   ]
  },
  {
   "cell_type": "markdown",
   "id": "f2fa01ed",
   "metadata": {},
   "source": [
    "To clean the data, I did the following:\n",
    "\n",
    "1. Drop Duplicate Columns: \"id\" columns such as 'payment_type_id' are duplicates and don't serve a purpose in our table, thus I removed them.\n",
    "2. Transforming numerical variables: 'total_charges' has whitespace removed and is converted into the appropriate datatype\n",
    "3. Encoding binary categorical variables: Variables like 'gender', 'partner', and 'dependents' (among others) need to be encoded numerically for exploration and analysis purposes\n",
    "4. Dummy vars: I attained dummy variables for 'multiple_lines',security choices, streaming choices, and other variables such as 'contract_type'.\n",
    "5. Concatenate dummy df with original df: I concat our df to include our dummy variables\n",
    "6. Feature engineering: In order to perform proper exploration and analysis, I create additional features that break down existing variables into more concise values that pinpoint potential causes of churn"
   ]
  },
  {
   "cell_type": "code",
   "execution_count": 3,
   "id": "501b33c0",
   "metadata": {},
   "outputs": [],
   "source": [
    "# I acquire my prepare.py file, this file includes data cleaning instructions\n",
    "import prepare"
   ]
  },
  {
   "cell_type": "code",
   "execution_count": 4,
   "id": "04bcb2fb",
   "metadata": {},
   "outputs": [
    {
     "data": {
      "text/html": [
       "<div>\n",
       "<style scoped>\n",
       "    .dataframe tbody tr th:only-of-type {\n",
       "        vertical-align: middle;\n",
       "    }\n",
       "\n",
       "    .dataframe tbody tr th {\n",
       "        vertical-align: top;\n",
       "    }\n",
       "\n",
       "    .dataframe thead th {\n",
       "        text-align: right;\n",
       "    }\n",
       "</style>\n",
       "<table border=\"1\" class=\"dataframe\">\n",
       "  <thead>\n",
       "    <tr style=\"text-align: right;\">\n",
       "      <th></th>\n",
       "      <th>gender</th>\n",
       "      <th>senior_citizen</th>\n",
       "      <th>partner</th>\n",
       "      <th>dependents</th>\n",
       "      <th>tenure</th>\n",
       "      <th>phone_service</th>\n",
       "      <th>multiple_lines</th>\n",
       "      <th>online_security</th>\n",
       "      <th>online_backup</th>\n",
       "      <th>device_protection</th>\n",
       "      <th>...</th>\n",
       "      <th>payment_type_Credit card (automatic)</th>\n",
       "      <th>payment_type_Electronic check</th>\n",
       "      <th>payment_type_Mailed check</th>\n",
       "      <th>partner_w_dependents</th>\n",
       "      <th>partner_no_dependents</th>\n",
       "      <th>dependents_no_partner</th>\n",
       "      <th>no_pod</th>\n",
       "      <th>male_w_dependents</th>\n",
       "      <th>female_w_dependents</th>\n",
       "      <th>number_relationships</th>\n",
       "    </tr>\n",
       "  </thead>\n",
       "  <tbody>\n",
       "    <tr>\n",
       "      <th>0</th>\n",
       "      <td>Female</td>\n",
       "      <td>0</td>\n",
       "      <td>Yes</td>\n",
       "      <td>Yes</td>\n",
       "      <td>9</td>\n",
       "      <td>Yes</td>\n",
       "      <td>No</td>\n",
       "      <td>No</td>\n",
       "      <td>Yes</td>\n",
       "      <td>No</td>\n",
       "      <td>...</td>\n",
       "      <td>0</td>\n",
       "      <td>0</td>\n",
       "      <td>1</td>\n",
       "      <td>1</td>\n",
       "      <td>0</td>\n",
       "      <td>0</td>\n",
       "      <td>0</td>\n",
       "      <td>0</td>\n",
       "      <td>0</td>\n",
       "      <td>2</td>\n",
       "    </tr>\n",
       "    <tr>\n",
       "      <th>1</th>\n",
       "      <td>Male</td>\n",
       "      <td>0</td>\n",
       "      <td>No</td>\n",
       "      <td>No</td>\n",
       "      <td>9</td>\n",
       "      <td>Yes</td>\n",
       "      <td>Yes</td>\n",
       "      <td>No</td>\n",
       "      <td>No</td>\n",
       "      <td>No</td>\n",
       "      <td>...</td>\n",
       "      <td>0</td>\n",
       "      <td>0</td>\n",
       "      <td>1</td>\n",
       "      <td>0</td>\n",
       "      <td>0</td>\n",
       "      <td>0</td>\n",
       "      <td>1</td>\n",
       "      <td>0</td>\n",
       "      <td>0</td>\n",
       "      <td>0</td>\n",
       "    </tr>\n",
       "    <tr>\n",
       "      <th>2</th>\n",
       "      <td>Male</td>\n",
       "      <td>0</td>\n",
       "      <td>No</td>\n",
       "      <td>No</td>\n",
       "      <td>4</td>\n",
       "      <td>Yes</td>\n",
       "      <td>No</td>\n",
       "      <td>No</td>\n",
       "      <td>No</td>\n",
       "      <td>Yes</td>\n",
       "      <td>...</td>\n",
       "      <td>0</td>\n",
       "      <td>1</td>\n",
       "      <td>0</td>\n",
       "      <td>0</td>\n",
       "      <td>0</td>\n",
       "      <td>0</td>\n",
       "      <td>1</td>\n",
       "      <td>0</td>\n",
       "      <td>0</td>\n",
       "      <td>0</td>\n",
       "    </tr>\n",
       "    <tr>\n",
       "      <th>3</th>\n",
       "      <td>Male</td>\n",
       "      <td>1</td>\n",
       "      <td>Yes</td>\n",
       "      <td>No</td>\n",
       "      <td>13</td>\n",
       "      <td>Yes</td>\n",
       "      <td>No</td>\n",
       "      <td>No</td>\n",
       "      <td>Yes</td>\n",
       "      <td>Yes</td>\n",
       "      <td>...</td>\n",
       "      <td>0</td>\n",
       "      <td>1</td>\n",
       "      <td>0</td>\n",
       "      <td>0</td>\n",
       "      <td>1</td>\n",
       "      <td>0</td>\n",
       "      <td>0</td>\n",
       "      <td>0</td>\n",
       "      <td>0</td>\n",
       "      <td>1</td>\n",
       "    </tr>\n",
       "    <tr>\n",
       "      <th>4</th>\n",
       "      <td>Female</td>\n",
       "      <td>1</td>\n",
       "      <td>Yes</td>\n",
       "      <td>No</td>\n",
       "      <td>3</td>\n",
       "      <td>Yes</td>\n",
       "      <td>No</td>\n",
       "      <td>No</td>\n",
       "      <td>No</td>\n",
       "      <td>No</td>\n",
       "      <td>...</td>\n",
       "      <td>0</td>\n",
       "      <td>0</td>\n",
       "      <td>1</td>\n",
       "      <td>0</td>\n",
       "      <td>1</td>\n",
       "      <td>0</td>\n",
       "      <td>0</td>\n",
       "      <td>0</td>\n",
       "      <td>0</td>\n",
       "      <td>1</td>\n",
       "    </tr>\n",
       "  </tbody>\n",
       "</table>\n",
       "<p>5 rows × 67 columns</p>\n",
       "</div>"
      ],
      "text/plain": [
       "   gender  senior_citizen partner dependents  tenure phone_service  \\\n",
       "0  Female               0     Yes        Yes       9           Yes   \n",
       "1    Male               0      No         No       9           Yes   \n",
       "2    Male               0      No         No       4           Yes   \n",
       "3    Male               1     Yes         No      13           Yes   \n",
       "4  Female               1     Yes         No       3           Yes   \n",
       "\n",
       "  multiple_lines online_security online_backup device_protection  ...  \\\n",
       "0             No              No           Yes                No  ...   \n",
       "1            Yes              No            No                No  ...   \n",
       "2             No              No            No               Yes  ...   \n",
       "3             No              No           Yes               Yes  ...   \n",
       "4             No              No            No                No  ...   \n",
       "\n",
       "  payment_type_Credit card (automatic) payment_type_Electronic check  \\\n",
       "0                                    0                             0   \n",
       "1                                    0                             0   \n",
       "2                                    0                             1   \n",
       "3                                    0                             1   \n",
       "4                                    0                             0   \n",
       "\n",
       "  payment_type_Mailed check partner_w_dependents  partner_no_dependents  \\\n",
       "0                         1                    1                      0   \n",
       "1                         1                    0                      0   \n",
       "2                         0                    0                      0   \n",
       "3                         0                    0                      1   \n",
       "4                         1                    0                      1   \n",
       "\n",
       "   dependents_no_partner no_pod  male_w_dependents female_w_dependents  \\\n",
       "0                      0      0                  0                   0   \n",
       "1                      0      1                  0                   0   \n",
       "2                      0      1                  0                   0   \n",
       "3                      0      0                  0                   0   \n",
       "4                      0      0                  0                   0   \n",
       "\n",
       "   number_relationships  \n",
       "0                     2  \n",
       "1                     0  \n",
       "2                     0  \n",
       "3                     1  \n",
       "4                     1  \n",
       "\n",
       "[5 rows x 67 columns]"
      ]
     },
     "execution_count": 4,
     "metadata": {},
     "output_type": "execute_result"
    }
   ],
   "source": [
    "# Utilizing our py file function 'prep_telco_data' to return our dataframe tidy and clean \n",
    "df = prepare.prep_telco_data(df)\n",
    "df.head()"
   ]
  },
  {
   "cell_type": "markdown",
   "id": "7b9f50fb",
   "metadata": {},
   "source": [
    "For simplicity, I have separated my 'prepare' and 'split' files. My 'split' file includes functions that split our dataset into train, validate, and test dataframes that allow appropriate statistical analysis."
   ]
  },
  {
   "cell_type": "code",
   "execution_count": 5,
   "id": "20d89df8",
   "metadata": {},
   "outputs": [],
   "source": [
    "# acquiring and implementing my 'split' py file and accompanying function\n",
    "import split_telco\n",
    "\n",
    "# calling the function and applying it to our df\n",
    "train, validate, test = split_telco.telco_split_explore(df)"
   ]
  },
  {
   "cell_type": "code",
   "execution_count": 6,
   "id": "b673ab82",
   "metadata": {},
   "outputs": [
    {
     "data": {
      "text/html": [
       "<div>\n",
       "<style scoped>\n",
       "    .dataframe tbody tr th:only-of-type {\n",
       "        vertical-align: middle;\n",
       "    }\n",
       "\n",
       "    .dataframe tbody tr th {\n",
       "        vertical-align: top;\n",
       "    }\n",
       "\n",
       "    .dataframe thead th {\n",
       "        text-align: right;\n",
       "    }\n",
       "</style>\n",
       "<table border=\"1\" class=\"dataframe\">\n",
       "  <thead>\n",
       "    <tr style=\"text-align: right;\">\n",
       "      <th></th>\n",
       "      <th>gender</th>\n",
       "      <th>senior_citizen</th>\n",
       "      <th>partner</th>\n",
       "      <th>dependents</th>\n",
       "      <th>tenure</th>\n",
       "      <th>phone_service</th>\n",
       "      <th>multiple_lines</th>\n",
       "      <th>online_security</th>\n",
       "      <th>online_backup</th>\n",
       "      <th>device_protection</th>\n",
       "      <th>...</th>\n",
       "      <th>payment_type_Credit card (automatic)</th>\n",
       "      <th>payment_type_Electronic check</th>\n",
       "      <th>payment_type_Mailed check</th>\n",
       "      <th>partner_w_dependents</th>\n",
       "      <th>partner_no_dependents</th>\n",
       "      <th>dependents_no_partner</th>\n",
       "      <th>no_pod</th>\n",
       "      <th>male_w_dependents</th>\n",
       "      <th>female_w_dependents</th>\n",
       "      <th>number_relationships</th>\n",
       "    </tr>\n",
       "  </thead>\n",
       "  <tbody>\n",
       "    <tr>\n",
       "      <th>5919</th>\n",
       "      <td>Female</td>\n",
       "      <td>0</td>\n",
       "      <td>No</td>\n",
       "      <td>No</td>\n",
       "      <td>58</td>\n",
       "      <td>Yes</td>\n",
       "      <td>Yes</td>\n",
       "      <td>Yes</td>\n",
       "      <td>Yes</td>\n",
       "      <td>Yes</td>\n",
       "      <td>...</td>\n",
       "      <td>1</td>\n",
       "      <td>0</td>\n",
       "      <td>0</td>\n",
       "      <td>0</td>\n",
       "      <td>0</td>\n",
       "      <td>0</td>\n",
       "      <td>1</td>\n",
       "      <td>0</td>\n",
       "      <td>0</td>\n",
       "      <td>0</td>\n",
       "    </tr>\n",
       "    <tr>\n",
       "      <th>1915</th>\n",
       "      <td>Male</td>\n",
       "      <td>0</td>\n",
       "      <td>No</td>\n",
       "      <td>Yes</td>\n",
       "      <td>71</td>\n",
       "      <td>Yes</td>\n",
       "      <td>Yes</td>\n",
       "      <td>Yes</td>\n",
       "      <td>Yes</td>\n",
       "      <td>No</td>\n",
       "      <td>...</td>\n",
       "      <td>1</td>\n",
       "      <td>0</td>\n",
       "      <td>0</td>\n",
       "      <td>0</td>\n",
       "      <td>0</td>\n",
       "      <td>1</td>\n",
       "      <td>0</td>\n",
       "      <td>1</td>\n",
       "      <td>0</td>\n",
       "      <td>1</td>\n",
       "    </tr>\n",
       "    <tr>\n",
       "      <th>5054</th>\n",
       "      <td>Female</td>\n",
       "      <td>0</td>\n",
       "      <td>Yes</td>\n",
       "      <td>Yes</td>\n",
       "      <td>35</td>\n",
       "      <td>Yes</td>\n",
       "      <td>Yes</td>\n",
       "      <td>No internet service</td>\n",
       "      <td>No internet service</td>\n",
       "      <td>No internet service</td>\n",
       "      <td>...</td>\n",
       "      <td>0</td>\n",
       "      <td>1</td>\n",
       "      <td>0</td>\n",
       "      <td>1</td>\n",
       "      <td>0</td>\n",
       "      <td>0</td>\n",
       "      <td>0</td>\n",
       "      <td>0</td>\n",
       "      <td>0</td>\n",
       "      <td>2</td>\n",
       "    </tr>\n",
       "    <tr>\n",
       "      <th>2355</th>\n",
       "      <td>Male</td>\n",
       "      <td>0</td>\n",
       "      <td>Yes</td>\n",
       "      <td>Yes</td>\n",
       "      <td>1</td>\n",
       "      <td>Yes</td>\n",
       "      <td>No</td>\n",
       "      <td>No internet service</td>\n",
       "      <td>No internet service</td>\n",
       "      <td>No internet service</td>\n",
       "      <td>...</td>\n",
       "      <td>0</td>\n",
       "      <td>0</td>\n",
       "      <td>1</td>\n",
       "      <td>1</td>\n",
       "      <td>0</td>\n",
       "      <td>0</td>\n",
       "      <td>0</td>\n",
       "      <td>0</td>\n",
       "      <td>0</td>\n",
       "      <td>2</td>\n",
       "    </tr>\n",
       "    <tr>\n",
       "      <th>6279</th>\n",
       "      <td>Male</td>\n",
       "      <td>1</td>\n",
       "      <td>No</td>\n",
       "      <td>No</td>\n",
       "      <td>20</td>\n",
       "      <td>Yes</td>\n",
       "      <td>No</td>\n",
       "      <td>Yes</td>\n",
       "      <td>No</td>\n",
       "      <td>No</td>\n",
       "      <td>...</td>\n",
       "      <td>0</td>\n",
       "      <td>0</td>\n",
       "      <td>1</td>\n",
       "      <td>0</td>\n",
       "      <td>0</td>\n",
       "      <td>0</td>\n",
       "      <td>1</td>\n",
       "      <td>0</td>\n",
       "      <td>0</td>\n",
       "      <td>0</td>\n",
       "    </tr>\n",
       "  </tbody>\n",
       "</table>\n",
       "<p>5 rows × 67 columns</p>\n",
       "</div>"
      ],
      "text/plain": [
       "      gender  senior_citizen partner dependents  tenure phone_service  \\\n",
       "5919  Female               0      No         No      58           Yes   \n",
       "1915    Male               0      No        Yes      71           Yes   \n",
       "5054  Female               0     Yes        Yes      35           Yes   \n",
       "2355    Male               0     Yes        Yes       1           Yes   \n",
       "6279    Male               1      No         No      20           Yes   \n",
       "\n",
       "     multiple_lines      online_security        online_backup  \\\n",
       "5919            Yes                  Yes                  Yes   \n",
       "1915            Yes                  Yes                  Yes   \n",
       "5054            Yes  No internet service  No internet service   \n",
       "2355             No  No internet service  No internet service   \n",
       "6279             No                  Yes                   No   \n",
       "\n",
       "        device_protection  ... payment_type_Credit card (automatic)  \\\n",
       "5919                  Yes  ...                                    1   \n",
       "1915                   No  ...                                    1   \n",
       "5054  No internet service  ...                                    0   \n",
       "2355  No internet service  ...                                    0   \n",
       "6279                   No  ...                                    0   \n",
       "\n",
       "     payment_type_Electronic check payment_type_Mailed check  \\\n",
       "5919                             0                         0   \n",
       "1915                             0                         0   \n",
       "5054                             1                         0   \n",
       "2355                             0                         1   \n",
       "6279                             0                         1   \n",
       "\n",
       "     partner_w_dependents  partner_no_dependents  dependents_no_partner  \\\n",
       "5919                    0                      0                      0   \n",
       "1915                    0                      0                      1   \n",
       "5054                    1                      0                      0   \n",
       "2355                    1                      0                      0   \n",
       "6279                    0                      0                      0   \n",
       "\n",
       "     no_pod  male_w_dependents female_w_dependents  number_relationships  \n",
       "5919      1                  0                   0                     0  \n",
       "1915      0                  1                   0                     1  \n",
       "5054      0                  0                   0                     2  \n",
       "2355      0                  0                   0                     2  \n",
       "6279      1                  0                   0                     0  \n",
       "\n",
       "[5 rows x 67 columns]"
      ]
     },
     "execution_count": 6,
     "metadata": {},
     "output_type": "execute_result"
    }
   ],
   "source": [
    "train.head()"
   ]
  },
  {
   "cell_type": "markdown",
   "id": "42e5377e",
   "metadata": {},
   "source": [
    "## Set the Data Context"
   ]
  },
  {
   "cell_type": "markdown",
   "id": "64a0cbc1",
   "metadata": {},
   "source": [
    "Our dataset contains customer information from Telco Company.\n",
    "\n",
    "26.6% of customers churned. We have data from 7032 customers, 3875 of which are month to month customers, 2365 of which payed by electronic check, and 3280 of which are single adults (no partner or dependents). The average monthly charge for all customers was $64.80."
   ]
  },
  {
   "cell_type": "code",
   "execution_count": null,
   "id": "4cd0a6e5",
   "metadata": {},
   "outputs": [],
   "source": [
    "### viz here setting the context of the data"
   ]
  },
  {
   "cell_type": "code",
   "execution_count": 8,
   "id": "1d0448dc",
   "metadata": {},
   "outputs": [
    {
     "data": {
      "image/png": "[encoded data removed]",
      "text/plain": [
       "<Figure size 1152x432 with 3 Axes>"
      ]
     },
     "metadata": {
      "needs_background": "light"
     },
     "output_type": "display_data"
    }
   ],
   "source": [
    "features = ['contract_type_Month-to-month', 'payment_type_Electronic check', 'no_pod']\n",
    "\n",
    "enumerate(features)\n",
    "\n",
    "list(enumerate(features))\n",
    "\n",
    "churn_rate = train.churn_encoded.mean()\n",
    "_, ax = plt.subplots(nrows=1, ncols=3, figsize=(16, 6), sharey=True)\n",
    "for i, feature in enumerate(features):\n",
    "    sns.barplot('churn', feature, data=train\n",
    "                , ax=ax[i], alpha=0.5)\n",
    "    ax[i].set_xlabel('Churn Rate')\n",
    "    ax[i].set_ylabel('')\n",
    "    ax[i].set_title(feature)\n",
    "    ax[i].axhline(churn_rate, ls='--', color='grey')"
   ]
  },
  {
   "cell_type": "markdown",
   "id": "073bbe1c",
   "metadata": {},
   "source": [
    "## Exploratory Analysis: [question]"
   ]
  },
  {
   "cell_type": "markdown",
   "id": "7cf7426e",
   "metadata": {},
   "source": [
    "I have answered these questions:\n",
    "\n",
    "1. Do M2m customers churn more than 1-yr or 2-yr customers?\n",
    "2. Does paying by electronic check influence churn?\n",
    "3. Do single adults churn more than adults with partner?\n",
    "4. Do adults with dependents churn more than adults without dependents?"
   ]
  },
  {
   "cell_type": "markdown",
   "id": "04cdbbea",
   "metadata": {},
   "source": [
    "### Question 1"
   ]
  },
  {
   "cell_type": "markdown",
   "id": "98fc60a0",
   "metadata": {},
   "source": [
    "[Elaborate]"
   ]
  },
  {
   "cell_type": "code",
   "execution_count": null,
   "id": "99b35be3",
   "metadata": {},
   "outputs": [],
   "source": []
  },
  {
   "cell_type": "code",
   "execution_count": null,
   "id": "ccc10f7d",
   "metadata": {},
   "outputs": [],
   "source": []
  },
  {
   "cell_type": "code",
   "execution_count": null,
   "id": "d295871a",
   "metadata": {},
   "outputs": [],
   "source": []
  },
  {
   "cell_type": "markdown",
   "id": "99181a5c",
   "metadata": {},
   "source": [
    "### Answer 1"
   ]
  },
  {
   "cell_type": "markdown",
   "id": "8769bc04",
   "metadata": {},
   "source": []
  },
  {
   "cell_type": "markdown",
   "id": "9428a384",
   "metadata": {},
   "source": [
    "### Question 2"
   ]
  },
  {
   "cell_type": "markdown",
   "id": "30df3282",
   "metadata": {},
   "source": [
    "[Elaborate]"
   ]
  },
  {
   "cell_type": "code",
   "execution_count": null,
   "id": "06d2af7e",
   "metadata": {},
   "outputs": [],
   "source": []
  },
  {
   "cell_type": "code",
   "execution_count": null,
   "id": "f4bcfe42",
   "metadata": {},
   "outputs": [],
   "source": []
  },
  {
   "cell_type": "markdown",
   "id": "6c339188",
   "metadata": {},
   "source": [
    "### Answer 2"
   ]
  },
  {
   "cell_type": "markdown",
   "id": "c71928cc",
   "metadata": {},
   "source": []
  },
  {
   "cell_type": "markdown",
   "id": "f5689dcb",
   "metadata": {},
   "source": [
    "### Question 3"
   ]
  },
  {
   "cell_type": "markdown",
   "id": "6a1ec245",
   "metadata": {},
   "source": [
    "[Elaborate]"
   ]
  },
  {
   "cell_type": "code",
   "execution_count": null,
   "id": "1888d1b5",
   "metadata": {},
   "outputs": [],
   "source": []
  },
  {
   "cell_type": "code",
   "execution_count": null,
   "id": "b4752f54",
   "metadata": {},
   "outputs": [],
   "source": []
  },
  {
   "cell_type": "code",
   "execution_count": null,
   "id": "fd7ee7b4",
   "metadata": {},
   "outputs": [],
   "source": []
  },
  {
   "cell_type": "markdown",
   "id": "c39a70e3",
   "metadata": {},
   "source": [
    "### Answer 3"
   ]
  },
  {
   "cell_type": "markdown",
   "id": "02ce61a2",
   "metadata": {},
   "source": []
  },
  {
   "cell_type": "markdown",
   "id": "95305165",
   "metadata": {},
   "source": [
    "### Summary: "
   ]
  },
  {
   "cell_type": "markdown",
   "id": "97eeaa29",
   "metadata": {},
   "source": [
    "[features i will move forward with]"
   ]
  },
  {
   "cell_type": "markdown",
   "id": "86687cc3",
   "metadata": {},
   "source": [
    "# Visuals"
   ]
  },
  {
   "cell_type": "code",
   "execution_count": 7,
   "id": "3edda211",
   "metadata": {},
   "outputs": [
    {
     "data": {
      "image/png": "[encoded data removed]",
      "text/plain": [
       "<Figure size 432x288 with 1 Axes>"
      ]
     },
     "metadata": {
      "needs_background": "light"
     },
     "output_type": "display_data"
    },
    {
     "data": {
      "image/png": "[encoded data removed]",
      "text/plain": [
       "<Figure size 432x288 with 1 Axes>"
      ]
     },
     "metadata": {
      "needs_background": "light"
     },
     "output_type": "display_data"
    },
    {
     "data": {
      "image/png": "[encoded data removed]",
      "text/plain": [
       "<Figure size 432x288 with 1 Axes>"
      ]
     },
     "metadata": {
      "needs_background": "light"
     },
     "output_type": "display_data"
    },
    {
     "data": {
      "image/png": "[encoded data removed]",
      "text/plain": [
       "<Figure size 432x288 with 1 Axes>"
      ]
     },
     "metadata": {
      "needs_background": "light"
     },
     "output_type": "display_data"
    }
   ],
   "source": [
    "## Q2: Electronic Check vs. other payment types\n",
    "variables = ['payment_type_Bank transfer (automatic)', 'payment_type_Credit card (automatic)', 'payment_type_Electronic check', 'payment_type_Mailed check']\n",
    "\n",
    "mean = [train['payment_type_Bank transfer (automatic)'].mean(), train['payment_type_Credit card (automatic)'].mean(), train['payment_type_Electronic check'].mean(), train['payment_type_Mailed check'].mean()]\n",
    "\n",
    "for x in range(0,4):\n",
    "    sns.barplot('churn',variables[x], data=train)\n",
    "    \n",
    "    plt.xlabel('')\n",
    "    plt.title(variables[x])\n",
    "    plt.axhline(mean[x], ls = '--', color = 'black')\n",
    "    plt.show()"
   ]
  },
  {
   "cell_type": "code",
   "execution_count": 9,
   "id": "6807c435",
   "metadata": {},
   "outputs": [
    {
     "data": {
      "image/png": "[encoded data removed]",
      "text/plain": [
       "<Figure size 432x288 with 1 Axes>"
      ]
     },
     "metadata": {
      "needs_background": "light"
     },
     "output_type": "display_data"
    },
    {
     "data": {
      "image/png": "[encoded data removed]",
      "text/plain": [
       "<Figure size 432x288 with 1 Axes>"
      ]
     },
     "metadata": {
      "needs_background": "light"
     },
     "output_type": "display_data"
    }
   ],
   "source": [
    "## Q3: Single adults vs. adults with partner\n",
    "variables = ['partner_no_dependents', 'no_pod']\n",
    "\n",
    "mean = [train['partner_no_dependents'].mean(), train['no_pod'].mean()]\n",
    "\n",
    "for x in range(0,2):\n",
    "    sns.barplot('churn',variables[x], data=train)\n",
    "    \n",
    "    plt.xlabel('')\n",
    "    plt.title(variables[x])\n",
    "    plt.axhline(mean[x], ls = '--', color = 'black')\n",
    "    plt.show()"
   ]
  },
  {
   "cell_type": "code",
   "execution_count": 10,
   "id": "91f4fe75",
   "metadata": {},
   "outputs": [
    {
     "data": {
      "image/png": "[encoded data removed]",
      "text/plain": [
       "<Figure size 432x288 with 1 Axes>"
      ]
     },
     "metadata": {
      "needs_background": "light"
     },
     "output_type": "display_data"
    },
    {
     "data": {
      "image/png": "[encoded data removed]",
      "text/plain": [
       "<Figure size 432x288 with 1 Axes>"
      ]
     },
     "metadata": {
      "needs_background": "light"
     },
     "output_type": "display_data"
    }
   ],
   "source": [
    "## Q4: Adults with dependents vs. Adults without dependents\n",
    "variables = ['dependents_no_partner', 'no_pod']\n",
    "\n",
    "mean = [train['dependents_no_partner'].mean(), train['no_pod'].mean()]\n",
    "\n",
    "for x in range(0,2):\n",
    "    sns.barplot('churn',variables[x], data=train)\n",
    "    \n",
    "    plt.xlabel('')\n",
    "    plt.title(variables[x])\n",
    "    plt.axhline(mean[x], ls = '--', color = 'black')\n",
    "    plt.show()"
   ]
  },
  {
   "cell_type": "code",
   "execution_count": 11,
   "id": "abecf907",
   "metadata": {},
   "outputs": [
    {
     "data": {
      "image/png": "[encoded data removed]",
      "text/plain": [
       "<Figure size 432x288 with 1 Axes>"
      ]
     },
     "metadata": {
      "needs_background": "light"
     },
     "output_type": "display_data"
    }
   ],
   "source": [
    "## Q4 (continued): comparing all against partner+dependents\n",
    "variables = ['partner_w_dependents']\n",
    "\n",
    "mean = [train['partner_w_dependents'].mean()]\n",
    "\n",
    "for x in range(0,1):\n",
    "    sns.barplot('churn',variables[x], data=train)\n",
    "    \n",
    "    plt.xlabel('')\n",
    "    plt.title(variables[x])\n",
    "    plt.axhline(mean[x], ls = '--', color = 'black')\n",
    "    plt.show()"
   ]
  },
  {
   "cell_type": "markdown",
   "id": "750f0549",
   "metadata": {},
   "source": [
    "## Predicting Churn"
   ]
  },
  {
   "cell_type": "markdown",
   "id": "3389ee94",
   "metadata": {},
   "source": [
    "WRITE IN OWN WORDS: Because survival is a boolean/yes or no value, we will use classification machine learning algorithms to fit to our training data and we will evaluate on validate. We will pick the best model using accuracy because the data is mostly balanced, and the risk of an event happening balances the risk of getting a prediction wrong.\n",
    "\n"
   ]
  },
  {
   "cell_type": "markdown",
   "id": "a638d860",
   "metadata": {},
   "source": [
    "#### Baseline"
   ]
  },
  {
   "cell_type": "markdown",
   "id": "c676cf8d",
   "metadata": {},
   "source": []
  },
  {
   "cell_type": "markdown",
   "id": "46c9fc97",
   "metadata": {},
   "source": []
  },
  {
   "cell_type": "markdown",
   "id": "24c48c60",
   "metadata": {},
   "source": [
    "### Fit 3 models"
   ]
  },
  {
   "cell_type": "markdown",
   "id": "69aa764b",
   "metadata": {},
   "source": [
    "... the top 3 models I built were:"
   ]
  },
  {
   "cell_type": "code",
   "execution_count": null,
   "id": "7928ce00",
   "metadata": {},
   "outputs": [],
   "source": []
  },
  {
   "cell_type": "code",
   "execution_count": null,
   "id": "062f9978",
   "metadata": {},
   "outputs": [],
   "source": []
  },
  {
   "cell_type": "code",
   "execution_count": null,
   "id": "f23aaaee",
   "metadata": {},
   "outputs": [],
   "source": []
  },
  {
   "cell_type": "markdown",
   "id": "04aded08",
   "metadata": {},
   "source": [
    "WRITE IN OWN WORDS: I expect this model to perform with x% accuracy in the future on data it has not seen, given no major changes in our data source."
   ]
  },
  {
   "cell_type": "markdown",
   "id": "f9484b36",
   "metadata": {},
   "source": []
  },
  {
   "cell_type": "markdown",
   "id": "3ddaa9c7",
   "metadata": {},
   "source": [
    "## Conclusion"
   ]
  },
  {
   "cell_type": "markdown",
   "id": "f9908165",
   "metadata": {},
   "source": [
    "### Summary"
   ]
  },
  {
   "cell_type": "markdown",
   "id": "b276aa7e",
   "metadata": {},
   "source": []
  },
  {
   "cell_type": "markdown",
   "id": "f6def8d5",
   "metadata": {},
   "source": [
    "### Recommendations"
   ]
  },
  {
   "cell_type": "markdown",
   "id": "8e4a1107",
   "metadata": {},
   "source": []
  },
  {
   "cell_type": "markdown",
   "id": "7829a611",
   "metadata": {},
   "source": [
    "### Next Steps"
   ]
  },
  {
   "cell_type": "markdown",
   "id": "ee58ccb9",
   "metadata": {},
   "source": []
  },
  {
   "cell_type": "code",
   "execution_count": null,
   "id": "6dad0343",
   "metadata": {},
   "outputs": [],
   "source": []
  },
  {
   "cell_type": "code",
   "execution_count": null,
   "id": "66dddb83",
   "metadata": {},
   "outputs": [],
   "source": []
  }
 ],
 "metadata": {
  "kernelspec": {
   "display_name": "Python 3 (ipykernel)",
   "language": "python",
   "name": "python3"
  },
  "language_info": {
   "codemirror_mode": {
    "name": "ipython",
    "version": 3
   },
   "file_extension": ".py",
   "mimetype": "text/x-python",
   "name": "python",
   "nbconvert_exporter": "python",
   "pygments_lexer": "ipython3",
   "version": "3.9.12"
  }
 },
 "nbformat": 4,
 "nbformat_minor": 5
}
