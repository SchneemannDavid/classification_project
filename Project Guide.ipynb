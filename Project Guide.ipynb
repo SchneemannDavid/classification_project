{
 "cells": [
  {
   "cell_type": "markdown",
   "id": "8404a15d",
   "metadata": {},
   "source": []
  },
  {
   "cell_type": "markdown",
   "id": "fe0c11dc",
   "metadata": {},
   "source": []
  },
  {
   "cell_type": "markdown",
   "id": "93606f0b",
   "metadata": {},
   "source": []
  },
  {
   "cell_type": "markdown",
   "id": "1cf35400",
   "metadata": {},
   "source": [
    "Document code, process (data acquistion, preparation, exploratory data analysis and statistical testing, modeling, and model evaluation), findings, and key takeaways in a Jupyter Notebook Final Report."
   ]
  }
 ],
 "metadata": {
  "kernelspec": {
   "display_name": "Python 3 (ipykernel)",
   "language": "python",
   "name": "python3"
  },
  "language_info": {
   "codemirror_mode": {
    "name": "ipython",
    "version": 3
   },
   "file_extension": ".py",
   "mimetype": "text/x-python",
   "name": "python",
   "nbconvert_exporter": "python",
   "pygments_lexer": "ipython3",
   "version": "3.9.12"
  }
 },
 "nbformat": 4,
 "nbformat_minor": 5
}
