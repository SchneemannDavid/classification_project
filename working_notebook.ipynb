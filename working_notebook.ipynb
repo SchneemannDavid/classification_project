{
 "cells": [
  {
   "cell_type": "markdown",
   "id": "6a63502e",
   "metadata": {},
   "source": [
    "# Classification Project: Working Notebook"
   ]
  },
  {
   "cell_type": "code",
   "execution_count": 1,
   "id": "64bfb1f5",
   "metadata": {},
   "outputs": [],
   "source": [
    "# Ignore warnings\n",
    "import warnings\n",
    "warnings.filterwarnings(\"ignore\")\n",
    "\n",
    "# Data handling\n",
    "import pandas as pd\n",
    "import numpy as np\n",
    "\n",
    "# Data visualization\n",
    "import matplotlib.pyplot as plt\n",
    "import seaborn as sns\n",
    "\n",
    "# Sklearn modules\n",
    "from sklearn.neighbors import KNeighborsClassifier\n",
    "from sklearn.metrics import accuracy_score\n",
    "from sklearn.model_selection import train_test_split\n",
    "from sklearn.tree import DecisionTreeClassifier, plot_tree, export_text\n",
    "from sklearn.model_selection import train_test_split\n",
    "from sklearn.metrics import classification_report, confusion_matrix, plot_confusion_matrix\n",
    "from sklearn.ensemble import RandomForestClassifier\n",
    "from sklearn.neighbors import KNeighborsClassifier\n",
    "from sklearn.linear_model import LogisticRegression\n",
    "import sklearn.linear_model\n",
    "\n",
    "# Data statistics & modeling\n",
    "from scipy import stats\n",
    "from model import map_setosa_knn, train_validate_test_split\n",
    "\n",
    "# Data\n",
    "import prepare\n",
    "import env\n",
    "import model\n",
    "import acquire_telco\n",
    "import split_telco"
   ]
  },
  {
   "cell_type": "code",
   "execution_count": 2,
   "id": "4b02b7d1",
   "metadata": {
    "scrolled": false
   },
   "outputs": [
    {
     "data": {
      "text/html": [
       "<div>\n",
       "<style scoped>\n",
       "    .dataframe tbody tr th:only-of-type {\n",
       "        vertical-align: middle;\n",
       "    }\n",
       "\n",
       "    .dataframe tbody tr th {\n",
       "        vertical-align: top;\n",
       "    }\n",
       "\n",
       "    .dataframe thead th {\n",
       "        text-align: right;\n",
       "    }\n",
       "</style>\n",
       "<table border=\"1\" class=\"dataframe\">\n",
       "  <thead>\n",
       "    <tr style=\"text-align: right;\">\n",
       "      <th></th>\n",
       "      <th>Unnamed: 0</th>\n",
       "      <th>customer_id</th>\n",
       "      <th>gender</th>\n",
       "      <th>senior_citizen</th>\n",
       "      <th>partner</th>\n",
       "      <th>dependents</th>\n",
       "      <th>tenure</th>\n",
       "      <th>phone_service</th>\n",
       "      <th>multiple_lines</th>\n",
       "      <th>internet_service_type_id</th>\n",
       "      <th>...</th>\n",
       "      <th>payment_type_id</th>\n",
       "      <th>monthly_charges</th>\n",
       "      <th>total_charges</th>\n",
       "      <th>churn</th>\n",
       "      <th>contract_type_id.1</th>\n",
       "      <th>contract_type</th>\n",
       "      <th>payment_type_id.1</th>\n",
       "      <th>payment_type</th>\n",
       "      <th>internet_service_type_id.1</th>\n",
       "      <th>internet_service_type</th>\n",
       "    </tr>\n",
       "  </thead>\n",
       "  <tbody>\n",
       "    <tr>\n",
       "      <th>0</th>\n",
       "      <td>0</td>\n",
       "      <td>0002-ORFBO</td>\n",
       "      <td>Female</td>\n",
       "      <td>0</td>\n",
       "      <td>Yes</td>\n",
       "      <td>Yes</td>\n",
       "      <td>9</td>\n",
       "      <td>Yes</td>\n",
       "      <td>No</td>\n",
       "      <td>1</td>\n",
       "      <td>...</td>\n",
       "      <td>2</td>\n",
       "      <td>65.6</td>\n",
       "      <td>593.3</td>\n",
       "      <td>No</td>\n",
       "      <td>2</td>\n",
       "      <td>One year</td>\n",
       "      <td>2</td>\n",
       "      <td>Mailed check</td>\n",
       "      <td>1</td>\n",
       "      <td>DSL</td>\n",
       "    </tr>\n",
       "    <tr>\n",
       "      <th>1</th>\n",
       "      <td>1</td>\n",
       "      <td>0003-MKNFE</td>\n",
       "      <td>Male</td>\n",
       "      <td>0</td>\n",
       "      <td>No</td>\n",
       "      <td>No</td>\n",
       "      <td>9</td>\n",
       "      <td>Yes</td>\n",
       "      <td>Yes</td>\n",
       "      <td>1</td>\n",
       "      <td>...</td>\n",
       "      <td>2</td>\n",
       "      <td>59.9</td>\n",
       "      <td>542.4</td>\n",
       "      <td>No</td>\n",
       "      <td>1</td>\n",
       "      <td>Month-to-month</td>\n",
       "      <td>2</td>\n",
       "      <td>Mailed check</td>\n",
       "      <td>1</td>\n",
       "      <td>DSL</td>\n",
       "    </tr>\n",
       "    <tr>\n",
       "      <th>2</th>\n",
       "      <td>2</td>\n",
       "      <td>0004-TLHLJ</td>\n",
       "      <td>Male</td>\n",
       "      <td>0</td>\n",
       "      <td>No</td>\n",
       "      <td>No</td>\n",
       "      <td>4</td>\n",
       "      <td>Yes</td>\n",
       "      <td>No</td>\n",
       "      <td>2</td>\n",
       "      <td>...</td>\n",
       "      <td>1</td>\n",
       "      <td>73.9</td>\n",
       "      <td>280.85</td>\n",
       "      <td>Yes</td>\n",
       "      <td>1</td>\n",
       "      <td>Month-to-month</td>\n",
       "      <td>1</td>\n",
       "      <td>Electronic check</td>\n",
       "      <td>2</td>\n",
       "      <td>Fiber optic</td>\n",
       "    </tr>\n",
       "    <tr>\n",
       "      <th>3</th>\n",
       "      <td>3</td>\n",
       "      <td>0011-IGKFF</td>\n",
       "      <td>Male</td>\n",
       "      <td>1</td>\n",
       "      <td>Yes</td>\n",
       "      <td>No</td>\n",
       "      <td>13</td>\n",
       "      <td>Yes</td>\n",
       "      <td>No</td>\n",
       "      <td>2</td>\n",
       "      <td>...</td>\n",
       "      <td>1</td>\n",
       "      <td>98.0</td>\n",
       "      <td>1237.85</td>\n",
       "      <td>Yes</td>\n",
       "      <td>1</td>\n",
       "      <td>Month-to-month</td>\n",
       "      <td>1</td>\n",
       "      <td>Electronic check</td>\n",
       "      <td>2</td>\n",
       "      <td>Fiber optic</td>\n",
       "    </tr>\n",
       "    <tr>\n",
       "      <th>4</th>\n",
       "      <td>4</td>\n",
       "      <td>0013-EXCHZ</td>\n",
       "      <td>Female</td>\n",
       "      <td>1</td>\n",
       "      <td>Yes</td>\n",
       "      <td>No</td>\n",
       "      <td>3</td>\n",
       "      <td>Yes</td>\n",
       "      <td>No</td>\n",
       "      <td>2</td>\n",
       "      <td>...</td>\n",
       "      <td>2</td>\n",
       "      <td>83.9</td>\n",
       "      <td>267.4</td>\n",
       "      <td>Yes</td>\n",
       "      <td>1</td>\n",
       "      <td>Month-to-month</td>\n",
       "      <td>2</td>\n",
       "      <td>Mailed check</td>\n",
       "      <td>2</td>\n",
       "      <td>Fiber optic</td>\n",
       "    </tr>\n",
       "  </tbody>\n",
       "</table>\n",
       "<p>5 rows × 28 columns</p>\n",
       "</div>"
      ],
      "text/plain": [
       "   Unnamed: 0 customer_id  gender  senior_citizen partner dependents  tenure  \\\n",
       "0           0  0002-ORFBO  Female               0     Yes        Yes       9   \n",
       "1           1  0003-MKNFE    Male               0      No         No       9   \n",
       "2           2  0004-TLHLJ    Male               0      No         No       4   \n",
       "3           3  0011-IGKFF    Male               1     Yes         No      13   \n",
       "4           4  0013-EXCHZ  Female               1     Yes         No       3   \n",
       "\n",
       "  phone_service multiple_lines  internet_service_type_id  ... payment_type_id  \\\n",
       "0           Yes             No                         1  ...               2   \n",
       "1           Yes            Yes                         1  ...               2   \n",
       "2           Yes             No                         2  ...               1   \n",
       "3           Yes             No                         2  ...               1   \n",
       "4           Yes             No                         2  ...               2   \n",
       "\n",
       "  monthly_charges total_charges churn contract_type_id.1   contract_type  \\\n",
       "0            65.6         593.3    No                  2        One year   \n",
       "1            59.9         542.4    No                  1  Month-to-month   \n",
       "2            73.9        280.85   Yes                  1  Month-to-month   \n",
       "3            98.0       1237.85   Yes                  1  Month-to-month   \n",
       "4            83.9         267.4   Yes                  1  Month-to-month   \n",
       "\n",
       "   payment_type_id.1      payment_type  internet_service_type_id.1  \\\n",
       "0                  2      Mailed check                           1   \n",
       "1                  2      Mailed check                           1   \n",
       "2                  1  Electronic check                           2   \n",
       "3                  1  Electronic check                           2   \n",
       "4                  2      Mailed check                           2   \n",
       "\n",
       "   internet_service_type  \n",
       "0                    DSL  \n",
       "1                    DSL  \n",
       "2            Fiber optic  \n",
       "3            Fiber optic  \n",
       "4            Fiber optic  \n",
       "\n",
       "[5 rows x 28 columns]"
      ]
     },
     "execution_count": 2,
     "metadata": {},
     "output_type": "execute_result"
    }
   ],
   "source": [
    "# Utilizing our py file function 'get_telco_data' to return our table in the form of a dataframe\n",
    "df = acquire_telco.get_telco_data()\n",
    "df.head()"
   ]
  },
  {
   "cell_type": "code",
   "execution_count": 3,
   "id": "7ca684bc",
   "metadata": {
    "scrolled": false
   },
   "outputs": [
    {
     "data": {
      "text/html": [
       "<div>\n",
       "<style scoped>\n",
       "    .dataframe tbody tr th:only-of-type {\n",
       "        vertical-align: middle;\n",
       "    }\n",
       "\n",
       "    .dataframe tbody tr th {\n",
       "        vertical-align: top;\n",
       "    }\n",
       "\n",
       "    .dataframe thead th {\n",
       "        text-align: right;\n",
       "    }\n",
       "</style>\n",
       "<table border=\"1\" class=\"dataframe\">\n",
       "  <thead>\n",
       "    <tr style=\"text-align: right;\">\n",
       "      <th></th>\n",
       "      <th>gender</th>\n",
       "      <th>senior_citizen</th>\n",
       "      <th>partner</th>\n",
       "      <th>dependents</th>\n",
       "      <th>tenure</th>\n",
       "      <th>phone_service</th>\n",
       "      <th>multiple_lines</th>\n",
       "      <th>online_security</th>\n",
       "      <th>online_backup</th>\n",
       "      <th>device_protection</th>\n",
       "      <th>...</th>\n",
       "      <th>fiber</th>\n",
       "      <th>no_int</th>\n",
       "      <th>a_bank_tr</th>\n",
       "      <th>a_ccard</th>\n",
       "      <th>e_check</th>\n",
       "      <th>m_check</th>\n",
       "      <th>p_w_d</th>\n",
       "      <th>p_no_d</th>\n",
       "      <th>d_no_p</th>\n",
       "      <th>no_pod</th>\n",
       "    </tr>\n",
       "  </thead>\n",
       "  <tbody>\n",
       "    <tr>\n",
       "      <th>0</th>\n",
       "      <td>Female</td>\n",
       "      <td>0</td>\n",
       "      <td>Yes</td>\n",
       "      <td>Yes</td>\n",
       "      <td>9</td>\n",
       "      <td>Yes</td>\n",
       "      <td>No</td>\n",
       "      <td>No</td>\n",
       "      <td>Yes</td>\n",
       "      <td>No</td>\n",
       "      <td>...</td>\n",
       "      <td>0</td>\n",
       "      <td>0</td>\n",
       "      <td>0</td>\n",
       "      <td>0</td>\n",
       "      <td>0</td>\n",
       "      <td>1</td>\n",
       "      <td>1</td>\n",
       "      <td>0</td>\n",
       "      <td>0</td>\n",
       "      <td>0</td>\n",
       "    </tr>\n",
       "    <tr>\n",
       "      <th>1</th>\n",
       "      <td>Male</td>\n",
       "      <td>0</td>\n",
       "      <td>No</td>\n",
       "      <td>No</td>\n",
       "      <td>9</td>\n",
       "      <td>Yes</td>\n",
       "      <td>Yes</td>\n",
       "      <td>No</td>\n",
       "      <td>No</td>\n",
       "      <td>No</td>\n",
       "      <td>...</td>\n",
       "      <td>0</td>\n",
       "      <td>0</td>\n",
       "      <td>0</td>\n",
       "      <td>0</td>\n",
       "      <td>0</td>\n",
       "      <td>1</td>\n",
       "      <td>0</td>\n",
       "      <td>0</td>\n",
       "      <td>0</td>\n",
       "      <td>1</td>\n",
       "    </tr>\n",
       "    <tr>\n",
       "      <th>2</th>\n",
       "      <td>Male</td>\n",
       "      <td>0</td>\n",
       "      <td>No</td>\n",
       "      <td>No</td>\n",
       "      <td>4</td>\n",
       "      <td>Yes</td>\n",
       "      <td>No</td>\n",
       "      <td>No</td>\n",
       "      <td>No</td>\n",
       "      <td>Yes</td>\n",
       "      <td>...</td>\n",
       "      <td>1</td>\n",
       "      <td>0</td>\n",
       "      <td>0</td>\n",
       "      <td>0</td>\n",
       "      <td>1</td>\n",
       "      <td>0</td>\n",
       "      <td>0</td>\n",
       "      <td>0</td>\n",
       "      <td>0</td>\n",
       "      <td>1</td>\n",
       "    </tr>\n",
       "    <tr>\n",
       "      <th>3</th>\n",
       "      <td>Male</td>\n",
       "      <td>1</td>\n",
       "      <td>Yes</td>\n",
       "      <td>No</td>\n",
       "      <td>13</td>\n",
       "      <td>Yes</td>\n",
       "      <td>No</td>\n",
       "      <td>No</td>\n",
       "      <td>Yes</td>\n",
       "      <td>Yes</td>\n",
       "      <td>...</td>\n",
       "      <td>1</td>\n",
       "      <td>0</td>\n",
       "      <td>0</td>\n",
       "      <td>0</td>\n",
       "      <td>1</td>\n",
       "      <td>0</td>\n",
       "      <td>0</td>\n",
       "      <td>1</td>\n",
       "      <td>0</td>\n",
       "      <td>0</td>\n",
       "    </tr>\n",
       "    <tr>\n",
       "      <th>4</th>\n",
       "      <td>Female</td>\n",
       "      <td>1</td>\n",
       "      <td>Yes</td>\n",
       "      <td>No</td>\n",
       "      <td>3</td>\n",
       "      <td>Yes</td>\n",
       "      <td>No</td>\n",
       "      <td>No</td>\n",
       "      <td>No</td>\n",
       "      <td>No</td>\n",
       "      <td>...</td>\n",
       "      <td>1</td>\n",
       "      <td>0</td>\n",
       "      <td>0</td>\n",
       "      <td>0</td>\n",
       "      <td>0</td>\n",
       "      <td>1</td>\n",
       "      <td>0</td>\n",
       "      <td>1</td>\n",
       "      <td>0</td>\n",
       "      <td>0</td>\n",
       "    </tr>\n",
       "  </tbody>\n",
       "</table>\n",
       "<p>5 rows × 64 columns</p>\n",
       "</div>"
      ],
      "text/plain": [
       "   gender  senior_citizen partner dependents  tenure phone_service  \\\n",
       "0  Female               0     Yes        Yes       9           Yes   \n",
       "1    Male               0      No         No       9           Yes   \n",
       "2    Male               0      No         No       4           Yes   \n",
       "3    Male               1     Yes         No      13           Yes   \n",
       "4  Female               1     Yes         No       3           Yes   \n",
       "\n",
       "  multiple_lines online_security online_backup device_protection  ... fiber  \\\n",
       "0             No              No           Yes                No  ...     0   \n",
       "1            Yes              No            No                No  ...     0   \n",
       "2             No              No            No               Yes  ...     1   \n",
       "3             No              No           Yes               Yes  ...     1   \n",
       "4             No              No            No                No  ...     1   \n",
       "\n",
       "  no_int a_bank_tr a_ccard  e_check  m_check p_w_d  p_no_d d_no_p  no_pod  \n",
       "0      0         0       0        0        1     1       0      0       0  \n",
       "1      0         0       0        0        1     0       0      0       1  \n",
       "2      0         0       0        1        0     0       0      0       1  \n",
       "3      0         0       0        1        0     0       1      0       0  \n",
       "4      0         0       0        0        1     0       1      0       0  \n",
       "\n",
       "[5 rows x 64 columns]"
      ]
     },
     "execution_count": 3,
     "metadata": {},
     "output_type": "execute_result"
    }
   ],
   "source": [
    "# Utilizing our py file function 'prep_telco_data' to return our dataframe tidy and clean \n",
    "df = prepare.prep_telco_data(df)\n",
    "df.head()"
   ]
  },
  {
   "cell_type": "code",
   "execution_count": 4,
   "id": "bcd1e47a",
   "metadata": {
    "scrolled": true
   },
   "outputs": [
    {
     "name": "stdout",
     "output_type": "stream",
     "text": [
      "<class 'pandas.core.frame.DataFrame'>\n",
      "Int64Index: 7032 entries, 0 to 7042\n",
      "Data columns (total 64 columns):\n",
      " #   Column                                 Non-Null Count  Dtype  \n",
      "---  ------                                 --------------  -----  \n",
      " 0   gender                                 7032 non-null   object \n",
      " 1   senior_citizen                         7032 non-null   int64  \n",
      " 2   partner                                7032 non-null   object \n",
      " 3   dependents                             7032 non-null   object \n",
      " 4   tenure                                 7032 non-null   int64  \n",
      " 5   phone_service                          7032 non-null   object \n",
      " 6   multiple_lines                         7032 non-null   object \n",
      " 7   online_security                        7032 non-null   object \n",
      " 8   online_backup                          7032 non-null   object \n",
      " 9   device_protection                      7032 non-null   object \n",
      " 10  tech_support                           7032 non-null   object \n",
      " 11  streaming_tv                           7032 non-null   object \n",
      " 12  streaming_movies                       7032 non-null   object \n",
      " 13  paperless_billing                      7032 non-null   object \n",
      " 14  monthly_charges                        7032 non-null   float64\n",
      " 15  total_charges                          7032 non-null   float64\n",
      " 16  churn                                  7032 non-null   object \n",
      " 17  contract_type_id.1                     7032 non-null   int64  \n",
      " 18  contract_type                          7032 non-null   object \n",
      " 19  payment_type_id.1                      7032 non-null   int64  \n",
      " 20  payment_type                           7032 non-null   object \n",
      " 21  internet_service_type_id.1             7032 non-null   int64  \n",
      " 22  internet_service_type                  7032 non-null   object \n",
      " 23  gender_encoded                         7032 non-null   int64  \n",
      " 24  partner_encoded                        7032 non-null   int64  \n",
      " 25  dependents_encoded                     7032 non-null   int64  \n",
      " 26  phone_service_encoded                  7032 non-null   int64  \n",
      " 27  paperless_billing_encoded              7032 non-null   int64  \n",
      " 28  churn_encoded                          7032 non-null   int64  \n",
      " 29  multiple_lines_No                      7032 non-null   uint8  \n",
      " 30  multiple_lines_No phone service        7032 non-null   uint8  \n",
      " 31  multiple_lines_Yes                     7032 non-null   uint8  \n",
      " 32  online_security_No                     7032 non-null   uint8  \n",
      " 33  online_security_No internet service    7032 non-null   uint8  \n",
      " 34  online_security_Yes                    7032 non-null   uint8  \n",
      " 35  online_backup_No                       7032 non-null   uint8  \n",
      " 36  online_backup_No internet service      7032 non-null   uint8  \n",
      " 37  online_backup_Yes                      7032 non-null   uint8  \n",
      " 38  device_protection_No                   7032 non-null   uint8  \n",
      " 39  device_protection_No internet service  7032 non-null   uint8  \n",
      " 40  device_protection_Yes                  7032 non-null   uint8  \n",
      " 41  tech_support_No                        7032 non-null   uint8  \n",
      " 42  tech_support_No internet service       7032 non-null   uint8  \n",
      " 43  tech_support_Yes                       7032 non-null   uint8  \n",
      " 44  streaming_tv_No                        7032 non-null   uint8  \n",
      " 45  streaming_tv_No internet service       7032 non-null   uint8  \n",
      " 46  streaming_tv_Yes                       7032 non-null   uint8  \n",
      " 47  streaming_movies_No                    7032 non-null   uint8  \n",
      " 48  streaming_movies_No internet service   7032 non-null   uint8  \n",
      " 49  streaming_movies_Yes                   7032 non-null   uint8  \n",
      " 50  m2m                                    7032 non-null   uint8  \n",
      " 51  yr1                                    7032 non-null   uint8  \n",
      " 52  yr2                                    7032 non-null   uint8  \n",
      " 53  DSL                                    7032 non-null   uint8  \n",
      " 54  fiber                                  7032 non-null   uint8  \n",
      " 55  no_int                                 7032 non-null   uint8  \n",
      " 56  a_bank_tr                              7032 non-null   uint8  \n",
      " 57  a_ccard                                7032 non-null   uint8  \n",
      " 58  e_check                                7032 non-null   uint8  \n",
      " 59  m_check                                7032 non-null   uint8  \n",
      " 60  p_w_d                                  7032 non-null   int64  \n",
      " 61  p_no_d                                 7032 non-null   int64  \n",
      " 62  d_no_p                                 7032 non-null   int64  \n",
      " 63  no_pod                                 7032 non-null   int64  \n",
      "dtypes: float64(2), int64(15), object(16), uint8(31)\n",
      "memory usage: 2.0+ MB\n"
     ]
    }
   ],
   "source": [
    "df.info()"
   ]
  },
  {
   "cell_type": "code",
   "execution_count": 5,
   "id": "d667b879",
   "metadata": {},
   "outputs": [],
   "source": [
    "# calling the function and applying it to our df\n",
    "train, validate, test = split_telco.telco_split_explore(df)"
   ]
  },
  {
   "cell_type": "code",
   "execution_count": 6,
   "id": "c6e525d7",
   "metadata": {
    "scrolled": false
   },
   "outputs": [
    {
     "data": {
      "text/plain": [
       "((3937, 64), (1688, 64), (1407, 64))"
      ]
     },
     "execution_count": 6,
     "metadata": {},
     "output_type": "execute_result"
    }
   ],
   "source": [
    "train.shape, validate.shape, test.shape"
   ]
  },
  {
   "cell_type": "code",
   "execution_count": 7,
   "id": "db78771e",
   "metadata": {},
   "outputs": [
    {
     "data": {
      "text/html": [
       "<div>\n",
       "<style scoped>\n",
       "    .dataframe tbody tr th:only-of-type {\n",
       "        vertical-align: middle;\n",
       "    }\n",
       "\n",
       "    .dataframe tbody tr th {\n",
       "        vertical-align: top;\n",
       "    }\n",
       "\n",
       "    .dataframe thead th {\n",
       "        text-align: right;\n",
       "    }\n",
       "</style>\n",
       "<table border=\"1\" class=\"dataframe\">\n",
       "  <thead>\n",
       "    <tr style=\"text-align: right;\">\n",
       "      <th></th>\n",
       "      <th>gender</th>\n",
       "      <th>senior_citizen</th>\n",
       "      <th>partner</th>\n",
       "      <th>dependents</th>\n",
       "      <th>tenure</th>\n",
       "      <th>phone_service</th>\n",
       "      <th>multiple_lines</th>\n",
       "      <th>online_security</th>\n",
       "      <th>online_backup</th>\n",
       "      <th>device_protection</th>\n",
       "      <th>...</th>\n",
       "      <th>fiber</th>\n",
       "      <th>no_int</th>\n",
       "      <th>a_bank_tr</th>\n",
       "      <th>a_ccard</th>\n",
       "      <th>e_check</th>\n",
       "      <th>m_check</th>\n",
       "      <th>p_w_d</th>\n",
       "      <th>p_no_d</th>\n",
       "      <th>d_no_p</th>\n",
       "      <th>no_pod</th>\n",
       "    </tr>\n",
       "  </thead>\n",
       "  <tbody>\n",
       "    <tr>\n",
       "      <th>5919</th>\n",
       "      <td>Female</td>\n",
       "      <td>0</td>\n",
       "      <td>No</td>\n",
       "      <td>No</td>\n",
       "      <td>58</td>\n",
       "      <td>Yes</td>\n",
       "      <td>Yes</td>\n",
       "      <td>Yes</td>\n",
       "      <td>Yes</td>\n",
       "      <td>Yes</td>\n",
       "      <td>...</td>\n",
       "      <td>0</td>\n",
       "      <td>0</td>\n",
       "      <td>0</td>\n",
       "      <td>1</td>\n",
       "      <td>0</td>\n",
       "      <td>0</td>\n",
       "      <td>0</td>\n",
       "      <td>0</td>\n",
       "      <td>0</td>\n",
       "      <td>1</td>\n",
       "    </tr>\n",
       "    <tr>\n",
       "      <th>1915</th>\n",
       "      <td>Male</td>\n",
       "      <td>0</td>\n",
       "      <td>No</td>\n",
       "      <td>Yes</td>\n",
       "      <td>71</td>\n",
       "      <td>Yes</td>\n",
       "      <td>Yes</td>\n",
       "      <td>Yes</td>\n",
       "      <td>Yes</td>\n",
       "      <td>No</td>\n",
       "      <td>...</td>\n",
       "      <td>1</td>\n",
       "      <td>0</td>\n",
       "      <td>0</td>\n",
       "      <td>1</td>\n",
       "      <td>0</td>\n",
       "      <td>0</td>\n",
       "      <td>0</td>\n",
       "      <td>0</td>\n",
       "      <td>1</td>\n",
       "      <td>0</td>\n",
       "    </tr>\n",
       "    <tr>\n",
       "      <th>5054</th>\n",
       "      <td>Female</td>\n",
       "      <td>0</td>\n",
       "      <td>Yes</td>\n",
       "      <td>Yes</td>\n",
       "      <td>35</td>\n",
       "      <td>Yes</td>\n",
       "      <td>Yes</td>\n",
       "      <td>No internet service</td>\n",
       "      <td>No internet service</td>\n",
       "      <td>No internet service</td>\n",
       "      <td>...</td>\n",
       "      <td>0</td>\n",
       "      <td>1</td>\n",
       "      <td>0</td>\n",
       "      <td>0</td>\n",
       "      <td>1</td>\n",
       "      <td>0</td>\n",
       "      <td>1</td>\n",
       "      <td>0</td>\n",
       "      <td>0</td>\n",
       "      <td>0</td>\n",
       "    </tr>\n",
       "    <tr>\n",
       "      <th>2355</th>\n",
       "      <td>Male</td>\n",
       "      <td>0</td>\n",
       "      <td>Yes</td>\n",
       "      <td>Yes</td>\n",
       "      <td>1</td>\n",
       "      <td>Yes</td>\n",
       "      <td>No</td>\n",
       "      <td>No internet service</td>\n",
       "      <td>No internet service</td>\n",
       "      <td>No internet service</td>\n",
       "      <td>...</td>\n",
       "      <td>0</td>\n",
       "      <td>1</td>\n",
       "      <td>0</td>\n",
       "      <td>0</td>\n",
       "      <td>0</td>\n",
       "      <td>1</td>\n",
       "      <td>1</td>\n",
       "      <td>0</td>\n",
       "      <td>0</td>\n",
       "      <td>0</td>\n",
       "    </tr>\n",
       "    <tr>\n",
       "      <th>6279</th>\n",
       "      <td>Male</td>\n",
       "      <td>1</td>\n",
       "      <td>No</td>\n",
       "      <td>No</td>\n",
       "      <td>20</td>\n",
       "      <td>Yes</td>\n",
       "      <td>No</td>\n",
       "      <td>Yes</td>\n",
       "      <td>No</td>\n",
       "      <td>No</td>\n",
       "      <td>...</td>\n",
       "      <td>0</td>\n",
       "      <td>0</td>\n",
       "      <td>0</td>\n",
       "      <td>0</td>\n",
       "      <td>0</td>\n",
       "      <td>1</td>\n",
       "      <td>0</td>\n",
       "      <td>0</td>\n",
       "      <td>0</td>\n",
       "      <td>1</td>\n",
       "    </tr>\n",
       "  </tbody>\n",
       "</table>\n",
       "<p>5 rows × 64 columns</p>\n",
       "</div>"
      ],
      "text/plain": [
       "      gender  senior_citizen partner dependents  tenure phone_service  \\\n",
       "5919  Female               0      No         No      58           Yes   \n",
       "1915    Male               0      No        Yes      71           Yes   \n",
       "5054  Female               0     Yes        Yes      35           Yes   \n",
       "2355    Male               0     Yes        Yes       1           Yes   \n",
       "6279    Male               1      No         No      20           Yes   \n",
       "\n",
       "     multiple_lines      online_security        online_backup  \\\n",
       "5919            Yes                  Yes                  Yes   \n",
       "1915            Yes                  Yes                  Yes   \n",
       "5054            Yes  No internet service  No internet service   \n",
       "2355             No  No internet service  No internet service   \n",
       "6279             No                  Yes                   No   \n",
       "\n",
       "        device_protection  ... fiber no_int a_bank_tr a_ccard  e_check  \\\n",
       "5919                  Yes  ...     0      0         0       1        0   \n",
       "1915                   No  ...     1      0         0       1        0   \n",
       "5054  No internet service  ...     0      1         0       0        1   \n",
       "2355  No internet service  ...     0      1         0       0        0   \n",
       "6279                   No  ...     0      0         0       0        0   \n",
       "\n",
       "      m_check p_w_d  p_no_d d_no_p  no_pod  \n",
       "5919        0     0       0      0       1  \n",
       "1915        0     0       0      1       0  \n",
       "5054        0     1       0      0       0  \n",
       "2355        1     1       0      0       0  \n",
       "6279        1     0       0      0       1  \n",
       "\n",
       "[5 rows x 64 columns]"
      ]
     },
     "execution_count": 7,
     "metadata": {},
     "output_type": "execute_result"
    }
   ],
   "source": [
    "train.head()"
   ]
  },
  {
   "cell_type": "code",
   "execution_count": 8,
   "id": "a8188d43",
   "metadata": {},
   "outputs": [
    {
     "data": {
      "text/plain": [
       "3937"
      ]
     },
     "execution_count": 8,
     "metadata": {},
     "output_type": "execute_result"
    }
   ],
   "source": [
    "len(train)"
   ]
  },
  {
   "cell_type": "markdown",
   "id": "624193c9",
   "metadata": {},
   "source": [
    "**Note**: Total charges is showing as an object value instead of a float value. Before we can visualize this in our summary process, we will need to clean this. "
   ]
  },
  {
   "cell_type": "markdown",
   "id": "8cc49767",
   "metadata": {},
   "source": [
    "The `total_charges` column contains whitespace characters. Lets see what those are connected to:"
   ]
  },
  {
   "cell_type": "markdown",
   "id": "4b48f745",
   "metadata": {},
   "source": [
    "It looks like customers with zero tenure have no total charges, and this is being represented by the whitespace character. Dropping these observations for now."
   ]
  },
  {
   "cell_type": "code",
   "execution_count": 9,
   "id": "8dd1c9d0",
   "metadata": {},
   "outputs": [
    {
     "data": {
      "text/html": [
       "<div>\n",
       "<style scoped>\n",
       "    .dataframe tbody tr th:only-of-type {\n",
       "        vertical-align: middle;\n",
       "    }\n",
       "\n",
       "    .dataframe tbody tr th {\n",
       "        vertical-align: top;\n",
       "    }\n",
       "\n",
       "    .dataframe thead th {\n",
       "        text-align: right;\n",
       "    }\n",
       "</style>\n",
       "<table border=\"1\" class=\"dataframe\">\n",
       "  <thead>\n",
       "    <tr style=\"text-align: right;\">\n",
       "      <th></th>\n",
       "      <th>senior_citizen</th>\n",
       "      <th>tenure</th>\n",
       "      <th>monthly_charges</th>\n",
       "      <th>total_charges</th>\n",
       "      <th>contract_type_id.1</th>\n",
       "      <th>payment_type_id.1</th>\n",
       "      <th>internet_service_type_id.1</th>\n",
       "      <th>gender_encoded</th>\n",
       "      <th>partner_encoded</th>\n",
       "      <th>dependents_encoded</th>\n",
       "      <th>...</th>\n",
       "      <th>fiber</th>\n",
       "      <th>no_int</th>\n",
       "      <th>a_bank_tr</th>\n",
       "      <th>a_ccard</th>\n",
       "      <th>e_check</th>\n",
       "      <th>m_check</th>\n",
       "      <th>p_w_d</th>\n",
       "      <th>p_no_d</th>\n",
       "      <th>d_no_p</th>\n",
       "      <th>no_pod</th>\n",
       "    </tr>\n",
       "  </thead>\n",
       "  <tbody>\n",
       "    <tr>\n",
       "      <th>count</th>\n",
       "      <td>3937.000000</td>\n",
       "      <td>3937.000000</td>\n",
       "      <td>3937.000000</td>\n",
       "      <td>3937.000000</td>\n",
       "      <td>3937.000000</td>\n",
       "      <td>3937.000000</td>\n",
       "      <td>3937.000000</td>\n",
       "      <td>3937.000000</td>\n",
       "      <td>3937.000000</td>\n",
       "      <td>3937.000000</td>\n",
       "      <td>...</td>\n",
       "      <td>3937.000000</td>\n",
       "      <td>3937.000000</td>\n",
       "      <td>3937.000000</td>\n",
       "      <td>3937.000000</td>\n",
       "      <td>3937.000000</td>\n",
       "      <td>3937.000000</td>\n",
       "      <td>3937.000000</td>\n",
       "      <td>3937.000000</td>\n",
       "      <td>3937.000000</td>\n",
       "      <td>3937.000000</td>\n",
       "    </tr>\n",
       "    <tr>\n",
       "      <th>mean</th>\n",
       "      <td>0.161290</td>\n",
       "      <td>32.775210</td>\n",
       "      <td>64.805131</td>\n",
       "      <td>2316.775641</td>\n",
       "      <td>1.693167</td>\n",
       "      <td>2.346203</td>\n",
       "      <td>1.877826</td>\n",
       "      <td>0.498095</td>\n",
       "      <td>0.485141</td>\n",
       "      <td>0.302769</td>\n",
       "      <td>...</td>\n",
       "      <td>0.437389</td>\n",
       "      <td>0.220218</td>\n",
       "      <td>0.218948</td>\n",
       "      <td>0.227330</td>\n",
       "      <td>0.327407</td>\n",
       "      <td>0.226314</td>\n",
       "      <td>0.250445</td>\n",
       "      <td>0.234696</td>\n",
       "      <td>0.052324</td>\n",
       "      <td>0.462535</td>\n",
       "    </tr>\n",
       "    <tr>\n",
       "      <th>std</th>\n",
       "      <td>0.367845</td>\n",
       "      <td>24.709604</td>\n",
       "      <td>30.294804</td>\n",
       "      <td>2284.984394</td>\n",
       "      <td>0.836075</td>\n",
       "      <td>1.155924</td>\n",
       "      <td>0.740151</td>\n",
       "      <td>0.500060</td>\n",
       "      <td>0.499843</td>\n",
       "      <td>0.459514</td>\n",
       "      <td>...</td>\n",
       "      <td>0.496127</td>\n",
       "      <td>0.414447</td>\n",
       "      <td>0.413586</td>\n",
       "      <td>0.419161</td>\n",
       "      <td>0.469327</td>\n",
       "      <td>0.418498</td>\n",
       "      <td>0.433324</td>\n",
       "      <td>0.423863</td>\n",
       "      <td>0.222708</td>\n",
       "      <td>0.498658</td>\n",
       "    </tr>\n",
       "    <tr>\n",
       "      <th>min</th>\n",
       "      <td>0.000000</td>\n",
       "      <td>1.000000</td>\n",
       "      <td>18.250000</td>\n",
       "      <td>18.850000</td>\n",
       "      <td>1.000000</td>\n",
       "      <td>1.000000</td>\n",
       "      <td>1.000000</td>\n",
       "      <td>0.000000</td>\n",
       "      <td>0.000000</td>\n",
       "      <td>0.000000</td>\n",
       "      <td>...</td>\n",
       "      <td>0.000000</td>\n",
       "      <td>0.000000</td>\n",
       "      <td>0.000000</td>\n",
       "      <td>0.000000</td>\n",
       "      <td>0.000000</td>\n",
       "      <td>0.000000</td>\n",
       "      <td>0.000000</td>\n",
       "      <td>0.000000</td>\n",
       "      <td>0.000000</td>\n",
       "      <td>0.000000</td>\n",
       "    </tr>\n",
       "    <tr>\n",
       "      <th>25%</th>\n",
       "      <td>0.000000</td>\n",
       "      <td>9.000000</td>\n",
       "      <td>34.700000</td>\n",
       "      <td>396.100000</td>\n",
       "      <td>1.000000</td>\n",
       "      <td>1.000000</td>\n",
       "      <td>1.000000</td>\n",
       "      <td>0.000000</td>\n",
       "      <td>0.000000</td>\n",
       "      <td>0.000000</td>\n",
       "      <td>...</td>\n",
       "      <td>0.000000</td>\n",
       "      <td>0.000000</td>\n",
       "      <td>0.000000</td>\n",
       "      <td>0.000000</td>\n",
       "      <td>0.000000</td>\n",
       "      <td>0.000000</td>\n",
       "      <td>0.000000</td>\n",
       "      <td>0.000000</td>\n",
       "      <td>0.000000</td>\n",
       "      <td>0.000000</td>\n",
       "    </tr>\n",
       "    <tr>\n",
       "      <th>50%</th>\n",
       "      <td>0.000000</td>\n",
       "      <td>30.000000</td>\n",
       "      <td>70.250000</td>\n",
       "      <td>1414.800000</td>\n",
       "      <td>1.000000</td>\n",
       "      <td>2.000000</td>\n",
       "      <td>2.000000</td>\n",
       "      <td>0.000000</td>\n",
       "      <td>0.000000</td>\n",
       "      <td>0.000000</td>\n",
       "      <td>...</td>\n",
       "      <td>0.000000</td>\n",
       "      <td>0.000000</td>\n",
       "      <td>0.000000</td>\n",
       "      <td>0.000000</td>\n",
       "      <td>0.000000</td>\n",
       "      <td>0.000000</td>\n",
       "      <td>0.000000</td>\n",
       "      <td>0.000000</td>\n",
       "      <td>0.000000</td>\n",
       "      <td>0.000000</td>\n",
       "    </tr>\n",
       "    <tr>\n",
       "      <th>75%</th>\n",
       "      <td>0.000000</td>\n",
       "      <td>56.000000</td>\n",
       "      <td>90.300000</td>\n",
       "      <td>3893.600000</td>\n",
       "      <td>2.000000</td>\n",
       "      <td>3.000000</td>\n",
       "      <td>2.000000</td>\n",
       "      <td>1.000000</td>\n",
       "      <td>1.000000</td>\n",
       "      <td>1.000000</td>\n",
       "      <td>...</td>\n",
       "      <td>1.000000</td>\n",
       "      <td>0.000000</td>\n",
       "      <td>0.000000</td>\n",
       "      <td>0.000000</td>\n",
       "      <td>1.000000</td>\n",
       "      <td>0.000000</td>\n",
       "      <td>1.000000</td>\n",
       "      <td>0.000000</td>\n",
       "      <td>0.000000</td>\n",
       "      <td>1.000000</td>\n",
       "    </tr>\n",
       "    <tr>\n",
       "      <th>max</th>\n",
       "      <td>1.000000</td>\n",
       "      <td>72.000000</td>\n",
       "      <td>118.650000</td>\n",
       "      <td>8594.400000</td>\n",
       "      <td>3.000000</td>\n",
       "      <td>4.000000</td>\n",
       "      <td>3.000000</td>\n",
       "      <td>1.000000</td>\n",
       "      <td>1.000000</td>\n",
       "      <td>1.000000</td>\n",
       "      <td>...</td>\n",
       "      <td>1.000000</td>\n",
       "      <td>1.000000</td>\n",
       "      <td>1.000000</td>\n",
       "      <td>1.000000</td>\n",
       "      <td>1.000000</td>\n",
       "      <td>1.000000</td>\n",
       "      <td>1.000000</td>\n",
       "      <td>1.000000</td>\n",
       "      <td>1.000000</td>\n",
       "      <td>1.000000</td>\n",
       "    </tr>\n",
       "  </tbody>\n",
       "</table>\n",
       "<p>8 rows × 48 columns</p>\n",
       "</div>"
      ],
      "text/plain": [
       "       senior_citizen       tenure  monthly_charges  total_charges  \\\n",
       "count     3937.000000  3937.000000      3937.000000    3937.000000   \n",
       "mean         0.161290    32.775210        64.805131    2316.775641   \n",
       "std          0.367845    24.709604        30.294804    2284.984394   \n",
       "min          0.000000     1.000000        18.250000      18.850000   \n",
       "25%          0.000000     9.000000        34.700000     396.100000   \n",
       "50%          0.000000    30.000000        70.250000    1414.800000   \n",
       "75%          0.000000    56.000000        90.300000    3893.600000   \n",
       "max          1.000000    72.000000       118.650000    8594.400000   \n",
       "\n",
       "       contract_type_id.1  payment_type_id.1  internet_service_type_id.1  \\\n",
       "count         3937.000000        3937.000000                 3937.000000   \n",
       "mean             1.693167           2.346203                    1.877826   \n",
       "std              0.836075           1.155924                    0.740151   \n",
       "min              1.000000           1.000000                    1.000000   \n",
       "25%              1.000000           1.000000                    1.000000   \n",
       "50%              1.000000           2.000000                    2.000000   \n",
       "75%              2.000000           3.000000                    2.000000   \n",
       "max              3.000000           4.000000                    3.000000   \n",
       "\n",
       "       gender_encoded  partner_encoded  dependents_encoded  ...        fiber  \\\n",
       "count     3937.000000      3937.000000         3937.000000  ...  3937.000000   \n",
       "mean         0.498095         0.485141            0.302769  ...     0.437389   \n",
       "std          0.500060         0.499843            0.459514  ...     0.496127   \n",
       "min          0.000000         0.000000            0.000000  ...     0.000000   \n",
       "25%          0.000000         0.000000            0.000000  ...     0.000000   \n",
       "50%          0.000000         0.000000            0.000000  ...     0.000000   \n",
       "75%          1.000000         1.000000            1.000000  ...     1.000000   \n",
       "max          1.000000         1.000000            1.000000  ...     1.000000   \n",
       "\n",
       "            no_int    a_bank_tr      a_ccard      e_check      m_check  \\\n",
       "count  3937.000000  3937.000000  3937.000000  3937.000000  3937.000000   \n",
       "mean      0.220218     0.218948     0.227330     0.327407     0.226314   \n",
       "std       0.414447     0.413586     0.419161     0.469327     0.418498   \n",
       "min       0.000000     0.000000     0.000000     0.000000     0.000000   \n",
       "25%       0.000000     0.000000     0.000000     0.000000     0.000000   \n",
       "50%       0.000000     0.000000     0.000000     0.000000     0.000000   \n",
       "75%       0.000000     0.000000     0.000000     1.000000     0.000000   \n",
       "max       1.000000     1.000000     1.000000     1.000000     1.000000   \n",
       "\n",
       "             p_w_d       p_no_d       d_no_p       no_pod  \n",
       "count  3937.000000  3937.000000  3937.000000  3937.000000  \n",
       "mean      0.250445     0.234696     0.052324     0.462535  \n",
       "std       0.433324     0.423863     0.222708     0.498658  \n",
       "min       0.000000     0.000000     0.000000     0.000000  \n",
       "25%       0.000000     0.000000     0.000000     0.000000  \n",
       "50%       0.000000     0.000000     0.000000     0.000000  \n",
       "75%       1.000000     0.000000     0.000000     1.000000  \n",
       "max       1.000000     1.000000     1.000000     1.000000  \n",
       "\n",
       "[8 rows x 48 columns]"
      ]
     },
     "execution_count": 9,
     "metadata": {},
     "output_type": "execute_result"
    }
   ],
   "source": [
    "# View numeric summary statistics\n",
    "train.describe()"
   ]
  },
  {
   "cell_type": "markdown",
   "id": "c3084a47",
   "metadata": {},
   "source": [
    "New features: Most of these are garbage and have multiple issues with keeping them - think critically about whether any of these should be used (do they actually supply new information not already represented by the existing fields?) and if they need to be one-hot encoded if kept. "
   ]
  },
  {
   "cell_type": "markdown",
   "id": "3025caf5",
   "metadata": {},
   "source": [
    "## Feature Engineering"
   ]
  },
  {
   "cell_type": "code",
   "execution_count": 10,
   "id": "dd062053",
   "metadata": {
    "scrolled": true
   },
   "outputs": [
    {
     "name": "stdout",
     "output_type": "stream",
     "text": [
      "<class 'pandas.core.frame.DataFrame'>\n",
      "Int64Index: 3937 entries, 5919 to 4192\n",
      "Data columns (total 64 columns):\n",
      " #   Column                                 Non-Null Count  Dtype  \n",
      "---  ------                                 --------------  -----  \n",
      " 0   gender                                 3937 non-null   object \n",
      " 1   senior_citizen                         3937 non-null   int64  \n",
      " 2   partner                                3937 non-null   object \n",
      " 3   dependents                             3937 non-null   object \n",
      " 4   tenure                                 3937 non-null   int64  \n",
      " 5   phone_service                          3937 non-null   object \n",
      " 6   multiple_lines                         3937 non-null   object \n",
      " 7   online_security                        3937 non-null   object \n",
      " 8   online_backup                          3937 non-null   object \n",
      " 9   device_protection                      3937 non-null   object \n",
      " 10  tech_support                           3937 non-null   object \n",
      " 11  streaming_tv                           3937 non-null   object \n",
      " 12  streaming_movies                       3937 non-null   object \n",
      " 13  paperless_billing                      3937 non-null   object \n",
      " 14  monthly_charges                        3937 non-null   float64\n",
      " 15  total_charges                          3937 non-null   float64\n",
      " 16  churn                                  3937 non-null   object \n",
      " 17  contract_type_id.1                     3937 non-null   int64  \n",
      " 18  contract_type                          3937 non-null   object \n",
      " 19  payment_type_id.1                      3937 non-null   int64  \n",
      " 20  payment_type                           3937 non-null   object \n",
      " 21  internet_service_type_id.1             3937 non-null   int64  \n",
      " 22  internet_service_type                  3937 non-null   object \n",
      " 23  gender_encoded                         3937 non-null   int64  \n",
      " 24  partner_encoded                        3937 non-null   int64  \n",
      " 25  dependents_encoded                     3937 non-null   int64  \n",
      " 26  phone_service_encoded                  3937 non-null   int64  \n",
      " 27  paperless_billing_encoded              3937 non-null   int64  \n",
      " 28  churn_encoded                          3937 non-null   int64  \n",
      " 29  multiple_lines_No                      3937 non-null   uint8  \n",
      " 30  multiple_lines_No phone service        3937 non-null   uint8  \n",
      " 31  multiple_lines_Yes                     3937 non-null   uint8  \n",
      " 32  online_security_No                     3937 non-null   uint8  \n",
      " 33  online_security_No internet service    3937 non-null   uint8  \n",
      " 34  online_security_Yes                    3937 non-null   uint8  \n",
      " 35  online_backup_No                       3937 non-null   uint8  \n",
      " 36  online_backup_No internet service      3937 non-null   uint8  \n",
      " 37  online_backup_Yes                      3937 non-null   uint8  \n",
      " 38  device_protection_No                   3937 non-null   uint8  \n",
      " 39  device_protection_No internet service  3937 non-null   uint8  \n",
      " 40  device_protection_Yes                  3937 non-null   uint8  \n",
      " 41  tech_support_No                        3937 non-null   uint8  \n",
      " 42  tech_support_No internet service       3937 non-null   uint8  \n",
      " 43  tech_support_Yes                       3937 non-null   uint8  \n",
      " 44  streaming_tv_No                        3937 non-null   uint8  \n",
      " 45  streaming_tv_No internet service       3937 non-null   uint8  \n",
      " 46  streaming_tv_Yes                       3937 non-null   uint8  \n",
      " 47  streaming_movies_No                    3937 non-null   uint8  \n",
      " 48  streaming_movies_No internet service   3937 non-null   uint8  \n",
      " 49  streaming_movies_Yes                   3937 non-null   uint8  \n",
      " 50  m2m                                    3937 non-null   uint8  \n",
      " 51  yr1                                    3937 non-null   uint8  \n",
      " 52  yr2                                    3937 non-null   uint8  \n",
      " 53  DSL                                    3937 non-null   uint8  \n",
      " 54  fiber                                  3937 non-null   uint8  \n",
      " 55  no_int                                 3937 non-null   uint8  \n",
      " 56  a_bank_tr                              3937 non-null   uint8  \n",
      " 57  a_ccard                                3937 non-null   uint8  \n",
      " 58  e_check                                3937 non-null   uint8  \n",
      " 59  m_check                                3937 non-null   uint8  \n",
      " 60  p_w_d                                  3937 non-null   int64  \n",
      " 61  p_no_d                                 3937 non-null   int64  \n",
      " 62  d_no_p                                 3937 non-null   int64  \n",
      " 63  no_pod                                 3937 non-null   int64  \n",
      "dtypes: float64(2), int64(15), object(16), uint8(31)\n",
      "memory usage: 1.1+ MB\n"
     ]
    }
   ],
   "source": [
    "train.info()"
   ]
  },
  {
   "cell_type": "markdown",
   "id": "4c5e71fd",
   "metadata": {},
   "source": [
    "# Exploratory Analysis"
   ]
  },
  {
   "cell_type": "code",
   "execution_count": 11,
   "id": "536a5d8c",
   "metadata": {},
   "outputs": [
    {
     "data": {
      "text/html": [
       "<div>\n",
       "<style scoped>\n",
       "    .dataframe tbody tr th:only-of-type {\n",
       "        vertical-align: middle;\n",
       "    }\n",
       "\n",
       "    .dataframe tbody tr th {\n",
       "        vertical-align: top;\n",
       "    }\n",
       "\n",
       "    .dataframe thead th {\n",
       "        text-align: right;\n",
       "    }\n",
       "</style>\n",
       "<table border=\"1\" class=\"dataframe\">\n",
       "  <thead>\n",
       "    <tr style=\"text-align: right;\">\n",
       "      <th></th>\n",
       "      <th>gender</th>\n",
       "      <th>senior_citizen</th>\n",
       "      <th>partner</th>\n",
       "      <th>dependents</th>\n",
       "      <th>tenure</th>\n",
       "      <th>phone_service</th>\n",
       "      <th>multiple_lines</th>\n",
       "      <th>online_security</th>\n",
       "      <th>online_backup</th>\n",
       "      <th>device_protection</th>\n",
       "      <th>...</th>\n",
       "      <th>fiber</th>\n",
       "      <th>no_int</th>\n",
       "      <th>a_bank_tr</th>\n",
       "      <th>a_ccard</th>\n",
       "      <th>e_check</th>\n",
       "      <th>m_check</th>\n",
       "      <th>p_w_d</th>\n",
       "      <th>p_no_d</th>\n",
       "      <th>d_no_p</th>\n",
       "      <th>no_pod</th>\n",
       "    </tr>\n",
       "  </thead>\n",
       "  <tbody>\n",
       "    <tr>\n",
       "      <th>0</th>\n",
       "      <td>Female</td>\n",
       "      <td>0</td>\n",
       "      <td>Yes</td>\n",
       "      <td>Yes</td>\n",
       "      <td>9</td>\n",
       "      <td>Yes</td>\n",
       "      <td>No</td>\n",
       "      <td>No</td>\n",
       "      <td>Yes</td>\n",
       "      <td>No</td>\n",
       "      <td>...</td>\n",
       "      <td>0</td>\n",
       "      <td>0</td>\n",
       "      <td>0</td>\n",
       "      <td>0</td>\n",
       "      <td>0</td>\n",
       "      <td>1</td>\n",
       "      <td>1</td>\n",
       "      <td>0</td>\n",
       "      <td>0</td>\n",
       "      <td>0</td>\n",
       "    </tr>\n",
       "    <tr>\n",
       "      <th>1</th>\n",
       "      <td>Male</td>\n",
       "      <td>0</td>\n",
       "      <td>No</td>\n",
       "      <td>No</td>\n",
       "      <td>9</td>\n",
       "      <td>Yes</td>\n",
       "      <td>Yes</td>\n",
       "      <td>No</td>\n",
       "      <td>No</td>\n",
       "      <td>No</td>\n",
       "      <td>...</td>\n",
       "      <td>0</td>\n",
       "      <td>0</td>\n",
       "      <td>0</td>\n",
       "      <td>0</td>\n",
       "      <td>0</td>\n",
       "      <td>1</td>\n",
       "      <td>0</td>\n",
       "      <td>0</td>\n",
       "      <td>0</td>\n",
       "      <td>1</td>\n",
       "    </tr>\n",
       "    <tr>\n",
       "      <th>2</th>\n",
       "      <td>Male</td>\n",
       "      <td>0</td>\n",
       "      <td>No</td>\n",
       "      <td>No</td>\n",
       "      <td>4</td>\n",
       "      <td>Yes</td>\n",
       "      <td>No</td>\n",
       "      <td>No</td>\n",
       "      <td>No</td>\n",
       "      <td>Yes</td>\n",
       "      <td>...</td>\n",
       "      <td>1</td>\n",
       "      <td>0</td>\n",
       "      <td>0</td>\n",
       "      <td>0</td>\n",
       "      <td>1</td>\n",
       "      <td>0</td>\n",
       "      <td>0</td>\n",
       "      <td>0</td>\n",
       "      <td>0</td>\n",
       "      <td>1</td>\n",
       "    </tr>\n",
       "    <tr>\n",
       "      <th>3</th>\n",
       "      <td>Male</td>\n",
       "      <td>1</td>\n",
       "      <td>Yes</td>\n",
       "      <td>No</td>\n",
       "      <td>13</td>\n",
       "      <td>Yes</td>\n",
       "      <td>No</td>\n",
       "      <td>No</td>\n",
       "      <td>Yes</td>\n",
       "      <td>Yes</td>\n",
       "      <td>...</td>\n",
       "      <td>1</td>\n",
       "      <td>0</td>\n",
       "      <td>0</td>\n",
       "      <td>0</td>\n",
       "      <td>1</td>\n",
       "      <td>0</td>\n",
       "      <td>0</td>\n",
       "      <td>1</td>\n",
       "      <td>0</td>\n",
       "      <td>0</td>\n",
       "    </tr>\n",
       "    <tr>\n",
       "      <th>4</th>\n",
       "      <td>Female</td>\n",
       "      <td>1</td>\n",
       "      <td>Yes</td>\n",
       "      <td>No</td>\n",
       "      <td>3</td>\n",
       "      <td>Yes</td>\n",
       "      <td>No</td>\n",
       "      <td>No</td>\n",
       "      <td>No</td>\n",
       "      <td>No</td>\n",
       "      <td>...</td>\n",
       "      <td>1</td>\n",
       "      <td>0</td>\n",
       "      <td>0</td>\n",
       "      <td>0</td>\n",
       "      <td>0</td>\n",
       "      <td>1</td>\n",
       "      <td>0</td>\n",
       "      <td>1</td>\n",
       "      <td>0</td>\n",
       "      <td>0</td>\n",
       "    </tr>\n",
       "  </tbody>\n",
       "</table>\n",
       "<p>5 rows × 64 columns</p>\n",
       "</div>"
      ],
      "text/plain": [
       "   gender  senior_citizen partner dependents  tenure phone_service  \\\n",
       "0  Female               0     Yes        Yes       9           Yes   \n",
       "1    Male               0      No         No       9           Yes   \n",
       "2    Male               0      No         No       4           Yes   \n",
       "3    Male               1     Yes         No      13           Yes   \n",
       "4  Female               1     Yes         No       3           Yes   \n",
       "\n",
       "  multiple_lines online_security online_backup device_protection  ... fiber  \\\n",
       "0             No              No           Yes                No  ...     0   \n",
       "1            Yes              No            No                No  ...     0   \n",
       "2             No              No            No               Yes  ...     1   \n",
       "3             No              No           Yes               Yes  ...     1   \n",
       "4             No              No            No                No  ...     1   \n",
       "\n",
       "  no_int a_bank_tr a_ccard  e_check  m_check p_w_d  p_no_d d_no_p  no_pod  \n",
       "0      0         0       0        0        1     1       0      0       0  \n",
       "1      0         0       0        0        1     0       0      0       1  \n",
       "2      0         0       0        1        0     0       0      0       1  \n",
       "3      0         0       0        1        0     0       1      0       0  \n",
       "4      0         0       0        0        1     0       1      0       0  \n",
       "\n",
       "[5 rows x 64 columns]"
      ]
     },
     "execution_count": 11,
     "metadata": {},
     "output_type": "execute_result"
    }
   ],
   "source": [
    "df.head()"
   ]
  },
  {
   "cell_type": "code",
   "execution_count": 12,
   "id": "efe6b367",
   "metadata": {},
   "outputs": [
    {
     "data": {
      "text/plain": [
       "1    3875\n",
       "0    3157\n",
       "Name: m2m, dtype: int64"
      ]
     },
     "execution_count": 12,
     "metadata": {},
     "output_type": "execute_result"
    }
   ],
   "source": [
    "df['m2m'].value_counts()"
   ]
  },
  {
   "cell_type": "code",
   "execution_count": 13,
   "id": "11fecdce",
   "metadata": {},
   "outputs": [
    {
     "data": {
      "text/plain": [
       "0    4667\n",
       "1    2365\n",
       "Name: e_check, dtype: int64"
      ]
     },
     "execution_count": 13,
     "metadata": {},
     "output_type": "execute_result"
    }
   ],
   "source": [
    "df['e_check'].value_counts()"
   ]
  },
  {
   "cell_type": "code",
   "execution_count": 14,
   "id": "260f0292",
   "metadata": {},
   "outputs": [
    {
     "data": {
      "text/plain": [
       "64.7982081911263"
      ]
     },
     "execution_count": 14,
     "metadata": {},
     "output_type": "execute_result"
    }
   ],
   "source": [
    "df.monthly_charges.mean()"
   ]
  },
  {
   "cell_type": "code",
   "execution_count": 15,
   "id": "fdf75a24",
   "metadata": {},
   "outputs": [
    {
     "data": {
      "text/plain": [
       "0    3752\n",
       "1    3280\n",
       "Name: no_pod, dtype: int64"
      ]
     },
     "execution_count": 15,
     "metadata": {},
     "output_type": "execute_result"
    }
   ],
   "source": [
    "df.no_pod.value_counts()"
   ]
  },
  {
   "cell_type": "code",
   "execution_count": 16,
   "id": "aa43d5bf",
   "metadata": {},
   "outputs": [
    {
     "data": {
      "text/plain": [
       "No     5163\n",
       "Yes    1869\n",
       "Name: churn, dtype: int64"
      ]
     },
     "execution_count": 16,
     "metadata": {},
     "output_type": "execute_result"
    }
   ],
   "source": [
    "df.churn.value_counts()"
   ]
  },
  {
   "cell_type": "code",
   "execution_count": 17,
   "id": "fff5f722",
   "metadata": {},
   "outputs": [
    {
     "data": {
      "image/png": "[encoded data removed]",
      "text/plain": [
       "<Figure size 432x288 with 1 Axes>"
      ]
     },
     "metadata": {
      "needs_background": "light"
     },
     "output_type": "display_data"
    },
    {
     "data": {
      "image/png": "[encoded data removed]",
      "text/plain": [
       "<Figure size 432x288 with 1 Axes>"
      ]
     },
     "metadata": {
      "needs_background": "light"
     },
     "output_type": "display_data"
    },
    {
     "data": {
      "image/png": "[encoded data removed]",
      "text/plain": [
       "<Figure size 432x288 with 1 Axes>"
      ]
     },
     "metadata": {
      "needs_background": "light"
     },
     "output_type": "display_data"
    },
    {
     "data": {
      "image/png": "[encoded data removed]",
      "text/plain": [
       "<Figure size 432x288 with 1 Axes>"
      ]
     },
     "metadata": {
      "needs_background": "light"
     },
     "output_type": "display_data"
    }
   ],
   "source": [
    "# Plot numeric columns\n",
    "num_cols = df.columns[[df[col].dtype == 'float64' for col in df.columns]]\n",
    "for col in num_cols:\n",
    "    plt.hist(df[col])\n",
    "    plt.title(col)\n",
    "    plt.show()\n",
    "    plt.boxplot(df[col])\n",
    "    plt.title(col)\n",
    "    plt.show()"
   ]
  },
  {
   "cell_type": "code",
   "execution_count": 18,
   "id": "ef0961f9",
   "metadata": {},
   "outputs": [
    {
     "data": {
      "text/plain": [
       "Text(0.5, 0, 'churn')"
      ]
     },
     "execution_count": 18,
     "metadata": {},
     "output_type": "execute_result"
    },
    {
     "data": {
      "image/png": "[encoded data removed]",
      "text/plain": [
       "<Figure size 432x288 with 1 Axes>"
      ]
     },
     "metadata": {
      "needs_background": "light"
     },
     "output_type": "display_data"
    }
   ],
   "source": [
    "df.churn.value_counts().plot.bar()\n",
    "plt.xlabel('churn')"
   ]
  },
  {
   "cell_type": "code",
   "execution_count": 19,
   "id": "0a8e2e1c",
   "metadata": {
    "scrolled": true
   },
   "outputs": [
    {
     "data": {
      "text/plain": [
       "1    2165\n",
       "0    1772\n",
       "Name: m2m, dtype: int64"
      ]
     },
     "execution_count": 19,
     "metadata": {},
     "output_type": "execute_result"
    }
   ],
   "source": [
    "train['m2m'].value_counts()"
   ]
  },
  {
   "cell_type": "code",
   "execution_count": 20,
   "id": "0256bff0",
   "metadata": {
    "scrolled": true
   },
   "outputs": [
    {
     "name": "stdout",
     "output_type": "stream",
     "text": [
      "<class 'pandas.core.frame.DataFrame'>\n",
      "Int64Index: 7032 entries, 0 to 7042\n",
      "Data columns (total 64 columns):\n",
      " #   Column                                 Non-Null Count  Dtype  \n",
      "---  ------                                 --------------  -----  \n",
      " 0   gender                                 7032 non-null   object \n",
      " 1   senior_citizen                         7032 non-null   int64  \n",
      " 2   partner                                7032 non-null   object \n",
      " 3   dependents                             7032 non-null   object \n",
      " 4   tenure                                 7032 non-null   int64  \n",
      " 5   phone_service                          7032 non-null   object \n",
      " 6   multiple_lines                         7032 non-null   object \n",
      " 7   online_security                        7032 non-null   object \n",
      " 8   online_backup                          7032 non-null   object \n",
      " 9   device_protection                      7032 non-null   object \n",
      " 10  tech_support                           7032 non-null   object \n",
      " 11  streaming_tv                           7032 non-null   object \n",
      " 12  streaming_movies                       7032 non-null   object \n",
      " 13  paperless_billing                      7032 non-null   object \n",
      " 14  monthly_charges                        7032 non-null   float64\n",
      " 15  total_charges                          7032 non-null   float64\n",
      " 16  churn                                  7032 non-null   object \n",
      " 17  contract_type_id.1                     7032 non-null   int64  \n",
      " 18  contract_type                          7032 non-null   object \n",
      " 19  payment_type_id.1                      7032 non-null   int64  \n",
      " 20  payment_type                           7032 non-null   object \n",
      " 21  internet_service_type_id.1             7032 non-null   int64  \n",
      " 22  internet_service_type                  7032 non-null   object \n",
      " 23  gender_encoded                         7032 non-null   int64  \n",
      " 24  partner_encoded                        7032 non-null   int64  \n",
      " 25  dependents_encoded                     7032 non-null   int64  \n",
      " 26  phone_service_encoded                  7032 non-null   int64  \n",
      " 27  paperless_billing_encoded              7032 non-null   int64  \n",
      " 28  churn_encoded                          7032 non-null   int64  \n",
      " 29  multiple_lines_No                      7032 non-null   uint8  \n",
      " 30  multiple_lines_No phone service        7032 non-null   uint8  \n",
      " 31  multiple_lines_Yes                     7032 non-null   uint8  \n",
      " 32  online_security_No                     7032 non-null   uint8  \n",
      " 33  online_security_No internet service    7032 non-null   uint8  \n",
      " 34  online_security_Yes                    7032 non-null   uint8  \n",
      " 35  online_backup_No                       7032 non-null   uint8  \n",
      " 36  online_backup_No internet service      7032 non-null   uint8  \n",
      " 37  online_backup_Yes                      7032 non-null   uint8  \n",
      " 38  device_protection_No                   7032 non-null   uint8  \n",
      " 39  device_protection_No internet service  7032 non-null   uint8  \n",
      " 40  device_protection_Yes                  7032 non-null   uint8  \n",
      " 41  tech_support_No                        7032 non-null   uint8  \n",
      " 42  tech_support_No internet service       7032 non-null   uint8  \n",
      " 43  tech_support_Yes                       7032 non-null   uint8  \n",
      " 44  streaming_tv_No                        7032 non-null   uint8  \n",
      " 45  streaming_tv_No internet service       7032 non-null   uint8  \n",
      " 46  streaming_tv_Yes                       7032 non-null   uint8  \n",
      " 47  streaming_movies_No                    7032 non-null   uint8  \n",
      " 48  streaming_movies_No internet service   7032 non-null   uint8  \n",
      " 49  streaming_movies_Yes                   7032 non-null   uint8  \n",
      " 50  m2m                                    7032 non-null   uint8  \n",
      " 51  yr1                                    7032 non-null   uint8  \n",
      " 52  yr2                                    7032 non-null   uint8  \n",
      " 53  DSL                                    7032 non-null   uint8  \n",
      " 54  fiber                                  7032 non-null   uint8  \n",
      " 55  no_int                                 7032 non-null   uint8  \n",
      " 56  a_bank_tr                              7032 non-null   uint8  \n",
      " 57  a_ccard                                7032 non-null   uint8  \n",
      " 58  e_check                                7032 non-null   uint8  \n",
      " 59  m_check                                7032 non-null   uint8  \n",
      " 60  p_w_d                                  7032 non-null   int64  \n",
      " 61  p_no_d                                 7032 non-null   int64  \n",
      " 62  d_no_p                                 7032 non-null   int64  \n",
      " 63  no_pod                                 7032 non-null   int64  \n",
      "dtypes: float64(2), int64(15), object(16), uint8(31)\n",
      "memory usage: 2.0+ MB\n"
     ]
    }
   ],
   "source": [
    "df.info()"
   ]
  },
  {
   "cell_type": "code",
   "execution_count": 21,
   "id": "f0389dba",
   "metadata": {
    "scrolled": true
   },
   "outputs": [
    {
     "data": {
      "image/png": "[encoded data removed]",
      "text/plain": [
       "<Figure size 1152x432 with 4 Axes>"
      ]
     },
     "metadata": {
      "needs_background": "light"
     },
     "output_type": "display_data"
    }
   ],
   "source": [
    "features = ['m2m', 'e_check', 'fiber', 'no_pod']\n",
    "\n",
    "enumerate(features)\n",
    "\n",
    "list(enumerate(features))\n",
    "\n",
    "churn_rate = train.churn_encoded.mean()\n",
    "_, ax = plt.subplots(nrows=1, ncols=4, figsize=(16, 6), sharey=True)\n",
    "for i, feature in enumerate(features):\n",
    "    sns.barplot('churn', feature, data=train\n",
    "                , ax=ax[i], alpha=0.5)\n",
    "    ax[i].set_xlabel('Churn')\n",
    "    ax[i].set_ylabel('Churn Rate')\n",
    "    ax[i].set_title(feature)\n",
    "    ax[i].axhline(churn_rate, ls='--', color='grey')"
   ]
  },
  {
   "cell_type": "markdown",
   "id": "e44913ab",
   "metadata": {},
   "source": [
    "### Exploring: Churn via p/d status"
   ]
  },
  {
   "cell_type": "code",
   "execution_count": 22,
   "id": "757654d1",
   "metadata": {},
   "outputs": [
    {
     "data": {
      "text/plain": [
       "((3937, 64), (1688, 64), (1407, 64))"
      ]
     },
     "execution_count": 22,
     "metadata": {},
     "output_type": "execute_result"
    }
   ],
   "source": [
    "train.shape, validate.shape, test.shape"
   ]
  },
  {
   "cell_type": "code",
   "execution_count": 23,
   "id": "7524c8fc",
   "metadata": {},
   "outputs": [
    {
     "data": {
      "text/html": [
       "<div>\n",
       "<style scoped>\n",
       "    .dataframe tbody tr th:only-of-type {\n",
       "        vertical-align: middle;\n",
       "    }\n",
       "\n",
       "    .dataframe tbody tr th {\n",
       "        vertical-align: top;\n",
       "    }\n",
       "\n",
       "    .dataframe thead th {\n",
       "        text-align: right;\n",
       "    }\n",
       "</style>\n",
       "<table border=\"1\" class=\"dataframe\">\n",
       "  <thead>\n",
       "    <tr style=\"text-align: right;\">\n",
       "      <th></th>\n",
       "      <th>gender</th>\n",
       "      <th>senior_citizen</th>\n",
       "      <th>partner</th>\n",
       "      <th>dependents</th>\n",
       "      <th>tenure</th>\n",
       "      <th>phone_service</th>\n",
       "      <th>multiple_lines</th>\n",
       "      <th>online_security</th>\n",
       "      <th>online_backup</th>\n",
       "      <th>device_protection</th>\n",
       "      <th>...</th>\n",
       "      <th>fiber</th>\n",
       "      <th>no_int</th>\n",
       "      <th>a_bank_tr</th>\n",
       "      <th>a_ccard</th>\n",
       "      <th>e_check</th>\n",
       "      <th>m_check</th>\n",
       "      <th>p_w_d</th>\n",
       "      <th>p_no_d</th>\n",
       "      <th>d_no_p</th>\n",
       "      <th>no_pod</th>\n",
       "    </tr>\n",
       "  </thead>\n",
       "  <tbody>\n",
       "    <tr>\n",
       "      <th>5919</th>\n",
       "      <td>Female</td>\n",
       "      <td>0</td>\n",
       "      <td>No</td>\n",
       "      <td>No</td>\n",
       "      <td>58</td>\n",
       "      <td>Yes</td>\n",
       "      <td>Yes</td>\n",
       "      <td>Yes</td>\n",
       "      <td>Yes</td>\n",
       "      <td>Yes</td>\n",
       "      <td>...</td>\n",
       "      <td>0</td>\n",
       "      <td>0</td>\n",
       "      <td>0</td>\n",
       "      <td>1</td>\n",
       "      <td>0</td>\n",
       "      <td>0</td>\n",
       "      <td>0</td>\n",
       "      <td>0</td>\n",
       "      <td>0</td>\n",
       "      <td>1</td>\n",
       "    </tr>\n",
       "    <tr>\n",
       "      <th>1915</th>\n",
       "      <td>Male</td>\n",
       "      <td>0</td>\n",
       "      <td>No</td>\n",
       "      <td>Yes</td>\n",
       "      <td>71</td>\n",
       "      <td>Yes</td>\n",
       "      <td>Yes</td>\n",
       "      <td>Yes</td>\n",
       "      <td>Yes</td>\n",
       "      <td>No</td>\n",
       "      <td>...</td>\n",
       "      <td>1</td>\n",
       "      <td>0</td>\n",
       "      <td>0</td>\n",
       "      <td>1</td>\n",
       "      <td>0</td>\n",
       "      <td>0</td>\n",
       "      <td>0</td>\n",
       "      <td>0</td>\n",
       "      <td>1</td>\n",
       "      <td>0</td>\n",
       "    </tr>\n",
       "    <tr>\n",
       "      <th>5054</th>\n",
       "      <td>Female</td>\n",
       "      <td>0</td>\n",
       "      <td>Yes</td>\n",
       "      <td>Yes</td>\n",
       "      <td>35</td>\n",
       "      <td>Yes</td>\n",
       "      <td>Yes</td>\n",
       "      <td>No internet service</td>\n",
       "      <td>No internet service</td>\n",
       "      <td>No internet service</td>\n",
       "      <td>...</td>\n",
       "      <td>0</td>\n",
       "      <td>1</td>\n",
       "      <td>0</td>\n",
       "      <td>0</td>\n",
       "      <td>1</td>\n",
       "      <td>0</td>\n",
       "      <td>1</td>\n",
       "      <td>0</td>\n",
       "      <td>0</td>\n",
       "      <td>0</td>\n",
       "    </tr>\n",
       "    <tr>\n",
       "      <th>2355</th>\n",
       "      <td>Male</td>\n",
       "      <td>0</td>\n",
       "      <td>Yes</td>\n",
       "      <td>Yes</td>\n",
       "      <td>1</td>\n",
       "      <td>Yes</td>\n",
       "      <td>No</td>\n",
       "      <td>No internet service</td>\n",
       "      <td>No internet service</td>\n",
       "      <td>No internet service</td>\n",
       "      <td>...</td>\n",
       "      <td>0</td>\n",
       "      <td>1</td>\n",
       "      <td>0</td>\n",
       "      <td>0</td>\n",
       "      <td>0</td>\n",
       "      <td>1</td>\n",
       "      <td>1</td>\n",
       "      <td>0</td>\n",
       "      <td>0</td>\n",
       "      <td>0</td>\n",
       "    </tr>\n",
       "    <tr>\n",
       "      <th>6279</th>\n",
       "      <td>Male</td>\n",
       "      <td>1</td>\n",
       "      <td>No</td>\n",
       "      <td>No</td>\n",
       "      <td>20</td>\n",
       "      <td>Yes</td>\n",
       "      <td>No</td>\n",
       "      <td>Yes</td>\n",
       "      <td>No</td>\n",
       "      <td>No</td>\n",
       "      <td>...</td>\n",
       "      <td>0</td>\n",
       "      <td>0</td>\n",
       "      <td>0</td>\n",
       "      <td>0</td>\n",
       "      <td>0</td>\n",
       "      <td>1</td>\n",
       "      <td>0</td>\n",
       "      <td>0</td>\n",
       "      <td>0</td>\n",
       "      <td>1</td>\n",
       "    </tr>\n",
       "  </tbody>\n",
       "</table>\n",
       "<p>5 rows × 64 columns</p>\n",
       "</div>"
      ],
      "text/plain": [
       "      gender  senior_citizen partner dependents  tenure phone_service  \\\n",
       "5919  Female               0      No         No      58           Yes   \n",
       "1915    Male               0      No        Yes      71           Yes   \n",
       "5054  Female               0     Yes        Yes      35           Yes   \n",
       "2355    Male               0     Yes        Yes       1           Yes   \n",
       "6279    Male               1      No         No      20           Yes   \n",
       "\n",
       "     multiple_lines      online_security        online_backup  \\\n",
       "5919            Yes                  Yes                  Yes   \n",
       "1915            Yes                  Yes                  Yes   \n",
       "5054            Yes  No internet service  No internet service   \n",
       "2355             No  No internet service  No internet service   \n",
       "6279             No                  Yes                   No   \n",
       "\n",
       "        device_protection  ... fiber no_int a_bank_tr a_ccard  e_check  \\\n",
       "5919                  Yes  ...     0      0         0       1        0   \n",
       "1915                   No  ...     1      0         0       1        0   \n",
       "5054  No internet service  ...     0      1         0       0        1   \n",
       "2355  No internet service  ...     0      1         0       0        0   \n",
       "6279                   No  ...     0      0         0       0        0   \n",
       "\n",
       "      m_check p_w_d  p_no_d d_no_p  no_pod  \n",
       "5919        0     0       0      0       1  \n",
       "1915        0     0       0      1       0  \n",
       "5054        0     1       0      0       0  \n",
       "2355        1     1       0      0       0  \n",
       "6279        1     0       0      0       1  \n",
       "\n",
       "[5 rows x 64 columns]"
      ]
     },
     "execution_count": 23,
     "metadata": {},
     "output_type": "execute_result"
    }
   ],
   "source": [
    "train.head()"
   ]
  },
  {
   "cell_type": "markdown",
   "id": "0d12f1fc",
   "metadata": {},
   "source": [
    "Partner w/ dependents"
   ]
  },
  {
   "cell_type": "code",
   "execution_count": 24,
   "id": "f07b5be5",
   "metadata": {},
   "outputs": [
    {
     "data": {
      "text/html": [
       "<div>\n",
       "<style scoped>\n",
       "    .dataframe tbody tr th:only-of-type {\n",
       "        vertical-align: middle;\n",
       "    }\n",
       "\n",
       "    .dataframe tbody tr th {\n",
       "        vertical-align: top;\n",
       "    }\n",
       "\n",
       "    .dataframe thead th {\n",
       "        text-align: right;\n",
       "    }\n",
       "</style>\n",
       "<table border=\"1\" class=\"dataframe\">\n",
       "  <thead>\n",
       "    <tr style=\"text-align: right;\">\n",
       "      <th>p_w_d</th>\n",
       "      <th>0</th>\n",
       "      <th>1</th>\n",
       "    </tr>\n",
       "    <tr>\n",
       "      <th>contract_type</th>\n",
       "      <th></th>\n",
       "      <th></th>\n",
       "    </tr>\n",
       "  </thead>\n",
       "  <tbody>\n",
       "    <tr>\n",
       "      <th>Month-to-month</th>\n",
       "      <td>1818</td>\n",
       "      <td>347</td>\n",
       "    </tr>\n",
       "    <tr>\n",
       "      <th>One year</th>\n",
       "      <td>567</td>\n",
       "      <td>248</td>\n",
       "    </tr>\n",
       "    <tr>\n",
       "      <th>Two year</th>\n",
       "      <td>566</td>\n",
       "      <td>391</td>\n",
       "    </tr>\n",
       "  </tbody>\n",
       "</table>\n",
       "</div>"
      ],
      "text/plain": [
       "p_w_d              0    1\n",
       "contract_type            \n",
       "Month-to-month  1818  347\n",
       "One year         567  248\n",
       "Two year         566  391"
      ]
     },
     "execution_count": 24,
     "metadata": {},
     "output_type": "execute_result"
    }
   ],
   "source": [
    "pd.crosstab(train.contract_type, train.p_w_d)"
   ]
  },
  {
   "cell_type": "code",
   "execution_count": 25,
   "id": "203f824e",
   "metadata": {},
   "outputs": [
    {
     "data": {
      "text/html": [
       "<div>\n",
       "<style scoped>\n",
       "    .dataframe tbody tr th:only-of-type {\n",
       "        vertical-align: middle;\n",
       "    }\n",
       "\n",
       "    .dataframe tbody tr th {\n",
       "        vertical-align: top;\n",
       "    }\n",
       "\n",
       "    .dataframe thead th {\n",
       "        text-align: right;\n",
       "    }\n",
       "</style>\n",
       "<table border=\"1\" class=\"dataframe\">\n",
       "  <thead>\n",
       "    <tr style=\"text-align: right;\">\n",
       "      <th>p_w_d</th>\n",
       "      <th>0</th>\n",
       "      <th>1</th>\n",
       "    </tr>\n",
       "    <tr>\n",
       "      <th>churn</th>\n",
       "      <th></th>\n",
       "      <th></th>\n",
       "    </tr>\n",
       "  </thead>\n",
       "  <tbody>\n",
       "    <tr>\n",
       "      <th>No</th>\n",
       "      <td>2049</td>\n",
       "      <td>842</td>\n",
       "    </tr>\n",
       "    <tr>\n",
       "      <th>Yes</th>\n",
       "      <td>902</td>\n",
       "      <td>144</td>\n",
       "    </tr>\n",
       "  </tbody>\n",
       "</table>\n",
       "</div>"
      ],
      "text/plain": [
       "p_w_d     0    1\n",
       "churn           \n",
       "No     2049  842\n",
       "Yes     902  144"
      ]
     },
     "execution_count": 25,
     "metadata": {},
     "output_type": "execute_result"
    }
   ],
   "source": [
    "pd.crosstab(train.churn, train.p_w_d)"
   ]
  },
  {
   "cell_type": "code",
   "execution_count": 26,
   "id": "0b16aa18",
   "metadata": {},
   "outputs": [
    {
     "name": "stdout",
     "output_type": "stream",
     "text": [
      "total_pop: 986\n",
      "P_w_D: 17.10%\n"
     ]
    }
   ],
   "source": [
    "# % Churn\n",
    "P_w_D_Churn_Rate = 144/842\n",
    "print(f'total_pop: 986')\n",
    "print(f'P_w_D: {P_w_D_Churn_Rate:.2%}')"
   ]
  },
  {
   "cell_type": "markdown",
   "id": "5bb2423d",
   "metadata": {},
   "source": [
    "Partner, no dependents"
   ]
  },
  {
   "cell_type": "code",
   "execution_count": 27,
   "id": "f2eb7d9e",
   "metadata": {},
   "outputs": [
    {
     "data": {
      "text/html": [
       "<div>\n",
       "<style scoped>\n",
       "    .dataframe tbody tr th:only-of-type {\n",
       "        vertical-align: middle;\n",
       "    }\n",
       "\n",
       "    .dataframe tbody tr th {\n",
       "        vertical-align: top;\n",
       "    }\n",
       "\n",
       "    .dataframe thead th {\n",
       "        text-align: right;\n",
       "    }\n",
       "</style>\n",
       "<table border=\"1\" class=\"dataframe\">\n",
       "  <thead>\n",
       "    <tr style=\"text-align: right;\">\n",
       "      <th>p_no_d</th>\n",
       "      <th>0</th>\n",
       "      <th>1</th>\n",
       "    </tr>\n",
       "    <tr>\n",
       "      <th>contract_type</th>\n",
       "      <th></th>\n",
       "      <th></th>\n",
       "    </tr>\n",
       "  </thead>\n",
       "  <tbody>\n",
       "    <tr>\n",
       "      <th>Month-to-month</th>\n",
       "      <td>1723</td>\n",
       "      <td>442</td>\n",
       "    </tr>\n",
       "    <tr>\n",
       "      <th>One year</th>\n",
       "      <td>604</td>\n",
       "      <td>211</td>\n",
       "    </tr>\n",
       "    <tr>\n",
       "      <th>Two year</th>\n",
       "      <td>686</td>\n",
       "      <td>271</td>\n",
       "    </tr>\n",
       "  </tbody>\n",
       "</table>\n",
       "</div>"
      ],
      "text/plain": [
       "p_no_d             0    1\n",
       "contract_type            \n",
       "Month-to-month  1723  442\n",
       "One year         604  211\n",
       "Two year         686  271"
      ]
     },
     "execution_count": 27,
     "metadata": {},
     "output_type": "execute_result"
    }
   ],
   "source": [
    "pd.crosstab(train.contract_type, train.p_no_d)"
   ]
  },
  {
   "cell_type": "code",
   "execution_count": 28,
   "id": "5558b0c9",
   "metadata": {},
   "outputs": [
    {
     "data": {
      "text/html": [
       "<div>\n",
       "<style scoped>\n",
       "    .dataframe tbody tr th:only-of-type {\n",
       "        vertical-align: middle;\n",
       "    }\n",
       "\n",
       "    .dataframe tbody tr th {\n",
       "        vertical-align: top;\n",
       "    }\n",
       "\n",
       "    .dataframe thead th {\n",
       "        text-align: right;\n",
       "    }\n",
       "</style>\n",
       "<table border=\"1\" class=\"dataframe\">\n",
       "  <thead>\n",
       "    <tr style=\"text-align: right;\">\n",
       "      <th>p_no_d</th>\n",
       "      <th>0</th>\n",
       "      <th>1</th>\n",
       "    </tr>\n",
       "    <tr>\n",
       "      <th>churn</th>\n",
       "      <th></th>\n",
       "      <th></th>\n",
       "    </tr>\n",
       "  </thead>\n",
       "  <tbody>\n",
       "    <tr>\n",
       "      <th>No</th>\n",
       "      <td>2206</td>\n",
       "      <td>685</td>\n",
       "    </tr>\n",
       "    <tr>\n",
       "      <th>Yes</th>\n",
       "      <td>807</td>\n",
       "      <td>239</td>\n",
       "    </tr>\n",
       "  </tbody>\n",
       "</table>\n",
       "</div>"
      ],
      "text/plain": [
       "p_no_d     0    1\n",
       "churn            \n",
       "No      2206  685\n",
       "Yes      807  239"
      ]
     },
     "execution_count": 28,
     "metadata": {},
     "output_type": "execute_result"
    }
   ],
   "source": [
    "pd.crosstab(train.churn, train.p_no_d)"
   ]
  },
  {
   "cell_type": "code",
   "execution_count": 29,
   "id": "08630ff8",
   "metadata": {},
   "outputs": [
    {
     "name": "stdout",
     "output_type": "stream",
     "text": [
      "total_pop: 924\n",
      "P_no_D: 34.89%\n"
     ]
    }
   ],
   "source": [
    "P_no_D_Churn_Rate = 239/685\n",
    "print(f'total_pop: 924')\n",
    "print(f'P_no_D: {P_no_D_Churn_Rate:.2%}')"
   ]
  },
  {
   "cell_type": "markdown",
   "id": "2b6b6665",
   "metadata": {},
   "source": [
    "Dependents, no partner"
   ]
  },
  {
   "cell_type": "code",
   "execution_count": 30,
   "id": "f24697dd",
   "metadata": {},
   "outputs": [
    {
     "data": {
      "text/html": [
       "<div>\n",
       "<style scoped>\n",
       "    .dataframe tbody tr th:only-of-type {\n",
       "        vertical-align: middle;\n",
       "    }\n",
       "\n",
       "    .dataframe tbody tr th {\n",
       "        vertical-align: top;\n",
       "    }\n",
       "\n",
       "    .dataframe thead th {\n",
       "        text-align: right;\n",
       "    }\n",
       "</style>\n",
       "<table border=\"1\" class=\"dataframe\">\n",
       "  <thead>\n",
       "    <tr style=\"text-align: right;\">\n",
       "      <th>d_no_p</th>\n",
       "      <th>0</th>\n",
       "      <th>1</th>\n",
       "    </tr>\n",
       "    <tr>\n",
       "      <th>contract_type</th>\n",
       "      <th></th>\n",
       "      <th></th>\n",
       "    </tr>\n",
       "  </thead>\n",
       "  <tbody>\n",
       "    <tr>\n",
       "      <th>Month-to-month</th>\n",
       "      <td>2052</td>\n",
       "      <td>113</td>\n",
       "    </tr>\n",
       "    <tr>\n",
       "      <th>One year</th>\n",
       "      <td>767</td>\n",
       "      <td>48</td>\n",
       "    </tr>\n",
       "    <tr>\n",
       "      <th>Two year</th>\n",
       "      <td>912</td>\n",
       "      <td>45</td>\n",
       "    </tr>\n",
       "  </tbody>\n",
       "</table>\n",
       "</div>"
      ],
      "text/plain": [
       "d_no_p             0    1\n",
       "contract_type            \n",
       "Month-to-month  2052  113\n",
       "One year         767   48\n",
       "Two year         912   45"
      ]
     },
     "execution_count": 30,
     "metadata": {},
     "output_type": "execute_result"
    }
   ],
   "source": [
    "pd.crosstab(train.contract_type, train.d_no_p)"
   ]
  },
  {
   "cell_type": "code",
   "execution_count": 31,
   "id": "72812a99",
   "metadata": {},
   "outputs": [
    {
     "data": {
      "text/html": [
       "<div>\n",
       "<style scoped>\n",
       "    .dataframe tbody tr th:only-of-type {\n",
       "        vertical-align: middle;\n",
       "    }\n",
       "\n",
       "    .dataframe tbody tr th {\n",
       "        vertical-align: top;\n",
       "    }\n",
       "\n",
       "    .dataframe thead th {\n",
       "        text-align: right;\n",
       "    }\n",
       "</style>\n",
       "<table border=\"1\" class=\"dataframe\">\n",
       "  <thead>\n",
       "    <tr style=\"text-align: right;\">\n",
       "      <th>d_no_p</th>\n",
       "      <th>0</th>\n",
       "      <th>1</th>\n",
       "    </tr>\n",
       "    <tr>\n",
       "      <th>churn</th>\n",
       "      <th></th>\n",
       "      <th></th>\n",
       "    </tr>\n",
       "  </thead>\n",
       "  <tbody>\n",
       "    <tr>\n",
       "      <th>No</th>\n",
       "      <td>2727</td>\n",
       "      <td>164</td>\n",
       "    </tr>\n",
       "    <tr>\n",
       "      <th>Yes</th>\n",
       "      <td>1004</td>\n",
       "      <td>42</td>\n",
       "    </tr>\n",
       "  </tbody>\n",
       "</table>\n",
       "</div>"
      ],
      "text/plain": [
       "d_no_p     0    1\n",
       "churn            \n",
       "No      2727  164\n",
       "Yes     1004   42"
      ]
     },
     "execution_count": 31,
     "metadata": {},
     "output_type": "execute_result"
    }
   ],
   "source": [
    "pd.crosstab(train.churn, train.d_no_p)"
   ]
  },
  {
   "cell_type": "code",
   "execution_count": 32,
   "id": "8f8ec502",
   "metadata": {},
   "outputs": [
    {
     "name": "stdout",
     "output_type": "stream",
     "text": [
      "total_pop: 206\n",
      "D_no_P: 25.61%\n"
     ]
    }
   ],
   "source": [
    "D_no_P_Churn_Rate = 42/164\n",
    "print(f'total_pop: 206')\n",
    "print(f'D_no_P: {D_no_P_Churn_Rate:.2%}')"
   ]
  },
  {
   "cell_type": "markdown",
   "id": "85198064",
   "metadata": {},
   "source": [
    "Neither partner nor dependents (NONE)"
   ]
  },
  {
   "cell_type": "code",
   "execution_count": 33,
   "id": "fdbc3d68",
   "metadata": {},
   "outputs": [
    {
     "data": {
      "text/html": [
       "<div>\n",
       "<style scoped>\n",
       "    .dataframe tbody tr th:only-of-type {\n",
       "        vertical-align: middle;\n",
       "    }\n",
       "\n",
       "    .dataframe tbody tr th {\n",
       "        vertical-align: top;\n",
       "    }\n",
       "\n",
       "    .dataframe thead th {\n",
       "        text-align: right;\n",
       "    }\n",
       "</style>\n",
       "<table border=\"1\" class=\"dataframe\">\n",
       "  <thead>\n",
       "    <tr style=\"text-align: right;\">\n",
       "      <th>no_pod</th>\n",
       "      <th>0</th>\n",
       "      <th>1</th>\n",
       "    </tr>\n",
       "    <tr>\n",
       "      <th>contract_type</th>\n",
       "      <th></th>\n",
       "      <th></th>\n",
       "    </tr>\n",
       "  </thead>\n",
       "  <tbody>\n",
       "    <tr>\n",
       "      <th>Month-to-month</th>\n",
       "      <td>902</td>\n",
       "      <td>1263</td>\n",
       "    </tr>\n",
       "    <tr>\n",
       "      <th>One year</th>\n",
       "      <td>507</td>\n",
       "      <td>308</td>\n",
       "    </tr>\n",
       "    <tr>\n",
       "      <th>Two year</th>\n",
       "      <td>707</td>\n",
       "      <td>250</td>\n",
       "    </tr>\n",
       "  </tbody>\n",
       "</table>\n",
       "</div>"
      ],
      "text/plain": [
       "no_pod            0     1\n",
       "contract_type            \n",
       "Month-to-month  902  1263\n",
       "One year        507   308\n",
       "Two year        707   250"
      ]
     },
     "execution_count": 33,
     "metadata": {},
     "output_type": "execute_result"
    }
   ],
   "source": [
    "pd.crosstab(train.contract_type, train.no_pod)"
   ]
  },
  {
   "cell_type": "code",
   "execution_count": 34,
   "id": "deeea383",
   "metadata": {},
   "outputs": [
    {
     "data": {
      "text/html": [
       "<div>\n",
       "<style scoped>\n",
       "    .dataframe tbody tr th:only-of-type {\n",
       "        vertical-align: middle;\n",
       "    }\n",
       "\n",
       "    .dataframe tbody tr th {\n",
       "        vertical-align: top;\n",
       "    }\n",
       "\n",
       "    .dataframe thead th {\n",
       "        text-align: right;\n",
       "    }\n",
       "</style>\n",
       "<table border=\"1\" class=\"dataframe\">\n",
       "  <thead>\n",
       "    <tr style=\"text-align: right;\">\n",
       "      <th>no_pod</th>\n",
       "      <th>0</th>\n",
       "      <th>1</th>\n",
       "    </tr>\n",
       "    <tr>\n",
       "      <th>churn</th>\n",
       "      <th></th>\n",
       "      <th></th>\n",
       "    </tr>\n",
       "  </thead>\n",
       "  <tbody>\n",
       "    <tr>\n",
       "      <th>No</th>\n",
       "      <td>1691</td>\n",
       "      <td>1200</td>\n",
       "    </tr>\n",
       "    <tr>\n",
       "      <th>Yes</th>\n",
       "      <td>425</td>\n",
       "      <td>621</td>\n",
       "    </tr>\n",
       "  </tbody>\n",
       "</table>\n",
       "</div>"
      ],
      "text/plain": [
       "no_pod     0     1\n",
       "churn             \n",
       "No      1691  1200\n",
       "Yes      425   621"
      ]
     },
     "execution_count": 34,
     "metadata": {},
     "output_type": "execute_result"
    }
   ],
   "source": [
    "pd.crosstab(train.churn, train.no_pod)"
   ]
  },
  {
   "cell_type": "code",
   "execution_count": 35,
   "id": "a6101de6",
   "metadata": {},
   "outputs": [
    {
     "name": "stdout",
     "output_type": "stream",
     "text": [
      "total_pop: 1821\n",
      "neither: 51.75%\n"
     ]
    }
   ],
   "source": [
    "D_no_P_Churn_Rate = 621/1200\n",
    "print(f'total_pop: 1821')\n",
    "print(f'neither: {D_no_P_Churn_Rate:.2%}')"
   ]
  },
  {
   "cell_type": "markdown",
   "id": "49a88a4a",
   "metadata": {},
   "source": [
    "### Exploring: M2M Churn by Payment Type"
   ]
  },
  {
   "cell_type": "code",
   "execution_count": 36,
   "id": "0f463451",
   "metadata": {
    "scrolled": true
   },
   "outputs": [
    {
     "data": {
      "text/html": [
       "<div>\n",
       "<style scoped>\n",
       "    .dataframe tbody tr th:only-of-type {\n",
       "        vertical-align: middle;\n",
       "    }\n",
       "\n",
       "    .dataframe tbody tr th {\n",
       "        vertical-align: top;\n",
       "    }\n",
       "\n",
       "    .dataframe thead th {\n",
       "        text-align: right;\n",
       "    }\n",
       "</style>\n",
       "<table border=\"1\" class=\"dataframe\">\n",
       "  <thead>\n",
       "    <tr style=\"text-align: right;\">\n",
       "      <th>a_bank_tr</th>\n",
       "      <th>0</th>\n",
       "      <th>1</th>\n",
       "    </tr>\n",
       "    <tr>\n",
       "      <th>m2m</th>\n",
       "      <th></th>\n",
       "      <th></th>\n",
       "    </tr>\n",
       "  </thead>\n",
       "  <tbody>\n",
       "    <tr>\n",
       "      <th>0</th>\n",
       "      <td>1234</td>\n",
       "      <td>538</td>\n",
       "    </tr>\n",
       "    <tr>\n",
       "      <th>1</th>\n",
       "      <td>1841</td>\n",
       "      <td>324</td>\n",
       "    </tr>\n",
       "  </tbody>\n",
       "</table>\n",
       "</div>"
      ],
      "text/plain": [
       "a_bank_tr     0    1\n",
       "m2m                 \n",
       "0          1234  538\n",
       "1          1841  324"
      ]
     },
     "execution_count": 36,
     "metadata": {},
     "output_type": "execute_result"
    }
   ],
   "source": [
    "pd.crosstab(train['m2m'], train['a_bank_tr'])"
   ]
  },
  {
   "cell_type": "code",
   "execution_count": 37,
   "id": "12a56616",
   "metadata": {},
   "outputs": [
    {
     "data": {
      "text/html": [
       "<div>\n",
       "<style scoped>\n",
       "    .dataframe tbody tr th:only-of-type {\n",
       "        vertical-align: middle;\n",
       "    }\n",
       "\n",
       "    .dataframe tbody tr th {\n",
       "        vertical-align: top;\n",
       "    }\n",
       "\n",
       "    .dataframe thead th {\n",
       "        text-align: right;\n",
       "    }\n",
       "</style>\n",
       "<table border=\"1\" class=\"dataframe\">\n",
       "  <thead>\n",
       "    <tr style=\"text-align: right;\">\n",
       "      <th>a_bank_tr</th>\n",
       "      <th>0</th>\n",
       "      <th>1</th>\n",
       "    </tr>\n",
       "    <tr>\n",
       "      <th>churn</th>\n",
       "      <th></th>\n",
       "      <th></th>\n",
       "    </tr>\n",
       "  </thead>\n",
       "  <tbody>\n",
       "    <tr>\n",
       "      <th>No</th>\n",
       "      <td>2178</td>\n",
       "      <td>713</td>\n",
       "    </tr>\n",
       "    <tr>\n",
       "      <th>Yes</th>\n",
       "      <td>897</td>\n",
       "      <td>149</td>\n",
       "    </tr>\n",
       "  </tbody>\n",
       "</table>\n",
       "</div>"
      ],
      "text/plain": [
       "a_bank_tr     0    1\n",
       "churn               \n",
       "No         2178  713\n",
       "Yes         897  149"
      ]
     },
     "execution_count": 37,
     "metadata": {},
     "output_type": "execute_result"
    }
   ],
   "source": [
    "pd.crosstab(train['churn'], train['a_bank_tr'])"
   ]
  },
  {
   "cell_type": "code",
   "execution_count": 38,
   "id": "a46fd5dc",
   "metadata": {},
   "outputs": [
    {
     "name": "stdout",
     "output_type": "stream",
     "text": [
      "total_pop: 862\n",
      "Bank_Tr_Churn_Rate: 20.90%\n"
     ]
    }
   ],
   "source": [
    "# % Churn\n",
    "Bank_Tr_Churn_Rate = 149/713\n",
    "print(f'total_pop: 862')\n",
    "print(f'Bank_Tr_Churn_Rate: {Bank_Tr_Churn_Rate:.2%}')"
   ]
  },
  {
   "cell_type": "code",
   "execution_count": 39,
   "id": "437b0d22",
   "metadata": {},
   "outputs": [
    {
     "data": {
      "text/html": [
       "<div>\n",
       "<style scoped>\n",
       "    .dataframe tbody tr th:only-of-type {\n",
       "        vertical-align: middle;\n",
       "    }\n",
       "\n",
       "    .dataframe tbody tr th {\n",
       "        vertical-align: top;\n",
       "    }\n",
       "\n",
       "    .dataframe thead th {\n",
       "        text-align: right;\n",
       "    }\n",
       "</style>\n",
       "<table border=\"1\" class=\"dataframe\">\n",
       "  <thead>\n",
       "    <tr style=\"text-align: right;\">\n",
       "      <th>a_ccard</th>\n",
       "      <th>0</th>\n",
       "      <th>1</th>\n",
       "    </tr>\n",
       "    <tr>\n",
       "      <th>m2m</th>\n",
       "      <th></th>\n",
       "      <th></th>\n",
       "    </tr>\n",
       "  </thead>\n",
       "  <tbody>\n",
       "    <tr>\n",
       "      <th>0</th>\n",
       "      <td>1203</td>\n",
       "      <td>569</td>\n",
       "    </tr>\n",
       "    <tr>\n",
       "      <th>1</th>\n",
       "      <td>1839</td>\n",
       "      <td>326</td>\n",
       "    </tr>\n",
       "  </tbody>\n",
       "</table>\n",
       "</div>"
      ],
      "text/plain": [
       "a_ccard     0    1\n",
       "m2m               \n",
       "0        1203  569\n",
       "1        1839  326"
      ]
     },
     "execution_count": 39,
     "metadata": {},
     "output_type": "execute_result"
    }
   ],
   "source": [
    "pd.crosstab(train['m2m'], train['a_ccard'])"
   ]
  },
  {
   "cell_type": "code",
   "execution_count": 40,
   "id": "25e41a44",
   "metadata": {},
   "outputs": [
    {
     "data": {
      "text/html": [
       "<div>\n",
       "<style scoped>\n",
       "    .dataframe tbody tr th:only-of-type {\n",
       "        vertical-align: middle;\n",
       "    }\n",
       "\n",
       "    .dataframe tbody tr th {\n",
       "        vertical-align: top;\n",
       "    }\n",
       "\n",
       "    .dataframe thead th {\n",
       "        text-align: right;\n",
       "    }\n",
       "</style>\n",
       "<table border=\"1\" class=\"dataframe\">\n",
       "  <thead>\n",
       "    <tr style=\"text-align: right;\">\n",
       "      <th>a_ccard</th>\n",
       "      <th>0</th>\n",
       "      <th>1</th>\n",
       "    </tr>\n",
       "    <tr>\n",
       "      <th>churn</th>\n",
       "      <th></th>\n",
       "      <th></th>\n",
       "    </tr>\n",
       "  </thead>\n",
       "  <tbody>\n",
       "    <tr>\n",
       "      <th>No</th>\n",
       "      <td>2141</td>\n",
       "      <td>750</td>\n",
       "    </tr>\n",
       "    <tr>\n",
       "      <th>Yes</th>\n",
       "      <td>901</td>\n",
       "      <td>145</td>\n",
       "    </tr>\n",
       "  </tbody>\n",
       "</table>\n",
       "</div>"
      ],
      "text/plain": [
       "a_ccard     0    1\n",
       "churn             \n",
       "No       2141  750\n",
       "Yes       901  145"
      ]
     },
     "execution_count": 40,
     "metadata": {},
     "output_type": "execute_result"
    }
   ],
   "source": [
    "pd.crosstab(train['churn'], train['a_ccard'])"
   ]
  },
  {
   "cell_type": "code",
   "execution_count": 41,
   "id": "b80b94a0",
   "metadata": {},
   "outputs": [
    {
     "name": "stdout",
     "output_type": "stream",
     "text": [
      "total_pop: 895\n",
      "CC_Churn_Rate: 19.33%\n"
     ]
    }
   ],
   "source": [
    "# % Churn\n",
    "CC_Churn_Rate = 145/750\n",
    "print(f'total_pop: 895')\n",
    "print(f'CC_Churn_Rate: {CC_Churn_Rate:.2%}')"
   ]
  },
  {
   "cell_type": "code",
   "execution_count": 42,
   "id": "14a0ab3f",
   "metadata": {},
   "outputs": [
    {
     "data": {
      "text/html": [
       "<div>\n",
       "<style scoped>\n",
       "    .dataframe tbody tr th:only-of-type {\n",
       "        vertical-align: middle;\n",
       "    }\n",
       "\n",
       "    .dataframe tbody tr th {\n",
       "        vertical-align: top;\n",
       "    }\n",
       "\n",
       "    .dataframe thead th {\n",
       "        text-align: right;\n",
       "    }\n",
       "</style>\n",
       "<table border=\"1\" class=\"dataframe\">\n",
       "  <thead>\n",
       "    <tr style=\"text-align: right;\">\n",
       "      <th>e_check</th>\n",
       "      <th>0</th>\n",
       "      <th>1</th>\n",
       "    </tr>\n",
       "    <tr>\n",
       "      <th>m2m</th>\n",
       "      <th></th>\n",
       "      <th></th>\n",
       "    </tr>\n",
       "  </thead>\n",
       "  <tbody>\n",
       "    <tr>\n",
       "      <th>0</th>\n",
       "      <td>1491</td>\n",
       "      <td>281</td>\n",
       "    </tr>\n",
       "    <tr>\n",
       "      <th>1</th>\n",
       "      <td>1157</td>\n",
       "      <td>1008</td>\n",
       "    </tr>\n",
       "  </tbody>\n",
       "</table>\n",
       "</div>"
      ],
      "text/plain": [
       "e_check     0     1\n",
       "m2m                \n",
       "0        1491   281\n",
       "1        1157  1008"
      ]
     },
     "execution_count": 42,
     "metadata": {},
     "output_type": "execute_result"
    }
   ],
   "source": [
    "pd.crosstab(train['m2m'], train['e_check'])"
   ]
  },
  {
   "cell_type": "code",
   "execution_count": 43,
   "id": "bac22762",
   "metadata": {},
   "outputs": [
    {
     "data": {
      "text/html": [
       "<div>\n",
       "<style scoped>\n",
       "    .dataframe tbody tr th:only-of-type {\n",
       "        vertical-align: middle;\n",
       "    }\n",
       "\n",
       "    .dataframe tbody tr th {\n",
       "        vertical-align: top;\n",
       "    }\n",
       "\n",
       "    .dataframe thead th {\n",
       "        text-align: right;\n",
       "    }\n",
       "</style>\n",
       "<table border=\"1\" class=\"dataframe\">\n",
       "  <thead>\n",
       "    <tr style=\"text-align: right;\">\n",
       "      <th>e_check</th>\n",
       "      <th>0</th>\n",
       "      <th>1</th>\n",
       "    </tr>\n",
       "    <tr>\n",
       "      <th>churn</th>\n",
       "      <th></th>\n",
       "      <th></th>\n",
       "    </tr>\n",
       "  </thead>\n",
       "  <tbody>\n",
       "    <tr>\n",
       "      <th>No</th>\n",
       "      <td>2183</td>\n",
       "      <td>708</td>\n",
       "    </tr>\n",
       "    <tr>\n",
       "      <th>Yes</th>\n",
       "      <td>465</td>\n",
       "      <td>581</td>\n",
       "    </tr>\n",
       "  </tbody>\n",
       "</table>\n",
       "</div>"
      ],
      "text/plain": [
       "e_check     0    1\n",
       "churn             \n",
       "No       2183  708\n",
       "Yes       465  581"
      ]
     },
     "execution_count": 43,
     "metadata": {},
     "output_type": "execute_result"
    }
   ],
   "source": [
    "pd.crosstab(train['churn'], train['e_check'])"
   ]
  },
  {
   "cell_type": "code",
   "execution_count": 44,
   "id": "954bdbee",
   "metadata": {
    "scrolled": true
   },
   "outputs": [
    {
     "name": "stdout",
     "output_type": "stream",
     "text": [
      "total_pop: 1289\n",
      "Electronic_Check_Churn_Rate: 82.06%\n"
     ]
    }
   ],
   "source": [
    "# % Churn\n",
    "Electronic_Check_Churn_Rate = 581/708\n",
    "print(f'total_pop: 1289')\n",
    "print(f'Electronic_Check_Churn_Rate: {Electronic_Check_Churn_Rate:.2%}')"
   ]
  },
  {
   "cell_type": "markdown",
   "id": "801e0606",
   "metadata": {},
   "source": [
    "#### ****Electronic Check Churn Rate is VERY HIGH. Explore further!"
   ]
  },
  {
   "cell_type": "code",
   "execution_count": 45,
   "id": "c0da780b",
   "metadata": {},
   "outputs": [
    {
     "data": {
      "text/html": [
       "<div>\n",
       "<style scoped>\n",
       "    .dataframe tbody tr th:only-of-type {\n",
       "        vertical-align: middle;\n",
       "    }\n",
       "\n",
       "    .dataframe tbody tr th {\n",
       "        vertical-align: top;\n",
       "    }\n",
       "\n",
       "    .dataframe thead th {\n",
       "        text-align: right;\n",
       "    }\n",
       "</style>\n",
       "<table border=\"1\" class=\"dataframe\">\n",
       "  <thead>\n",
       "    <tr style=\"text-align: right;\">\n",
       "      <th>m_check</th>\n",
       "      <th>0</th>\n",
       "      <th>1</th>\n",
       "    </tr>\n",
       "    <tr>\n",
       "      <th>m2m</th>\n",
       "      <th></th>\n",
       "      <th></th>\n",
       "    </tr>\n",
       "  </thead>\n",
       "  <tbody>\n",
       "    <tr>\n",
       "      <th>0</th>\n",
       "      <td>1388</td>\n",
       "      <td>384</td>\n",
       "    </tr>\n",
       "    <tr>\n",
       "      <th>1</th>\n",
       "      <td>1658</td>\n",
       "      <td>507</td>\n",
       "    </tr>\n",
       "  </tbody>\n",
       "</table>\n",
       "</div>"
      ],
      "text/plain": [
       "m_check     0    1\n",
       "m2m               \n",
       "0        1388  384\n",
       "1        1658  507"
      ]
     },
     "execution_count": 45,
     "metadata": {},
     "output_type": "execute_result"
    }
   ],
   "source": [
    "pd.crosstab(train['m2m'], train['m_check'])"
   ]
  },
  {
   "cell_type": "code",
   "execution_count": 46,
   "id": "a11a8497",
   "metadata": {},
   "outputs": [
    {
     "data": {
      "text/html": [
       "<div>\n",
       "<style scoped>\n",
       "    .dataframe tbody tr th:only-of-type {\n",
       "        vertical-align: middle;\n",
       "    }\n",
       "\n",
       "    .dataframe tbody tr th {\n",
       "        vertical-align: top;\n",
       "    }\n",
       "\n",
       "    .dataframe thead th {\n",
       "        text-align: right;\n",
       "    }\n",
       "</style>\n",
       "<table border=\"1\" class=\"dataframe\">\n",
       "  <thead>\n",
       "    <tr style=\"text-align: right;\">\n",
       "      <th>m_check</th>\n",
       "      <th>0</th>\n",
       "      <th>1</th>\n",
       "    </tr>\n",
       "    <tr>\n",
       "      <th>churn</th>\n",
       "      <th></th>\n",
       "      <th></th>\n",
       "    </tr>\n",
       "  </thead>\n",
       "  <tbody>\n",
       "    <tr>\n",
       "      <th>No</th>\n",
       "      <td>2171</td>\n",
       "      <td>720</td>\n",
       "    </tr>\n",
       "    <tr>\n",
       "      <th>Yes</th>\n",
       "      <td>875</td>\n",
       "      <td>171</td>\n",
       "    </tr>\n",
       "  </tbody>\n",
       "</table>\n",
       "</div>"
      ],
      "text/plain": [
       "m_check     0    1\n",
       "churn             \n",
       "No       2171  720\n",
       "Yes       875  171"
      ]
     },
     "execution_count": 46,
     "metadata": {},
     "output_type": "execute_result"
    }
   ],
   "source": [
    "pd.crosstab(train['churn'], train['m_check'])"
   ]
  },
  {
   "cell_type": "code",
   "execution_count": 47,
   "id": "c0d93bef",
   "metadata": {
    "scrolled": true
   },
   "outputs": [
    {
     "name": "stdout",
     "output_type": "stream",
     "text": [
      "total_pop: 891\n",
      "Mailed_Check_Churn_Rate: 23.75%\n"
     ]
    }
   ],
   "source": [
    "# % Churn\n",
    "Mailed_Check_Churn_Rate = 171/720\n",
    "print(f'total_pop: 891')\n",
    "print(f'Mailed_Check_Churn_Rate: {Mailed_Check_Churn_Rate:.2%}')"
   ]
  },
  {
   "cell_type": "markdown",
   "id": "963b33e4",
   "metadata": {},
   "source": [
    "### Exploring: (payment_type) Electronic Check - Churn"
   ]
  },
  {
   "cell_type": "code",
   "execution_count": 48,
   "id": "24534e35",
   "metadata": {
    "scrolled": true
   },
   "outputs": [
    {
     "name": "stdout",
     "output_type": "stream",
     "text": [
      "<class 'pandas.core.frame.DataFrame'>\n",
      "Int64Index: 3937 entries, 5919 to 4192\n",
      "Data columns (total 64 columns):\n",
      " #   Column                                 Non-Null Count  Dtype  \n",
      "---  ------                                 --------------  -----  \n",
      " 0   gender                                 3937 non-null   object \n",
      " 1   senior_citizen                         3937 non-null   int64  \n",
      " 2   partner                                3937 non-null   object \n",
      " 3   dependents                             3937 non-null   object \n",
      " 4   tenure                                 3937 non-null   int64  \n",
      " 5   phone_service                          3937 non-null   object \n",
      " 6   multiple_lines                         3937 non-null   object \n",
      " 7   online_security                        3937 non-null   object \n",
      " 8   online_backup                          3937 non-null   object \n",
      " 9   device_protection                      3937 non-null   object \n",
      " 10  tech_support                           3937 non-null   object \n",
      " 11  streaming_tv                           3937 non-null   object \n",
      " 12  streaming_movies                       3937 non-null   object \n",
      " 13  paperless_billing                      3937 non-null   object \n",
      " 14  monthly_charges                        3937 non-null   float64\n",
      " 15  total_charges                          3937 non-null   float64\n",
      " 16  churn                                  3937 non-null   object \n",
      " 17  contract_type_id.1                     3937 non-null   int64  \n",
      " 18  contract_type                          3937 non-null   object \n",
      " 19  payment_type_id.1                      3937 non-null   int64  \n",
      " 20  payment_type                           3937 non-null   object \n",
      " 21  internet_service_type_id.1             3937 non-null   int64  \n",
      " 22  internet_service_type                  3937 non-null   object \n",
      " 23  gender_encoded                         3937 non-null   int64  \n",
      " 24  partner_encoded                        3937 non-null   int64  \n",
      " 25  dependents_encoded                     3937 non-null   int64  \n",
      " 26  phone_service_encoded                  3937 non-null   int64  \n",
      " 27  paperless_billing_encoded              3937 non-null   int64  \n",
      " 28  churn_encoded                          3937 non-null   int64  \n",
      " 29  multiple_lines_No                      3937 non-null   uint8  \n",
      " 30  multiple_lines_No phone service        3937 non-null   uint8  \n",
      " 31  multiple_lines_Yes                     3937 non-null   uint8  \n",
      " 32  online_security_No                     3937 non-null   uint8  \n",
      " 33  online_security_No internet service    3937 non-null   uint8  \n",
      " 34  online_security_Yes                    3937 non-null   uint8  \n",
      " 35  online_backup_No                       3937 non-null   uint8  \n",
      " 36  online_backup_No internet service      3937 non-null   uint8  \n",
      " 37  online_backup_Yes                      3937 non-null   uint8  \n",
      " 38  device_protection_No                   3937 non-null   uint8  \n",
      " 39  device_protection_No internet service  3937 non-null   uint8  \n",
      " 40  device_protection_Yes                  3937 non-null   uint8  \n",
      " 41  tech_support_No                        3937 non-null   uint8  \n",
      " 42  tech_support_No internet service       3937 non-null   uint8  \n",
      " 43  tech_support_Yes                       3937 non-null   uint8  \n",
      " 44  streaming_tv_No                        3937 non-null   uint8  \n",
      " 45  streaming_tv_No internet service       3937 non-null   uint8  \n",
      " 46  streaming_tv_Yes                       3937 non-null   uint8  \n",
      " 47  streaming_movies_No                    3937 non-null   uint8  \n",
      " 48  streaming_movies_No internet service   3937 non-null   uint8  \n",
      " 49  streaming_movies_Yes                   3937 non-null   uint8  \n",
      " 50  m2m                                    3937 non-null   uint8  \n",
      " 51  yr1                                    3937 non-null   uint8  \n",
      " 52  yr2                                    3937 non-null   uint8  \n",
      " 53  DSL                                    3937 non-null   uint8  \n",
      " 54  fiber                                  3937 non-null   uint8  \n",
      " 55  no_int                                 3937 non-null   uint8  \n",
      " 56  a_bank_tr                              3937 non-null   uint8  \n",
      " 57  a_ccard                                3937 non-null   uint8  \n",
      " 58  e_check                                3937 non-null   uint8  \n",
      " 59  m_check                                3937 non-null   uint8  \n",
      " 60  p_w_d                                  3937 non-null   int64  \n",
      " 61  p_no_d                                 3937 non-null   int64  \n",
      " 62  d_no_p                                 3937 non-null   int64  \n",
      " 63  no_pod                                 3937 non-null   int64  \n",
      "dtypes: float64(2), int64(15), object(16), uint8(31)\n",
      "memory usage: 1.1+ MB\n"
     ]
    }
   ],
   "source": [
    "train.info()"
   ]
  },
  {
   "cell_type": "code",
   "execution_count": 49,
   "id": "6dc0d994",
   "metadata": {},
   "outputs": [
    {
     "data": {
      "text/html": [
       "<div>\n",
       "<style scoped>\n",
       "    .dataframe tbody tr th:only-of-type {\n",
       "        vertical-align: middle;\n",
       "    }\n",
       "\n",
       "    .dataframe tbody tr th {\n",
       "        vertical-align: top;\n",
       "    }\n",
       "\n",
       "    .dataframe thead th {\n",
       "        text-align: right;\n",
       "    }\n",
       "</style>\n",
       "<table border=\"1\" class=\"dataframe\">\n",
       "  <thead>\n",
       "    <tr style=\"text-align: right;\">\n",
       "      <th>senior_citizen</th>\n",
       "      <th>0</th>\n",
       "      <th>1</th>\n",
       "    </tr>\n",
       "    <tr>\n",
       "      <th>e_check</th>\n",
       "      <th></th>\n",
       "      <th></th>\n",
       "    </tr>\n",
       "  </thead>\n",
       "  <tbody>\n",
       "    <tr>\n",
       "      <th>0</th>\n",
       "      <td>2337</td>\n",
       "      <td>311</td>\n",
       "    </tr>\n",
       "    <tr>\n",
       "      <th>1</th>\n",
       "      <td>965</td>\n",
       "      <td>324</td>\n",
       "    </tr>\n",
       "  </tbody>\n",
       "</table>\n",
       "</div>"
      ],
      "text/plain": [
       "senior_citizen     0    1\n",
       "e_check                  \n",
       "0               2337  311\n",
       "1                965  324"
      ]
     },
     "execution_count": 49,
     "metadata": {},
     "output_type": "execute_result"
    }
   ],
   "source": [
    "pd.crosstab(train['e_check'], train['senior_citizen'])"
   ]
  },
  {
   "cell_type": "code",
   "execution_count": 50,
   "id": "4217ac4e",
   "metadata": {
    "scrolled": true
   },
   "outputs": [
    {
     "data": {
      "text/plain": [
       "e_check  internet_service_type\n",
       "0        DSL                      996\n",
       "         Fiber optic              860\n",
       "         None                     792\n",
       "1        Fiber optic              862\n",
       "         DSL                      352\n",
       "         None                      75\n",
       "Name: internet_service_type, dtype: int64"
      ]
     },
     "execution_count": 50,
     "metadata": {},
     "output_type": "execute_result"
    }
   ],
   "source": [
    "###### ***fiber has high churn. explore further\n",
    "train.groupby('e_check').internet_service_type.value_counts()"
   ]
  },
  {
   "cell_type": "code",
   "execution_count": 51,
   "id": "e40a254b",
   "metadata": {},
   "outputs": [
    {
     "data": {
      "text/plain": [
       "e_check\n",
       "0    59.340427\n",
       "1    76.031303\n",
       "Name: monthly_charges, dtype: float64"
      ]
     },
     "execution_count": 51,
     "metadata": {},
     "output_type": "execute_result"
    }
   ],
   "source": [
    "train.groupby('e_check').monthly_charges.mean()"
   ]
  },
  {
   "cell_type": "code",
   "execution_count": 52,
   "id": "0c0a8ed0",
   "metadata": {},
   "outputs": [
    {
     "data": {
      "text/plain": [
       "m_check\n",
       "0    70.861556\n",
       "1    44.100449\n",
       "Name: monthly_charges, dtype: float64"
      ]
     },
     "execution_count": 52,
     "metadata": {},
     "output_type": "execute_result"
    }
   ],
   "source": [
    "# determines that mailed_check is not worth looking at.\n",
    "# assuming that mailed_check customers are mostly senior_citizens who don't affect churn considerably\n",
    "train.groupby('m_check').monthly_charges.mean()"
   ]
  },
  {
   "cell_type": "markdown",
   "id": "575fb4b8",
   "metadata": {},
   "source": [
    "### Exploring: (internet_service_type) Fiber vs DSL - Churn"
   ]
  },
  {
   "cell_type": "code",
   "execution_count": 53,
   "id": "7d1a6b93",
   "metadata": {
    "scrolled": true
   },
   "outputs": [
    {
     "name": "stdout",
     "output_type": "stream",
     "text": [
      "<class 'pandas.core.frame.DataFrame'>\n",
      "Int64Index: 3937 entries, 5919 to 4192\n",
      "Data columns (total 64 columns):\n",
      " #   Column                                 Non-Null Count  Dtype  \n",
      "---  ------                                 --------------  -----  \n",
      " 0   gender                                 3937 non-null   object \n",
      " 1   senior_citizen                         3937 non-null   int64  \n",
      " 2   partner                                3937 non-null   object \n",
      " 3   dependents                             3937 non-null   object \n",
      " 4   tenure                                 3937 non-null   int64  \n",
      " 5   phone_service                          3937 non-null   object \n",
      " 6   multiple_lines                         3937 non-null   object \n",
      " 7   online_security                        3937 non-null   object \n",
      " 8   online_backup                          3937 non-null   object \n",
      " 9   device_protection                      3937 non-null   object \n",
      " 10  tech_support                           3937 non-null   object \n",
      " 11  streaming_tv                           3937 non-null   object \n",
      " 12  streaming_movies                       3937 non-null   object \n",
      " 13  paperless_billing                      3937 non-null   object \n",
      " 14  monthly_charges                        3937 non-null   float64\n",
      " 15  total_charges                          3937 non-null   float64\n",
      " 16  churn                                  3937 non-null   object \n",
      " 17  contract_type_id.1                     3937 non-null   int64  \n",
      " 18  contract_type                          3937 non-null   object \n",
      " 19  payment_type_id.1                      3937 non-null   int64  \n",
      " 20  payment_type                           3937 non-null   object \n",
      " 21  internet_service_type_id.1             3937 non-null   int64  \n",
      " 22  internet_service_type                  3937 non-null   object \n",
      " 23  gender_encoded                         3937 non-null   int64  \n",
      " 24  partner_encoded                        3937 non-null   int64  \n",
      " 25  dependents_encoded                     3937 non-null   int64  \n",
      " 26  phone_service_encoded                  3937 non-null   int64  \n",
      " 27  paperless_billing_encoded              3937 non-null   int64  \n",
      " 28  churn_encoded                          3937 non-null   int64  \n",
      " 29  multiple_lines_No                      3937 non-null   uint8  \n",
      " 30  multiple_lines_No phone service        3937 non-null   uint8  \n",
      " 31  multiple_lines_Yes                     3937 non-null   uint8  \n",
      " 32  online_security_No                     3937 non-null   uint8  \n",
      " 33  online_security_No internet service    3937 non-null   uint8  \n",
      " 34  online_security_Yes                    3937 non-null   uint8  \n",
      " 35  online_backup_No                       3937 non-null   uint8  \n",
      " 36  online_backup_No internet service      3937 non-null   uint8  \n",
      " 37  online_backup_Yes                      3937 non-null   uint8  \n",
      " 38  device_protection_No                   3937 non-null   uint8  \n",
      " 39  device_protection_No internet service  3937 non-null   uint8  \n",
      " 40  device_protection_Yes                  3937 non-null   uint8  \n",
      " 41  tech_support_No                        3937 non-null   uint8  \n",
      " 42  tech_support_No internet service       3937 non-null   uint8  \n",
      " 43  tech_support_Yes                       3937 non-null   uint8  \n",
      " 44  streaming_tv_No                        3937 non-null   uint8  \n",
      " 45  streaming_tv_No internet service       3937 non-null   uint8  \n",
      " 46  streaming_tv_Yes                       3937 non-null   uint8  \n",
      " 47  streaming_movies_No                    3937 non-null   uint8  \n",
      " 48  streaming_movies_No internet service   3937 non-null   uint8  \n",
      " 49  streaming_movies_Yes                   3937 non-null   uint8  \n",
      " 50  m2m                                    3937 non-null   uint8  \n",
      " 51  yr1                                    3937 non-null   uint8  \n",
      " 52  yr2                                    3937 non-null   uint8  \n",
      " 53  DSL                                    3937 non-null   uint8  \n",
      " 54  fiber                                  3937 non-null   uint8  \n",
      " 55  no_int                                 3937 non-null   uint8  \n",
      " 56  a_bank_tr                              3937 non-null   uint8  \n",
      " 57  a_ccard                                3937 non-null   uint8  \n",
      " 58  e_check                                3937 non-null   uint8  \n",
      " 59  m_check                                3937 non-null   uint8  \n",
      " 60  p_w_d                                  3937 non-null   int64  \n",
      " 61  p_no_d                                 3937 non-null   int64  \n",
      " 62  d_no_p                                 3937 non-null   int64  \n",
      " 63  no_pod                                 3937 non-null   int64  \n",
      "dtypes: float64(2), int64(15), object(16), uint8(31)\n",
      "memory usage: 1.1+ MB\n"
     ]
    }
   ],
   "source": [
    "train.info()\n"
   ]
  },
  {
   "cell_type": "code",
   "execution_count": 54,
   "id": "e12b4d9d",
   "metadata": {},
   "outputs": [
    {
     "data": {
      "text/plain": [
       "churn  internet_service_type\n",
       "No     DSL                      1101\n",
       "       Fiber optic               987\n",
       "       None                      803\n",
       "Yes    Fiber optic               735\n",
       "       DSL                       247\n",
       "       None                       64\n",
       "Name: internet_service_type, dtype: int64"
      ]
     },
     "execution_count": 54,
     "metadata": {},
     "output_type": "execute_result"
    }
   ],
   "source": [
    "###### ***fiber has high churn. explore further\n",
    "train.groupby('churn').internet_service_type.value_counts()"
   ]
  },
  {
   "cell_type": "code",
   "execution_count": 55,
   "id": "299bf273",
   "metadata": {},
   "outputs": [
    {
     "data": {
      "text/plain": [
       "fiber\n",
       "0    43.786411\n",
       "1    91.841405\n",
       "Name: monthly_charges, dtype: float64"
      ]
     },
     "execution_count": 55,
     "metadata": {},
     "output_type": "execute_result"
    }
   ],
   "source": [
    "# Average monthly charge for customers with and without Fiber\n",
    "train.groupby('fiber').monthly_charges.mean()"
   ]
  },
  {
   "cell_type": "code",
   "execution_count": 56,
   "id": "49738742",
   "metadata": {},
   "outputs": [
    {
     "data": {
      "image/png": "[encoded data removed]",
      "text/plain": [
       "<Figure size 432x288 with 1 Axes>"
      ]
     },
     "metadata": {
      "needs_background": "light"
     },
     "output_type": "display_data"
    },
    {
     "data": {
      "image/png": "[encoded data removed]",
      "text/plain": [
       "<Figure size 432x288 with 1 Axes>"
      ]
     },
     "metadata": {
      "needs_background": "light"
     },
     "output_type": "display_data"
    },
    {
     "data": {
      "image/png": "[encoded data removed]",
      "text/plain": [
       "<Figure size 432x288 with 1 Axes>"
      ]
     },
     "metadata": {
      "needs_background": "light"
     },
     "output_type": "display_data"
    }
   ],
   "source": [
    "# Barplot expressing churn rate of customers by contract type: Month-to-Month, 1-yr, and 2-yr contracts\n",
    "variables = ['m2m', 'yr1', 'yr2']\n",
    "\n",
    "mean = [train['m2m'].mean(), train['yr1'].mean(), train['yr2'].mean()]\n",
    "\n",
    "for x in range(0,3):\n",
    "    sns.barplot('churn',variables[x], data=train)\n",
    "    \n",
    "    plt.xlabel('')\n",
    "    plt.title(variables[x])\n",
    "    plt.axhline(mean[x], ls = '--', color = 'black')\n",
    "    plt.show()"
   ]
  },
  {
   "cell_type": "code",
   "execution_count": 57,
   "id": "8741e65c",
   "metadata": {},
   "outputs": [
    {
     "data": {
      "image/png": "[encoded data removed]",
      "text/plain": [
       "<Figure size 1152x432 with 3 Axes>"
      ]
     },
     "metadata": {
      "needs_background": "light"
     },
     "output_type": "display_data"
    }
   ],
   "source": [
    "features = ['m2m', 'yr1', 'yr2']\n",
    "\n",
    "enumerate(features)\n",
    "\n",
    "list(enumerate(features))\n",
    "\n",
    "mean = [train['m2m'].mean(), train['yr1'].mean(), train['yr2'].mean()]\n",
    "_, ax = plt.subplots(nrows=1, ncols=3, figsize=(16, 6), sharey=True)\n",
    "for i, feature in enumerate(features):\n",
    "    sns.barplot('churn', feature, data=train\n",
    "                , ax=ax[i], alpha=0.5)\n",
    "    ax[i].set_xlabel('Churn')\n",
    "    ax[i].set_ylabel('Churn Rate')\n",
    "    ax[i].set_title(feature)\n",
    "    ax[i].axhline(churn_rate, ls='--', color='grey')"
   ]
  },
  {
   "cell_type": "code",
   "execution_count": 58,
   "id": "d5c59c08",
   "metadata": {
    "scrolled": true
   },
   "outputs": [
    {
     "name": "stdout",
     "output_type": "stream",
     "text": [
      "<class 'pandas.core.frame.DataFrame'>\n",
      "Int64Index: 3937 entries, 5919 to 4192\n",
      "Data columns (total 64 columns):\n",
      " #   Column                                 Non-Null Count  Dtype  \n",
      "---  ------                                 --------------  -----  \n",
      " 0   gender                                 3937 non-null   object \n",
      " 1   senior_citizen                         3937 non-null   int64  \n",
      " 2   partner                                3937 non-null   object \n",
      " 3   dependents                             3937 non-null   object \n",
      " 4   tenure                                 3937 non-null   int64  \n",
      " 5   phone_service                          3937 non-null   object \n",
      " 6   multiple_lines                         3937 non-null   object \n",
      " 7   online_security                        3937 non-null   object \n",
      " 8   online_backup                          3937 non-null   object \n",
      " 9   device_protection                      3937 non-null   object \n",
      " 10  tech_support                           3937 non-null   object \n",
      " 11  streaming_tv                           3937 non-null   object \n",
      " 12  streaming_movies                       3937 non-null   object \n",
      " 13  paperless_billing                      3937 non-null   object \n",
      " 14  monthly_charges                        3937 non-null   float64\n",
      " 15  total_charges                          3937 non-null   float64\n",
      " 16  churn                                  3937 non-null   object \n",
      " 17  contract_type_id.1                     3937 non-null   int64  \n",
      " 18  contract_type                          3937 non-null   object \n",
      " 19  payment_type_id.1                      3937 non-null   int64  \n",
      " 20  payment_type                           3937 non-null   object \n",
      " 21  internet_service_type_id.1             3937 non-null   int64  \n",
      " 22  internet_service_type                  3937 non-null   object \n",
      " 23  gender_encoded                         3937 non-null   int64  \n",
      " 24  partner_encoded                        3937 non-null   int64  \n",
      " 25  dependents_encoded                     3937 non-null   int64  \n",
      " 26  phone_service_encoded                  3937 non-null   int64  \n",
      " 27  paperless_billing_encoded              3937 non-null   int64  \n",
      " 28  churn_encoded                          3937 non-null   int64  \n",
      " 29  multiple_lines_No                      3937 non-null   uint8  \n",
      " 30  multiple_lines_No phone service        3937 non-null   uint8  \n",
      " 31  multiple_lines_Yes                     3937 non-null   uint8  \n",
      " 32  online_security_No                     3937 non-null   uint8  \n",
      " 33  online_security_No internet service    3937 non-null   uint8  \n",
      " 34  online_security_Yes                    3937 non-null   uint8  \n",
      " 35  online_backup_No                       3937 non-null   uint8  \n",
      " 36  online_backup_No internet service      3937 non-null   uint8  \n",
      " 37  online_backup_Yes                      3937 non-null   uint8  \n",
      " 38  device_protection_No                   3937 non-null   uint8  \n",
      " 39  device_protection_No internet service  3937 non-null   uint8  \n",
      " 40  device_protection_Yes                  3937 non-null   uint8  \n",
      " 41  tech_support_No                        3937 non-null   uint8  \n",
      " 42  tech_support_No internet service       3937 non-null   uint8  \n",
      " 43  tech_support_Yes                       3937 non-null   uint8  \n",
      " 44  streaming_tv_No                        3937 non-null   uint8  \n",
      " 45  streaming_tv_No internet service       3937 non-null   uint8  \n",
      " 46  streaming_tv_Yes                       3937 non-null   uint8  \n",
      " 47  streaming_movies_No                    3937 non-null   uint8  \n",
      " 48  streaming_movies_No internet service   3937 non-null   uint8  \n",
      " 49  streaming_movies_Yes                   3937 non-null   uint8  \n",
      " 50  m2m                                    3937 non-null   uint8  \n",
      " 51  yr1                                    3937 non-null   uint8  \n",
      " 52  yr2                                    3937 non-null   uint8  \n",
      " 53  DSL                                    3937 non-null   uint8  \n",
      " 54  fiber                                  3937 non-null   uint8  \n",
      " 55  no_int                                 3937 non-null   uint8  \n",
      " 56  a_bank_tr                              3937 non-null   uint8  \n",
      " 57  a_ccard                                3937 non-null   uint8  \n",
      " 58  e_check                                3937 non-null   uint8  \n",
      " 59  m_check                                3937 non-null   uint8  \n",
      " 60  p_w_d                                  3937 non-null   int64  \n",
      " 61  p_no_d                                 3937 non-null   int64  \n",
      " 62  d_no_p                                 3937 non-null   int64  \n",
      " 63  no_pod                                 3937 non-null   int64  \n",
      "dtypes: float64(2), int64(15), object(16), uint8(31)\n",
      "memory usage: 1.1+ MB\n"
     ]
    }
   ],
   "source": [
    "train.info()"
   ]
  },
  {
   "cell_type": "markdown",
   "id": "090ca479",
   "metadata": {},
   "source": [
    "## Plots analyzing our 4 Questions"
   ]
  },
  {
   "cell_type": "markdown",
   "id": "580f9c7c",
   "metadata": {},
   "source": [
    "### Bivariate Analysis"
   ]
  },
  {
   "cell_type": "code",
   "execution_count": 59,
   "id": "276c1781",
   "metadata": {},
   "outputs": [
    {
     "data": {
      "image/png": "[encoded data removed]",
      "text/plain": [
       "<Figure size 1152x432 with 3 Axes>"
      ]
     },
     "metadata": {
      "needs_background": "light"
     },
     "output_type": "display_data"
    }
   ],
   "source": [
    "## Q1: M2M customer churn vs. 1-yr and 2-yr customer churn\n",
    "# Barplot expressing churn rate of customers by contract type: Month-to-Month, 1-yr, and 2-yr contracts\n",
    "\n",
    "features = ['m2m', 'yr1', 'yr2']\n",
    "\n",
    "enumerate(features)\n",
    "\n",
    "list(enumerate(features))\n",
    "\n",
    "mean = [train['m2m'].mean(), train['yr1'].mean(), train['yr2'].mean()]\n",
    "_, ax = plt.subplots(nrows=1, ncols=3, figsize=(16, 6), sharey=True)\n",
    "for i, feature in enumerate(features):\n",
    "    sns.barplot('churn', feature, data=train\n",
    "                , ax=ax[i], alpha=0.5)\n",
    "    ax[i].set_xlabel('Churn Rate')\n",
    "    ax[i].set_ylabel('')\n",
    "    ax[i].set_title(feature)\n",
    "    ax[i].axhline(churn_rate, ls='--', color='grey')"
   ]
  },
  {
   "cell_type": "code",
   "execution_count": 60,
   "id": "d8400edd",
   "metadata": {
    "scrolled": true
   },
   "outputs": [
    {
     "data": {
      "image/png": "[encoded data removed]",
      "text/plain": [
       "<Figure size 432x288 with 1 Axes>"
      ]
     },
     "metadata": {
      "needs_background": "light"
     },
     "output_type": "display_data"
    },
    {
     "data": {
      "image/png": "[encoded data removed]",
      "text/plain": [
       "<Figure size 432x288 with 1 Axes>"
      ]
     },
     "metadata": {
      "needs_background": "light"
     },
     "output_type": "display_data"
    },
    {
     "data": {
      "image/png": "[encoded data removed]",
      "text/plain": [
       "<Figure size 432x288 with 1 Axes>"
      ]
     },
     "metadata": {
      "needs_background": "light"
     },
     "output_type": "display_data"
    }
   ],
   "source": [
    "## Q1: M2M customer churn vs. 1-yr and 2-yr customer churn\n",
    "# Barplot expressing churn rate of customers by contract type: Month-to-Month, 1-yr, and 2-yr contracts\n",
    "variables = ['m2m', 'yr1', 'yr2']\n",
    "\n",
    "mean = [train['m2m'].mean(), train['yr1'].mean(), train['yr2'].mean()]\n",
    "\n",
    "for x in range(0,3):\n",
    "    sns.barplot('churn',variables[x], data=train)\n",
    "    \n",
    "    plt.xlabel('')\n",
    "    plt.title(variables[x])\n",
    "    plt.axhline(mean[x], ls = '--', color = 'black')\n",
    "    plt.show()"
   ]
  },
  {
   "cell_type": "markdown",
   "id": "2370dfed",
   "metadata": {},
   "source": [
    "Month-to-Month: Churn is very significant for M2M customers. This indicates the need for further exploration and statistical analysis.\n",
    "\n",
    "1-yr & 2-yr contracts also appear to be very significant."
   ]
  },
  {
   "cell_type": "code",
   "execution_count": 61,
   "id": "7f41ef10",
   "metadata": {},
   "outputs": [
    {
     "data": {
      "image/png": "[encoded data removed]",
      "text/plain": [
       "<Figure size 1152x432 with 4 Axes>"
      ]
     },
     "metadata": {
      "needs_background": "light"
     },
     "output_type": "display_data"
    }
   ],
   "source": [
    "## Q2: Electronic Check vs. other payment types\n",
    "# Barplot expressing churn rate of customers by payment type: bank transfer, cc, e-check, mailed-check\n",
    "\n",
    "features = ['a_bank_tr', 'a_bank_tr', 'e_check', 'm_check']\n",
    "\n",
    "enumerate(features)\n",
    "\n",
    "list(enumerate(features))\n",
    "\n",
    "mean = [train['a_bank_tr'].mean(), train['a_bank_tr'].mean(), train['e_check'].mean(), train['m_check'].mean()]\n",
    "_, ax = plt.subplots(nrows=1, ncols=4, figsize=(16, 6), sharey=True)\n",
    "for i, feature in enumerate(features):\n",
    "    sns.barplot('churn', feature, data=train\n",
    "                , ax=ax[i], alpha=0.5)\n",
    "    ax[i].set_xlabel('Churn Rate')\n",
    "    ax[i].set_ylabel('')\n",
    "    ax[i].set_title(feature)\n",
    "    ax[i].axhline(churn_rate, ls='--', color='grey')"
   ]
  },
  {
   "cell_type": "code",
   "execution_count": 62,
   "id": "40520a00",
   "metadata": {
    "scrolled": true
   },
   "outputs": [
    {
     "data": {
      "image/png": "[encoded data removed]",
      "text/plain": [
       "<Figure size 432x288 with 1 Axes>"
      ]
     },
     "metadata": {
      "needs_background": "light"
     },
     "output_type": "display_data"
    },
    {
     "data": {
      "image/png": "[encoded data removed]",
      "text/plain": [
       "<Figure size 432x288 with 1 Axes>"
      ]
     },
     "metadata": {
      "needs_background": "light"
     },
     "output_type": "display_data"
    },
    {
     "data": {
      "image/png": "[encoded data removed]",
      "text/plain": [
       "<Figure size 432x288 with 1 Axes>"
      ]
     },
     "metadata": {
      "needs_background": "light"
     },
     "output_type": "display_data"
    },
    {
     "data": {
      "image/png": "[encoded data removed]",
      "text/plain": [
       "<Figure size 432x288 with 1 Axes>"
      ]
     },
     "metadata": {
      "needs_background": "light"
     },
     "output_type": "display_data"
    }
   ],
   "source": [
    "## Q2: Electronic Check vs. other payment types\n",
    "# Barplot expressing churn rate of customers by payment type: bank transfer, cc, e-check, mailed-check\n",
    "variables = ['a_bank_tr', 'a_bank_tr', 'e_check', 'm_check']\n",
    "\n",
    "mean = [train['a_bank_tr'].mean(), train['a_bank_tr'].mean(), train['e_check'].mean(), train['m_check'].mean()]\n",
    "\n",
    "for x in range(0,4):\n",
    "    sns.barplot('churn',variables[x], data=train)\n",
    "    \n",
    "    plt.xlabel('')\n",
    "    plt.title(variables[x])\n",
    "    plt.axhline(mean[x], ls = '--', color = 'black')\n",
    "    plt.show()"
   ]
  },
  {
   "cell_type": "markdown",
   "id": "24f0f51f",
   "metadata": {},
   "source": [
    "Comparatively, all payment types have low churn except for customers who pay by electronic check. \n",
    "\n",
    "I'll investigate electronic check churn further. However, since all 4 payment types are statistically significant, I'll include those in modeling as well. "
   ]
  },
  {
   "cell_type": "code",
   "execution_count": 63,
   "id": "d1682892",
   "metadata": {},
   "outputs": [
    {
     "data": {
      "image/png": "[encoded data removed]",
      "text/plain": [
       "<Figure size 1152x432 with 3 Axes>"
      ]
     },
     "metadata": {
      "needs_background": "light"
     },
     "output_type": "display_data"
    }
   ],
   "source": [
    "## Q3: Fiber internet vs other internet types\n",
    "# Barplot expressing churn rate of customers by internet type: Fiber, DSL, or none\n",
    "\n",
    "features = ['DSL', 'fiber', 'no_int']\n",
    "\n",
    "enumerate(features)\n",
    "\n",
    "list(enumerate(features))\n",
    "\n",
    "mean = [train['DSL'].mean(), train['fiber'].mean(), train['no_int'].mean()]\n",
    "_, ax = plt.subplots(nrows=1, ncols=3, figsize=(16, 6), sharey=True)\n",
    "for i, feature in enumerate(features):\n",
    "    sns.barplot('churn', feature, data=train\n",
    "                , ax=ax[i], alpha=0.5)\n",
    "    ax[i].set_xlabel('Churn Rate')\n",
    "    ax[i].set_ylabel('')\n",
    "    ax[i].set_title(feature)\n",
    "    ax[i].axhline(churn_rate, ls='--', color='grey')"
   ]
  },
  {
   "cell_type": "code",
   "execution_count": 64,
   "id": "8788b42f",
   "metadata": {},
   "outputs": [
    {
     "data": {
      "image/png": "[encoded data removed]",
      "text/plain": [
       "<Figure size 432x288 with 1 Axes>"
      ]
     },
     "metadata": {
      "needs_background": "light"
     },
     "output_type": "display_data"
    },
    {
     "data": {
      "image/png": "[encoded data removed]",
      "text/plain": [
       "<Figure size 432x288 with 1 Axes>"
      ]
     },
     "metadata": {
      "needs_background": "light"
     },
     "output_type": "display_data"
    },
    {
     "data": {
      "image/png": "[encoded data removed]",
      "text/plain": [
       "<Figure size 432x288 with 1 Axes>"
      ]
     },
     "metadata": {
      "needs_background": "light"
     },
     "output_type": "display_data"
    }
   ],
   "source": [
    "## Q3\n",
    "# Barplot expressing churn rate of customers by internet type: Fiber, DSL, or none\n",
    "variables = ['DSL', 'fiber', 'no_int']\n",
    "\n",
    "mean = [train['DSL'].mean(), train['fiber'].mean(), train['no_int'].mean()]\n",
    "\n",
    "for x in range(0,3):\n",
    "    sns.barplot('churn',variables[x], data=train)\n",
    "    \n",
    "    plt.xlabel('')\n",
    "    plt.title(variables[x])\n",
    "    plt.axhline(mean[x], ls = '--', color = 'black')\n",
    "    plt.show()"
   ]
  },
  {
   "cell_type": "code",
   "execution_count": 65,
   "id": "77b16d79",
   "metadata": {},
   "outputs": [
    {
     "name": "stdout",
     "output_type": "stream",
     "text": [
      "churn_encoded     0    1\n",
      "DSL                     \n",
      "0              1790  799\n",
      "1              1101  247\n",
      "--------------------------------------\n",
      "p: 3.983806924956342e-17\n",
      "We reject the null hypothesis and this variable is statistically significant\n"
     ]
    }
   ],
   "source": [
    "# Chi-squared test determining whether churn rate for customers with DSL internet is statistically significant\n",
    "dsl_stat = pd.crosstab(train['DSL'], train.churn_encoded)\n",
    "\n",
    "print(dsl_stat)\n",
    "\n",
    "a = 0.05\n",
    "\n",
    "chi2, p, degf, expected = stats.chi2_contingency(dsl_stat)\n",
    "\n",
    "chi2, p\n",
    "\n",
    "print('--------------------------------------')\n",
    "\n",
    "print(f'p: {p}')\n",
    "\n",
    "if p < a:\n",
    "    print(\"We reject the null hypothesis and this variable is statistically significant\")\n",
    "else:\n",
    "    print(\"We fail to reject the null hypothesis and this feature is not statisitcally significant\")"
   ]
  },
  {
   "cell_type": "code",
   "execution_count": 66,
   "id": "75a66290",
   "metadata": {
    "scrolled": true
   },
   "outputs": [
    {
     "name": "stdout",
     "output_type": "stream",
     "text": [
      "churn_encoded     0    1\n",
      "fiber                   \n",
      "0              1904  311\n",
      "1               987  735\n",
      "--------------------------------------------\n",
      "p: 2.831419548361709e-90\n",
      "We reject the null hypothesis and this variable is statistically significant\n"
     ]
    }
   ],
   "source": [
    "# Chi-squared test determining whether churn rate for customers with Fiber internet is statistically significant\n",
    "fiber_stat = pd.crosstab(train['fiber'], train.churn_encoded)\n",
    "\n",
    "print(fiber_stat)\n",
    "\n",
    "a = 0.05\n",
    "\n",
    "chi2, p, degf, expected = stats.chi2_contingency(fiber_stat)\n",
    "\n",
    "chi2, p\n",
    "\n",
    "print('--------------------------------------------')\n",
    "\n",
    "print(f'p: {p}')\n",
    "\n",
    "if p < a:\n",
    "    print(\"We reject the null hypothesis and this variable is statistically significant\")\n",
    "else:\n",
    "    print(\"We fail to reject the null hypothesis and this feature is not statisitcally significant\")"
   ]
  },
  {
   "cell_type": "code",
   "execution_count": 67,
   "id": "b9be5cf5",
   "metadata": {},
   "outputs": [
    {
     "name": "stdout",
     "output_type": "stream",
     "text": [
      "churn_encoded     0    1\n",
      "no_int                  \n",
      "0              2088  982\n",
      "1               803   64\n",
      "--------------------------------------------\n",
      "p: 2.8653012180661676e-47\n",
      "We reject the null hypothesis and this variable is statistically significant\n"
     ]
    }
   ],
   "source": [
    "# Chi-squared test determining whether churn rate for customers with NO internet is statistically significant\n",
    "no_net_stat = pd.crosstab(train['no_int'], train.churn_encoded)\n",
    "\n",
    "print(no_net_stat)\n",
    "\n",
    "a = 0.05\n",
    "\n",
    "chi2, p, degf, expected = stats.chi2_contingency(no_net_stat)\n",
    "\n",
    "chi2, p\n",
    "\n",
    "print('--------------------------------------------')\n",
    "\n",
    "print(f'p: {p}')\n",
    "\n",
    "if p < a:\n",
    "    print(\"We reject the null hypothesis and this variable is statistically significant\")\n",
    "else:\n",
    "    print(\"We fail to reject the null hypothesis and this feature is not statisitcally significant\")"
   ]
  },
  {
   "cell_type": "code",
   "execution_count": 68,
   "id": "2d166ec0",
   "metadata": {},
   "outputs": [
    {
     "data": {
      "image/png": "[encoded data removed]",
      "text/plain": [
       "<Figure size 1152x432 with 2 Axes>"
      ]
     },
     "metadata": {
      "needs_background": "light"
     },
     "output_type": "display_data"
    }
   ],
   "source": [
    "## Q4: Adults with dependents vs. Adults without dependents\n",
    "# Barplot expressing churn rate of customers by dependent status: Single Adults no dependents vs. Single Adults with dependents\n",
    "\n",
    "features = ['d_no_p', 'no_pod']\n",
    "\n",
    "enumerate(features)\n",
    "\n",
    "list(enumerate(features))\n",
    "\n",
    "mean = [train['d_no_p'].mean(), train['no_pod'].mean()]\n",
    "_, ax = plt.subplots(nrows=1, ncols=2, figsize=(16, 6), sharey=True)\n",
    "for i, feature in enumerate(features):\n",
    "    sns.barplot('churn', feature, data=train\n",
    "                , ax=ax[i], alpha=0.5)\n",
    "    ax[i].set_xlabel('Churn Rate')\n",
    "    ax[i].set_ylabel('')\n",
    "    ax[i].set_title(feature)\n",
    "    ax[i].axhline(churn_rate, ls='--', color='grey')"
   ]
  },
  {
   "cell_type": "code",
   "execution_count": 69,
   "id": "43deb972",
   "metadata": {
    "scrolled": false
   },
   "outputs": [
    {
     "data": {
      "image/png": "[encoded data removed]",
      "text/plain": [
       "<Figure size 432x288 with 1 Axes>"
      ]
     },
     "metadata": {
      "needs_background": "light"
     },
     "output_type": "display_data"
    },
    {
     "data": {
      "image/png": "[encoded data removed]",
      "text/plain": [
       "<Figure size 432x288 with 1 Axes>"
      ]
     },
     "metadata": {
      "needs_background": "light"
     },
     "output_type": "display_data"
    }
   ],
   "source": [
    "## Q4: Adults with dependents vs. Adults without dependents\n",
    "# Barplot expressing churn rate of customers by dependent status: Single Adults no dependents vs. Single Adults with dependents\n",
    "variables = ['d_no_p', 'no_pod']\n",
    "\n",
    "mean = [train['d_no_p'].mean(), train['no_pod'].mean()]\n",
    "\n",
    "for x in range(0,2):\n",
    "    sns.barplot('churn',variables[x], data=train)\n",
    "    \n",
    "    plt.xlabel('')\n",
    "    plt.title(variables[x])\n",
    "    plt.axhline(mean[x], ls = '--', color = 'black')\n",
    "    plt.show()"
   ]
  },
  {
   "cell_type": "markdown",
   "id": "178fe24d",
   "metadata": {},
   "source": [
    "Dependents, no partner: not statistically significant."
   ]
  },
  {
   "cell_type": "code",
   "execution_count": 70,
   "id": "2e502161",
   "metadata": {},
   "outputs": [
    {
     "data": {
      "image/png": "[encoded data removed]",
      "text/plain": [
       "<Figure size 1152x432 with 2 Axes>"
      ]
     },
     "metadata": {
      "needs_background": "light"
     },
     "output_type": "display_data"
    }
   ],
   "source": [
    "# Barplot expressing churn rate of customers with partner and dependents\n",
    "\n",
    "features = ['p_w_d', 'p_no_d']\n",
    "\n",
    "enumerate(features)\n",
    "\n",
    "list(enumerate(features))\n",
    "\n",
    "mean = [train['p_w_d'].mean(), train['p_no_d'].mean()]\n",
    "_, ax = plt.subplots(nrows=1, ncols=2, figsize=(16, 6), sharey=True)\n",
    "for i, feature in enumerate(features):\n",
    "    sns.barplot('churn', feature, data=train\n",
    "                , ax=ax[i], alpha=0.5)\n",
    "    ax[i].set_xlabel('Churn Rate')\n",
    "    ax[i].set_ylabel('')\n",
    "    ax[i].set_title(feature)\n",
    "    ax[i].axhline(churn_rate, ls='--', color='grey')"
   ]
  },
  {
   "cell_type": "code",
   "execution_count": 71,
   "id": "ce5c3d6d",
   "metadata": {
    "scrolled": true
   },
   "outputs": [
    {
     "data": {
      "image/png": "[encoded data removed]",
      "text/plain": [
       "<Figure size 432x288 with 1 Axes>"
      ]
     },
     "metadata": {
      "needs_background": "light"
     },
     "output_type": "display_data"
    }
   ],
   "source": [
    "## Q4 (continued): comparing all against partner+dependents\n",
    "# Barplot expressing churn rate of customers with partner and dependents\n",
    "variables = ['p_w_d']\n",
    "\n",
    "mean = [train['p_w_d'].mean()]\n",
    "\n",
    "for x in range(0,1):\n",
    "    sns.barplot('churn',variables[x], data=train)\n",
    "    \n",
    "    plt.xlabel('')\n",
    "    plt.title(variables[x])\n",
    "    plt.axhline(mean[x], ls = '--', color = 'black')\n",
    "    plt.show()"
   ]
  },
  {
   "cell_type": "markdown",
   "id": "fc0f8ea9",
   "metadata": {},
   "source": [
    "partner & dependents: seems to have lowest churn of all 4 options. \n",
    "\n",
    "Statistically significant and a potential for anecdotal evidence suggesting dependents influence churn significantly."
   ]
  },
  {
   "cell_type": "markdown",
   "id": "6137e44e",
   "metadata": {},
   "source": [
    "### Multivariate Analysis: Significant variables and monthly charges"
   ]
  },
  {
   "cell_type": "code",
   "execution_count": 72,
   "id": "1e59d200",
   "metadata": {
    "scrolled": true
   },
   "outputs": [
    {
     "name": "stdout",
     "output_type": "stream",
     "text": [
      "<class 'pandas.core.frame.DataFrame'>\n",
      "Int64Index: 3937 entries, 5919 to 4192\n",
      "Data columns (total 64 columns):\n",
      " #   Column                                 Non-Null Count  Dtype  \n",
      "---  ------                                 --------------  -----  \n",
      " 0   gender                                 3937 non-null   object \n",
      " 1   senior_citizen                         3937 non-null   int64  \n",
      " 2   partner                                3937 non-null   object \n",
      " 3   dependents                             3937 non-null   object \n",
      " 4   tenure                                 3937 non-null   int64  \n",
      " 5   phone_service                          3937 non-null   object \n",
      " 6   multiple_lines                         3937 non-null   object \n",
      " 7   online_security                        3937 non-null   object \n",
      " 8   online_backup                          3937 non-null   object \n",
      " 9   device_protection                      3937 non-null   object \n",
      " 10  tech_support                           3937 non-null   object \n",
      " 11  streaming_tv                           3937 non-null   object \n",
      " 12  streaming_movies                       3937 non-null   object \n",
      " 13  paperless_billing                      3937 non-null   object \n",
      " 14  monthly_charges                        3937 non-null   float64\n",
      " 15  total_charges                          3937 non-null   float64\n",
      " 16  churn                                  3937 non-null   object \n",
      " 17  contract_type_id.1                     3937 non-null   int64  \n",
      " 18  contract_type                          3937 non-null   object \n",
      " 19  payment_type_id.1                      3937 non-null   int64  \n",
      " 20  payment_type                           3937 non-null   object \n",
      " 21  internet_service_type_id.1             3937 non-null   int64  \n",
      " 22  internet_service_type                  3937 non-null   object \n",
      " 23  gender_encoded                         3937 non-null   int64  \n",
      " 24  partner_encoded                        3937 non-null   int64  \n",
      " 25  dependents_encoded                     3937 non-null   int64  \n",
      " 26  phone_service_encoded                  3937 non-null   int64  \n",
      " 27  paperless_billing_encoded              3937 non-null   int64  \n",
      " 28  churn_encoded                          3937 non-null   int64  \n",
      " 29  multiple_lines_No                      3937 non-null   uint8  \n",
      " 30  multiple_lines_No phone service        3937 non-null   uint8  \n",
      " 31  multiple_lines_Yes                     3937 non-null   uint8  \n",
      " 32  online_security_No                     3937 non-null   uint8  \n",
      " 33  online_security_No internet service    3937 non-null   uint8  \n",
      " 34  online_security_Yes                    3937 non-null   uint8  \n",
      " 35  online_backup_No                       3937 non-null   uint8  \n",
      " 36  online_backup_No internet service      3937 non-null   uint8  \n",
      " 37  online_backup_Yes                      3937 non-null   uint8  \n",
      " 38  device_protection_No                   3937 non-null   uint8  \n",
      " 39  device_protection_No internet service  3937 non-null   uint8  \n",
      " 40  device_protection_Yes                  3937 non-null   uint8  \n",
      " 41  tech_support_No                        3937 non-null   uint8  \n",
      " 42  tech_support_No internet service       3937 non-null   uint8  \n",
      " 43  tech_support_Yes                       3937 non-null   uint8  \n",
      " 44  streaming_tv_No                        3937 non-null   uint8  \n",
      " 45  streaming_tv_No internet service       3937 non-null   uint8  \n",
      " 46  streaming_tv_Yes                       3937 non-null   uint8  \n",
      " 47  streaming_movies_No                    3937 non-null   uint8  \n",
      " 48  streaming_movies_No internet service   3937 non-null   uint8  \n",
      " 49  streaming_movies_Yes                   3937 non-null   uint8  \n",
      " 50  m2m                                    3937 non-null   uint8  \n",
      " 51  yr1                                    3937 non-null   uint8  \n",
      " 52  yr2                                    3937 non-null   uint8  \n",
      " 53  DSL                                    3937 non-null   uint8  \n",
      " 54  fiber                                  3937 non-null   uint8  \n",
      " 55  no_int                                 3937 non-null   uint8  \n",
      " 56  a_bank_tr                              3937 non-null   uint8  \n",
      " 57  a_ccard                                3937 non-null   uint8  \n",
      " 58  e_check                                3937 non-null   uint8  \n",
      " 59  m_check                                3937 non-null   uint8  \n",
      " 60  p_w_d                                  3937 non-null   int64  \n",
      " 61  p_no_d                                 3937 non-null   int64  \n",
      " 62  d_no_p                                 3937 non-null   int64  \n",
      " 63  no_pod                                 3937 non-null   int64  \n",
      "dtypes: float64(2), int64(15), object(16), uint8(31)\n",
      "memory usage: 1.1+ MB\n"
     ]
    }
   ],
   "source": [
    "train.info()"
   ]
  },
  {
   "cell_type": "markdown",
   "id": "f415c6c5",
   "metadata": {},
   "source": [
    "sns.swarmplot(x=\"e_check\", y=\"monthly_charges\", data=train, hue=\"churn\", palette=\"Set2\")\n",
    "plt.legend()"
   ]
  },
  {
   "cell_type": "markdown",
   "id": "96e29d66",
   "metadata": {},
   "source": [
    "Electronic Check: swarm shows potential relationship between e-check churn and higher monthly charges"
   ]
  },
  {
   "cell_type": "markdown",
   "id": "b5dbc7b0",
   "metadata": {},
   "source": [
    "sns.swarmplot(x=\"m2m\", y=\"monthly_charges\", data=train, hue=\"churn\", palette=\"Set2\")\n",
    "plt.legend()"
   ]
  },
  {
   "cell_type": "markdown",
   "id": "a1fafa1f",
   "metadata": {},
   "source": [
    "M2M: similar to e-check, swarm indicates relationship between m2m churn and higher monthly charges"
   ]
  },
  {
   "cell_type": "markdown",
   "id": "e8896ac2",
   "metadata": {},
   "source": [
    "sns.swarmplot(x=\"no_pod\", y=\"monthly_charges\", data=train, hue=\"churn\", palette=\"Set2\")\n",
    "plt.legend()"
   ]
  },
  {
   "cell_type": "markdown",
   "id": "cf075888",
   "metadata": {},
   "source": [
    "No partner, no dependents: swarm is rather inconclusive"
   ]
  },
  {
   "cell_type": "markdown",
   "id": "885a12c5",
   "metadata": {},
   "source": [
    "## Statistical Analysis"
   ]
  },
  {
   "cell_type": "markdown",
   "id": "f3b47dad",
   "metadata": {},
   "source": [
    "### Baseline"
   ]
  },
  {
   "cell_type": "code",
   "execution_count": 73,
   "id": "ea1760d0",
   "metadata": {},
   "outputs": [
    {
     "data": {
      "text/plain": [
       "0    2891\n",
       "1    1046\n",
       "Name: churn_encoded, dtype: int64"
      ]
     },
     "execution_count": 73,
     "metadata": {},
     "output_type": "execute_result"
    }
   ],
   "source": [
    "train.churn_encoded.value_counts()"
   ]
  },
  {
   "cell_type": "markdown",
   "id": "78b44a39",
   "metadata": {},
   "source": [
    "Baseline prediction is equivalent to the ratio of not churned in our train set over the total number of values.\n",
    "baseline = 2891/3937"
   ]
  },
  {
   "cell_type": "code",
   "execution_count": 74,
   "id": "eeb6e52d",
   "metadata": {},
   "outputs": [],
   "source": [
    "# setting baseline to 0\n",
    "train['baseline'] = 0"
   ]
  },
  {
   "cell_type": "code",
   "execution_count": 75,
   "id": "fb73427d",
   "metadata": {},
   "outputs": [
    {
     "data": {
      "text/html": [
       "<div>\n",
       "<style scoped>\n",
       "    .dataframe tbody tr th:only-of-type {\n",
       "        vertical-align: middle;\n",
       "    }\n",
       "\n",
       "    .dataframe tbody tr th {\n",
       "        vertical-align: top;\n",
       "    }\n",
       "\n",
       "    .dataframe thead th {\n",
       "        text-align: right;\n",
       "    }\n",
       "</style>\n",
       "<table border=\"1\" class=\"dataframe\">\n",
       "  <thead>\n",
       "    <tr style=\"text-align: right;\">\n",
       "      <th></th>\n",
       "      <th>gender</th>\n",
       "      <th>senior_citizen</th>\n",
       "      <th>partner</th>\n",
       "      <th>dependents</th>\n",
       "      <th>tenure</th>\n",
       "      <th>phone_service</th>\n",
       "      <th>multiple_lines</th>\n",
       "      <th>online_security</th>\n",
       "      <th>online_backup</th>\n",
       "      <th>device_protection</th>\n",
       "      <th>...</th>\n",
       "      <th>no_int</th>\n",
       "      <th>a_bank_tr</th>\n",
       "      <th>a_ccard</th>\n",
       "      <th>e_check</th>\n",
       "      <th>m_check</th>\n",
       "      <th>p_w_d</th>\n",
       "      <th>p_no_d</th>\n",
       "      <th>d_no_p</th>\n",
       "      <th>no_pod</th>\n",
       "      <th>baseline</th>\n",
       "    </tr>\n",
       "  </thead>\n",
       "  <tbody>\n",
       "    <tr>\n",
       "      <th>5919</th>\n",
       "      <td>Female</td>\n",
       "      <td>0</td>\n",
       "      <td>No</td>\n",
       "      <td>No</td>\n",
       "      <td>58</td>\n",
       "      <td>Yes</td>\n",
       "      <td>Yes</td>\n",
       "      <td>Yes</td>\n",
       "      <td>Yes</td>\n",
       "      <td>Yes</td>\n",
       "      <td>...</td>\n",
       "      <td>0</td>\n",
       "      <td>0</td>\n",
       "      <td>1</td>\n",
       "      <td>0</td>\n",
       "      <td>0</td>\n",
       "      <td>0</td>\n",
       "      <td>0</td>\n",
       "      <td>0</td>\n",
       "      <td>1</td>\n",
       "      <td>0</td>\n",
       "    </tr>\n",
       "    <tr>\n",
       "      <th>1915</th>\n",
       "      <td>Male</td>\n",
       "      <td>0</td>\n",
       "      <td>No</td>\n",
       "      <td>Yes</td>\n",
       "      <td>71</td>\n",
       "      <td>Yes</td>\n",
       "      <td>Yes</td>\n",
       "      <td>Yes</td>\n",
       "      <td>Yes</td>\n",
       "      <td>No</td>\n",
       "      <td>...</td>\n",
       "      <td>0</td>\n",
       "      <td>0</td>\n",
       "      <td>1</td>\n",
       "      <td>0</td>\n",
       "      <td>0</td>\n",
       "      <td>0</td>\n",
       "      <td>0</td>\n",
       "      <td>1</td>\n",
       "      <td>0</td>\n",
       "      <td>0</td>\n",
       "    </tr>\n",
       "    <tr>\n",
       "      <th>5054</th>\n",
       "      <td>Female</td>\n",
       "      <td>0</td>\n",
       "      <td>Yes</td>\n",
       "      <td>Yes</td>\n",
       "      <td>35</td>\n",
       "      <td>Yes</td>\n",
       "      <td>Yes</td>\n",
       "      <td>No internet service</td>\n",
       "      <td>No internet service</td>\n",
       "      <td>No internet service</td>\n",
       "      <td>...</td>\n",
       "      <td>1</td>\n",
       "      <td>0</td>\n",
       "      <td>0</td>\n",
       "      <td>1</td>\n",
       "      <td>0</td>\n",
       "      <td>1</td>\n",
       "      <td>0</td>\n",
       "      <td>0</td>\n",
       "      <td>0</td>\n",
       "      <td>0</td>\n",
       "    </tr>\n",
       "    <tr>\n",
       "      <th>2355</th>\n",
       "      <td>Male</td>\n",
       "      <td>0</td>\n",
       "      <td>Yes</td>\n",
       "      <td>Yes</td>\n",
       "      <td>1</td>\n",
       "      <td>Yes</td>\n",
       "      <td>No</td>\n",
       "      <td>No internet service</td>\n",
       "      <td>No internet service</td>\n",
       "      <td>No internet service</td>\n",
       "      <td>...</td>\n",
       "      <td>1</td>\n",
       "      <td>0</td>\n",
       "      <td>0</td>\n",
       "      <td>0</td>\n",
       "      <td>1</td>\n",
       "      <td>1</td>\n",
       "      <td>0</td>\n",
       "      <td>0</td>\n",
       "      <td>0</td>\n",
       "      <td>0</td>\n",
       "    </tr>\n",
       "    <tr>\n",
       "      <th>6279</th>\n",
       "      <td>Male</td>\n",
       "      <td>1</td>\n",
       "      <td>No</td>\n",
       "      <td>No</td>\n",
       "      <td>20</td>\n",
       "      <td>Yes</td>\n",
       "      <td>No</td>\n",
       "      <td>Yes</td>\n",
       "      <td>No</td>\n",
       "      <td>No</td>\n",
       "      <td>...</td>\n",
       "      <td>0</td>\n",
       "      <td>0</td>\n",
       "      <td>0</td>\n",
       "      <td>0</td>\n",
       "      <td>1</td>\n",
       "      <td>0</td>\n",
       "      <td>0</td>\n",
       "      <td>0</td>\n",
       "      <td>1</td>\n",
       "      <td>0</td>\n",
       "    </tr>\n",
       "  </tbody>\n",
       "</table>\n",
       "<p>5 rows × 65 columns</p>\n",
       "</div>"
      ],
      "text/plain": [
       "      gender  senior_citizen partner dependents  tenure phone_service  \\\n",
       "5919  Female               0      No         No      58           Yes   \n",
       "1915    Male               0      No        Yes      71           Yes   \n",
       "5054  Female               0     Yes        Yes      35           Yes   \n",
       "2355    Male               0     Yes        Yes       1           Yes   \n",
       "6279    Male               1      No         No      20           Yes   \n",
       "\n",
       "     multiple_lines      online_security        online_backup  \\\n",
       "5919            Yes                  Yes                  Yes   \n",
       "1915            Yes                  Yes                  Yes   \n",
       "5054            Yes  No internet service  No internet service   \n",
       "2355             No  No internet service  No internet service   \n",
       "6279             No                  Yes                   No   \n",
       "\n",
       "        device_protection  ... no_int a_bank_tr a_ccard e_check  m_check  \\\n",
       "5919                  Yes  ...      0         0       1       0        0   \n",
       "1915                   No  ...      0         0       1       0        0   \n",
       "5054  No internet service  ...      1         0       0       1        0   \n",
       "2355  No internet service  ...      1         0       0       0        1   \n",
       "6279                   No  ...      0         0       0       0        1   \n",
       "\n",
       "      p_w_d p_no_d  d_no_p no_pod  baseline  \n",
       "5919      0      0       0      1         0  \n",
       "1915      0      0       1      0         0  \n",
       "5054      1      0       0      0         0  \n",
       "2355      1      0       0      0         0  \n",
       "6279      0      0       0      1         0  \n",
       "\n",
       "[5 rows x 65 columns]"
      ]
     },
     "execution_count": 75,
     "metadata": {},
     "output_type": "execute_result"
    }
   ],
   "source": [
    "train.head()"
   ]
  },
  {
   "cell_type": "code",
   "execution_count": 76,
   "id": "932e6e42",
   "metadata": {},
   "outputs": [
    {
     "data": {
      "text/plain": [
       "0.7343154686309372"
      ]
     },
     "execution_count": 76,
     "metadata": {},
     "output_type": "execute_result"
    }
   ],
   "source": [
    "# getting mean of baseline where same as actual churn\n",
    "(train.churn_encoded == train.baseline).mean()"
   ]
  },
  {
   "cell_type": "code",
   "execution_count": 77,
   "id": "b14b05b8",
   "metadata": {},
   "outputs": [
    {
     "name": "stdout",
     "output_type": "stream",
     "text": [
      "baseline accuracy: 73.43%\n"
     ]
    }
   ],
   "source": [
    "# Baseline Accuracy:\n",
    "\n",
    "baseline_accuracy = (train.churn_encoded == train.baseline).mean()\n",
    "\n",
    "print(f'baseline accuracy: {baseline_accuracy:.2%}')"
   ]
  },
  {
   "cell_type": "markdown",
   "id": "3d368456",
   "metadata": {},
   "source": [
    "### Confirming statistical significance"
   ]
  },
  {
   "cell_type": "code",
   "execution_count": 78,
   "id": "084c5dff",
   "metadata": {},
   "outputs": [
    {
     "name": "stdout",
     "output_type": "stream",
     "text": [
      "churn_encoded     0    1\n",
      "m2m                     \n",
      "0              1653  119\n",
      "1              1238  927\n",
      "We reject the null hypothesis and this variable is statistically significant\n"
     ]
    }
   ],
   "source": [
    "# Chi-squared test determining whether Month-to-Month churn rate is statistically significant\n",
    "m2m_stat = pd.crosstab(train['m2m'], train.churn_encoded)\n",
    "\n",
    "print(m2m_stat)\n",
    "\n",
    "a = 0.05\n",
    "\n",
    "chi2, p, degf, expected = stats.chi2_contingency(m2m_stat)\n",
    "\n",
    "chi2, p\n",
    "\n",
    "\n",
    "if p < a:\n",
    "    print(\"We reject the null hypothesis and this variable is statistically significant\")\n",
    "else:\n",
    "    print(\"We fail to reject the null hypothesis and this feature is not statisitcally significant\")"
   ]
  },
  {
   "cell_type": "code",
   "execution_count": 79,
   "id": "8ed84d9f",
   "metadata": {},
   "outputs": [
    {
     "name": "stdout",
     "output_type": "stream",
     "text": [
      "churn_encoded     0    1\n",
      "e_check                 \n",
      "0              2183  465\n",
      "1               708  581\n",
      "We reject the null hypothesis and this variable is statistically significant\n"
     ]
    }
   ],
   "source": [
    "e_check_stat = pd.crosstab(train['e_check'], train.churn_encoded)\n",
    "\n",
    "print(e_check_stat)\n",
    "\n",
    "a = 0.05\n",
    "\n",
    "chi2, p, degf, expected = stats.chi2_contingency(e_check_stat)\n",
    "\n",
    "chi2, p\n",
    "\n",
    "\n",
    "if p < a:\n",
    "    print(\"We reject the null hypothesis and this variable is statistically significant\")\n",
    "else:\n",
    "    print(\"We fail to reject the null hypothesis and this feature is not statisitcally significant\")"
   ]
  },
  {
   "cell_type": "code",
   "execution_count": 80,
   "id": "ecc7fc39",
   "metadata": {
    "scrolled": true
   },
   "outputs": [
    {
     "name": "stdout",
     "output_type": "stream",
     "text": [
      "churn_encoded     0    1\n",
      "no_pod                  \n",
      "0              1691  425\n",
      "1              1200  621\n",
      "We reject the null hypothesis and this variable is statistically significant\n"
     ]
    }
   ],
   "source": [
    "no_pod_stat = pd.crosstab(train['no_pod'], train.churn_encoded)\n",
    "\n",
    "print(no_pod_stat)\n",
    "\n",
    "a = 0.05\n",
    "\n",
    "chi2, p, degf, expected = stats.chi2_contingency(no_pod_stat)\n",
    "\n",
    "chi2, p\n",
    "\n",
    "\n",
    "if p < a:\n",
    "    print(\"We reject the null hypothesis and this variable is statistically significant\")\n",
    "else:\n",
    "    print(\"We fail to reject the null hypothesis and this feature is not statisitcally significant\")"
   ]
  },
  {
   "cell_type": "code",
   "execution_count": null,
   "id": "1acdcef6",
   "metadata": {},
   "outputs": [],
   "source": []
  },
  {
   "cell_type": "markdown",
   "id": "8862994c",
   "metadata": {},
   "source": [
    "The above chi2 tests confirm that our selected features are statistically significant."
   ]
  },
  {
   "cell_type": "markdown",
   "id": "f74f2f4f",
   "metadata": {},
   "source": [
    "## Modeling"
   ]
  },
  {
   "cell_type": "code",
   "execution_count": 81,
   "id": "f0571f23",
   "metadata": {},
   "outputs": [
    {
     "data": {
      "text/html": [
       "<div>\n",
       "<style scoped>\n",
       "    .dataframe tbody tr th:only-of-type {\n",
       "        vertical-align: middle;\n",
       "    }\n",
       "\n",
       "    .dataframe tbody tr th {\n",
       "        vertical-align: top;\n",
       "    }\n",
       "\n",
       "    .dataframe thead th {\n",
       "        text-align: right;\n",
       "    }\n",
       "</style>\n",
       "<table border=\"1\" class=\"dataframe\">\n",
       "  <thead>\n",
       "    <tr style=\"text-align: right;\">\n",
       "      <th></th>\n",
       "      <th>Unnamed: 0</th>\n",
       "      <th>customer_id</th>\n",
       "      <th>gender</th>\n",
       "      <th>senior_citizen</th>\n",
       "      <th>partner</th>\n",
       "      <th>dependents</th>\n",
       "      <th>tenure</th>\n",
       "      <th>phone_service</th>\n",
       "      <th>multiple_lines</th>\n",
       "      <th>internet_service_type_id</th>\n",
       "      <th>...</th>\n",
       "      <th>payment_type_id</th>\n",
       "      <th>monthly_charges</th>\n",
       "      <th>total_charges</th>\n",
       "      <th>churn</th>\n",
       "      <th>contract_type_id.1</th>\n",
       "      <th>contract_type</th>\n",
       "      <th>payment_type_id.1</th>\n",
       "      <th>payment_type</th>\n",
       "      <th>internet_service_type_id.1</th>\n",
       "      <th>internet_service_type</th>\n",
       "    </tr>\n",
       "  </thead>\n",
       "  <tbody>\n",
       "    <tr>\n",
       "      <th>0</th>\n",
       "      <td>0</td>\n",
       "      <td>0002-ORFBO</td>\n",
       "      <td>Female</td>\n",
       "      <td>0</td>\n",
       "      <td>Yes</td>\n",
       "      <td>Yes</td>\n",
       "      <td>9</td>\n",
       "      <td>Yes</td>\n",
       "      <td>No</td>\n",
       "      <td>1</td>\n",
       "      <td>...</td>\n",
       "      <td>2</td>\n",
       "      <td>65.6</td>\n",
       "      <td>593.3</td>\n",
       "      <td>No</td>\n",
       "      <td>2</td>\n",
       "      <td>One year</td>\n",
       "      <td>2</td>\n",
       "      <td>Mailed check</td>\n",
       "      <td>1</td>\n",
       "      <td>DSL</td>\n",
       "    </tr>\n",
       "    <tr>\n",
       "      <th>1</th>\n",
       "      <td>1</td>\n",
       "      <td>0003-MKNFE</td>\n",
       "      <td>Male</td>\n",
       "      <td>0</td>\n",
       "      <td>No</td>\n",
       "      <td>No</td>\n",
       "      <td>9</td>\n",
       "      <td>Yes</td>\n",
       "      <td>Yes</td>\n",
       "      <td>1</td>\n",
       "      <td>...</td>\n",
       "      <td>2</td>\n",
       "      <td>59.9</td>\n",
       "      <td>542.4</td>\n",
       "      <td>No</td>\n",
       "      <td>1</td>\n",
       "      <td>Month-to-month</td>\n",
       "      <td>2</td>\n",
       "      <td>Mailed check</td>\n",
       "      <td>1</td>\n",
       "      <td>DSL</td>\n",
       "    </tr>\n",
       "    <tr>\n",
       "      <th>2</th>\n",
       "      <td>2</td>\n",
       "      <td>0004-TLHLJ</td>\n",
       "      <td>Male</td>\n",
       "      <td>0</td>\n",
       "      <td>No</td>\n",
       "      <td>No</td>\n",
       "      <td>4</td>\n",
       "      <td>Yes</td>\n",
       "      <td>No</td>\n",
       "      <td>2</td>\n",
       "      <td>...</td>\n",
       "      <td>1</td>\n",
       "      <td>73.9</td>\n",
       "      <td>280.85</td>\n",
       "      <td>Yes</td>\n",
       "      <td>1</td>\n",
       "      <td>Month-to-month</td>\n",
       "      <td>1</td>\n",
       "      <td>Electronic check</td>\n",
       "      <td>2</td>\n",
       "      <td>Fiber optic</td>\n",
       "    </tr>\n",
       "    <tr>\n",
       "      <th>3</th>\n",
       "      <td>3</td>\n",
       "      <td>0011-IGKFF</td>\n",
       "      <td>Male</td>\n",
       "      <td>1</td>\n",
       "      <td>Yes</td>\n",
       "      <td>No</td>\n",
       "      <td>13</td>\n",
       "      <td>Yes</td>\n",
       "      <td>No</td>\n",
       "      <td>2</td>\n",
       "      <td>...</td>\n",
       "      <td>1</td>\n",
       "      <td>98.0</td>\n",
       "      <td>1237.85</td>\n",
       "      <td>Yes</td>\n",
       "      <td>1</td>\n",
       "      <td>Month-to-month</td>\n",
       "      <td>1</td>\n",
       "      <td>Electronic check</td>\n",
       "      <td>2</td>\n",
       "      <td>Fiber optic</td>\n",
       "    </tr>\n",
       "    <tr>\n",
       "      <th>4</th>\n",
       "      <td>4</td>\n",
       "      <td>0013-EXCHZ</td>\n",
       "      <td>Female</td>\n",
       "      <td>1</td>\n",
       "      <td>Yes</td>\n",
       "      <td>No</td>\n",
       "      <td>3</td>\n",
       "      <td>Yes</td>\n",
       "      <td>No</td>\n",
       "      <td>2</td>\n",
       "      <td>...</td>\n",
       "      <td>2</td>\n",
       "      <td>83.9</td>\n",
       "      <td>267.4</td>\n",
       "      <td>Yes</td>\n",
       "      <td>1</td>\n",
       "      <td>Month-to-month</td>\n",
       "      <td>2</td>\n",
       "      <td>Mailed check</td>\n",
       "      <td>2</td>\n",
       "      <td>Fiber optic</td>\n",
       "    </tr>\n",
       "  </tbody>\n",
       "</table>\n",
       "<p>5 rows × 28 columns</p>\n",
       "</div>"
      ],
      "text/plain": [
       "   Unnamed: 0 customer_id  gender  senior_citizen partner dependents  tenure  \\\n",
       "0           0  0002-ORFBO  Female               0     Yes        Yes       9   \n",
       "1           1  0003-MKNFE    Male               0      No         No       9   \n",
       "2           2  0004-TLHLJ    Male               0      No         No       4   \n",
       "3           3  0011-IGKFF    Male               1     Yes         No      13   \n",
       "4           4  0013-EXCHZ  Female               1     Yes         No       3   \n",
       "\n",
       "  phone_service multiple_lines  internet_service_type_id  ... payment_type_id  \\\n",
       "0           Yes             No                         1  ...               2   \n",
       "1           Yes            Yes                         1  ...               2   \n",
       "2           Yes             No                         2  ...               1   \n",
       "3           Yes             No                         2  ...               1   \n",
       "4           Yes             No                         2  ...               2   \n",
       "\n",
       "  monthly_charges total_charges churn contract_type_id.1   contract_type  \\\n",
       "0            65.6         593.3    No                  2        One year   \n",
       "1            59.9         542.4    No                  1  Month-to-month   \n",
       "2            73.9        280.85   Yes                  1  Month-to-month   \n",
       "3            98.0       1237.85   Yes                  1  Month-to-month   \n",
       "4            83.9         267.4   Yes                  1  Month-to-month   \n",
       "\n",
       "   payment_type_id.1      payment_type  internet_service_type_id.1  \\\n",
       "0                  2      Mailed check                           1   \n",
       "1                  2      Mailed check                           1   \n",
       "2                  1  Electronic check                           2   \n",
       "3                  1  Electronic check                           2   \n",
       "4                  2      Mailed check                           2   \n",
       "\n",
       "   internet_service_type  \n",
       "0                    DSL  \n",
       "1                    DSL  \n",
       "2            Fiber optic  \n",
       "3            Fiber optic  \n",
       "4            Fiber optic  \n",
       "\n",
       "[5 rows x 28 columns]"
      ]
     },
     "execution_count": 81,
     "metadata": {},
     "output_type": "execute_result"
    }
   ],
   "source": [
    "raw_data = acquire_telco.get_telco_data()\n",
    "raw_data.head()"
   ]
  },
  {
   "cell_type": "code",
   "execution_count": 82,
   "id": "01e8c328",
   "metadata": {
    "scrolled": true
   },
   "outputs": [
    {
     "data": {
      "text/html": [
       "<div>\n",
       "<style scoped>\n",
       "    .dataframe tbody tr th:only-of-type {\n",
       "        vertical-align: middle;\n",
       "    }\n",
       "\n",
       "    .dataframe tbody tr th {\n",
       "        vertical-align: top;\n",
       "    }\n",
       "\n",
       "    .dataframe thead th {\n",
       "        text-align: right;\n",
       "    }\n",
       "</style>\n",
       "<table border=\"1\" class=\"dataframe\">\n",
       "  <thead>\n",
       "    <tr style=\"text-align: right;\">\n",
       "      <th></th>\n",
       "      <th>gender</th>\n",
       "      <th>senior_citizen</th>\n",
       "      <th>partner</th>\n",
       "      <th>dependents</th>\n",
       "      <th>tenure</th>\n",
       "      <th>phone_service</th>\n",
       "      <th>multiple_lines</th>\n",
       "      <th>online_security</th>\n",
       "      <th>online_backup</th>\n",
       "      <th>device_protection</th>\n",
       "      <th>...</th>\n",
       "      <th>fiber</th>\n",
       "      <th>no_int</th>\n",
       "      <th>a_bank_tr</th>\n",
       "      <th>a_ccard</th>\n",
       "      <th>e_check</th>\n",
       "      <th>m_check</th>\n",
       "      <th>p_w_d</th>\n",
       "      <th>p_no_d</th>\n",
       "      <th>d_no_p</th>\n",
       "      <th>no_pod</th>\n",
       "    </tr>\n",
       "  </thead>\n",
       "  <tbody>\n",
       "    <tr>\n",
       "      <th>0</th>\n",
       "      <td>Female</td>\n",
       "      <td>0</td>\n",
       "      <td>Yes</td>\n",
       "      <td>Yes</td>\n",
       "      <td>9</td>\n",
       "      <td>Yes</td>\n",
       "      <td>No</td>\n",
       "      <td>No</td>\n",
       "      <td>Yes</td>\n",
       "      <td>No</td>\n",
       "      <td>...</td>\n",
       "      <td>0</td>\n",
       "      <td>0</td>\n",
       "      <td>0</td>\n",
       "      <td>0</td>\n",
       "      <td>0</td>\n",
       "      <td>1</td>\n",
       "      <td>1</td>\n",
       "      <td>0</td>\n",
       "      <td>0</td>\n",
       "      <td>0</td>\n",
       "    </tr>\n",
       "    <tr>\n",
       "      <th>1</th>\n",
       "      <td>Male</td>\n",
       "      <td>0</td>\n",
       "      <td>No</td>\n",
       "      <td>No</td>\n",
       "      <td>9</td>\n",
       "      <td>Yes</td>\n",
       "      <td>Yes</td>\n",
       "      <td>No</td>\n",
       "      <td>No</td>\n",
       "      <td>No</td>\n",
       "      <td>...</td>\n",
       "      <td>0</td>\n",
       "      <td>0</td>\n",
       "      <td>0</td>\n",
       "      <td>0</td>\n",
       "      <td>0</td>\n",
       "      <td>1</td>\n",
       "      <td>0</td>\n",
       "      <td>0</td>\n",
       "      <td>0</td>\n",
       "      <td>1</td>\n",
       "    </tr>\n",
       "    <tr>\n",
       "      <th>2</th>\n",
       "      <td>Male</td>\n",
       "      <td>0</td>\n",
       "      <td>No</td>\n",
       "      <td>No</td>\n",
       "      <td>4</td>\n",
       "      <td>Yes</td>\n",
       "      <td>No</td>\n",
       "      <td>No</td>\n",
       "      <td>No</td>\n",
       "      <td>Yes</td>\n",
       "      <td>...</td>\n",
       "      <td>1</td>\n",
       "      <td>0</td>\n",
       "      <td>0</td>\n",
       "      <td>0</td>\n",
       "      <td>1</td>\n",
       "      <td>0</td>\n",
       "      <td>0</td>\n",
       "      <td>0</td>\n",
       "      <td>0</td>\n",
       "      <td>1</td>\n",
       "    </tr>\n",
       "    <tr>\n",
       "      <th>3</th>\n",
       "      <td>Male</td>\n",
       "      <td>1</td>\n",
       "      <td>Yes</td>\n",
       "      <td>No</td>\n",
       "      <td>13</td>\n",
       "      <td>Yes</td>\n",
       "      <td>No</td>\n",
       "      <td>No</td>\n",
       "      <td>Yes</td>\n",
       "      <td>Yes</td>\n",
       "      <td>...</td>\n",
       "      <td>1</td>\n",
       "      <td>0</td>\n",
       "      <td>0</td>\n",
       "      <td>0</td>\n",
       "      <td>1</td>\n",
       "      <td>0</td>\n",
       "      <td>0</td>\n",
       "      <td>1</td>\n",
       "      <td>0</td>\n",
       "      <td>0</td>\n",
       "    </tr>\n",
       "    <tr>\n",
       "      <th>4</th>\n",
       "      <td>Female</td>\n",
       "      <td>1</td>\n",
       "      <td>Yes</td>\n",
       "      <td>No</td>\n",
       "      <td>3</td>\n",
       "      <td>Yes</td>\n",
       "      <td>No</td>\n",
       "      <td>No</td>\n",
       "      <td>No</td>\n",
       "      <td>No</td>\n",
       "      <td>...</td>\n",
       "      <td>1</td>\n",
       "      <td>0</td>\n",
       "      <td>0</td>\n",
       "      <td>0</td>\n",
       "      <td>0</td>\n",
       "      <td>1</td>\n",
       "      <td>0</td>\n",
       "      <td>1</td>\n",
       "      <td>0</td>\n",
       "      <td>0</td>\n",
       "    </tr>\n",
       "  </tbody>\n",
       "</table>\n",
       "<p>5 rows × 64 columns</p>\n",
       "</div>"
      ],
      "text/plain": [
       "   gender  senior_citizen partner dependents  tenure phone_service  \\\n",
       "0  Female               0     Yes        Yes       9           Yes   \n",
       "1    Male               0      No         No       9           Yes   \n",
       "2    Male               0      No         No       4           Yes   \n",
       "3    Male               1     Yes         No      13           Yes   \n",
       "4  Female               1     Yes         No       3           Yes   \n",
       "\n",
       "  multiple_lines online_security online_backup device_protection  ... fiber  \\\n",
       "0             No              No           Yes                No  ...     0   \n",
       "1            Yes              No            No                No  ...     0   \n",
       "2             No              No            No               Yes  ...     1   \n",
       "3             No              No           Yes               Yes  ...     1   \n",
       "4             No              No            No                No  ...     1   \n",
       "\n",
       "  no_int a_bank_tr a_ccard  e_check  m_check p_w_d  p_no_d d_no_p  no_pod  \n",
       "0      0         0       0        0        1     1       0      0       0  \n",
       "1      0         0       0        0        1     0       0      0       1  \n",
       "2      0         0       0        1        0     0       0      0       1  \n",
       "3      0         0       0        1        0     0       1      0       0  \n",
       "4      0         0       0        0        1     0       1      0       0  \n",
       "\n",
       "[5 rows x 64 columns]"
      ]
     },
     "execution_count": 82,
     "metadata": {},
     "output_type": "execute_result"
    }
   ],
   "source": [
    "df = prepare.prep_telco_data(raw_data)\n",
    "df.head()"
   ]
  },
  {
   "cell_type": "code",
   "execution_count": 83,
   "id": "ab35620f",
   "metadata": {},
   "outputs": [],
   "source": [
    "x_train, y_train, x_validate, y_validate, x_test, y_test = split_telco.telco_split_model(df)"
   ]
  },
  {
   "cell_type": "code",
   "execution_count": 84,
   "id": "c8192663",
   "metadata": {},
   "outputs": [
    {
     "data": {
      "text/html": [
       "<div>\n",
       "<style scoped>\n",
       "    .dataframe tbody tr th:only-of-type {\n",
       "        vertical-align: middle;\n",
       "    }\n",
       "\n",
       "    .dataframe tbody tr th {\n",
       "        vertical-align: top;\n",
       "    }\n",
       "\n",
       "    .dataframe thead th {\n",
       "        text-align: right;\n",
       "    }\n",
       "</style>\n",
       "<table border=\"1\" class=\"dataframe\">\n",
       "  <thead>\n",
       "    <tr style=\"text-align: right;\">\n",
       "      <th></th>\n",
       "      <th>m2m</th>\n",
       "      <th>yr1</th>\n",
       "      <th>yr2</th>\n",
       "      <th>a_bank_tr</th>\n",
       "      <th>a_ccard</th>\n",
       "      <th>e_check</th>\n",
       "      <th>m_check</th>\n",
       "      <th>DSL</th>\n",
       "      <th>fiber</th>\n",
       "      <th>no_int</th>\n",
       "      <th>no_pod</th>\n",
       "      <th>p_w_d</th>\n",
       "      <th>d_no_p</th>\n",
       "      <th>tenure</th>\n",
       "    </tr>\n",
       "  </thead>\n",
       "  <tbody>\n",
       "    <tr>\n",
       "      <th>5919</th>\n",
       "      <td>0</td>\n",
       "      <td>1</td>\n",
       "      <td>0</td>\n",
       "      <td>0</td>\n",
       "      <td>1</td>\n",
       "      <td>0</td>\n",
       "      <td>0</td>\n",
       "      <td>1</td>\n",
       "      <td>0</td>\n",
       "      <td>0</td>\n",
       "      <td>1</td>\n",
       "      <td>0</td>\n",
       "      <td>0</td>\n",
       "      <td>58</td>\n",
       "    </tr>\n",
       "    <tr>\n",
       "      <th>1915</th>\n",
       "      <td>0</td>\n",
       "      <td>1</td>\n",
       "      <td>0</td>\n",
       "      <td>0</td>\n",
       "      <td>1</td>\n",
       "      <td>0</td>\n",
       "      <td>0</td>\n",
       "      <td>0</td>\n",
       "      <td>1</td>\n",
       "      <td>0</td>\n",
       "      <td>0</td>\n",
       "      <td>0</td>\n",
       "      <td>1</td>\n",
       "      <td>71</td>\n",
       "    </tr>\n",
       "    <tr>\n",
       "      <th>5054</th>\n",
       "      <td>1</td>\n",
       "      <td>0</td>\n",
       "      <td>0</td>\n",
       "      <td>0</td>\n",
       "      <td>0</td>\n",
       "      <td>1</td>\n",
       "      <td>0</td>\n",
       "      <td>0</td>\n",
       "      <td>0</td>\n",
       "      <td>1</td>\n",
       "      <td>0</td>\n",
       "      <td>1</td>\n",
       "      <td>0</td>\n",
       "      <td>35</td>\n",
       "    </tr>\n",
       "    <tr>\n",
       "      <th>2355</th>\n",
       "      <td>1</td>\n",
       "      <td>0</td>\n",
       "      <td>0</td>\n",
       "      <td>0</td>\n",
       "      <td>0</td>\n",
       "      <td>0</td>\n",
       "      <td>1</td>\n",
       "      <td>0</td>\n",
       "      <td>0</td>\n",
       "      <td>1</td>\n",
       "      <td>0</td>\n",
       "      <td>1</td>\n",
       "      <td>0</td>\n",
       "      <td>1</td>\n",
       "    </tr>\n",
       "    <tr>\n",
       "      <th>6279</th>\n",
       "      <td>0</td>\n",
       "      <td>1</td>\n",
       "      <td>0</td>\n",
       "      <td>0</td>\n",
       "      <td>0</td>\n",
       "      <td>0</td>\n",
       "      <td>1</td>\n",
       "      <td>1</td>\n",
       "      <td>0</td>\n",
       "      <td>0</td>\n",
       "      <td>1</td>\n",
       "      <td>0</td>\n",
       "      <td>0</td>\n",
       "      <td>20</td>\n",
       "    </tr>\n",
       "  </tbody>\n",
       "</table>\n",
       "</div>"
      ],
      "text/plain": [
       "      m2m  yr1  yr2  a_bank_tr  a_ccard  e_check  m_check  DSL  fiber  no_int  \\\n",
       "5919    0    1    0          0        1        0        0    1      0       0   \n",
       "1915    0    1    0          0        1        0        0    0      1       0   \n",
       "5054    1    0    0          0        0        1        0    0      0       1   \n",
       "2355    1    0    0          0        0        0        1    0      0       1   \n",
       "6279    0    1    0          0        0        0        1    1      0       0   \n",
       "\n",
       "      no_pod  p_w_d  d_no_p  tenure  \n",
       "5919       1      0       0      58  \n",
       "1915       0      0       1      71  \n",
       "5054       0      1       0      35  \n",
       "2355       0      1       0       1  \n",
       "6279       1      0       0      20  "
      ]
     },
     "execution_count": 84,
     "metadata": {},
     "output_type": "execute_result"
    }
   ],
   "source": [
    "x_train.head()"
   ]
  },
  {
   "cell_type": "markdown",
   "id": "da15b33c",
   "metadata": {},
   "source": [
    "### Random Forest"
   ]
  },
  {
   "cell_type": "code",
   "execution_count": 85,
   "id": "d24dbe12",
   "metadata": {},
   "outputs": [
    {
     "data": {
      "text/html": [
       "<div>\n",
       "<style scoped>\n",
       "    .dataframe tbody tr th:only-of-type {\n",
       "        vertical-align: middle;\n",
       "    }\n",
       "\n",
       "    .dataframe tbody tr th {\n",
       "        vertical-align: top;\n",
       "    }\n",
       "\n",
       "    .dataframe thead th {\n",
       "        text-align: right;\n",
       "    }\n",
       "</style>\n",
       "<table border=\"1\" class=\"dataframe\">\n",
       "  <thead>\n",
       "    <tr style=\"text-align: right;\">\n",
       "      <th></th>\n",
       "      <th>max_depth</th>\n",
       "      <th>train_accuracy</th>\n",
       "      <th>validate_accuracy</th>\n",
       "      <th>difference</th>\n",
       "    </tr>\n",
       "  </thead>\n",
       "  <tbody>\n",
       "    <tr>\n",
       "      <th>0</th>\n",
       "      <td>2</td>\n",
       "      <td>0.762510</td>\n",
       "      <td>0.749408</td>\n",
       "      <td>0.013102</td>\n",
       "    </tr>\n",
       "    <tr>\n",
       "      <th>1</th>\n",
       "      <td>3</td>\n",
       "      <td>0.786894</td>\n",
       "      <td>0.769550</td>\n",
       "      <td>0.017344</td>\n",
       "    </tr>\n",
       "    <tr>\n",
       "      <th>2</th>\n",
       "      <td>4</td>\n",
       "      <td>0.791974</td>\n",
       "      <td>0.771919</td>\n",
       "      <td>0.020054</td>\n",
       "    </tr>\n",
       "    <tr>\n",
       "      <th>3</th>\n",
       "      <td>5</td>\n",
       "      <td>0.801372</td>\n",
       "      <td>0.785545</td>\n",
       "      <td>0.015827</td>\n",
       "    </tr>\n",
       "    <tr>\n",
       "      <th>4</th>\n",
       "      <td>6</td>\n",
       "      <td>0.805182</td>\n",
       "      <td>0.784953</td>\n",
       "      <td>0.020229</td>\n",
       "    </tr>\n",
       "    <tr>\n",
       "      <th>5</th>\n",
       "      <td>7</td>\n",
       "      <td>0.812294</td>\n",
       "      <td>0.777251</td>\n",
       "      <td>0.035042</td>\n",
       "    </tr>\n",
       "    <tr>\n",
       "      <th>6</th>\n",
       "      <td>8</td>\n",
       "      <td>0.822962</td>\n",
       "      <td>0.772512</td>\n",
       "      <td>0.050450</td>\n",
       "    </tr>\n",
       "    <tr>\n",
       "      <th>7</th>\n",
       "      <td>9</td>\n",
       "      <td>0.829058</td>\n",
       "      <td>0.768957</td>\n",
       "      <td>0.060100</td>\n",
       "    </tr>\n",
       "    <tr>\n",
       "      <th>8</th>\n",
       "      <td>10</td>\n",
       "      <td>0.844806</td>\n",
       "      <td>0.763626</td>\n",
       "      <td>0.081180</td>\n",
       "    </tr>\n",
       "    <tr>\n",
       "      <th>9</th>\n",
       "      <td>11</td>\n",
       "      <td>0.860300</td>\n",
       "      <td>0.755332</td>\n",
       "      <td>0.104968</td>\n",
       "    </tr>\n",
       "    <tr>\n",
       "      <th>10</th>\n",
       "      <td>12</td>\n",
       "      <td>0.873508</td>\n",
       "      <td>0.745261</td>\n",
       "      <td>0.128247</td>\n",
       "    </tr>\n",
       "    <tr>\n",
       "      <th>11</th>\n",
       "      <td>13</td>\n",
       "      <td>0.880620</td>\n",
       "      <td>0.738744</td>\n",
       "      <td>0.141876</td>\n",
       "    </tr>\n",
       "    <tr>\n",
       "      <th>12</th>\n",
       "      <td>14</td>\n",
       "      <td>0.885446</td>\n",
       "      <td>0.739336</td>\n",
       "      <td>0.146109</td>\n",
       "    </tr>\n",
       "    <tr>\n",
       "      <th>13</th>\n",
       "      <td>15</td>\n",
       "      <td>0.886208</td>\n",
       "      <td>0.736967</td>\n",
       "      <td>0.149241</td>\n",
       "    </tr>\n",
       "    <tr>\n",
       "      <th>14</th>\n",
       "      <td>16</td>\n",
       "      <td>0.886716</td>\n",
       "      <td>0.734597</td>\n",
       "      <td>0.152119</td>\n",
       "    </tr>\n",
       "    <tr>\n",
       "      <th>15</th>\n",
       "      <td>17</td>\n",
       "      <td>0.886716</td>\n",
       "      <td>0.734005</td>\n",
       "      <td>0.152711</td>\n",
       "    </tr>\n",
       "    <tr>\n",
       "      <th>16</th>\n",
       "      <td>18</td>\n",
       "      <td>0.886716</td>\n",
       "      <td>0.737559</td>\n",
       "      <td>0.149157</td>\n",
       "    </tr>\n",
       "    <tr>\n",
       "      <th>17</th>\n",
       "      <td>19</td>\n",
       "      <td>0.886716</td>\n",
       "      <td>0.735190</td>\n",
       "      <td>0.151526</td>\n",
       "    </tr>\n",
       "    <tr>\n",
       "      <th>18</th>\n",
       "      <td>20</td>\n",
       "      <td>0.886716</td>\n",
       "      <td>0.736967</td>\n",
       "      <td>0.149749</td>\n",
       "    </tr>\n",
       "    <tr>\n",
       "      <th>19</th>\n",
       "      <td>21</td>\n",
       "      <td>0.886716</td>\n",
       "      <td>0.735782</td>\n",
       "      <td>0.150934</td>\n",
       "    </tr>\n",
       "    <tr>\n",
       "      <th>20</th>\n",
       "      <td>22</td>\n",
       "      <td>0.886716</td>\n",
       "      <td>0.734597</td>\n",
       "      <td>0.152119</td>\n",
       "    </tr>\n",
       "    <tr>\n",
       "      <th>21</th>\n",
       "      <td>23</td>\n",
       "      <td>0.886716</td>\n",
       "      <td>0.734005</td>\n",
       "      <td>0.152711</td>\n",
       "    </tr>\n",
       "    <tr>\n",
       "      <th>22</th>\n",
       "      <td>24</td>\n",
       "      <td>0.886716</td>\n",
       "      <td>0.734597</td>\n",
       "      <td>0.152119</td>\n",
       "    </tr>\n",
       "  </tbody>\n",
       "</table>\n",
       "</div>"
      ],
      "text/plain": [
       "    max_depth  train_accuracy  validate_accuracy  difference\n",
       "0           2        0.762510           0.749408    0.013102\n",
       "1           3        0.786894           0.769550    0.017344\n",
       "2           4        0.791974           0.771919    0.020054\n",
       "3           5        0.801372           0.785545    0.015827\n",
       "4           6        0.805182           0.784953    0.020229\n",
       "5           7        0.812294           0.777251    0.035042\n",
       "6           8        0.822962           0.772512    0.050450\n",
       "7           9        0.829058           0.768957    0.060100\n",
       "8          10        0.844806           0.763626    0.081180\n",
       "9          11        0.860300           0.755332    0.104968\n",
       "10         12        0.873508           0.745261    0.128247\n",
       "11         13        0.880620           0.738744    0.141876\n",
       "12         14        0.885446           0.739336    0.146109\n",
       "13         15        0.886208           0.736967    0.149241\n",
       "14         16        0.886716           0.734597    0.152119\n",
       "15         17        0.886716           0.734005    0.152711\n",
       "16         18        0.886716           0.737559    0.149157\n",
       "17         19        0.886716           0.735190    0.151526\n",
       "18         20        0.886716           0.736967    0.149749\n",
       "19         21        0.886716           0.735782    0.150934\n",
       "20         22        0.886716           0.734597    0.152119\n",
       "21         23        0.886716           0.734005    0.152711\n",
       "22         24        0.886716           0.734597    0.152119"
      ]
     },
     "execution_count": 85,
     "metadata": {},
     "output_type": "execute_result"
    }
   ],
   "source": [
    "metrics = []\n",
    "\n",
    "for i in range(2, 25):\n",
    "    # Make the model\n",
    "    forest = RandomForestClassifier(max_depth=i, random_state=123)\n",
    "\n",
    "    # Fit the model (on train and only train)\n",
    "    forest = forest.fit(x_train, y_train)\n",
    "\n",
    "    # Use the model\n",
    "    # We'll evaluate the model's performance on train, first\n",
    "    in_sample_accuracy = forest.score(x_train, y_train)\n",
    "    \n",
    "    out_of_sample_accuracy = forest.score(x_validate, y_validate)\n",
    "\n",
    "    output = {\n",
    "        \"max_depth\": i,\n",
    "        \"train_accuracy\": in_sample_accuracy,\n",
    "        \"validate_accuracy\": out_of_sample_accuracy\n",
    "    }\n",
    "    \n",
    "    metrics.append(output)\n",
    "    \n",
    "df = pd.DataFrame(metrics)\n",
    "df[\"difference\"] = df.train_accuracy - df.validate_accuracy\n",
    "df"
   ]
  },
  {
   "cell_type": "markdown",
   "id": "4daad606",
   "metadata": {},
   "source": [
    "### KNN"
   ]
  },
  {
   "cell_type": "code",
   "execution_count": 86,
   "id": "bf4f74f9",
   "metadata": {},
   "outputs": [
    {
     "data": {
      "image/png": "[encoded data removed]",
      "text/plain": [
       "<Figure size 1152x648 with 1 Axes>"
      ]
     },
     "metadata": {
      "needs_background": "light"
     },
     "output_type": "display_data"
    }
   ],
   "source": [
    "metrics = []\n",
    "\n",
    "# loop through different values of k\n",
    "for k in range(1, 21):\n",
    "            \n",
    "    # define the thing\n",
    "    knn = KNeighborsClassifier(n_neighbors=k)\n",
    "    \n",
    "    # fit the thing (remmeber only fit on training data)\n",
    "    knn.fit(x_train, y_train)\n",
    "    \n",
    "    # use the thing (calculate accuracy)\n",
    "    train_accuracy = knn.score(x_train, y_train)\n",
    "    validate_accuracy = knn.score(x_validate, y_validate)\n",
    "    \n",
    "    output = {\n",
    "        \"k\": k,\n",
    "        \"train_accuracy\": train_accuracy,\n",
    "        \"validate_accuracy\": validate_accuracy\n",
    "    }\n",
    "    \n",
    "    metrics.append(output)\n",
    "\n",
    "# make a dataframe\n",
    "results = pd.DataFrame(metrics)\n",
    "\n",
    "\n",
    "# plot the data\n",
    "results.set_index('k').plot(figsize = (16,9))\n",
    "plt.ylabel('Accuracy')\n",
    "plt.xticks(np.arange(0,21,1))\n",
    "plt.grid()"
   ]
  },
  {
   "cell_type": "code",
   "execution_count": 87,
   "id": "480cef01",
   "metadata": {},
   "outputs": [
    {
     "data": {
      "text/html": [
       "<div>\n",
       "<style scoped>\n",
       "    .dataframe tbody tr th:only-of-type {\n",
       "        vertical-align: middle;\n",
       "    }\n",
       "\n",
       "    .dataframe tbody tr th {\n",
       "        vertical-align: top;\n",
       "    }\n",
       "\n",
       "    .dataframe thead th {\n",
       "        text-align: right;\n",
       "    }\n",
       "</style>\n",
       "<table border=\"1\" class=\"dataframe\">\n",
       "  <thead>\n",
       "    <tr style=\"text-align: right;\">\n",
       "      <th></th>\n",
       "      <th>k</th>\n",
       "      <th>train_accuracy</th>\n",
       "      <th>validate_accuracy</th>\n",
       "      <th>difference</th>\n",
       "    </tr>\n",
       "  </thead>\n",
       "  <tbody>\n",
       "    <tr>\n",
       "      <th>0</th>\n",
       "      <td>1</td>\n",
       "      <td>0.856744</td>\n",
       "      <td>0.725118</td>\n",
       "      <td>0.131625</td>\n",
       "    </tr>\n",
       "    <tr>\n",
       "      <th>1</th>\n",
       "      <td>2</td>\n",
       "      <td>0.819406</td>\n",
       "      <td>0.748815</td>\n",
       "      <td>0.070590</td>\n",
       "    </tr>\n",
       "    <tr>\n",
       "      <th>2</th>\n",
       "      <td>3</td>\n",
       "      <td>0.839726</td>\n",
       "      <td>0.742891</td>\n",
       "      <td>0.096835</td>\n",
       "    </tr>\n",
       "    <tr>\n",
       "      <th>3</th>\n",
       "      <td>4</td>\n",
       "      <td>0.817374</td>\n",
       "      <td>0.756517</td>\n",
       "      <td>0.060857</td>\n",
       "    </tr>\n",
       "    <tr>\n",
       "      <th>4</th>\n",
       "      <td>5</td>\n",
       "      <td>0.828296</td>\n",
       "      <td>0.750000</td>\n",
       "      <td>0.078296</td>\n",
       "    </tr>\n",
       "    <tr>\n",
       "      <th>5</th>\n",
       "      <td>6</td>\n",
       "      <td>0.816866</td>\n",
       "      <td>0.773697</td>\n",
       "      <td>0.043169</td>\n",
       "    </tr>\n",
       "    <tr>\n",
       "      <th>6</th>\n",
       "      <td>7</td>\n",
       "      <td>0.817628</td>\n",
       "      <td>0.760664</td>\n",
       "      <td>0.056964</td>\n",
       "    </tr>\n",
       "    <tr>\n",
       "      <th>7</th>\n",
       "      <td>8</td>\n",
       "      <td>0.814326</td>\n",
       "      <td>0.761848</td>\n",
       "      <td>0.052477</td>\n",
       "    </tr>\n",
       "    <tr>\n",
       "      <th>8</th>\n",
       "      <td>9</td>\n",
       "      <td>0.812040</td>\n",
       "      <td>0.752370</td>\n",
       "      <td>0.059670</td>\n",
       "    </tr>\n",
       "    <tr>\n",
       "      <th>9</th>\n",
       "      <td>10</td>\n",
       "      <td>0.808738</td>\n",
       "      <td>0.770142</td>\n",
       "      <td>0.038595</td>\n",
       "    </tr>\n",
       "    <tr>\n",
       "      <th>10</th>\n",
       "      <td>11</td>\n",
       "      <td>0.807214</td>\n",
       "      <td>0.759479</td>\n",
       "      <td>0.047735</td>\n",
       "    </tr>\n",
       "    <tr>\n",
       "      <th>11</th>\n",
       "      <td>12</td>\n",
       "      <td>0.811024</td>\n",
       "      <td>0.760071</td>\n",
       "      <td>0.050953</td>\n",
       "    </tr>\n",
       "    <tr>\n",
       "      <th>12</th>\n",
       "      <td>13</td>\n",
       "      <td>0.805944</td>\n",
       "      <td>0.760664</td>\n",
       "      <td>0.045280</td>\n",
       "    </tr>\n",
       "    <tr>\n",
       "      <th>13</th>\n",
       "      <td>14</td>\n",
       "      <td>0.808738</td>\n",
       "      <td>0.765403</td>\n",
       "      <td>0.043335</td>\n",
       "    </tr>\n",
       "    <tr>\n",
       "      <th>14</th>\n",
       "      <td>15</td>\n",
       "      <td>0.806706</td>\n",
       "      <td>0.773104</td>\n",
       "      <td>0.033601</td>\n",
       "    </tr>\n",
       "    <tr>\n",
       "      <th>15</th>\n",
       "      <td>16</td>\n",
       "      <td>0.806198</td>\n",
       "      <td>0.763033</td>\n",
       "      <td>0.043164</td>\n",
       "    </tr>\n",
       "    <tr>\n",
       "      <th>16</th>\n",
       "      <td>17</td>\n",
       "      <td>0.802134</td>\n",
       "      <td>0.765995</td>\n",
       "      <td>0.036138</td>\n",
       "    </tr>\n",
       "    <tr>\n",
       "      <th>17</th>\n",
       "      <td>18</td>\n",
       "      <td>0.801372</td>\n",
       "      <td>0.772512</td>\n",
       "      <td>0.028860</td>\n",
       "    </tr>\n",
       "    <tr>\n",
       "      <th>18</th>\n",
       "      <td>19</td>\n",
       "      <td>0.808230</td>\n",
       "      <td>0.767180</td>\n",
       "      <td>0.041050</td>\n",
       "    </tr>\n",
       "    <tr>\n",
       "      <th>19</th>\n",
       "      <td>20</td>\n",
       "      <td>0.801372</td>\n",
       "      <td>0.772512</td>\n",
       "      <td>0.028860</td>\n",
       "    </tr>\n",
       "  </tbody>\n",
       "</table>\n",
       "</div>"
      ],
      "text/plain": [
       "     k  train_accuracy  validate_accuracy  difference\n",
       "0    1        0.856744           0.725118    0.131625\n",
       "1    2        0.819406           0.748815    0.070590\n",
       "2    3        0.839726           0.742891    0.096835\n",
       "3    4        0.817374           0.756517    0.060857\n",
       "4    5        0.828296           0.750000    0.078296\n",
       "5    6        0.816866           0.773697    0.043169\n",
       "6    7        0.817628           0.760664    0.056964\n",
       "7    8        0.814326           0.761848    0.052477\n",
       "8    9        0.812040           0.752370    0.059670\n",
       "9   10        0.808738           0.770142    0.038595\n",
       "10  11        0.807214           0.759479    0.047735\n",
       "11  12        0.811024           0.760071    0.050953\n",
       "12  13        0.805944           0.760664    0.045280\n",
       "13  14        0.808738           0.765403    0.043335\n",
       "14  15        0.806706           0.773104    0.033601\n",
       "15  16        0.806198           0.763033    0.043164\n",
       "16  17        0.802134           0.765995    0.036138\n",
       "17  18        0.801372           0.772512    0.028860\n",
       "18  19        0.808230           0.767180    0.041050\n",
       "19  20        0.801372           0.772512    0.028860"
      ]
     },
     "execution_count": 87,
     "metadata": {},
     "output_type": "execute_result"
    }
   ],
   "source": [
    "df = pd.DataFrame(metrics)\n",
    "df[\"difference\"] = df.train_accuracy - df.validate_accuracy\n",
    "df"
   ]
  },
  {
   "cell_type": "code",
   "execution_count": null,
   "id": "62e78c36",
   "metadata": {},
   "outputs": [],
   "source": []
  },
  {
   "cell_type": "markdown",
   "id": "b0da3b62",
   "metadata": {},
   "source": [
    "### Logistic Regression"
   ]
  },
  {
   "cell_type": "code",
   "execution_count": 88,
   "id": "62ccdfe1",
   "metadata": {},
   "outputs": [],
   "source": [
    "model = sklearn.linear_model.LogisticRegression(C=1)\n",
    "model.fit(x_train, y_train)\n",
    "accuracy = model.score(x_validate, y_validate)\n",
    "coefs = dict(zip(x_train.columns, model.coef_[0]))"
   ]
  },
  {
   "cell_type": "code",
   "execution_count": 89,
   "id": "79774b16",
   "metadata": {},
   "outputs": [
    {
     "data": {
      "text/html": [
       "<style type=\"text/css\">\n",
       "</style>\n",
       "<table id=\"T_8974e\">\n",
       "  <caption>Effect of different C values on accuracy (t=.5) and the resulting coefficients.</caption>\n",
       "  <thead>\n",
       "    <tr>\n",
       "      <th class=\"blank\" >&nbsp;</th>\n",
       "      <th class=\"blank level0\" >&nbsp;</th>\n",
       "      <th id=\"T_8974e_level0_col0\" class=\"col_heading level0 col0\" >m2m</th>\n",
       "      <th id=\"T_8974e_level0_col1\" class=\"col_heading level0 col1\" >yr1</th>\n",
       "      <th id=\"T_8974e_level0_col2\" class=\"col_heading level0 col2\" >yr2</th>\n",
       "      <th id=\"T_8974e_level0_col3\" class=\"col_heading level0 col3\" >a_bank_tr</th>\n",
       "      <th id=\"T_8974e_level0_col4\" class=\"col_heading level0 col4\" >a_ccard</th>\n",
       "      <th id=\"T_8974e_level0_col5\" class=\"col_heading level0 col5\" >e_check</th>\n",
       "      <th id=\"T_8974e_level0_col6\" class=\"col_heading level0 col6\" >m_check</th>\n",
       "      <th id=\"T_8974e_level0_col7\" class=\"col_heading level0 col7\" >DSL</th>\n",
       "      <th id=\"T_8974e_level0_col8\" class=\"col_heading level0 col8\" >fiber</th>\n",
       "      <th id=\"T_8974e_level0_col9\" class=\"col_heading level0 col9\" >no_int</th>\n",
       "      <th id=\"T_8974e_level0_col10\" class=\"col_heading level0 col10\" >no_pod</th>\n",
       "      <th id=\"T_8974e_level0_col11\" class=\"col_heading level0 col11\" >p_w_d</th>\n",
       "      <th id=\"T_8974e_level0_col12\" class=\"col_heading level0 col12\" >d_no_p</th>\n",
       "      <th id=\"T_8974e_level0_col13\" class=\"col_heading level0 col13\" >tenure</th>\n",
       "    </tr>\n",
       "    <tr>\n",
       "      <th class=\"index_name level0\" >C</th>\n",
       "      <th class=\"index_name level1\" >accuracy</th>\n",
       "      <th class=\"blank col0\" >&nbsp;</th>\n",
       "      <th class=\"blank col1\" >&nbsp;</th>\n",
       "      <th class=\"blank col2\" >&nbsp;</th>\n",
       "      <th class=\"blank col3\" >&nbsp;</th>\n",
       "      <th class=\"blank col4\" >&nbsp;</th>\n",
       "      <th class=\"blank col5\" >&nbsp;</th>\n",
       "      <th class=\"blank col6\" >&nbsp;</th>\n",
       "      <th class=\"blank col7\" >&nbsp;</th>\n",
       "      <th class=\"blank col8\" >&nbsp;</th>\n",
       "      <th class=\"blank col9\" >&nbsp;</th>\n",
       "      <th class=\"blank col10\" >&nbsp;</th>\n",
       "      <th class=\"blank col11\" >&nbsp;</th>\n",
       "      <th class=\"blank col12\" >&nbsp;</th>\n",
       "      <th class=\"blank col13\" >&nbsp;</th>\n",
       "    </tr>\n",
       "  </thead>\n",
       "  <tbody>\n",
       "    <tr>\n",
       "      <th id=\"T_8974e_level0_row0\" class=\"row_heading level0 row0\" >0.001000</th>\n",
       "      <th id=\"T_8974e_level1_row0\" class=\"row_heading level1 row0\" >0.768000</th>\n",
       "      <td id=\"T_8974e_row0_col0\" class=\"data row0 col0\" >0.117</td>\n",
       "      <td id=\"T_8974e_row0_col1\" class=\"data row0 col1\" >-0.050</td>\n",
       "      <td id=\"T_8974e_row0_col2\" class=\"data row0 col2\" >-0.067</td>\n",
       "      <td id=\"T_8974e_row0_col3\" class=\"data row0 col3\" >-0.015</td>\n",
       "      <td id=\"T_8974e_row0_col4\" class=\"data row0 col4\" >-0.021</td>\n",
       "      <td id=\"T_8974e_row0_col5\" class=\"data row0 col5\" >0.125</td>\n",
       "      <td id=\"T_8974e_row0_col6\" class=\"data row0 col6\" >-0.089</td>\n",
       "      <td id=\"T_8974e_row0_col7\" class=\"data row0 col7\" >-0.078</td>\n",
       "      <td id=\"T_8974e_row0_col8\" class=\"data row0 col8\" >0.216</td>\n",
       "      <td id=\"T_8974e_row0_col9\" class=\"data row0 col9\" >-0.138</td>\n",
       "      <td id=\"T_8974e_row0_col10\" class=\"data row0 col10\" >0.018</td>\n",
       "      <td id=\"T_8974e_row0_col11\" class=\"data row0 col11\" >-0.043</td>\n",
       "      <td id=\"T_8974e_row0_col12\" class=\"data row0 col12\" >-0.017</td>\n",
       "      <td id=\"T_8974e_row0_col13\" class=\"data row0 col13\" >-0.036</td>\n",
       "    </tr>\n",
       "    <tr>\n",
       "      <th id=\"T_8974e_level0_row1\" class=\"row_heading level0 row1\" >0.010000</th>\n",
       "      <th id=\"T_8974e_level1_row1\" class=\"row_heading level1 row1\" >0.778000</th>\n",
       "      <td id=\"T_8974e_row1_col0\" class=\"data row1 col0\" >0.428</td>\n",
       "      <td id=\"T_8974e_row1_col1\" class=\"data row1 col1\" >-0.148</td>\n",
       "      <td id=\"T_8974e_row1_col2\" class=\"data row1 col2\" >-0.280</td>\n",
       "      <td id=\"T_8974e_row1_col3\" class=\"data row1 col3\" >-0.036</td>\n",
       "      <td id=\"T_8974e_row1_col4\" class=\"data row1 col4\" >-0.064</td>\n",
       "      <td id=\"T_8974e_row1_col5\" class=\"data row1 col5\" >0.315</td>\n",
       "      <td id=\"T_8974e_row1_col6\" class=\"data row1 col6\" >-0.216</td>\n",
       "      <td id=\"T_8974e_row1_col7\" class=\"data row1 col7\" >-0.190</td>\n",
       "      <td id=\"T_8974e_row1_col8\" class=\"data row1 col8\" >0.723</td>\n",
       "      <td id=\"T_8974e_row1_col9\" class=\"data row1 col9\" >-0.533</td>\n",
       "      <td id=\"T_8974e_row1_col10\" class=\"data row1 col10\" >0.021</td>\n",
       "      <td id=\"T_8974e_row1_col11\" class=\"data row1 col11\" >-0.140</td>\n",
       "      <td id=\"T_8974e_row1_col12\" class=\"data row1 col12\" >-0.071</td>\n",
       "      <td id=\"T_8974e_row1_col13\" class=\"data row1 col13\" >-0.033</td>\n",
       "    </tr>\n",
       "    <tr>\n",
       "      <th id=\"T_8974e_level0_row2\" class=\"row_heading level0 row2\" >0.100000</th>\n",
       "      <th id=\"T_8974e_level1_row2\" class=\"row_heading level1 row2\" >0.775000</th>\n",
       "      <td id=\"T_8974e_row2_col0\" class=\"data row2 col0\" >0.691</td>\n",
       "      <td id=\"T_8974e_row2_col1\" class=\"data row2 col1\" >-0.128</td>\n",
       "      <td id=\"T_8974e_row2_col2\" class=\"data row2 col2\" >-0.578</td>\n",
       "      <td id=\"T_8974e_row2_col3\" class=\"data row2 col3\" >-0.046</td>\n",
       "      <td id=\"T_8974e_row2_col4\" class=\"data row2 col4\" >-0.095</td>\n",
       "      <td id=\"T_8974e_row2_col5\" class=\"data row2 col5\" >0.314</td>\n",
       "      <td id=\"T_8974e_row2_col6\" class=\"data row2 col6\" >-0.187</td>\n",
       "      <td id=\"T_8974e_row2_col7\" class=\"data row2 col7\" >-0.134</td>\n",
       "      <td id=\"T_8974e_row2_col8\" class=\"data row2 col8\" >1.038</td>\n",
       "      <td id=\"T_8974e_row2_col9\" class=\"data row2 col9\" >-0.919</td>\n",
       "      <td id=\"T_8974e_row2_col10\" class=\"data row2 col10\" >-0.031</td>\n",
       "      <td id=\"T_8974e_row2_col11\" class=\"data row2 col11\" >-0.227</td>\n",
       "      <td id=\"T_8974e_row2_col12\" class=\"data row2 col12\" >-0.161</td>\n",
       "      <td id=\"T_8974e_row2_col13\" class=\"data row2 col13\" >-0.031</td>\n",
       "    </tr>\n",
       "    <tr>\n",
       "      <th id=\"T_8974e_level0_row3\" class=\"row_heading level0 row3\" >1.000000</th>\n",
       "      <th id=\"T_8974e_level1_row3\" class=\"row_heading level1 row3\" >0.772000</th>\n",
       "      <td id=\"T_8974e_row3_col0\" class=\"data row3 col0\" >0.613</td>\n",
       "      <td id=\"T_8974e_row3_col1\" class=\"data row3 col1\" >-0.245</td>\n",
       "      <td id=\"T_8974e_row3_col2\" class=\"data row3 col2\" >-0.838</td>\n",
       "      <td id=\"T_8974e_row3_col3\" class=\"data row3 col3\" >-0.162</td>\n",
       "      <td id=\"T_8974e_row3_col4\" class=\"data row3 col4\" >-0.214</td>\n",
       "      <td id=\"T_8974e_row3_col5\" class=\"data row3 col5\" >0.185</td>\n",
       "      <td id=\"T_8974e_row3_col6\" class=\"data row3 col6\" >-0.279</td>\n",
       "      <td id=\"T_8974e_row3_col7\" class=\"data row3 col7\" >-0.260</td>\n",
       "      <td id=\"T_8974e_row3_col8\" class=\"data row3 col8\" >0.954</td>\n",
       "      <td id=\"T_8974e_row3_col9\" class=\"data row3 col9\" >-1.164</td>\n",
       "      <td id=\"T_8974e_row3_col10\" class=\"data row3 col10\" >-0.060</td>\n",
       "      <td id=\"T_8974e_row3_col11\" class=\"data row3 col11\" >-0.267</td>\n",
       "      <td id=\"T_8974e_row3_col12\" class=\"data row3 col12\" >-0.244</td>\n",
       "      <td id=\"T_8974e_row3_col13\" class=\"data row3 col13\" >-0.031</td>\n",
       "    </tr>\n",
       "    <tr>\n",
       "      <th id=\"T_8974e_level0_row4\" class=\"row_heading level0 row4\" >10.000000</th>\n",
       "      <th id=\"T_8974e_level1_row4\" class=\"row_heading level1 row4\" >0.771000</th>\n",
       "      <td id=\"T_8974e_row4_col0\" class=\"data row4 col0\" >0.608</td>\n",
       "      <td id=\"T_8974e_row4_col1\" class=\"data row4 col1\" >-0.251</td>\n",
       "      <td id=\"T_8974e_row4_col2\" class=\"data row4 col2\" >-0.870</td>\n",
       "      <td id=\"T_8974e_row4_col3\" class=\"data row4 col3\" >-0.176</td>\n",
       "      <td id=\"T_8974e_row4_col4\" class=\"data row4 col4\" >-0.227</td>\n",
       "      <td id=\"T_8974e_row4_col5\" class=\"data row4 col5\" >0.175</td>\n",
       "      <td id=\"T_8974e_row4_col6\" class=\"data row4 col6\" >-0.285</td>\n",
       "      <td id=\"T_8974e_row4_col7\" class=\"data row4 col7\" >-0.267</td>\n",
       "      <td id=\"T_8974e_row4_col8\" class=\"data row4 col8\" >0.946</td>\n",
       "      <td id=\"T_8974e_row4_col9\" class=\"data row4 col9\" >-1.192</td>\n",
       "      <td id=\"T_8974e_row4_col10\" class=\"data row4 col10\" >-0.063</td>\n",
       "      <td id=\"T_8974e_row4_col11\" class=\"data row4 col11\" >-0.268</td>\n",
       "      <td id=\"T_8974e_row4_col12\" class=\"data row4 col12\" >-0.261</td>\n",
       "      <td id=\"T_8974e_row4_col13\" class=\"data row4 col13\" >-0.031</td>\n",
       "    </tr>\n",
       "    <tr>\n",
       "      <th id=\"T_8974e_level0_row5\" class=\"row_heading level0 row5\" >100.000000</th>\n",
       "      <th id=\"T_8974e_level1_row5\" class=\"row_heading level1 row5\" >0.771000</th>\n",
       "      <td id=\"T_8974e_row5_col0\" class=\"data row5 col0\" >0.609</td>\n",
       "      <td id=\"T_8974e_row5_col1\" class=\"data row5 col1\" >-0.252</td>\n",
       "      <td id=\"T_8974e_row5_col2\" class=\"data row5 col2\" >-0.873</td>\n",
       "      <td id=\"T_8974e_row5_col3\" class=\"data row5 col3\" >-0.176</td>\n",
       "      <td id=\"T_8974e_row5_col4\" class=\"data row5 col4\" >-0.227</td>\n",
       "      <td id=\"T_8974e_row5_col5\" class=\"data row5 col5\" >0.173</td>\n",
       "      <td id=\"T_8974e_row5_col6\" class=\"data row5 col6\" >-0.286</td>\n",
       "      <td id=\"T_8974e_row5_col7\" class=\"data row5 col7\" >-0.267</td>\n",
       "      <td id=\"T_8974e_row5_col8\" class=\"data row5 col8\" >0.946</td>\n",
       "      <td id=\"T_8974e_row5_col9\" class=\"data row5 col9\" >-1.195</td>\n",
       "      <td id=\"T_8974e_row5_col10\" class=\"data row5 col10\" >-0.063</td>\n",
       "      <td id=\"T_8974e_row5_col11\" class=\"data row5 col11\" >-0.268</td>\n",
       "      <td id=\"T_8974e_row5_col12\" class=\"data row5 col12\" >-0.265</td>\n",
       "      <td id=\"T_8974e_row5_col13\" class=\"data row5 col13\" >-0.031</td>\n",
       "    </tr>\n",
       "    <tr>\n",
       "      <th id=\"T_8974e_level0_row6\" class=\"row_heading level0 row6\" >1000.000000</th>\n",
       "      <th id=\"T_8974e_level1_row6\" class=\"row_heading level1 row6\" >0.771000</th>\n",
       "      <td id=\"T_8974e_row6_col0\" class=\"data row6 col0\" >0.608</td>\n",
       "      <td id=\"T_8974e_row6_col1\" class=\"data row6 col1\" >-0.252</td>\n",
       "      <td id=\"T_8974e_row6_col2\" class=\"data row6 col2\" >-0.872</td>\n",
       "      <td id=\"T_8974e_row6_col3\" class=\"data row6 col3\" >-0.176</td>\n",
       "      <td id=\"T_8974e_row6_col4\" class=\"data row6 col4\" >-0.228</td>\n",
       "      <td id=\"T_8974e_row6_col5\" class=\"data row6 col5\" >0.173</td>\n",
       "      <td id=\"T_8974e_row6_col6\" class=\"data row6 col6\" >-0.286</td>\n",
       "      <td id=\"T_8974e_row6_col7\" class=\"data row6 col7\" >-0.268</td>\n",
       "      <td id=\"T_8974e_row6_col8\" class=\"data row6 col8\" >0.946</td>\n",
       "      <td id=\"T_8974e_row6_col9\" class=\"data row6 col9\" >-1.195</td>\n",
       "      <td id=\"T_8974e_row6_col10\" class=\"data row6 col10\" >-0.063</td>\n",
       "      <td id=\"T_8974e_row6_col11\" class=\"data row6 col11\" >-0.268</td>\n",
       "      <td id=\"T_8974e_row6_col12\" class=\"data row6 col12\" >-0.265</td>\n",
       "      <td id=\"T_8974e_row6_col13\" class=\"data row6 col13\" >-0.031</td>\n",
       "    </tr>\n",
       "  </tbody>\n",
       "</table>\n"
      ],
      "text/plain": [
       "<pandas.io.formats.style.Styler at 0x7f8c4e183340>"
      ]
     },
     "execution_count": 89,
     "metadata": {},
     "output_type": "execute_result"
    }
   ],
   "source": [
    "# Looping through different C values and look at resulting model coefficients\n",
    "\n",
    "# creating a function for C\n",
    "def evaluate_model(c):\n",
    "    model = sklearn.linear_model.LogisticRegression(C=c)\n",
    "    model.fit(x_train, y_train)\n",
    "    accuracy = model.score(x_validate, y_validate)\n",
    "    coefs = dict(zip(x_train.columns, model.coef_[0]))\n",
    "    return {'C': c, 'accuracy': accuracy, **coefs}\n",
    "\n",
    "# looping through different C values\n",
    "models = [evaluate_model(c) for c in [.001, .01, .1, 1, 10, 100, 1000]]\n",
    "\n",
    "\n",
    "(pd.DataFrame(models).round(3)\n",
    " .set_index(['C', 'accuracy'])\n",
    " .style\n",
    " .set_caption('Effect of different C values on accuracy (t=.5) and the resulting coefficients.')\n",
    " .set_precision(3)\n",
    ")"
   ]
  },
  {
   "cell_type": "markdown",
   "id": "430347b6",
   "metadata": {},
   "source": [
    "C value of 0.01 seems to provide most accurate results."
   ]
  },
  {
   "cell_type": "markdown",
   "id": "4a8ebcd9",
   "metadata": {},
   "source": [
    "## Addl. exploration: "
   ]
  },
  {
   "cell_type": "code",
   "execution_count": 90,
   "id": "eee82561",
   "metadata": {
    "scrolled": true
   },
   "outputs": [
    {
     "data": {
      "text/plain": [
       "<AxesSubplot:>"
      ]
     },
     "execution_count": 90,
     "metadata": {},
     "output_type": "execute_result"
    },
    {
     "data": {
      "image/png": "[encoded data removed]",
      "text/plain": [
       "<Figure size 1296x360 with 1 Axes>"
      ]
     },
     "metadata": {
      "needs_background": "light"
     },
     "output_type": "display_data"
    }
   ],
   "source": [
    "train.corr().churn_encoded.sort_values(ascending=False).plot(kind='bar', figsize=(18,5))"
   ]
  }
 ],
 "metadata": {
  "kernelspec": {
   "display_name": "Python 3 (ipykernel)",
   "language": "python",
   "name": "python3"
  },
  "language_info": {
   "codemirror_mode": {
    "name": "ipython",
    "version": 3
   },
   "file_extension": ".py",
   "mimetype": "text/x-python",
   "name": "python",
   "nbconvert_exporter": "python",
   "pygments_lexer": "ipython3",
   "version": "3.9.12"
  },
  "vscode": {
   "interpreter": {
    "hash": "3067ead486e059ec00ffe7555bdb889e6e264a24dc711bf108106cc7baee8d5d"
   }
  }
 },
 "nbformat": 4,
 "nbformat_minor": 5
}
