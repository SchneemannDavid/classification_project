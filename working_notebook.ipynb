{
 "cells": [
  {
   "cell_type": "code",
   "execution_count": 1,
   "id": "64bfb1f5",
   "metadata": {},
   "outputs": [],
   "source": [
    "# Ignore warnings\n",
    "import warnings\n",
    "warnings.filterwarnings(\"ignore\")\n",
    "\n",
    "# Data handling\n",
    "import pandas as pd\n",
    "import numpy as np\n",
    "\n",
    "# Data visualization\n",
    "import matplotlib.pyplot as plt\n",
    "import seaborn as sns\n",
    "\n",
    "# Sklearn modules\n",
    "from sklearn.neighbors import KNeighborsClassifier\n",
    "from sklearn.metrics import accuracy_score\n",
    "from sklearn.model_selection import train_test_split\n",
    "from sklearn.tree import DecisionTreeClassifier, plot_tree, export_text\n",
    "from sklearn.model_selection import train_test_split\n",
    "from sklearn.metrics import classification_report, confusion_matrix, plot_confusion_matrix\n",
    "from sklearn.ensemble import RandomForestClassifier\n",
    "from sklearn.neighbors import KNeighborsClassifier\n",
    "from sklearn.linear_model import LogisticRegression\n",
    "import sklearn.linear_model\n",
    "\n",
    "# Data statistics & modeling\n",
    "from scipy import stats\n",
    "from model import map_setosa_knn, train_validate_test_split\n",
    "\n",
    "# Data\n",
    "import prepare\n",
    "import env\n",
    "import model\n",
    "import acquire_telco\n",
    "import split_telco"
   ]
  },
  {
   "cell_type": "code",
   "execution_count": 2,
   "id": "4b02b7d1",
   "metadata": {
    "scrolled": false
   },
   "outputs": [
    {
     "data": {
      "text/html": [
       "<div>\n",
       "<style scoped>\n",
       "    .dataframe tbody tr th:only-of-type {\n",
       "        vertical-align: middle;\n",
       "    }\n",
       "\n",
       "    .dataframe tbody tr th {\n",
       "        vertical-align: top;\n",
       "    }\n",
       "\n",
       "    .dataframe thead th {\n",
       "        text-align: right;\n",
       "    }\n",
       "</style>\n",
       "<table border=\"1\" class=\"dataframe\">\n",
       "  <thead>\n",
       "    <tr style=\"text-align: right;\">\n",
       "      <th></th>\n",
       "      <th>Unnamed: 0</th>\n",
       "      <th>customer_id</th>\n",
       "      <th>gender</th>\n",
       "      <th>senior_citizen</th>\n",
       "      <th>partner</th>\n",
       "      <th>dependents</th>\n",
       "      <th>tenure</th>\n",
       "      <th>phone_service</th>\n",
       "      <th>multiple_lines</th>\n",
       "      <th>internet_service_type_id</th>\n",
       "      <th>...</th>\n",
       "      <th>payment_type_id</th>\n",
       "      <th>monthly_charges</th>\n",
       "      <th>total_charges</th>\n",
       "      <th>churn</th>\n",
       "      <th>contract_type_id.1</th>\n",
       "      <th>contract_type</th>\n",
       "      <th>payment_type_id.1</th>\n",
       "      <th>payment_type</th>\n",
       "      <th>internet_service_type_id.1</th>\n",
       "      <th>internet_service_type</th>\n",
       "    </tr>\n",
       "  </thead>\n",
       "  <tbody>\n",
       "    <tr>\n",
       "      <th>0</th>\n",
       "      <td>0</td>\n",
       "      <td>0002-ORFBO</td>\n",
       "      <td>Female</td>\n",
       "      <td>0</td>\n",
       "      <td>Yes</td>\n",
       "      <td>Yes</td>\n",
       "      <td>9</td>\n",
       "      <td>Yes</td>\n",
       "      <td>No</td>\n",
       "      <td>1</td>\n",
       "      <td>...</td>\n",
       "      <td>2</td>\n",
       "      <td>65.6</td>\n",
       "      <td>593.3</td>\n",
       "      <td>No</td>\n",
       "      <td>2</td>\n",
       "      <td>One year</td>\n",
       "      <td>2</td>\n",
       "      <td>Mailed check</td>\n",
       "      <td>1</td>\n",
       "      <td>DSL</td>\n",
       "    </tr>\n",
       "    <tr>\n",
       "      <th>1</th>\n",
       "      <td>1</td>\n",
       "      <td>0003-MKNFE</td>\n",
       "      <td>Male</td>\n",
       "      <td>0</td>\n",
       "      <td>No</td>\n",
       "      <td>No</td>\n",
       "      <td>9</td>\n",
       "      <td>Yes</td>\n",
       "      <td>Yes</td>\n",
       "      <td>1</td>\n",
       "      <td>...</td>\n",
       "      <td>2</td>\n",
       "      <td>59.9</td>\n",
       "      <td>542.4</td>\n",
       "      <td>No</td>\n",
       "      <td>1</td>\n",
       "      <td>Month-to-month</td>\n",
       "      <td>2</td>\n",
       "      <td>Mailed check</td>\n",
       "      <td>1</td>\n",
       "      <td>DSL</td>\n",
       "    </tr>\n",
       "    <tr>\n",
       "      <th>2</th>\n",
       "      <td>2</td>\n",
       "      <td>0004-TLHLJ</td>\n",
       "      <td>Male</td>\n",
       "      <td>0</td>\n",
       "      <td>No</td>\n",
       "      <td>No</td>\n",
       "      <td>4</td>\n",
       "      <td>Yes</td>\n",
       "      <td>No</td>\n",
       "      <td>2</td>\n",
       "      <td>...</td>\n",
       "      <td>1</td>\n",
       "      <td>73.9</td>\n",
       "      <td>280.85</td>\n",
       "      <td>Yes</td>\n",
       "      <td>1</td>\n",
       "      <td>Month-to-month</td>\n",
       "      <td>1</td>\n",
       "      <td>Electronic check</td>\n",
       "      <td>2</td>\n",
       "      <td>Fiber optic</td>\n",
       "    </tr>\n",
       "    <tr>\n",
       "      <th>3</th>\n",
       "      <td>3</td>\n",
       "      <td>0011-IGKFF</td>\n",
       "      <td>Male</td>\n",
       "      <td>1</td>\n",
       "      <td>Yes</td>\n",
       "      <td>No</td>\n",
       "      <td>13</td>\n",
       "      <td>Yes</td>\n",
       "      <td>No</td>\n",
       "      <td>2</td>\n",
       "      <td>...</td>\n",
       "      <td>1</td>\n",
       "      <td>98.0</td>\n",
       "      <td>1237.85</td>\n",
       "      <td>Yes</td>\n",
       "      <td>1</td>\n",
       "      <td>Month-to-month</td>\n",
       "      <td>1</td>\n",
       "      <td>Electronic check</td>\n",
       "      <td>2</td>\n",
       "      <td>Fiber optic</td>\n",
       "    </tr>\n",
       "    <tr>\n",
       "      <th>4</th>\n",
       "      <td>4</td>\n",
       "      <td>0013-EXCHZ</td>\n",
       "      <td>Female</td>\n",
       "      <td>1</td>\n",
       "      <td>Yes</td>\n",
       "      <td>No</td>\n",
       "      <td>3</td>\n",
       "      <td>Yes</td>\n",
       "      <td>No</td>\n",
       "      <td>2</td>\n",
       "      <td>...</td>\n",
       "      <td>2</td>\n",
       "      <td>83.9</td>\n",
       "      <td>267.4</td>\n",
       "      <td>Yes</td>\n",
       "      <td>1</td>\n",
       "      <td>Month-to-month</td>\n",
       "      <td>2</td>\n",
       "      <td>Mailed check</td>\n",
       "      <td>2</td>\n",
       "      <td>Fiber optic</td>\n",
       "    </tr>\n",
       "  </tbody>\n",
       "</table>\n",
       "<p>5 rows × 28 columns</p>\n",
       "</div>"
      ],
      "text/plain": [
       "   Unnamed: 0 customer_id  gender  senior_citizen partner dependents  tenure  \\\n",
       "0           0  0002-ORFBO  Female               0     Yes        Yes       9   \n",
       "1           1  0003-MKNFE    Male               0      No         No       9   \n",
       "2           2  0004-TLHLJ    Male               0      No         No       4   \n",
       "3           3  0011-IGKFF    Male               1     Yes         No      13   \n",
       "4           4  0013-EXCHZ  Female               1     Yes         No       3   \n",
       "\n",
       "  phone_service multiple_lines  internet_service_type_id  ... payment_type_id  \\\n",
       "0           Yes             No                         1  ...               2   \n",
       "1           Yes            Yes                         1  ...               2   \n",
       "2           Yes             No                         2  ...               1   \n",
       "3           Yes             No                         2  ...               1   \n",
       "4           Yes             No                         2  ...               2   \n",
       "\n",
       "  monthly_charges total_charges churn contract_type_id.1   contract_type  \\\n",
       "0            65.6         593.3    No                  2        One year   \n",
       "1            59.9         542.4    No                  1  Month-to-month   \n",
       "2            73.9        280.85   Yes                  1  Month-to-month   \n",
       "3            98.0       1237.85   Yes                  1  Month-to-month   \n",
       "4            83.9         267.4   Yes                  1  Month-to-month   \n",
       "\n",
       "   payment_type_id.1      payment_type  internet_service_type_id.1  \\\n",
       "0                  2      Mailed check                           1   \n",
       "1                  2      Mailed check                           1   \n",
       "2                  1  Electronic check                           2   \n",
       "3                  1  Electronic check                           2   \n",
       "4                  2      Mailed check                           2   \n",
       "\n",
       "   internet_service_type  \n",
       "0                    DSL  \n",
       "1                    DSL  \n",
       "2            Fiber optic  \n",
       "3            Fiber optic  \n",
       "4            Fiber optic  \n",
       "\n",
       "[5 rows x 28 columns]"
      ]
     },
     "execution_count": 2,
     "metadata": {},
     "output_type": "execute_result"
    }
   ],
   "source": [
    "# Utilizing our py file function 'get_telco_data' to return our table in the form of a dataframe\n",
    "df = acquire_telco.get_telco_data()\n",
    "df.head()"
   ]
  },
  {
   "cell_type": "code",
   "execution_count": 3,
   "id": "7ca684bc",
   "metadata": {
    "scrolled": false
   },
   "outputs": [
    {
     "data": {
      "text/html": [
       "<div>\n",
       "<style scoped>\n",
       "    .dataframe tbody tr th:only-of-type {\n",
       "        vertical-align: middle;\n",
       "    }\n",
       "\n",
       "    .dataframe tbody tr th {\n",
       "        vertical-align: top;\n",
       "    }\n",
       "\n",
       "    .dataframe thead th {\n",
       "        text-align: right;\n",
       "    }\n",
       "</style>\n",
       "<table border=\"1\" class=\"dataframe\">\n",
       "  <thead>\n",
       "    <tr style=\"text-align: right;\">\n",
       "      <th></th>\n",
       "      <th>gender</th>\n",
       "      <th>senior_citizen</th>\n",
       "      <th>partner</th>\n",
       "      <th>dependents</th>\n",
       "      <th>tenure</th>\n",
       "      <th>phone_service</th>\n",
       "      <th>multiple_lines</th>\n",
       "      <th>online_security</th>\n",
       "      <th>online_backup</th>\n",
       "      <th>device_protection</th>\n",
       "      <th>...</th>\n",
       "      <th>fiber</th>\n",
       "      <th>no_int</th>\n",
       "      <th>a_bank_tr</th>\n",
       "      <th>a_ccard</th>\n",
       "      <th>e_check</th>\n",
       "      <th>m_check</th>\n",
       "      <th>p_w_d</th>\n",
       "      <th>p_no_d</th>\n",
       "      <th>d_no_p</th>\n",
       "      <th>no_pod</th>\n",
       "    </tr>\n",
       "  </thead>\n",
       "  <tbody>\n",
       "    <tr>\n",
       "      <th>0</th>\n",
       "      <td>Female</td>\n",
       "      <td>0</td>\n",
       "      <td>Yes</td>\n",
       "      <td>Yes</td>\n",
       "      <td>9</td>\n",
       "      <td>Yes</td>\n",
       "      <td>No</td>\n",
       "      <td>No</td>\n",
       "      <td>Yes</td>\n",
       "      <td>No</td>\n",
       "      <td>...</td>\n",
       "      <td>0</td>\n",
       "      <td>0</td>\n",
       "      <td>0</td>\n",
       "      <td>0</td>\n",
       "      <td>0</td>\n",
       "      <td>1</td>\n",
       "      <td>1</td>\n",
       "      <td>0</td>\n",
       "      <td>0</td>\n",
       "      <td>0</td>\n",
       "    </tr>\n",
       "    <tr>\n",
       "      <th>1</th>\n",
       "      <td>Male</td>\n",
       "      <td>0</td>\n",
       "      <td>No</td>\n",
       "      <td>No</td>\n",
       "      <td>9</td>\n",
       "      <td>Yes</td>\n",
       "      <td>Yes</td>\n",
       "      <td>No</td>\n",
       "      <td>No</td>\n",
       "      <td>No</td>\n",
       "      <td>...</td>\n",
       "      <td>0</td>\n",
       "      <td>0</td>\n",
       "      <td>0</td>\n",
       "      <td>0</td>\n",
       "      <td>0</td>\n",
       "      <td>1</td>\n",
       "      <td>0</td>\n",
       "      <td>0</td>\n",
       "      <td>0</td>\n",
       "      <td>1</td>\n",
       "    </tr>\n",
       "    <tr>\n",
       "      <th>2</th>\n",
       "      <td>Male</td>\n",
       "      <td>0</td>\n",
       "      <td>No</td>\n",
       "      <td>No</td>\n",
       "      <td>4</td>\n",
       "      <td>Yes</td>\n",
       "      <td>No</td>\n",
       "      <td>No</td>\n",
       "      <td>No</td>\n",
       "      <td>Yes</td>\n",
       "      <td>...</td>\n",
       "      <td>1</td>\n",
       "      <td>0</td>\n",
       "      <td>0</td>\n",
       "      <td>0</td>\n",
       "      <td>1</td>\n",
       "      <td>0</td>\n",
       "      <td>0</td>\n",
       "      <td>0</td>\n",
       "      <td>0</td>\n",
       "      <td>1</td>\n",
       "    </tr>\n",
       "    <tr>\n",
       "      <th>3</th>\n",
       "      <td>Male</td>\n",
       "      <td>1</td>\n",
       "      <td>Yes</td>\n",
       "      <td>No</td>\n",
       "      <td>13</td>\n",
       "      <td>Yes</td>\n",
       "      <td>No</td>\n",
       "      <td>No</td>\n",
       "      <td>Yes</td>\n",
       "      <td>Yes</td>\n",
       "      <td>...</td>\n",
       "      <td>1</td>\n",
       "      <td>0</td>\n",
       "      <td>0</td>\n",
       "      <td>0</td>\n",
       "      <td>1</td>\n",
       "      <td>0</td>\n",
       "      <td>0</td>\n",
       "      <td>1</td>\n",
       "      <td>0</td>\n",
       "      <td>0</td>\n",
       "    </tr>\n",
       "    <tr>\n",
       "      <th>4</th>\n",
       "      <td>Female</td>\n",
       "      <td>1</td>\n",
       "      <td>Yes</td>\n",
       "      <td>No</td>\n",
       "      <td>3</td>\n",
       "      <td>Yes</td>\n",
       "      <td>No</td>\n",
       "      <td>No</td>\n",
       "      <td>No</td>\n",
       "      <td>No</td>\n",
       "      <td>...</td>\n",
       "      <td>1</td>\n",
       "      <td>0</td>\n",
       "      <td>0</td>\n",
       "      <td>0</td>\n",
       "      <td>0</td>\n",
       "      <td>1</td>\n",
       "      <td>0</td>\n",
       "      <td>1</td>\n",
       "      <td>0</td>\n",
       "      <td>0</td>\n",
       "    </tr>\n",
       "  </tbody>\n",
       "</table>\n",
       "<p>5 rows × 64 columns</p>\n",
       "</div>"
      ],
      "text/plain": [
       "   gender  senior_citizen partner dependents  tenure phone_service  \\\n",
       "0  Female               0     Yes        Yes       9           Yes   \n",
       "1    Male               0      No         No       9           Yes   \n",
       "2    Male               0      No         No       4           Yes   \n",
       "3    Male               1     Yes         No      13           Yes   \n",
       "4  Female               1     Yes         No       3           Yes   \n",
       "\n",
       "  multiple_lines online_security online_backup device_protection  ... fiber  \\\n",
       "0             No              No           Yes                No  ...     0   \n",
       "1            Yes              No            No                No  ...     0   \n",
       "2             No              No            No               Yes  ...     1   \n",
       "3             No              No           Yes               Yes  ...     1   \n",
       "4             No              No            No                No  ...     1   \n",
       "\n",
       "  no_int a_bank_tr a_ccard  e_check  m_check p_w_d  p_no_d d_no_p  no_pod  \n",
       "0      0         0       0        0        1     1       0      0       0  \n",
       "1      0         0       0        0        1     0       0      0       1  \n",
       "2      0         0       0        1        0     0       0      0       1  \n",
       "3      0         0       0        1        0     0       1      0       0  \n",
       "4      0         0       0        0        1     0       1      0       0  \n",
       "\n",
       "[5 rows x 64 columns]"
      ]
     },
     "execution_count": 3,
     "metadata": {},
     "output_type": "execute_result"
    }
   ],
   "source": [
    "# Utilizing our py file function 'prep_telco_data' to return our dataframe tidy and clean \n",
    "df = prepare.prep_telco_data(df)\n",
    "df.head()"
   ]
  },
  {
   "cell_type": "code",
   "execution_count": 4,
   "id": "bcd1e47a",
   "metadata": {
    "scrolled": true
   },
   "outputs": [
    {
     "name": "stdout",
     "output_type": "stream",
     "text": [
      "<class 'pandas.core.frame.DataFrame'>\n",
      "Int64Index: 7032 entries, 0 to 7042\n",
      "Data columns (total 64 columns):\n",
      " #   Column                                 Non-Null Count  Dtype  \n",
      "---  ------                                 --------------  -----  \n",
      " 0   gender                                 7032 non-null   object \n",
      " 1   senior_citizen                         7032 non-null   int64  \n",
      " 2   partner                                7032 non-null   object \n",
      " 3   dependents                             7032 non-null   object \n",
      " 4   tenure                                 7032 non-null   int64  \n",
      " 5   phone_service                          7032 non-null   object \n",
      " 6   multiple_lines                         7032 non-null   object \n",
      " 7   online_security                        7032 non-null   object \n",
      " 8   online_backup                          7032 non-null   object \n",
      " 9   device_protection                      7032 non-null   object \n",
      " 10  tech_support                           7032 non-null   object \n",
      " 11  streaming_tv                           7032 non-null   object \n",
      " 12  streaming_movies                       7032 non-null   object \n",
      " 13  paperless_billing                      7032 non-null   object \n",
      " 14  monthly_charges                        7032 non-null   float64\n",
      " 15  total_charges                          7032 non-null   float64\n",
      " 16  churn                                  7032 non-null   object \n",
      " 17  contract_type_id.1                     7032 non-null   int64  \n",
      " 18  contract_type                          7032 non-null   object \n",
      " 19  payment_type_id.1                      7032 non-null   int64  \n",
      " 20  payment_type                           7032 non-null   object \n",
      " 21  internet_service_type_id.1             7032 non-null   int64  \n",
      " 22  internet_service_type                  7032 non-null   object \n",
      " 23  gender_encoded                         7032 non-null   int64  \n",
      " 24  partner_encoded                        7032 non-null   int64  \n",
      " 25  dependents_encoded                     7032 non-null   int64  \n",
      " 26  phone_service_encoded                  7032 non-null   int64  \n",
      " 27  paperless_billing_encoded              7032 non-null   int64  \n",
      " 28  churn_encoded                          7032 non-null   int64  \n",
      " 29  multiple_lines_No                      7032 non-null   uint8  \n",
      " 30  multiple_lines_No phone service        7032 non-null   uint8  \n",
      " 31  multiple_lines_Yes                     7032 non-null   uint8  \n",
      " 32  online_security_No                     7032 non-null   uint8  \n",
      " 33  online_security_No internet service    7032 non-null   uint8  \n",
      " 34  online_security_Yes                    7032 non-null   uint8  \n",
      " 35  online_backup_No                       7032 non-null   uint8  \n",
      " 36  online_backup_No internet service      7032 non-null   uint8  \n",
      " 37  online_backup_Yes                      7032 non-null   uint8  \n",
      " 38  device_protection_No                   7032 non-null   uint8  \n",
      " 39  device_protection_No internet service  7032 non-null   uint8  \n",
      " 40  device_protection_Yes                  7032 non-null   uint8  \n",
      " 41  tech_support_No                        7032 non-null   uint8  \n",
      " 42  tech_support_No internet service       7032 non-null   uint8  \n",
      " 43  tech_support_Yes                       7032 non-null   uint8  \n",
      " 44  streaming_tv_No                        7032 non-null   uint8  \n",
      " 45  streaming_tv_No internet service       7032 non-null   uint8  \n",
      " 46  streaming_tv_Yes                       7032 non-null   uint8  \n",
      " 47  streaming_movies_No                    7032 non-null   uint8  \n",
      " 48  streaming_movies_No internet service   7032 non-null   uint8  \n",
      " 49  streaming_movies_Yes                   7032 non-null   uint8  \n",
      " 50  m2m                                    7032 non-null   uint8  \n",
      " 51  yr1                                    7032 non-null   uint8  \n",
      " 52  yr2                                    7032 non-null   uint8  \n",
      " 53  DSL                                    7032 non-null   uint8  \n",
      " 54  fiber                                  7032 non-null   uint8  \n",
      " 55  no_int                                 7032 non-null   uint8  \n",
      " 56  a_bank_tr                              7032 non-null   uint8  \n",
      " 57  a_ccard                                7032 non-null   uint8  \n",
      " 58  e_check                                7032 non-null   uint8  \n",
      " 59  m_check                                7032 non-null   uint8  \n",
      " 60  p_w_d                                  7032 non-null   int64  \n",
      " 61  p_no_d                                 7032 non-null   int64  \n",
      " 62  d_no_p                                 7032 non-null   int64  \n",
      " 63  no_pod                                 7032 non-null   int64  \n",
      "dtypes: float64(2), int64(15), object(16), uint8(31)\n",
      "memory usage: 2.0+ MB\n"
     ]
    }
   ],
   "source": [
    "df.info()"
   ]
  },
  {
   "cell_type": "code",
   "execution_count": 5,
   "id": "d667b879",
   "metadata": {},
   "outputs": [],
   "source": [
    "# calling the function and applying it to our df\n",
    "train, validate, test = split_telco.telco_split_explore(df)"
   ]
  },
  {
   "cell_type": "code",
   "execution_count": 6,
   "id": "c6e525d7",
   "metadata": {
    "scrolled": false
   },
   "outputs": [
    {
     "data": {
      "text/plain": [
       "((3937, 64), (1688, 64), (1407, 64))"
      ]
     },
     "execution_count": 6,
     "metadata": {},
     "output_type": "execute_result"
    }
   ],
   "source": [
    "train.shape, validate.shape, test.shape"
   ]
  },
  {
   "cell_type": "code",
   "execution_count": 7,
   "id": "db78771e",
   "metadata": {},
   "outputs": [
    {
     "data": {
      "text/html": [
       "<div>\n",
       "<style scoped>\n",
       "    .dataframe tbody tr th:only-of-type {\n",
       "        vertical-align: middle;\n",
       "    }\n",
       "\n",
       "    .dataframe tbody tr th {\n",
       "        vertical-align: top;\n",
       "    }\n",
       "\n",
       "    .dataframe thead th {\n",
       "        text-align: right;\n",
       "    }\n",
       "</style>\n",
       "<table border=\"1\" class=\"dataframe\">\n",
       "  <thead>\n",
       "    <tr style=\"text-align: right;\">\n",
       "      <th></th>\n",
       "      <th>gender</th>\n",
       "      <th>senior_citizen</th>\n",
       "      <th>partner</th>\n",
       "      <th>dependents</th>\n",
       "      <th>tenure</th>\n",
       "      <th>phone_service</th>\n",
       "      <th>multiple_lines</th>\n",
       "      <th>online_security</th>\n",
       "      <th>online_backup</th>\n",
       "      <th>device_protection</th>\n",
       "      <th>...</th>\n",
       "      <th>fiber</th>\n",
       "      <th>no_int</th>\n",
       "      <th>a_bank_tr</th>\n",
       "      <th>a_ccard</th>\n",
       "      <th>e_check</th>\n",
       "      <th>m_check</th>\n",
       "      <th>p_w_d</th>\n",
       "      <th>p_no_d</th>\n",
       "      <th>d_no_p</th>\n",
       "      <th>no_pod</th>\n",
       "    </tr>\n",
       "  </thead>\n",
       "  <tbody>\n",
       "    <tr>\n",
       "      <th>5919</th>\n",
       "      <td>Female</td>\n",
       "      <td>0</td>\n",
       "      <td>No</td>\n",
       "      <td>No</td>\n",
       "      <td>58</td>\n",
       "      <td>Yes</td>\n",
       "      <td>Yes</td>\n",
       "      <td>Yes</td>\n",
       "      <td>Yes</td>\n",
       "      <td>Yes</td>\n",
       "      <td>...</td>\n",
       "      <td>0</td>\n",
       "      <td>0</td>\n",
       "      <td>0</td>\n",
       "      <td>1</td>\n",
       "      <td>0</td>\n",
       "      <td>0</td>\n",
       "      <td>0</td>\n",
       "      <td>0</td>\n",
       "      <td>0</td>\n",
       "      <td>1</td>\n",
       "    </tr>\n",
       "    <tr>\n",
       "      <th>1915</th>\n",
       "      <td>Male</td>\n",
       "      <td>0</td>\n",
       "      <td>No</td>\n",
       "      <td>Yes</td>\n",
       "      <td>71</td>\n",
       "      <td>Yes</td>\n",
       "      <td>Yes</td>\n",
       "      <td>Yes</td>\n",
       "      <td>Yes</td>\n",
       "      <td>No</td>\n",
       "      <td>...</td>\n",
       "      <td>1</td>\n",
       "      <td>0</td>\n",
       "      <td>0</td>\n",
       "      <td>1</td>\n",
       "      <td>0</td>\n",
       "      <td>0</td>\n",
       "      <td>0</td>\n",
       "      <td>0</td>\n",
       "      <td>1</td>\n",
       "      <td>0</td>\n",
       "    </tr>\n",
       "    <tr>\n",
       "      <th>5054</th>\n",
       "      <td>Female</td>\n",
       "      <td>0</td>\n",
       "      <td>Yes</td>\n",
       "      <td>Yes</td>\n",
       "      <td>35</td>\n",
       "      <td>Yes</td>\n",
       "      <td>Yes</td>\n",
       "      <td>No internet service</td>\n",
       "      <td>No internet service</td>\n",
       "      <td>No internet service</td>\n",
       "      <td>...</td>\n",
       "      <td>0</td>\n",
       "      <td>1</td>\n",
       "      <td>0</td>\n",
       "      <td>0</td>\n",
       "      <td>1</td>\n",
       "      <td>0</td>\n",
       "      <td>1</td>\n",
       "      <td>0</td>\n",
       "      <td>0</td>\n",
       "      <td>0</td>\n",
       "    </tr>\n",
       "    <tr>\n",
       "      <th>2355</th>\n",
       "      <td>Male</td>\n",
       "      <td>0</td>\n",
       "      <td>Yes</td>\n",
       "      <td>Yes</td>\n",
       "      <td>1</td>\n",
       "      <td>Yes</td>\n",
       "      <td>No</td>\n",
       "      <td>No internet service</td>\n",
       "      <td>No internet service</td>\n",
       "      <td>No internet service</td>\n",
       "      <td>...</td>\n",
       "      <td>0</td>\n",
       "      <td>1</td>\n",
       "      <td>0</td>\n",
       "      <td>0</td>\n",
       "      <td>0</td>\n",
       "      <td>1</td>\n",
       "      <td>1</td>\n",
       "      <td>0</td>\n",
       "      <td>0</td>\n",
       "      <td>0</td>\n",
       "    </tr>\n",
       "    <tr>\n",
       "      <th>6279</th>\n",
       "      <td>Male</td>\n",
       "      <td>1</td>\n",
       "      <td>No</td>\n",
       "      <td>No</td>\n",
       "      <td>20</td>\n",
       "      <td>Yes</td>\n",
       "      <td>No</td>\n",
       "      <td>Yes</td>\n",
       "      <td>No</td>\n",
       "      <td>No</td>\n",
       "      <td>...</td>\n",
       "      <td>0</td>\n",
       "      <td>0</td>\n",
       "      <td>0</td>\n",
       "      <td>0</td>\n",
       "      <td>0</td>\n",
       "      <td>1</td>\n",
       "      <td>0</td>\n",
       "      <td>0</td>\n",
       "      <td>0</td>\n",
       "      <td>1</td>\n",
       "    </tr>\n",
       "  </tbody>\n",
       "</table>\n",
       "<p>5 rows × 64 columns</p>\n",
       "</div>"
      ],
      "text/plain": [
       "      gender  senior_citizen partner dependents  tenure phone_service  \\\n",
       "5919  Female               0      No         No      58           Yes   \n",
       "1915    Male               0      No        Yes      71           Yes   \n",
       "5054  Female               0     Yes        Yes      35           Yes   \n",
       "2355    Male               0     Yes        Yes       1           Yes   \n",
       "6279    Male               1      No         No      20           Yes   \n",
       "\n",
       "     multiple_lines      online_security        online_backup  \\\n",
       "5919            Yes                  Yes                  Yes   \n",
       "1915            Yes                  Yes                  Yes   \n",
       "5054            Yes  No internet service  No internet service   \n",
       "2355             No  No internet service  No internet service   \n",
       "6279             No                  Yes                   No   \n",
       "\n",
       "        device_protection  ... fiber no_int a_bank_tr a_ccard  e_check  \\\n",
       "5919                  Yes  ...     0      0         0       1        0   \n",
       "1915                   No  ...     1      0         0       1        0   \n",
       "5054  No internet service  ...     0      1         0       0        1   \n",
       "2355  No internet service  ...     0      1         0       0        0   \n",
       "6279                   No  ...     0      0         0       0        0   \n",
       "\n",
       "      m_check p_w_d  p_no_d d_no_p  no_pod  \n",
       "5919        0     0       0      0       1  \n",
       "1915        0     0       0      1       0  \n",
       "5054        0     1       0      0       0  \n",
       "2355        1     1       0      0       0  \n",
       "6279        1     0       0      0       1  \n",
       "\n",
       "[5 rows x 64 columns]"
      ]
     },
     "execution_count": 7,
     "metadata": {},
     "output_type": "execute_result"
    }
   ],
   "source": [
    "train.head()"
   ]
  },
  {
   "cell_type": "code",
   "execution_count": 8,
   "id": "a8188d43",
   "metadata": {},
   "outputs": [
    {
     "data": {
      "text/plain": [
       "3937"
      ]
     },
     "execution_count": 8,
     "metadata": {},
     "output_type": "execute_result"
    }
   ],
   "source": [
    "len(train)"
   ]
  },
  {
   "cell_type": "markdown",
   "id": "624193c9",
   "metadata": {},
   "source": [
    "**Note**: Total charges is showing as an object value instead of a float value. Before we can visualize this in our summary process, we will need to clean this. "
   ]
  },
  {
   "cell_type": "markdown",
   "id": "8cc49767",
   "metadata": {},
   "source": [
    "The `total_charges` column contains whitespace characters. Lets see what those are connected to:"
   ]
  },
  {
   "cell_type": "markdown",
   "id": "4b48f745",
   "metadata": {},
   "source": [
    "It looks like customers with zero tenure have no total charges, and this is being represented by the whitespace character. Dropping these observations for now."
   ]
  },
  {
   "cell_type": "code",
   "execution_count": 9,
   "id": "8dd1c9d0",
   "metadata": {},
   "outputs": [
    {
     "data": {
      "text/html": [
       "<div>\n",
       "<style scoped>\n",
       "    .dataframe tbody tr th:only-of-type {\n",
       "        vertical-align: middle;\n",
       "    }\n",
       "\n",
       "    .dataframe tbody tr th {\n",
       "        vertical-align: top;\n",
       "    }\n",
       "\n",
       "    .dataframe thead th {\n",
       "        text-align: right;\n",
       "    }\n",
       "</style>\n",
       "<table border=\"1\" class=\"dataframe\">\n",
       "  <thead>\n",
       "    <tr style=\"text-align: right;\">\n",
       "      <th></th>\n",
       "      <th>senior_citizen</th>\n",
       "      <th>tenure</th>\n",
       "      <th>monthly_charges</th>\n",
       "      <th>total_charges</th>\n",
       "      <th>contract_type_id.1</th>\n",
       "      <th>payment_type_id.1</th>\n",
       "      <th>internet_service_type_id.1</th>\n",
       "      <th>gender_encoded</th>\n",
       "      <th>partner_encoded</th>\n",
       "      <th>dependents_encoded</th>\n",
       "      <th>...</th>\n",
       "      <th>fiber</th>\n",
       "      <th>no_int</th>\n",
       "      <th>a_bank_tr</th>\n",
       "      <th>a_ccard</th>\n",
       "      <th>e_check</th>\n",
       "      <th>m_check</th>\n",
       "      <th>p_w_d</th>\n",
       "      <th>p_no_d</th>\n",
       "      <th>d_no_p</th>\n",
       "      <th>no_pod</th>\n",
       "    </tr>\n",
       "  </thead>\n",
       "  <tbody>\n",
       "    <tr>\n",
       "      <th>count</th>\n",
       "      <td>3937.000000</td>\n",
       "      <td>3937.000000</td>\n",
       "      <td>3937.000000</td>\n",
       "      <td>3937.000000</td>\n",
       "      <td>3937.000000</td>\n",
       "      <td>3937.000000</td>\n",
       "      <td>3937.000000</td>\n",
       "      <td>3937.000000</td>\n",
       "      <td>3937.000000</td>\n",
       "      <td>3937.000000</td>\n",
       "      <td>...</td>\n",
       "      <td>3937.000000</td>\n",
       "      <td>3937.000000</td>\n",
       "      <td>3937.000000</td>\n",
       "      <td>3937.000000</td>\n",
       "      <td>3937.000000</td>\n",
       "      <td>3937.000000</td>\n",
       "      <td>3937.000000</td>\n",
       "      <td>3937.000000</td>\n",
       "      <td>3937.000000</td>\n",
       "      <td>3937.000000</td>\n",
       "    </tr>\n",
       "    <tr>\n",
       "      <th>mean</th>\n",
       "      <td>0.161290</td>\n",
       "      <td>32.775210</td>\n",
       "      <td>64.805131</td>\n",
       "      <td>2316.775641</td>\n",
       "      <td>1.693167</td>\n",
       "      <td>2.346203</td>\n",
       "      <td>1.877826</td>\n",
       "      <td>0.498095</td>\n",
       "      <td>0.485141</td>\n",
       "      <td>0.302769</td>\n",
       "      <td>...</td>\n",
       "      <td>0.437389</td>\n",
       "      <td>0.220218</td>\n",
       "      <td>0.218948</td>\n",
       "      <td>0.227330</td>\n",
       "      <td>0.327407</td>\n",
       "      <td>0.226314</td>\n",
       "      <td>0.250445</td>\n",
       "      <td>0.234696</td>\n",
       "      <td>0.052324</td>\n",
       "      <td>0.462535</td>\n",
       "    </tr>\n",
       "    <tr>\n",
       "      <th>std</th>\n",
       "      <td>0.367845</td>\n",
       "      <td>24.709604</td>\n",
       "      <td>30.294804</td>\n",
       "      <td>2284.984394</td>\n",
       "      <td>0.836075</td>\n",
       "      <td>1.155924</td>\n",
       "      <td>0.740151</td>\n",
       "      <td>0.500060</td>\n",
       "      <td>0.499843</td>\n",
       "      <td>0.459514</td>\n",
       "      <td>...</td>\n",
       "      <td>0.496127</td>\n",
       "      <td>0.414447</td>\n",
       "      <td>0.413586</td>\n",
       "      <td>0.419161</td>\n",
       "      <td>0.469327</td>\n",
       "      <td>0.418498</td>\n",
       "      <td>0.433324</td>\n",
       "      <td>0.423863</td>\n",
       "      <td>0.222708</td>\n",
       "      <td>0.498658</td>\n",
       "    </tr>\n",
       "    <tr>\n",
       "      <th>min</th>\n",
       "      <td>0.000000</td>\n",
       "      <td>1.000000</td>\n",
       "      <td>18.250000</td>\n",
       "      <td>18.850000</td>\n",
       "      <td>1.000000</td>\n",
       "      <td>1.000000</td>\n",
       "      <td>1.000000</td>\n",
       "      <td>0.000000</td>\n",
       "      <td>0.000000</td>\n",
       "      <td>0.000000</td>\n",
       "      <td>...</td>\n",
       "      <td>0.000000</td>\n",
       "      <td>0.000000</td>\n",
       "      <td>0.000000</td>\n",
       "      <td>0.000000</td>\n",
       "      <td>0.000000</td>\n",
       "      <td>0.000000</td>\n",
       "      <td>0.000000</td>\n",
       "      <td>0.000000</td>\n",
       "      <td>0.000000</td>\n",
       "      <td>0.000000</td>\n",
       "    </tr>\n",
       "    <tr>\n",
       "      <th>25%</th>\n",
       "      <td>0.000000</td>\n",
       "      <td>9.000000</td>\n",
       "      <td>34.700000</td>\n",
       "      <td>396.100000</td>\n",
       "      <td>1.000000</td>\n",
       "      <td>1.000000</td>\n",
       "      <td>1.000000</td>\n",
       "      <td>0.000000</td>\n",
       "      <td>0.000000</td>\n",
       "      <td>0.000000</td>\n",
       "      <td>...</td>\n",
       "      <td>0.000000</td>\n",
       "      <td>0.000000</td>\n",
       "      <td>0.000000</td>\n",
       "      <td>0.000000</td>\n",
       "      <td>0.000000</td>\n",
       "      <td>0.000000</td>\n",
       "      <td>0.000000</td>\n",
       "      <td>0.000000</td>\n",
       "      <td>0.000000</td>\n",
       "      <td>0.000000</td>\n",
       "    </tr>\n",
       "    <tr>\n",
       "      <th>50%</th>\n",
       "      <td>0.000000</td>\n",
       "      <td>30.000000</td>\n",
       "      <td>70.250000</td>\n",
       "      <td>1414.800000</td>\n",
       "      <td>1.000000</td>\n",
       "      <td>2.000000</td>\n",
       "      <td>2.000000</td>\n",
       "      <td>0.000000</td>\n",
       "      <td>0.000000</td>\n",
       "      <td>0.000000</td>\n",
       "      <td>...</td>\n",
       "      <td>0.000000</td>\n",
       "      <td>0.000000</td>\n",
       "      <td>0.000000</td>\n",
       "      <td>0.000000</td>\n",
       "      <td>0.000000</td>\n",
       "      <td>0.000000</td>\n",
       "      <td>0.000000</td>\n",
       "      <td>0.000000</td>\n",
       "      <td>0.000000</td>\n",
       "      <td>0.000000</td>\n",
       "    </tr>\n",
       "    <tr>\n",
       "      <th>75%</th>\n",
       "      <td>0.000000</td>\n",
       "      <td>56.000000</td>\n",
       "      <td>90.300000</td>\n",
       "      <td>3893.600000</td>\n",
       "      <td>2.000000</td>\n",
       "      <td>3.000000</td>\n",
       "      <td>2.000000</td>\n",
       "      <td>1.000000</td>\n",
       "      <td>1.000000</td>\n",
       "      <td>1.000000</td>\n",
       "      <td>...</td>\n",
       "      <td>1.000000</td>\n",
       "      <td>0.000000</td>\n",
       "      <td>0.000000</td>\n",
       "      <td>0.000000</td>\n",
       "      <td>1.000000</td>\n",
       "      <td>0.000000</td>\n",
       "      <td>1.000000</td>\n",
       "      <td>0.000000</td>\n",
       "      <td>0.000000</td>\n",
       "      <td>1.000000</td>\n",
       "    </tr>\n",
       "    <tr>\n",
       "      <th>max</th>\n",
       "      <td>1.000000</td>\n",
       "      <td>72.000000</td>\n",
       "      <td>118.650000</td>\n",
       "      <td>8594.400000</td>\n",
       "      <td>3.000000</td>\n",
       "      <td>4.000000</td>\n",
       "      <td>3.000000</td>\n",
       "      <td>1.000000</td>\n",
       "      <td>1.000000</td>\n",
       "      <td>1.000000</td>\n",
       "      <td>...</td>\n",
       "      <td>1.000000</td>\n",
       "      <td>1.000000</td>\n",
       "      <td>1.000000</td>\n",
       "      <td>1.000000</td>\n",
       "      <td>1.000000</td>\n",
       "      <td>1.000000</td>\n",
       "      <td>1.000000</td>\n",
       "      <td>1.000000</td>\n",
       "      <td>1.000000</td>\n",
       "      <td>1.000000</td>\n",
       "    </tr>\n",
       "  </tbody>\n",
       "</table>\n",
       "<p>8 rows × 48 columns</p>\n",
       "</div>"
      ],
      "text/plain": [
       "       senior_citizen       tenure  monthly_charges  total_charges  \\\n",
       "count     3937.000000  3937.000000      3937.000000    3937.000000   \n",
       "mean         0.161290    32.775210        64.805131    2316.775641   \n",
       "std          0.367845    24.709604        30.294804    2284.984394   \n",
       "min          0.000000     1.000000        18.250000      18.850000   \n",
       "25%          0.000000     9.000000        34.700000     396.100000   \n",
       "50%          0.000000    30.000000        70.250000    1414.800000   \n",
       "75%          0.000000    56.000000        90.300000    3893.600000   \n",
       "max          1.000000    72.000000       118.650000    8594.400000   \n",
       "\n",
       "       contract_type_id.1  payment_type_id.1  internet_service_type_id.1  \\\n",
       "count         3937.000000        3937.000000                 3937.000000   \n",
       "mean             1.693167           2.346203                    1.877826   \n",
       "std              0.836075           1.155924                    0.740151   \n",
       "min              1.000000           1.000000                    1.000000   \n",
       "25%              1.000000           1.000000                    1.000000   \n",
       "50%              1.000000           2.000000                    2.000000   \n",
       "75%              2.000000           3.000000                    2.000000   \n",
       "max              3.000000           4.000000                    3.000000   \n",
       "\n",
       "       gender_encoded  partner_encoded  dependents_encoded  ...        fiber  \\\n",
       "count     3937.000000      3937.000000         3937.000000  ...  3937.000000   \n",
       "mean         0.498095         0.485141            0.302769  ...     0.437389   \n",
       "std          0.500060         0.499843            0.459514  ...     0.496127   \n",
       "min          0.000000         0.000000            0.000000  ...     0.000000   \n",
       "25%          0.000000         0.000000            0.000000  ...     0.000000   \n",
       "50%          0.000000         0.000000            0.000000  ...     0.000000   \n",
       "75%          1.000000         1.000000            1.000000  ...     1.000000   \n",
       "max          1.000000         1.000000            1.000000  ...     1.000000   \n",
       "\n",
       "            no_int    a_bank_tr      a_ccard      e_check      m_check  \\\n",
       "count  3937.000000  3937.000000  3937.000000  3937.000000  3937.000000   \n",
       "mean      0.220218     0.218948     0.227330     0.327407     0.226314   \n",
       "std       0.414447     0.413586     0.419161     0.469327     0.418498   \n",
       "min       0.000000     0.000000     0.000000     0.000000     0.000000   \n",
       "25%       0.000000     0.000000     0.000000     0.000000     0.000000   \n",
       "50%       0.000000     0.000000     0.000000     0.000000     0.000000   \n",
       "75%       0.000000     0.000000     0.000000     1.000000     0.000000   \n",
       "max       1.000000     1.000000     1.000000     1.000000     1.000000   \n",
       "\n",
       "             p_w_d       p_no_d       d_no_p       no_pod  \n",
       "count  3937.000000  3937.000000  3937.000000  3937.000000  \n",
       "mean      0.250445     0.234696     0.052324     0.462535  \n",
       "std       0.433324     0.423863     0.222708     0.498658  \n",
       "min       0.000000     0.000000     0.000000     0.000000  \n",
       "25%       0.000000     0.000000     0.000000     0.000000  \n",
       "50%       0.000000     0.000000     0.000000     0.000000  \n",
       "75%       1.000000     0.000000     0.000000     1.000000  \n",
       "max       1.000000     1.000000     1.000000     1.000000  \n",
       "\n",
       "[8 rows x 48 columns]"
      ]
     },
     "execution_count": 9,
     "metadata": {},
     "output_type": "execute_result"
    }
   ],
   "source": [
    "# View numeric summary statistics\n",
    "train.describe()"
   ]
  },
  {
   "cell_type": "markdown",
   "id": "c3084a47",
   "metadata": {},
   "source": [
    "New features: Most of these are garbage and have multiple issues with keeping them - think critically about whether any of these should be used (do they actually supply new information not already represented by the existing fields?) and if they need to be one-hot encoded if kept. "
   ]
  },
  {
   "cell_type": "markdown",
   "id": "3025caf5",
   "metadata": {},
   "source": [
    "## Feature Engineering"
   ]
  },
  {
   "cell_type": "code",
   "execution_count": 10,
   "id": "dd062053",
   "metadata": {
    "scrolled": true
   },
   "outputs": [
    {
     "name": "stdout",
     "output_type": "stream",
     "text": [
      "<class 'pandas.core.frame.DataFrame'>\n",
      "Int64Index: 3937 entries, 5919 to 4192\n",
      "Data columns (total 64 columns):\n",
      " #   Column                                 Non-Null Count  Dtype  \n",
      "---  ------                                 --------------  -----  \n",
      " 0   gender                                 3937 non-null   object \n",
      " 1   senior_citizen                         3937 non-null   int64  \n",
      " 2   partner                                3937 non-null   object \n",
      " 3   dependents                             3937 non-null   object \n",
      " 4   tenure                                 3937 non-null   int64  \n",
      " 5   phone_service                          3937 non-null   object \n",
      " 6   multiple_lines                         3937 non-null   object \n",
      " 7   online_security                        3937 non-null   object \n",
      " 8   online_backup                          3937 non-null   object \n",
      " 9   device_protection                      3937 non-null   object \n",
      " 10  tech_support                           3937 non-null   object \n",
      " 11  streaming_tv                           3937 non-null   object \n",
      " 12  streaming_movies                       3937 non-null   object \n",
      " 13  paperless_billing                      3937 non-null   object \n",
      " 14  monthly_charges                        3937 non-null   float64\n",
      " 15  total_charges                          3937 non-null   float64\n",
      " 16  churn                                  3937 non-null   object \n",
      " 17  contract_type_id.1                     3937 non-null   int64  \n",
      " 18  contract_type                          3937 non-null   object \n",
      " 19  payment_type_id.1                      3937 non-null   int64  \n",
      " 20  payment_type                           3937 non-null   object \n",
      " 21  internet_service_type_id.1             3937 non-null   int64  \n",
      " 22  internet_service_type                  3937 non-null   object \n",
      " 23  gender_encoded                         3937 non-null   int64  \n",
      " 24  partner_encoded                        3937 non-null   int64  \n",
      " 25  dependents_encoded                     3937 non-null   int64  \n",
      " 26  phone_service_encoded                  3937 non-null   int64  \n",
      " 27  paperless_billing_encoded              3937 non-null   int64  \n",
      " 28  churn_encoded                          3937 non-null   int64  \n",
      " 29  multiple_lines_No                      3937 non-null   uint8  \n",
      " 30  multiple_lines_No phone service        3937 non-null   uint8  \n",
      " 31  multiple_lines_Yes                     3937 non-null   uint8  \n",
      " 32  online_security_No                     3937 non-null   uint8  \n",
      " 33  online_security_No internet service    3937 non-null   uint8  \n",
      " 34  online_security_Yes                    3937 non-null   uint8  \n",
      " 35  online_backup_No                       3937 non-null   uint8  \n",
      " 36  online_backup_No internet service      3937 non-null   uint8  \n",
      " 37  online_backup_Yes                      3937 non-null   uint8  \n",
      " 38  device_protection_No                   3937 non-null   uint8  \n",
      " 39  device_protection_No internet service  3937 non-null   uint8  \n",
      " 40  device_protection_Yes                  3937 non-null   uint8  \n",
      " 41  tech_support_No                        3937 non-null   uint8  \n",
      " 42  tech_support_No internet service       3937 non-null   uint8  \n",
      " 43  tech_support_Yes                       3937 non-null   uint8  \n",
      " 44  streaming_tv_No                        3937 non-null   uint8  \n",
      " 45  streaming_tv_No internet service       3937 non-null   uint8  \n",
      " 46  streaming_tv_Yes                       3937 non-null   uint8  \n",
      " 47  streaming_movies_No                    3937 non-null   uint8  \n",
      " 48  streaming_movies_No internet service   3937 non-null   uint8  \n",
      " 49  streaming_movies_Yes                   3937 non-null   uint8  \n",
      " 50  m2m                                    3937 non-null   uint8  \n",
      " 51  yr1                                    3937 non-null   uint8  \n",
      " 52  yr2                                    3937 non-null   uint8  \n",
      " 53  DSL                                    3937 non-null   uint8  \n",
      " 54  fiber                                  3937 non-null   uint8  \n",
      " 55  no_int                                 3937 non-null   uint8  \n",
      " 56  a_bank_tr                              3937 non-null   uint8  \n",
      " 57  a_ccard                                3937 non-null   uint8  \n",
      " 58  e_check                                3937 non-null   uint8  \n",
      " 59  m_check                                3937 non-null   uint8  \n",
      " 60  p_w_d                                  3937 non-null   int64  \n",
      " 61  p_no_d                                 3937 non-null   int64  \n",
      " 62  d_no_p                                 3937 non-null   int64  \n",
      " 63  no_pod                                 3937 non-null   int64  \n",
      "dtypes: float64(2), int64(15), object(16), uint8(31)\n",
      "memory usage: 1.1+ MB\n"
     ]
    }
   ],
   "source": [
    "train.info()"
   ]
  },
  {
   "cell_type": "markdown",
   "id": "4c5e71fd",
   "metadata": {},
   "source": [
    "# Exploratory Analysis"
   ]
  },
  {
   "cell_type": "code",
   "execution_count": 11,
   "id": "536a5d8c",
   "metadata": {},
   "outputs": [
    {
     "data": {
      "text/html": [
       "<div>\n",
       "<style scoped>\n",
       "    .dataframe tbody tr th:only-of-type {\n",
       "        vertical-align: middle;\n",
       "    }\n",
       "\n",
       "    .dataframe tbody tr th {\n",
       "        vertical-align: top;\n",
       "    }\n",
       "\n",
       "    .dataframe thead th {\n",
       "        text-align: right;\n",
       "    }\n",
       "</style>\n",
       "<table border=\"1\" class=\"dataframe\">\n",
       "  <thead>\n",
       "    <tr style=\"text-align: right;\">\n",
       "      <th></th>\n",
       "      <th>gender</th>\n",
       "      <th>senior_citizen</th>\n",
       "      <th>partner</th>\n",
       "      <th>dependents</th>\n",
       "      <th>tenure</th>\n",
       "      <th>phone_service</th>\n",
       "      <th>multiple_lines</th>\n",
       "      <th>online_security</th>\n",
       "      <th>online_backup</th>\n",
       "      <th>device_protection</th>\n",
       "      <th>...</th>\n",
       "      <th>fiber</th>\n",
       "      <th>no_int</th>\n",
       "      <th>a_bank_tr</th>\n",
       "      <th>a_ccard</th>\n",
       "      <th>e_check</th>\n",
       "      <th>m_check</th>\n",
       "      <th>p_w_d</th>\n",
       "      <th>p_no_d</th>\n",
       "      <th>d_no_p</th>\n",
       "      <th>no_pod</th>\n",
       "    </tr>\n",
       "  </thead>\n",
       "  <tbody>\n",
       "    <tr>\n",
       "      <th>0</th>\n",
       "      <td>Female</td>\n",
       "      <td>0</td>\n",
       "      <td>Yes</td>\n",
       "      <td>Yes</td>\n",
       "      <td>9</td>\n",
       "      <td>Yes</td>\n",
       "      <td>No</td>\n",
       "      <td>No</td>\n",
       "      <td>Yes</td>\n",
       "      <td>No</td>\n",
       "      <td>...</td>\n",
       "      <td>0</td>\n",
       "      <td>0</td>\n",
       "      <td>0</td>\n",
       "      <td>0</td>\n",
       "      <td>0</td>\n",
       "      <td>1</td>\n",
       "      <td>1</td>\n",
       "      <td>0</td>\n",
       "      <td>0</td>\n",
       "      <td>0</td>\n",
       "    </tr>\n",
       "    <tr>\n",
       "      <th>1</th>\n",
       "      <td>Male</td>\n",
       "      <td>0</td>\n",
       "      <td>No</td>\n",
       "      <td>No</td>\n",
       "      <td>9</td>\n",
       "      <td>Yes</td>\n",
       "      <td>Yes</td>\n",
       "      <td>No</td>\n",
       "      <td>No</td>\n",
       "      <td>No</td>\n",
       "      <td>...</td>\n",
       "      <td>0</td>\n",
       "      <td>0</td>\n",
       "      <td>0</td>\n",
       "      <td>0</td>\n",
       "      <td>0</td>\n",
       "      <td>1</td>\n",
       "      <td>0</td>\n",
       "      <td>0</td>\n",
       "      <td>0</td>\n",
       "      <td>1</td>\n",
       "    </tr>\n",
       "    <tr>\n",
       "      <th>2</th>\n",
       "      <td>Male</td>\n",
       "      <td>0</td>\n",
       "      <td>No</td>\n",
       "      <td>No</td>\n",
       "      <td>4</td>\n",
       "      <td>Yes</td>\n",
       "      <td>No</td>\n",
       "      <td>No</td>\n",
       "      <td>No</td>\n",
       "      <td>Yes</td>\n",
       "      <td>...</td>\n",
       "      <td>1</td>\n",
       "      <td>0</td>\n",
       "      <td>0</td>\n",
       "      <td>0</td>\n",
       "      <td>1</td>\n",
       "      <td>0</td>\n",
       "      <td>0</td>\n",
       "      <td>0</td>\n",
       "      <td>0</td>\n",
       "      <td>1</td>\n",
       "    </tr>\n",
       "    <tr>\n",
       "      <th>3</th>\n",
       "      <td>Male</td>\n",
       "      <td>1</td>\n",
       "      <td>Yes</td>\n",
       "      <td>No</td>\n",
       "      <td>13</td>\n",
       "      <td>Yes</td>\n",
       "      <td>No</td>\n",
       "      <td>No</td>\n",
       "      <td>Yes</td>\n",
       "      <td>Yes</td>\n",
       "      <td>...</td>\n",
       "      <td>1</td>\n",
       "      <td>0</td>\n",
       "      <td>0</td>\n",
       "      <td>0</td>\n",
       "      <td>1</td>\n",
       "      <td>0</td>\n",
       "      <td>0</td>\n",
       "      <td>1</td>\n",
       "      <td>0</td>\n",
       "      <td>0</td>\n",
       "    </tr>\n",
       "    <tr>\n",
       "      <th>4</th>\n",
       "      <td>Female</td>\n",
       "      <td>1</td>\n",
       "      <td>Yes</td>\n",
       "      <td>No</td>\n",
       "      <td>3</td>\n",
       "      <td>Yes</td>\n",
       "      <td>No</td>\n",
       "      <td>No</td>\n",
       "      <td>No</td>\n",
       "      <td>No</td>\n",
       "      <td>...</td>\n",
       "      <td>1</td>\n",
       "      <td>0</td>\n",
       "      <td>0</td>\n",
       "      <td>0</td>\n",
       "      <td>0</td>\n",
       "      <td>1</td>\n",
       "      <td>0</td>\n",
       "      <td>1</td>\n",
       "      <td>0</td>\n",
       "      <td>0</td>\n",
       "    </tr>\n",
       "  </tbody>\n",
       "</table>\n",
       "<p>5 rows × 64 columns</p>\n",
       "</div>"
      ],
      "text/plain": [
       "   gender  senior_citizen partner dependents  tenure phone_service  \\\n",
       "0  Female               0     Yes        Yes       9           Yes   \n",
       "1    Male               0      No         No       9           Yes   \n",
       "2    Male               0      No         No       4           Yes   \n",
       "3    Male               1     Yes         No      13           Yes   \n",
       "4  Female               1     Yes         No       3           Yes   \n",
       "\n",
       "  multiple_lines online_security online_backup device_protection  ... fiber  \\\n",
       "0             No              No           Yes                No  ...     0   \n",
       "1            Yes              No            No                No  ...     0   \n",
       "2             No              No            No               Yes  ...     1   \n",
       "3             No              No           Yes               Yes  ...     1   \n",
       "4             No              No            No                No  ...     1   \n",
       "\n",
       "  no_int a_bank_tr a_ccard  e_check  m_check p_w_d  p_no_d d_no_p  no_pod  \n",
       "0      0         0       0        0        1     1       0      0       0  \n",
       "1      0         0       0        0        1     0       0      0       1  \n",
       "2      0         0       0        1        0     0       0      0       1  \n",
       "3      0         0       0        1        0     0       1      0       0  \n",
       "4      0         0       0        0        1     0       1      0       0  \n",
       "\n",
       "[5 rows x 64 columns]"
      ]
     },
     "execution_count": 11,
     "metadata": {},
     "output_type": "execute_result"
    }
   ],
   "source": [
    "df.head()"
   ]
  },
  {
   "cell_type": "code",
   "execution_count": 12,
   "id": "efe6b367",
   "metadata": {},
   "outputs": [
    {
     "data": {
      "text/plain": [
       "1    3875\n",
       "0    3157\n",
       "Name: m2m, dtype: int64"
      ]
     },
     "execution_count": 12,
     "metadata": {},
     "output_type": "execute_result"
    }
   ],
   "source": [
    "df['m2m'].value_counts()"
   ]
  },
  {
   "cell_type": "code",
   "execution_count": 13,
   "id": "11fecdce",
   "metadata": {},
   "outputs": [
    {
     "data": {
      "text/plain": [
       "0    4667\n",
       "1    2365\n",
       "Name: e_check, dtype: int64"
      ]
     },
     "execution_count": 13,
     "metadata": {},
     "output_type": "execute_result"
    }
   ],
   "source": [
    "df['e_check'].value_counts()"
   ]
  },
  {
   "cell_type": "code",
   "execution_count": 14,
   "id": "260f0292",
   "metadata": {},
   "outputs": [
    {
     "data": {
      "text/plain": [
       "64.7982081911263"
      ]
     },
     "execution_count": 14,
     "metadata": {},
     "output_type": "execute_result"
    }
   ],
   "source": [
    "df.monthly_charges.mean()"
   ]
  },
  {
   "cell_type": "code",
   "execution_count": 15,
   "id": "fdf75a24",
   "metadata": {},
   "outputs": [
    {
     "data": {
      "text/plain": [
       "0    3752\n",
       "1    3280\n",
       "Name: no_pod, dtype: int64"
      ]
     },
     "execution_count": 15,
     "metadata": {},
     "output_type": "execute_result"
    }
   ],
   "source": [
    "df.no_pod.value_counts()"
   ]
  },
  {
   "cell_type": "code",
   "execution_count": 16,
   "id": "aa43d5bf",
   "metadata": {},
   "outputs": [
    {
     "data": {
      "text/plain": [
       "No     5163\n",
       "Yes    1869\n",
       "Name: churn, dtype: int64"
      ]
     },
     "execution_count": 16,
     "metadata": {},
     "output_type": "execute_result"
    }
   ],
   "source": [
    "df.churn.value_counts()"
   ]
  },
  {
   "cell_type": "code",
   "execution_count": 17,
   "id": "fff5f722",
   "metadata": {},
   "outputs": [
    {
     "data": {
      "image/png": "[encoded data removed]",
      "text/plain": [
       "<Figure size 432x288 with 1 Axes>"
      ]
     },
     "metadata": {
      "needs_background": "light"
     },
     "output_type": "display_data"
    },
    {
     "data": {
      "image/png": "[encoded data removed]",
      "text/plain": [
       "<Figure size 432x288 with 1 Axes>"
      ]
     },
     "metadata": {
      "needs_background": "light"
     },
     "output_type": "display_data"
    },
    {
     "data": {
      "image/png": "[encoded data removed]",
      "text/plain": [
       "<Figure size 432x288 with 1 Axes>"
      ]
     },
     "metadata": {
      "needs_background": "light"
     },
     "output_type": "display_data"
    },
    {
     "data": {
      "image/png": "[encoded data removed]",
      "text/plain": [
       "<Figure size 432x288 with 1 Axes>"
      ]
     },
     "metadata": {
      "needs_background": "light"
     },
     "output_type": "display_data"
    }
   ],
   "source": [
    "# Plot numeric columns\n",
    "num_cols = df.columns[[df[col].dtype == 'float64' for col in df.columns]]\n",
    "for col in num_cols:\n",
    "    plt.hist(df[col])\n",
    "    plt.title(col)\n",
    "    plt.show()\n",
    "    plt.boxplot(df[col])\n",
    "    plt.title(col)\n",
    "    plt.show()"
   ]
  },
  {
   "cell_type": "code",
   "execution_count": 18,
   "id": "ef0961f9",
   "metadata": {},
   "outputs": [
    {
     "data": {
      "text/plain": [
       "Text(0.5, 0, 'churn')"
      ]
     },
     "execution_count": 18,
     "metadata": {},
     "output_type": "execute_result"
    },
    {
     "data": {
      "image/png": "[encoded data removed]",
      "text/plain": [
       "<Figure size 432x288 with 1 Axes>"
      ]
     },
     "metadata": {
      "needs_background": "light"
     },
     "output_type": "display_data"
    }
   ],
   "source": [
    "df.churn.value_counts().plot.bar()\n",
    "plt.xlabel('churn')"
   ]
  },
  {
   "cell_type": "code",
   "execution_count": 19,
   "id": "0a8e2e1c",
   "metadata": {
    "scrolled": true
   },
   "outputs": [
    {
     "data": {
      "text/plain": [
       "1    2165\n",
       "0    1772\n",
       "Name: m2m, dtype: int64"
      ]
     },
     "execution_count": 19,
     "metadata": {},
     "output_type": "execute_result"
    }
   ],
   "source": [
    "train['m2m'].value_counts()"
   ]
  },
  {
   "cell_type": "code",
   "execution_count": 20,
   "id": "0256bff0",
   "metadata": {
    "scrolled": true
   },
   "outputs": [
    {
     "name": "stdout",
     "output_type": "stream",
     "text": [
      "<class 'pandas.core.frame.DataFrame'>\n",
      "Int64Index: 7032 entries, 0 to 7042\n",
      "Data columns (total 64 columns):\n",
      " #   Column                                 Non-Null Count  Dtype  \n",
      "---  ------                                 --------------  -----  \n",
      " 0   gender                                 7032 non-null   object \n",
      " 1   senior_citizen                         7032 non-null   int64  \n",
      " 2   partner                                7032 non-null   object \n",
      " 3   dependents                             7032 non-null   object \n",
      " 4   tenure                                 7032 non-null   int64  \n",
      " 5   phone_service                          7032 non-null   object \n",
      " 6   multiple_lines                         7032 non-null   object \n",
      " 7   online_security                        7032 non-null   object \n",
      " 8   online_backup                          7032 non-null   object \n",
      " 9   device_protection                      7032 non-null   object \n",
      " 10  tech_support                           7032 non-null   object \n",
      " 11  streaming_tv                           7032 non-null   object \n",
      " 12  streaming_movies                       7032 non-null   object \n",
      " 13  paperless_billing                      7032 non-null   object \n",
      " 14  monthly_charges                        7032 non-null   float64\n",
      " 15  total_charges                          7032 non-null   float64\n",
      " 16  churn                                  7032 non-null   object \n",
      " 17  contract_type_id.1                     7032 non-null   int64  \n",
      " 18  contract_type                          7032 non-null   object \n",
      " 19  payment_type_id.1                      7032 non-null   int64  \n",
      " 20  payment_type                           7032 non-null   object \n",
      " 21  internet_service_type_id.1             7032 non-null   int64  \n",
      " 22  internet_service_type                  7032 non-null   object \n",
      " 23  gender_encoded                         7032 non-null   int64  \n",
      " 24  partner_encoded                        7032 non-null   int64  \n",
      " 25  dependents_encoded                     7032 non-null   int64  \n",
      " 26  phone_service_encoded                  7032 non-null   int64  \n",
      " 27  paperless_billing_encoded              7032 non-null   int64  \n",
      " 28  churn_encoded                          7032 non-null   int64  \n",
      " 29  multiple_lines_No                      7032 non-null   uint8  \n",
      " 30  multiple_lines_No phone service        7032 non-null   uint8  \n",
      " 31  multiple_lines_Yes                     7032 non-null   uint8  \n",
      " 32  online_security_No                     7032 non-null   uint8  \n",
      " 33  online_security_No internet service    7032 non-null   uint8  \n",
      " 34  online_security_Yes                    7032 non-null   uint8  \n",
      " 35  online_backup_No                       7032 non-null   uint8  \n",
      " 36  online_backup_No internet service      7032 non-null   uint8  \n",
      " 37  online_backup_Yes                      7032 non-null   uint8  \n",
      " 38  device_protection_No                   7032 non-null   uint8  \n",
      " 39  device_protection_No internet service  7032 non-null   uint8  \n",
      " 40  device_protection_Yes                  7032 non-null   uint8  \n",
      " 41  tech_support_No                        7032 non-null   uint8  \n",
      " 42  tech_support_No internet service       7032 non-null   uint8  \n",
      " 43  tech_support_Yes                       7032 non-null   uint8  \n",
      " 44  streaming_tv_No                        7032 non-null   uint8  \n",
      " 45  streaming_tv_No internet service       7032 non-null   uint8  \n",
      " 46  streaming_tv_Yes                       7032 non-null   uint8  \n",
      " 47  streaming_movies_No                    7032 non-null   uint8  \n",
      " 48  streaming_movies_No internet service   7032 non-null   uint8  \n",
      " 49  streaming_movies_Yes                   7032 non-null   uint8  \n",
      " 50  m2m                                    7032 non-null   uint8  \n",
      " 51  yr1                                    7032 non-null   uint8  \n",
      " 52  yr2                                    7032 non-null   uint8  \n",
      " 53  DSL                                    7032 non-null   uint8  \n",
      " 54  fiber                                  7032 non-null   uint8  \n",
      " 55  no_int                                 7032 non-null   uint8  \n",
      " 56  a_bank_tr                              7032 non-null   uint8  \n",
      " 57  a_ccard                                7032 non-null   uint8  \n",
      " 58  e_check                                7032 non-null   uint8  \n",
      " 59  m_check                                7032 non-null   uint8  \n",
      " 60  p_w_d                                  7032 non-null   int64  \n",
      " 61  p_no_d                                 7032 non-null   int64  \n",
      " 62  d_no_p                                 7032 non-null   int64  \n",
      " 63  no_pod                                 7032 non-null   int64  \n",
      "dtypes: float64(2), int64(15), object(16), uint8(31)\n",
      "memory usage: 2.0+ MB\n"
     ]
    }
   ],
   "source": [
    "df.info()"
   ]
  },
  {
   "cell_type": "code",
   "execution_count": 21,
   "id": "f0389dba",
   "metadata": {
    "scrolled": true
   },
   "outputs": [
    {
     "data": {
      "image/png": "[encoded data removed]",
      "text/plain": [
       "<Figure size 1152x432 with 4 Axes>"
      ]
     },
     "metadata": {
      "needs_background": "light"
     },
     "output_type": "display_data"
    }
   ],
   "source": [
    "features = ['m2m', 'e_check', 'fiber', 'no_pod']\n",
    "\n",
    "enumerate(features)\n",
    "\n",
    "list(enumerate(features))\n",
    "\n",
    "churn_rate = train.churn_encoded.mean()\n",
    "_, ax = plt.subplots(nrows=1, ncols=4, figsize=(16, 6), sharey=True)\n",
    "for i, feature in enumerate(features):\n",
    "    sns.barplot('churn', feature, data=train\n",
    "                , ax=ax[i], alpha=0.5)\n",
    "    ax[i].set_xlabel('Churn')\n",
    "    ax[i].set_ylabel('Churn Rate')\n",
    "    ax[i].set_title(feature)\n",
    "    ax[i].axhline(churn_rate, ls='--', color='grey')"
   ]
  },
  {
   "cell_type": "markdown",
   "id": "e44913ab",
   "metadata": {},
   "source": [
    "### Exploring: Churn via p/d status"
   ]
  },
  {
   "cell_type": "code",
   "execution_count": 22,
   "id": "757654d1",
   "metadata": {},
   "outputs": [
    {
     "data": {
      "text/plain": [
       "((3937, 64), (1688, 64), (1407, 64))"
      ]
     },
     "execution_count": 22,
     "metadata": {},
     "output_type": "execute_result"
    }
   ],
   "source": [
    "train.shape, validate.shape, test.shape"
   ]
  },
  {
   "cell_type": "code",
   "execution_count": 23,
   "id": "7524c8fc",
   "metadata": {},
   "outputs": [
    {
     "data": {
      "text/html": [
       "<div>\n",
       "<style scoped>\n",
       "    .dataframe tbody tr th:only-of-type {\n",
       "        vertical-align: middle;\n",
       "    }\n",
       "\n",
       "    .dataframe tbody tr th {\n",
       "        vertical-align: top;\n",
       "    }\n",
       "\n",
       "    .dataframe thead th {\n",
       "        text-align: right;\n",
       "    }\n",
       "</style>\n",
       "<table border=\"1\" class=\"dataframe\">\n",
       "  <thead>\n",
       "    <tr style=\"text-align: right;\">\n",
       "      <th></th>\n",
       "      <th>gender</th>\n",
       "      <th>senior_citizen</th>\n",
       "      <th>partner</th>\n",
       "      <th>dependents</th>\n",
       "      <th>tenure</th>\n",
       "      <th>phone_service</th>\n",
       "      <th>multiple_lines</th>\n",
       "      <th>online_security</th>\n",
       "      <th>online_backup</th>\n",
       "      <th>device_protection</th>\n",
       "      <th>...</th>\n",
       "      <th>fiber</th>\n",
       "      <th>no_int</th>\n",
       "      <th>a_bank_tr</th>\n",
       "      <th>a_ccard</th>\n",
       "      <th>e_check</th>\n",
       "      <th>m_check</th>\n",
       "      <th>p_w_d</th>\n",
       "      <th>p_no_d</th>\n",
       "      <th>d_no_p</th>\n",
       "      <th>no_pod</th>\n",
       "    </tr>\n",
       "  </thead>\n",
       "  <tbody>\n",
       "    <tr>\n",
       "      <th>5919</th>\n",
       "      <td>Female</td>\n",
       "      <td>0</td>\n",
       "      <td>No</td>\n",
       "      <td>No</td>\n",
       "      <td>58</td>\n",
       "      <td>Yes</td>\n",
       "      <td>Yes</td>\n",
       "      <td>Yes</td>\n",
       "      <td>Yes</td>\n",
       "      <td>Yes</td>\n",
       "      <td>...</td>\n",
       "      <td>0</td>\n",
       "      <td>0</td>\n",
       "      <td>0</td>\n",
       "      <td>1</td>\n",
       "      <td>0</td>\n",
       "      <td>0</td>\n",
       "      <td>0</td>\n",
       "      <td>0</td>\n",
       "      <td>0</td>\n",
       "      <td>1</td>\n",
       "    </tr>\n",
       "    <tr>\n",
       "      <th>1915</th>\n",
       "      <td>Male</td>\n",
       "      <td>0</td>\n",
       "      <td>No</td>\n",
       "      <td>Yes</td>\n",
       "      <td>71</td>\n",
       "      <td>Yes</td>\n",
       "      <td>Yes</td>\n",
       "      <td>Yes</td>\n",
       "      <td>Yes</td>\n",
       "      <td>No</td>\n",
       "      <td>...</td>\n",
       "      <td>1</td>\n",
       "      <td>0</td>\n",
       "      <td>0</td>\n",
       "      <td>1</td>\n",
       "      <td>0</td>\n",
       "      <td>0</td>\n",
       "      <td>0</td>\n",
       "      <td>0</td>\n",
       "      <td>1</td>\n",
       "      <td>0</td>\n",
       "    </tr>\n",
       "    <tr>\n",
       "      <th>5054</th>\n",
       "      <td>Female</td>\n",
       "      <td>0</td>\n",
       "      <td>Yes</td>\n",
       "      <td>Yes</td>\n",
       "      <td>35</td>\n",
       "      <td>Yes</td>\n",
       "      <td>Yes</td>\n",
       "      <td>No internet service</td>\n",
       "      <td>No internet service</td>\n",
       "      <td>No internet service</td>\n",
       "      <td>...</td>\n",
       "      <td>0</td>\n",
       "      <td>1</td>\n",
       "      <td>0</td>\n",
       "      <td>0</td>\n",
       "      <td>1</td>\n",
       "      <td>0</td>\n",
       "      <td>1</td>\n",
       "      <td>0</td>\n",
       "      <td>0</td>\n",
       "      <td>0</td>\n",
       "    </tr>\n",
       "    <tr>\n",
       "      <th>2355</th>\n",
       "      <td>Male</td>\n",
       "      <td>0</td>\n",
       "      <td>Yes</td>\n",
       "      <td>Yes</td>\n",
       "      <td>1</td>\n",
       "      <td>Yes</td>\n",
       "      <td>No</td>\n",
       "      <td>No internet service</td>\n",
       "      <td>No internet service</td>\n",
       "      <td>No internet service</td>\n",
       "      <td>...</td>\n",
       "      <td>0</td>\n",
       "      <td>1</td>\n",
       "      <td>0</td>\n",
       "      <td>0</td>\n",
       "      <td>0</td>\n",
       "      <td>1</td>\n",
       "      <td>1</td>\n",
       "      <td>0</td>\n",
       "      <td>0</td>\n",
       "      <td>0</td>\n",
       "    </tr>\n",
       "    <tr>\n",
       "      <th>6279</th>\n",
       "      <td>Male</td>\n",
       "      <td>1</td>\n",
       "      <td>No</td>\n",
       "      <td>No</td>\n",
       "      <td>20</td>\n",
       "      <td>Yes</td>\n",
       "      <td>No</td>\n",
       "      <td>Yes</td>\n",
       "      <td>No</td>\n",
       "      <td>No</td>\n",
       "      <td>...</td>\n",
       "      <td>0</td>\n",
       "      <td>0</td>\n",
       "      <td>0</td>\n",
       "      <td>0</td>\n",
       "      <td>0</td>\n",
       "      <td>1</td>\n",
       "      <td>0</td>\n",
       "      <td>0</td>\n",
       "      <td>0</td>\n",
       "      <td>1</td>\n",
       "    </tr>\n",
       "  </tbody>\n",
       "</table>\n",
       "<p>5 rows × 64 columns</p>\n",
       "</div>"
      ],
      "text/plain": [
       "      gender  senior_citizen partner dependents  tenure phone_service  \\\n",
       "5919  Female               0      No         No      58           Yes   \n",
       "1915    Male               0      No        Yes      71           Yes   \n",
       "5054  Female               0     Yes        Yes      35           Yes   \n",
       "2355    Male               0     Yes        Yes       1           Yes   \n",
       "6279    Male               1      No         No      20           Yes   \n",
       "\n",
       "     multiple_lines      online_security        online_backup  \\\n",
       "5919            Yes                  Yes                  Yes   \n",
       "1915            Yes                  Yes                  Yes   \n",
       "5054            Yes  No internet service  No internet service   \n",
       "2355             No  No internet service  No internet service   \n",
       "6279             No                  Yes                   No   \n",
       "\n",
       "        device_protection  ... fiber no_int a_bank_tr a_ccard  e_check  \\\n",
       "5919                  Yes  ...     0      0         0       1        0   \n",
       "1915                   No  ...     1      0         0       1        0   \n",
       "5054  No internet service  ...     0      1         0       0        1   \n",
       "2355  No internet service  ...     0      1         0       0        0   \n",
       "6279                   No  ...     0      0         0       0        0   \n",
       "\n",
       "      m_check p_w_d  p_no_d d_no_p  no_pod  \n",
       "5919        0     0       0      0       1  \n",
       "1915        0     0       0      1       0  \n",
       "5054        0     1       0      0       0  \n",
       "2355        1     1       0      0       0  \n",
       "6279        1     0       0      0       1  \n",
       "\n",
       "[5 rows x 64 columns]"
      ]
     },
     "execution_count": 23,
     "metadata": {},
     "output_type": "execute_result"
    }
   ],
   "source": [
    "train.head()"
   ]
  },
  {
   "cell_type": "markdown",
   "id": "0d12f1fc",
   "metadata": {},
   "source": [
    "Partner w/ dependents"
   ]
  },
  {
   "cell_type": "code",
   "execution_count": 25,
   "id": "f07b5be5",
   "metadata": {},
   "outputs": [
    {
     "data": {
      "text/html": [
       "<div>\n",
       "<style scoped>\n",
       "    .dataframe tbody tr th:only-of-type {\n",
       "        vertical-align: middle;\n",
       "    }\n",
       "\n",
       "    .dataframe tbody tr th {\n",
       "        vertical-align: top;\n",
       "    }\n",
       "\n",
       "    .dataframe thead th {\n",
       "        text-align: right;\n",
       "    }\n",
       "</style>\n",
       "<table border=\"1\" class=\"dataframe\">\n",
       "  <thead>\n",
       "    <tr style=\"text-align: right;\">\n",
       "      <th>p_w_d</th>\n",
       "      <th>0</th>\n",
       "      <th>1</th>\n",
       "    </tr>\n",
       "    <tr>\n",
       "      <th>contract_type</th>\n",
       "      <th></th>\n",
       "      <th></th>\n",
       "    </tr>\n",
       "  </thead>\n",
       "  <tbody>\n",
       "    <tr>\n",
       "      <th>Month-to-month</th>\n",
       "      <td>1818</td>\n",
       "      <td>347</td>\n",
       "    </tr>\n",
       "    <tr>\n",
       "      <th>One year</th>\n",
       "      <td>567</td>\n",
       "      <td>248</td>\n",
       "    </tr>\n",
       "    <tr>\n",
       "      <th>Two year</th>\n",
       "      <td>566</td>\n",
       "      <td>391</td>\n",
       "    </tr>\n",
       "  </tbody>\n",
       "</table>\n",
       "</div>"
      ],
      "text/plain": [
       "p_w_d              0    1\n",
       "contract_type            \n",
       "Month-to-month  1818  347\n",
       "One year         567  248\n",
       "Two year         566  391"
      ]
     },
     "execution_count": 25,
     "metadata": {},
     "output_type": "execute_result"
    }
   ],
   "source": [
    "pd.crosstab(train.contract_type, train.p_w_d)"
   ]
  },
  {
   "cell_type": "code",
   "execution_count": 26,
   "id": "203f824e",
   "metadata": {},
   "outputs": [
    {
     "data": {
      "text/html": [
       "<div>\n",
       "<style scoped>\n",
       "    .dataframe tbody tr th:only-of-type {\n",
       "        vertical-align: middle;\n",
       "    }\n",
       "\n",
       "    .dataframe tbody tr th {\n",
       "        vertical-align: top;\n",
       "    }\n",
       "\n",
       "    .dataframe thead th {\n",
       "        text-align: right;\n",
       "    }\n",
       "</style>\n",
       "<table border=\"1\" class=\"dataframe\">\n",
       "  <thead>\n",
       "    <tr style=\"text-align: right;\">\n",
       "      <th>p_w_d</th>\n",
       "      <th>0</th>\n",
       "      <th>1</th>\n",
       "    </tr>\n",
       "    <tr>\n",
       "      <th>churn</th>\n",
       "      <th></th>\n",
       "      <th></th>\n",
       "    </tr>\n",
       "  </thead>\n",
       "  <tbody>\n",
       "    <tr>\n",
       "      <th>No</th>\n",
       "      <td>2049</td>\n",
       "      <td>842</td>\n",
       "    </tr>\n",
       "    <tr>\n",
       "      <th>Yes</th>\n",
       "      <td>902</td>\n",
       "      <td>144</td>\n",
       "    </tr>\n",
       "  </tbody>\n",
       "</table>\n",
       "</div>"
      ],
      "text/plain": [
       "p_w_d     0    1\n",
       "churn           \n",
       "No     2049  842\n",
       "Yes     902  144"
      ]
     },
     "execution_count": 26,
     "metadata": {},
     "output_type": "execute_result"
    }
   ],
   "source": [
    "pd.crosstab(train.churn, train.p_w_d)"
   ]
  },
  {
   "cell_type": "code",
   "execution_count": null,
   "id": "0b16aa18",
   "metadata": {},
   "outputs": [],
   "source": [
    "# % Churn\n",
    "P_w_D_Churn_Rate = 144/842\n",
    "print(f'total_pop: 986')\n",
    "print(f'P_w_D: {P_w_D_Churn_Rate:.2%}')"
   ]
  },
  {
   "cell_type": "markdown",
   "id": "5bb2423d",
   "metadata": {},
   "source": [
    "Partner, no dependents"
   ]
  },
  {
   "cell_type": "code",
   "execution_count": null,
   "id": "f2eb7d9e",
   "metadata": {},
   "outputs": [],
   "source": [
    "pd.crosstab(train.contract_type, train.partner_no_dependents)"
   ]
  },
  {
   "cell_type": "code",
   "execution_count": null,
   "id": "5558b0c9",
   "metadata": {},
   "outputs": [],
   "source": [
    "pd.crosstab(train.churn, train.partner_no_dependents)"
   ]
  },
  {
   "cell_type": "code",
   "execution_count": null,
   "id": "08630ff8",
   "metadata": {},
   "outputs": [],
   "source": [
    "P_no_D_Churn_Rate = 239/685\n",
    "print(f'total_pop: 924')\n",
    "print(f'P_no_D: {P_no_D_Churn_Rate:.2%}')"
   ]
  },
  {
   "cell_type": "markdown",
   "id": "2b6b6665",
   "metadata": {},
   "source": [
    "Dependents, no partner"
   ]
  },
  {
   "cell_type": "code",
   "execution_count": null,
   "id": "f24697dd",
   "metadata": {},
   "outputs": [],
   "source": [
    "pd.crosstab(train.contract_type, train.dependents_no_partner)"
   ]
  },
  {
   "cell_type": "code",
   "execution_count": null,
   "id": "72812a99",
   "metadata": {},
   "outputs": [],
   "source": [
    "pd.crosstab(train.churn, train.dependents_no_partner)"
   ]
  },
  {
   "cell_type": "code",
   "execution_count": null,
   "id": "8f8ec502",
   "metadata": {},
   "outputs": [],
   "source": [
    "D_no_P_Churn_Rate = 42/164\n",
    "print(f'total_pop: 206')\n",
    "print(f'D_no_P: {D_no_P_Churn_Rate:.2%}')"
   ]
  },
  {
   "cell_type": "markdown",
   "id": "85198064",
   "metadata": {},
   "source": [
    "Neither partner nor dependents (NONE)"
   ]
  },
  {
   "cell_type": "code",
   "execution_count": null,
   "id": "fdbc3d68",
   "metadata": {},
   "outputs": [],
   "source": [
    "pd.crosstab(train.contract_type, train.no_pod)"
   ]
  },
  {
   "cell_type": "code",
   "execution_count": null,
   "id": "deeea383",
   "metadata": {},
   "outputs": [],
   "source": [
    "pd.crosstab(train.churn, train.no_pod)"
   ]
  },
  {
   "cell_type": "code",
   "execution_count": null,
   "id": "a6101de6",
   "metadata": {},
   "outputs": [],
   "source": [
    "D_no_P_Churn_Rate = 621/1200\n",
    "print(f'total_pop: 1821')\n",
    "print(f'neither: {D_no_P_Churn_Rate:.2%}')"
   ]
  },
  {
   "cell_type": "markdown",
   "id": "49a88a4a",
   "metadata": {},
   "source": [
    "### Exploring: M2M Churn by Payment Type"
   ]
  },
  {
   "cell_type": "code",
   "execution_count": null,
   "id": "0f463451",
   "metadata": {
    "scrolled": true
   },
   "outputs": [],
   "source": [
    "pd.crosstab(train['m2m'], train['payment_type_Bank transfer (automatic)'])"
   ]
  },
  {
   "cell_type": "code",
   "execution_count": null,
   "id": "12a56616",
   "metadata": {},
   "outputs": [],
   "source": [
    "pd.crosstab(train['churn'], train['payment_type_Bank transfer (automatic)'])"
   ]
  },
  {
   "cell_type": "code",
   "execution_count": null,
   "id": "a46fd5dc",
   "metadata": {},
   "outputs": [],
   "source": [
    "# % Churn\n",
    "Bank_Tr_Churn_Rate = 149/713\n",
    "print(f'total_pop: 862')\n",
    "print(f'Bank_Tr_Churn_Rate: {Bank_Tr_Churn_Rate:.2%}')"
   ]
  },
  {
   "cell_type": "code",
   "execution_count": null,
   "id": "437b0d22",
   "metadata": {},
   "outputs": [],
   "source": [
    "pd.crosstab(train['m2m'], train['payment_type_Credit card (automatic)'])"
   ]
  },
  {
   "cell_type": "code",
   "execution_count": null,
   "id": "25e41a44",
   "metadata": {},
   "outputs": [],
   "source": [
    "pd.crosstab(train['churn'], train['payment_type_Credit card (automatic)'])"
   ]
  },
  {
   "cell_type": "code",
   "execution_count": null,
   "id": "b80b94a0",
   "metadata": {},
   "outputs": [],
   "source": [
    "# % Churn\n",
    "CC_Churn_Rate = 145/750\n",
    "print(f'total_pop: 895')\n",
    "print(f'CC_Churn_Rate: {CC_Churn_Rate:.2%}')"
   ]
  },
  {
   "cell_type": "code",
   "execution_count": null,
   "id": "14a0ab3f",
   "metadata": {},
   "outputs": [],
   "source": [
    "pd.crosstab(train['m2m'], train['payment_type_Electronic check'])"
   ]
  },
  {
   "cell_type": "code",
   "execution_count": null,
   "id": "bac22762",
   "metadata": {},
   "outputs": [],
   "source": [
    "pd.crosstab(train['churn'], train['payment_type_Electronic check'])"
   ]
  },
  {
   "cell_type": "code",
   "execution_count": null,
   "id": "954bdbee",
   "metadata": {
    "scrolled": true
   },
   "outputs": [],
   "source": [
    "# % Churn\n",
    "Electronic_Check_Churn_Rate = 581/708\n",
    "print(f'total_pop: 1289')\n",
    "print(f'Electronic_Check_Churn_Rate: {Electronic_Check_Churn_Rate:.2%}')"
   ]
  },
  {
   "cell_type": "markdown",
   "id": "801e0606",
   "metadata": {},
   "source": [
    "#### ****Electronic Check Churn Rate is VERY HIGH. Explore further!"
   ]
  },
  {
   "cell_type": "code",
   "execution_count": null,
   "id": "c0da780b",
   "metadata": {},
   "outputs": [],
   "source": [
    "pd.crosstab(train['m2m'], train['payment_type_Mailed check'])"
   ]
  },
  {
   "cell_type": "code",
   "execution_count": null,
   "id": "a11a8497",
   "metadata": {},
   "outputs": [],
   "source": [
    "pd.crosstab(train['churn'], train['payment_type_Mailed check'])"
   ]
  },
  {
   "cell_type": "code",
   "execution_count": null,
   "id": "c0d93bef",
   "metadata": {
    "scrolled": true
   },
   "outputs": [],
   "source": [
    "# % Churn\n",
    "Mailed_Check_Churn_Rate = 171/720\n",
    "print(f'total_pop: 891')\n",
    "print(f'Mailed_Check_Churn_Rate: {Mailed_Check_Churn_Rate:.2%}')"
   ]
  },
  {
   "cell_type": "markdown",
   "id": "963b33e4",
   "metadata": {},
   "source": [
    "### Exploring: (payment_type) Electronic Check - Churn"
   ]
  },
  {
   "cell_type": "code",
   "execution_count": null,
   "id": "24534e35",
   "metadata": {
    "scrolled": true
   },
   "outputs": [],
   "source": [
    "train.info()"
   ]
  },
  {
   "cell_type": "code",
   "execution_count": null,
   "id": "6dc0d994",
   "metadata": {},
   "outputs": [],
   "source": [
    "pd.crosstab(train['payment_type_Electronic check'], train['senior_citizen'])"
   ]
  },
  {
   "cell_type": "code",
   "execution_count": null,
   "id": "4217ac4e",
   "metadata": {
    "scrolled": true
   },
   "outputs": [],
   "source": [
    "###### ***fiber has high churn. explore further\n",
    "train.groupby('payment_type_Electronic check').internet_service_type.value_counts()"
   ]
  },
  {
   "cell_type": "code",
   "execution_count": null,
   "id": "e40a254b",
   "metadata": {},
   "outputs": [],
   "source": [
    "train.groupby('payment_type_Electronic check').monthly_charges.mean()"
   ]
  },
  {
   "cell_type": "code",
   "execution_count": null,
   "id": "0c0a8ed0",
   "metadata": {},
   "outputs": [],
   "source": [
    "# determines that mailed_check is not worth looking at.\n",
    "# assuming that mailed_check customers are mostly senior_citizens who don't affect churn considerably\n",
    "train.groupby('payment_type_Mailed check').monthly_charges.mean()"
   ]
  },
  {
   "cell_type": "markdown",
   "id": "575fb4b8",
   "metadata": {},
   "source": [
    "### Exploring: (internet_service_type) Fiber vs DSL - Churn"
   ]
  },
  {
   "cell_type": "code",
   "execution_count": null,
   "id": "7d1a6b93",
   "metadata": {
    "scrolled": true
   },
   "outputs": [],
   "source": [
    "train.info()\n"
   ]
  },
  {
   "cell_type": "code",
   "execution_count": null,
   "id": "e12b4d9d",
   "metadata": {},
   "outputs": [],
   "source": [
    "###### ***fiber has high churn. explore further\n",
    "train.groupby('churn').internet_service_type.value_counts()"
   ]
  },
  {
   "cell_type": "code",
   "execution_count": null,
   "id": "299bf273",
   "metadata": {},
   "outputs": [],
   "source": [
    "# Average monthly charge for customers with and without Fiber\n",
    "train.groupby('internet_service_type_Fiber optic').monthly_charges.mean()"
   ]
  },
  {
   "cell_type": "code",
   "execution_count": null,
   "id": "49738742",
   "metadata": {},
   "outputs": [],
   "source": [
    "# Barplot expressing churn rate of customers by contract type: Month-to-Month, 1-yr, and 2-yr contracts\n",
    "variables = ['m2m', 'contract_type_One year', 'contract_type_Two year']\n",
    "\n",
    "mean = [train['m2m'].mean(), train['contract_type_One year'].mean(), train['contract_type_Two year'].mean()]\n",
    "\n",
    "for x in range(0,3):\n",
    "    sns.barplot('churn',variables[x], data=train)\n",
    "    \n",
    "    plt.xlabel('')\n",
    "    plt.title(variables[x])\n",
    "    plt.axhline(mean[x], ls = '--', color = 'black')\n",
    "    plt.show()"
   ]
  },
  {
   "cell_type": "code",
   "execution_count": null,
   "id": "8741e65c",
   "metadata": {},
   "outputs": [],
   "source": [
    "features = ['m2m', 'contract_type_One year', 'contract_type_Two year']\n",
    "\n",
    "enumerate(features)\n",
    "\n",
    "list(enumerate(features))\n",
    "\n",
    "mean = [train['m2m'].mean(), train['contract_type_One year'].mean(), train['contract_type_Two year'].mean()]\n",
    "_, ax = plt.subplots(nrows=1, ncols=3, figsize=(16, 6), sharey=True)\n",
    "for i, feature in enumerate(features):\n",
    "    sns.barplot('churn', feature, data=train\n",
    "                , ax=ax[i], alpha=0.5)\n",
    "    ax[i].set_xlabel('Churn')\n",
    "    ax[i].set_ylabel('Churn Rate')\n",
    "    ax[i].set_title(feature)\n",
    "    ax[i].axhline(churn_rate, ls='--', color='grey')"
   ]
  },
  {
   "cell_type": "code",
   "execution_count": null,
   "id": "d5c59c08",
   "metadata": {},
   "outputs": [],
   "source": [
    "train.info()"
   ]
  },
  {
   "cell_type": "markdown",
   "id": "090ca479",
   "metadata": {},
   "source": [
    "## Plots analyzing our 4 Questions"
   ]
  },
  {
   "cell_type": "markdown",
   "id": "580f9c7c",
   "metadata": {},
   "source": [
    "### Bivariate Analysis"
   ]
  },
  {
   "cell_type": "code",
   "execution_count": null,
   "id": "276c1781",
   "metadata": {},
   "outputs": [],
   "source": [
    "## Q1: M2M customer churn vs. 1-yr and 2-yr customer churn\n",
    "# Barplot expressing churn rate of customers by contract type: Month-to-Month, 1-yr, and 2-yr contracts\n",
    "\n",
    "features = ['m2m', 'contract_type_One year', 'contract_type_Two year']\n",
    "\n",
    "enumerate(features)\n",
    "\n",
    "list(enumerate(features))\n",
    "\n",
    "mean = [train['m2m'].mean(), train['contract_type_One year'].mean(), train['contract_type_Two year'].mean()]\n",
    "_, ax = plt.subplots(nrows=1, ncols=3, figsize=(16, 6), sharey=True)\n",
    "for i, feature in enumerate(features):\n",
    "    sns.barplot('churn', feature, data=train\n",
    "                , ax=ax[i], alpha=0.5)\n",
    "    ax[i].set_xlabel('Churn Rate')\n",
    "    ax[i].set_ylabel('')\n",
    "    ax[i].set_title(feature)\n",
    "    ax[i].axhline(churn_rate, ls='--', color='grey')"
   ]
  },
  {
   "cell_type": "code",
   "execution_count": null,
   "id": "d8400edd",
   "metadata": {
    "scrolled": true
   },
   "outputs": [],
   "source": [
    "## Q1: M2M customer churn vs. 1-yr and 2-yr customer churn\n",
    "# Barplot expressing churn rate of customers by contract type: Month-to-Month, 1-yr, and 2-yr contracts\n",
    "variables = ['m2m', 'contract_type_One year', 'contract_type_Two year']\n",
    "\n",
    "mean = [train['m2m'].mean(), train['contract_type_One year'].mean(), train['contract_type_Two year'].mean()]\n",
    "\n",
    "for x in range(0,3):\n",
    "    sns.barplot('churn',variables[x], data=train)\n",
    "    \n",
    "    plt.xlabel('')\n",
    "    plt.title(variables[x])\n",
    "    plt.axhline(mean[x], ls = '--', color = 'black')\n",
    "    plt.show()"
   ]
  },
  {
   "cell_type": "markdown",
   "id": "2370dfed",
   "metadata": {},
   "source": [
    "Month-to-Month: Churn is very significant for M2M customers. This indicates the need for further exploration and statistical analysis.\n",
    "\n",
    "1-yr & 2-yr contracts also appear to be very significant."
   ]
  },
  {
   "cell_type": "code",
   "execution_count": null,
   "id": "7f41ef10",
   "metadata": {},
   "outputs": [],
   "source": [
    "## Q2: Electronic Check vs. other payment types\n",
    "# Barplot expressing churn rate of customers by payment type: bank transfer, cc, e-check, mailed-check\n",
    "\n",
    "features = ['payment_type_Bank transfer (automatic)', 'payment_type_Credit card (automatic)', 'payment_type_Electronic check', 'payment_type_Mailed check']\n",
    "\n",
    "enumerate(features)\n",
    "\n",
    "list(enumerate(features))\n",
    "\n",
    "mean = [train['payment_type_Bank transfer (automatic)'].mean(), train['payment_type_Credit card (automatic)'].mean(), train['payment_type_Electronic check'].mean(), train['payment_type_Mailed check'].mean()]\n",
    "_, ax = plt.subplots(nrows=1, ncols=4, figsize=(16, 6), sharey=True)\n",
    "for i, feature in enumerate(features):\n",
    "    sns.barplot('churn', feature, data=train\n",
    "                , ax=ax[i], alpha=0.5)\n",
    "    ax[i].set_xlabel('Churn Rate')\n",
    "    ax[i].set_ylabel('')\n",
    "    ax[i].set_title(feature)\n",
    "    ax[i].axhline(churn_rate, ls='--', color='grey')"
   ]
  },
  {
   "cell_type": "code",
   "execution_count": null,
   "id": "40520a00",
   "metadata": {
    "scrolled": true
   },
   "outputs": [],
   "source": [
    "## Q2: Electronic Check vs. other payment types\n",
    "# Barplot expressing churn rate of customers by payment type: bank transfer, cc, e-check, mailed-check\n",
    "variables = ['payment_type_Bank transfer (automatic)', 'payment_type_Credit card (automatic)', 'payment_type_Electronic check', 'payment_type_Mailed check']\n",
    "\n",
    "mean = [train['payment_type_Bank transfer (automatic)'].mean(), train['payment_type_Credit card (automatic)'].mean(), train['payment_type_Electronic check'].mean(), train['payment_type_Mailed check'].mean()]\n",
    "\n",
    "for x in range(0,4):\n",
    "    sns.barplot('churn',variables[x], data=train)\n",
    "    \n",
    "    plt.xlabel('')\n",
    "    plt.title(variables[x])\n",
    "    plt.axhline(mean[x], ls = '--', color = 'black')\n",
    "    plt.show()"
   ]
  },
  {
   "cell_type": "markdown",
   "id": "24f0f51f",
   "metadata": {},
   "source": [
    "Comparatively, all payment types have low churn except for customers who pay by electronic check. \n",
    "\n",
    "I'll investigate electronic check churn further. However, since all 4 payment types are statistically significant, I'll include those in modeling as well. "
   ]
  },
  {
   "cell_type": "code",
   "execution_count": null,
   "id": "d1682892",
   "metadata": {},
   "outputs": [],
   "source": [
    "## Q3: Fiber internet vs other internet types\n",
    "# Barplot expressing churn rate of customers by internet type: Fiber, DSL, or none\n",
    "\n",
    "features = ['internet_service_type_DSL', 'internet_service_type_Fiber optic', 'internet_service_type_None']\n",
    "\n",
    "enumerate(features)\n",
    "\n",
    "list(enumerate(features))\n",
    "\n",
    "mean = [train['internet_service_type_DSL'].mean(), train['internet_service_type_Fiber optic'].mean(), train['internet_service_type_None'].mean()]\n",
    "_, ax = plt.subplots(nrows=1, ncols=3, figsize=(16, 6), sharey=True)\n",
    "for i, feature in enumerate(features):\n",
    "    sns.barplot('churn', feature, data=train\n",
    "                , ax=ax[i], alpha=0.5)\n",
    "    ax[i].set_xlabel('Churn Rate')\n",
    "    ax[i].set_ylabel('')\n",
    "    ax[i].set_title(feature)\n",
    "    ax[i].axhline(churn_rate, ls='--', color='grey')"
   ]
  },
  {
   "cell_type": "code",
   "execution_count": null,
   "id": "8788b42f",
   "metadata": {},
   "outputs": [],
   "source": [
    "## Q3\n",
    "# Barplot expressing churn rate of customers by internet type: Fiber, DSL, or none\n",
    "variables = ['internet_service_type_DSL', 'internet_service_type_Fiber optic', 'internet_service_type_None']\n",
    "\n",
    "mean = [train['internet_service_type_DSL'].mean(), train['internet_service_type_Fiber optic'].mean(), train['internet_service_type_None'].mean()]\n",
    "\n",
    "for x in range(0,3):\n",
    "    sns.barplot('churn',variables[x], data=train)\n",
    "    \n",
    "    plt.xlabel('')\n",
    "    plt.title(variables[x])\n",
    "    plt.axhline(mean[x], ls = '--', color = 'black')\n",
    "    plt.show()"
   ]
  },
  {
   "cell_type": "code",
   "execution_count": null,
   "id": "77b16d79",
   "metadata": {},
   "outputs": [],
   "source": [
    "# Chi-squared test determining whether churn rate for customers with DSL internet is statistically significant\n",
    "dsl_stat = pd.crosstab(train['internet_service_type_DSL'], train.churn_encoded)\n",
    "\n",
    "print(dsl_stat)\n",
    "\n",
    "a = 0.05\n",
    "\n",
    "chi2, p, degf, expected = stats.chi2_contingency(dsl_stat)\n",
    "\n",
    "chi2, p\n",
    "\n",
    "print('--------------------------------------')\n",
    "\n",
    "print(f'p: {p}')\n",
    "\n",
    "if p < a:\n",
    "    print(\"We reject the null hypothesis and this variable is statistically significant\")\n",
    "else:\n",
    "    print(\"We fail to reject the null hypothesis and this feature is not statisitcally significant\")"
   ]
  },
  {
   "cell_type": "code",
   "execution_count": null,
   "id": "75a66290",
   "metadata": {
    "scrolled": true
   },
   "outputs": [],
   "source": [
    "# Chi-squared test determining whether churn rate for customers with Fiber internet is statistically significant\n",
    "fiber_stat = pd.crosstab(train['internet_service_type_Fiber optic'], train.churn_encoded)\n",
    "\n",
    "print(fiber_stat)\n",
    "\n",
    "a = 0.05\n",
    "\n",
    "chi2, p, degf, expected = stats.chi2_contingency(fiber_stat)\n",
    "\n",
    "chi2, p\n",
    "\n",
    "print('--------------------------------------------')\n",
    "\n",
    "print(f'p: {p}')\n",
    "\n",
    "if p < a:\n",
    "    print(\"We reject the null hypothesis and this variable is statistically significant\")\n",
    "else:\n",
    "    print(\"We fail to reject the null hypothesis and this feature is not statisitcally significant\")"
   ]
  },
  {
   "cell_type": "code",
   "execution_count": null,
   "id": "b9be5cf5",
   "metadata": {},
   "outputs": [],
   "source": [
    "# Chi-squared test determining whether churn rate for customers with NO internet is statistically significant\n",
    "no_net_stat = pd.crosstab(train['internet_service_type_None'], train.churn_encoded)\n",
    "\n",
    "print(no_net_stat)\n",
    "\n",
    "a = 0.05\n",
    "\n",
    "chi2, p, degf, expected = stats.chi2_contingency(no_net_stat)\n",
    "\n",
    "chi2, p\n",
    "\n",
    "print('--------------------------------------------')\n",
    "\n",
    "print(f'p: {p}')\n",
    "\n",
    "if p < a:\n",
    "    print(\"We reject the null hypothesis and this variable is statistically significant\")\n",
    "else:\n",
    "    print(\"We fail to reject the null hypothesis and this feature is not statisitcally significant\")"
   ]
  },
  {
   "cell_type": "code",
   "execution_count": null,
   "id": "2d166ec0",
   "metadata": {},
   "outputs": [],
   "source": [
    "## Q4: Adults with dependents vs. Adults without dependents\n",
    "# Barplot expressing churn rate of customers by dependent status: Single Adults no dependents vs. Single Adults with dependents\n",
    "\n",
    "features = ['dependents_no_partner', 'no_pod']\n",
    "\n",
    "enumerate(features)\n",
    "\n",
    "list(enumerate(features))\n",
    "\n",
    "mean = [train['dependents_no_partner'].mean(), train['no_pod'].mean()]\n",
    "_, ax = plt.subplots(nrows=1, ncols=2, figsize=(16, 6), sharey=True)\n",
    "for i, feature in enumerate(features):\n",
    "    sns.barplot('churn', feature, data=train\n",
    "                , ax=ax[i], alpha=0.5)\n",
    "    ax[i].set_xlabel('Churn Rate')\n",
    "    ax[i].set_ylabel('')\n",
    "    ax[i].set_title(feature)\n",
    "    ax[i].axhline(churn_rate, ls='--', color='grey')"
   ]
  },
  {
   "cell_type": "code",
   "execution_count": null,
   "id": "43deb972",
   "metadata": {
    "scrolled": false
   },
   "outputs": [],
   "source": [
    "## Q4: Adults with dependents vs. Adults without dependents\n",
    "# Barplot expressing churn rate of customers by dependent status: Single Adults no dependents vs. Single Adults with dependents\n",
    "variables = ['dependents_no_partner', 'no_pod']\n",
    "\n",
    "mean = [train['dependents_no_partner'].mean(), train['no_pod'].mean()]\n",
    "\n",
    "for x in range(0,2):\n",
    "    sns.barplot('churn',variables[x], data=train)\n",
    "    \n",
    "    plt.xlabel('')\n",
    "    plt.title(variables[x])\n",
    "    plt.axhline(mean[x], ls = '--', color = 'black')\n",
    "    plt.show()"
   ]
  },
  {
   "cell_type": "markdown",
   "id": "178fe24d",
   "metadata": {},
   "source": [
    "Dependents, no partner: not statistically significant."
   ]
  },
  {
   "cell_type": "code",
   "execution_count": null,
   "id": "2e502161",
   "metadata": {},
   "outputs": [],
   "source": [
    "# Barplot expressing churn rate of customers with partner and dependents\n",
    "\n",
    "features = ['partner_w_dependents', 'partner_no_dependents']\n",
    "\n",
    "enumerate(features)\n",
    "\n",
    "list(enumerate(features))\n",
    "\n",
    "mean = [train['partner_w_dependents'].mean(), train['partner_no_dependents'].mean()]\n",
    "_, ax = plt.subplots(nrows=1, ncols=2, figsize=(16, 6), sharey=True)\n",
    "for i, feature in enumerate(features):\n",
    "    sns.barplot('churn', feature, data=train\n",
    "                , ax=ax[i], alpha=0.5)\n",
    "    ax[i].set_xlabel('Churn Rate')\n",
    "    ax[i].set_ylabel('')\n",
    "    ax[i].set_title(feature)\n",
    "    ax[i].axhline(churn_rate, ls='--', color='grey')"
   ]
  },
  {
   "cell_type": "code",
   "execution_count": null,
   "id": "ce5c3d6d",
   "metadata": {
    "scrolled": true
   },
   "outputs": [],
   "source": [
    "## Q4 (continued): comparing all against partner+dependents\n",
    "# Barplot expressing churn rate of customers with partner and dependents\n",
    "variables = ['partner_w_dependents']\n",
    "\n",
    "mean = [train['partner_w_dependents'].mean()]\n",
    "\n",
    "for x in range(0,1):\n",
    "    sns.barplot('churn',variables[x], data=train)\n",
    "    \n",
    "    plt.xlabel('')\n",
    "    plt.title(variables[x])\n",
    "    plt.axhline(mean[x], ls = '--', color = 'black')\n",
    "    plt.show()"
   ]
  },
  {
   "cell_type": "markdown",
   "id": "fc0f8ea9",
   "metadata": {},
   "source": [
    "partner & dependents: seems to have lowest churn of all 4 options. \n",
    "\n",
    "Statistically significant and a potential for anecdotal evidence suggesting dependents influence churn significantly."
   ]
  },
  {
   "cell_type": "markdown",
   "id": "6137e44e",
   "metadata": {},
   "source": [
    "### Multivariate Analysis: Significant variables and monthly charges"
   ]
  },
  {
   "cell_type": "code",
   "execution_count": null,
   "id": "1e59d200",
   "metadata": {
    "scrolled": true
   },
   "outputs": [],
   "source": [
    "train.info()"
   ]
  },
  {
   "cell_type": "markdown",
   "id": "f415c6c5",
   "metadata": {},
   "source": [
    "sns.swarmplot(x=\"payment_type_Electronic check\", y=\"monthly_charges\", data=train, hue=\"churn\", palette=\"Set2\")\n",
    "plt.legend()"
   ]
  },
  {
   "cell_type": "markdown",
   "id": "96e29d66",
   "metadata": {},
   "source": [
    "Electronic Check: swarm shows potential relationship between e-check churn and higher monthly charges"
   ]
  },
  {
   "cell_type": "markdown",
   "id": "b5dbc7b0",
   "metadata": {},
   "source": [
    "sns.swarmplot(x=\"m2m\", y=\"monthly_charges\", data=train, hue=\"churn\", palette=\"Set2\")\n",
    "plt.legend()"
   ]
  },
  {
   "cell_type": "markdown",
   "id": "a1fafa1f",
   "metadata": {},
   "source": [
    "M2M: similar to e-check, swarm indicates relationship between m2m churn and higher monthly charges"
   ]
  },
  {
   "cell_type": "markdown",
   "id": "e8896ac2",
   "metadata": {},
   "source": [
    "sns.swarmplot(x=\"no_pod\", y=\"monthly_charges\", data=train, hue=\"churn\", palette=\"Set2\")\n",
    "plt.legend()"
   ]
  },
  {
   "cell_type": "markdown",
   "id": "cf075888",
   "metadata": {},
   "source": [
    "No partner, no dependents: swarm is rather inconclusive"
   ]
  },
  {
   "cell_type": "code",
   "execution_count": null,
   "id": "f6781d60",
   "metadata": {},
   "outputs": [],
   "source": []
  },
  {
   "cell_type": "code",
   "execution_count": null,
   "id": "3c405f62",
   "metadata": {},
   "outputs": [],
   "source": []
  },
  {
   "cell_type": "code",
   "execution_count": null,
   "id": "29acb535",
   "metadata": {},
   "outputs": [],
   "source": []
  },
  {
   "cell_type": "code",
   "execution_count": null,
   "id": "c41aa3eb",
   "metadata": {},
   "outputs": [],
   "source": []
  },
  {
   "cell_type": "markdown",
   "id": "885a12c5",
   "metadata": {},
   "source": [
    "## Statistical Analysis"
   ]
  },
  {
   "cell_type": "markdown",
   "id": "f3b47dad",
   "metadata": {},
   "source": [
    "### Baseline"
   ]
  },
  {
   "cell_type": "code",
   "execution_count": null,
   "id": "ea1760d0",
   "metadata": {},
   "outputs": [],
   "source": [
    "train.churn_encoded.value_counts()"
   ]
  },
  {
   "cell_type": "markdown",
   "id": "78b44a39",
   "metadata": {},
   "source": [
    "Baseline prediction is equivalent to the ratio of not churned in our train set over the total number of values.\n",
    "baseline = 2891/3937"
   ]
  },
  {
   "cell_type": "code",
   "execution_count": null,
   "id": "eeb6e52d",
   "metadata": {},
   "outputs": [],
   "source": [
    "# setting baseline to 0\n",
    "train['baseline'] = 0"
   ]
  },
  {
   "cell_type": "code",
   "execution_count": null,
   "id": "fb73427d",
   "metadata": {},
   "outputs": [],
   "source": [
    "train.head()"
   ]
  },
  {
   "cell_type": "code",
   "execution_count": null,
   "id": "932e6e42",
   "metadata": {},
   "outputs": [],
   "source": [
    "# getting mean of baseline where same as actual churn\n",
    "(train.churn_encoded == train.baseline).mean()"
   ]
  },
  {
   "cell_type": "code",
   "execution_count": null,
   "id": "b14b05b8",
   "metadata": {},
   "outputs": [],
   "source": [
    "# Baseline Accuracy:\n",
    "\n",
    "baseline_accuracy = (train.churn_encoded == train.baseline).mean()\n",
    "\n",
    "print(f'baseline accuracy: {baseline_accuracy:.2%}')"
   ]
  },
  {
   "cell_type": "markdown",
   "id": "3d368456",
   "metadata": {},
   "source": [
    "### Confirming statistical significance"
   ]
  },
  {
   "cell_type": "code",
   "execution_count": null,
   "id": "084c5dff",
   "metadata": {},
   "outputs": [],
   "source": [
    "# Chi-squared test determining whether Month-to-Month churn rate is statistically significant\n",
    "m2m_stat = pd.crosstab(train['m2m'], train.churn_encoded)\n",
    "\n",
    "print(m2m_stat)\n",
    "\n",
    "a = 0.05\n",
    "\n",
    "chi2, p, degf, expected = stats.chi2_contingency(m2m_stat)\n",
    "\n",
    "chi2, p\n",
    "\n",
    "\n",
    "if p < a:\n",
    "    print(\"We reject the null hypothesis and this variable is statistically significant\")\n",
    "else:\n",
    "    print(\"We fail to reject the null hypothesis and this feature is not statisitcally significant\")"
   ]
  },
  {
   "cell_type": "code",
   "execution_count": null,
   "id": "8ed84d9f",
   "metadata": {},
   "outputs": [],
   "source": [
    "e_check_stat = pd.crosstab(train['payment_type_Electronic check'], train.churn_encoded)\n",
    "\n",
    "print(e_check_stat)\n",
    "\n",
    "a = 0.05\n",
    "\n",
    "chi2, p, degf, expected = stats.chi2_contingency(e_check_stat)\n",
    "\n",
    "chi2, p\n",
    "\n",
    "\n",
    "if p < a:\n",
    "    print(\"We reject the null hypothesis and this variable is statistically significant\")\n",
    "else:\n",
    "    print(\"We fail to reject the null hypothesis and this feature is not statisitcally significant\")"
   ]
  },
  {
   "cell_type": "code",
   "execution_count": null,
   "id": "ecc7fc39",
   "metadata": {
    "scrolled": true
   },
   "outputs": [],
   "source": [
    "no_pod_stat = pd.crosstab(train['no_pod'], train.churn_encoded)\n",
    "\n",
    "print(no_pod_stat)\n",
    "\n",
    "a = 0.05\n",
    "\n",
    "chi2, p, degf, expected = stats.chi2_contingency(no_pod_stat)\n",
    "\n",
    "chi2, p\n",
    "\n",
    "\n",
    "if p < a:\n",
    "    print(\"We reject the null hypothesis and this variable is statistically significant\")\n",
    "else:\n",
    "    print(\"We fail to reject the null hypothesis and this feature is not statisitcally significant\")"
   ]
  },
  {
   "cell_type": "code",
   "execution_count": null,
   "id": "1acdcef6",
   "metadata": {},
   "outputs": [],
   "source": []
  },
  {
   "cell_type": "markdown",
   "id": "8862994c",
   "metadata": {},
   "source": [
    "The above chi2 tests confirm that our selected features are statistically significant."
   ]
  },
  {
   "cell_type": "markdown",
   "id": "f74f2f4f",
   "metadata": {},
   "source": [
    "## Modeling"
   ]
  },
  {
   "cell_type": "code",
   "execution_count": null,
   "id": "f0571f23",
   "metadata": {},
   "outputs": [],
   "source": [
    "raw_data = acquire_telco.get_telco_data()\n",
    "raw_data.head()"
   ]
  },
  {
   "cell_type": "code",
   "execution_count": null,
   "id": "01e8c328",
   "metadata": {
    "scrolled": true
   },
   "outputs": [],
   "source": [
    "df = prepare.prep_telco_data(raw_data)\n",
    "df.head()"
   ]
  },
  {
   "cell_type": "code",
   "execution_count": null,
   "id": "ab35620f",
   "metadata": {},
   "outputs": [],
   "source": [
    "x_train, y_train, x_validate, y_validate, x_test, y_test = split_telco.telco_split_model(df)"
   ]
  },
  {
   "cell_type": "code",
   "execution_count": null,
   "id": "c8192663",
   "metadata": {},
   "outputs": [],
   "source": [
    "x_train.head()"
   ]
  },
  {
   "cell_type": "markdown",
   "id": "da15b33c",
   "metadata": {},
   "source": [
    "### Random Forest"
   ]
  },
  {
   "cell_type": "code",
   "execution_count": null,
   "id": "d24dbe12",
   "metadata": {},
   "outputs": [],
   "source": [
    "metrics = []\n",
    "\n",
    "for i in range(2, 25):\n",
    "    # Make the model\n",
    "    forest = RandomForestClassifier(max_depth=i, random_state=123)\n",
    "\n",
    "    # Fit the model (on train and only train)\n",
    "    forest = forest.fit(x_train, y_train)\n",
    "\n",
    "    # Use the model\n",
    "    # We'll evaluate the model's performance on train, first\n",
    "    in_sample_accuracy = forest.score(x_train, y_train)\n",
    "    \n",
    "    out_of_sample_accuracy = forest.score(x_validate, y_validate)\n",
    "\n",
    "    output = {\n",
    "        \"max_depth\": i,\n",
    "        \"train_accuracy\": in_sample_accuracy,\n",
    "        \"validate_accuracy\": out_of_sample_accuracy\n",
    "    }\n",
    "    \n",
    "    metrics.append(output)\n",
    "    \n",
    "df = pd.DataFrame(metrics)\n",
    "df[\"difference\"] = df.train_accuracy - df.validate_accuracy\n",
    "df"
   ]
  },
  {
   "cell_type": "markdown",
   "id": "4daad606",
   "metadata": {},
   "source": [
    "### KNN"
   ]
  },
  {
   "cell_type": "code",
   "execution_count": null,
   "id": "bf4f74f9",
   "metadata": {},
   "outputs": [],
   "source": [
    "metrics = []\n",
    "\n",
    "# loop through different values of k\n",
    "for k in range(1, 21):\n",
    "            \n",
    "    # define the thing\n",
    "    knn = KNeighborsClassifier(n_neighbors=k)\n",
    "    \n",
    "    # fit the thing (remmeber only fit on training data)\n",
    "    knn.fit(x_train, y_train)\n",
    "    \n",
    "    # use the thing (calculate accuracy)\n",
    "    train_accuracy = knn.score(x_train, y_train)\n",
    "    validate_accuracy = knn.score(x_validate, y_validate)\n",
    "    \n",
    "    output = {\n",
    "        \"k\": k,\n",
    "        \"train_accuracy\": train_accuracy,\n",
    "        \"validate_accuracy\": validate_accuracy\n",
    "    }\n",
    "    \n",
    "    metrics.append(output)\n",
    "\n",
    "# make a dataframe\n",
    "results = pd.DataFrame(metrics)\n",
    "\n",
    "\n",
    "# plot the data\n",
    "results.set_index('k').plot(figsize = (16,9))\n",
    "plt.ylabel('Accuracy')\n",
    "plt.xticks(np.arange(0,21,1))\n",
    "plt.grid()"
   ]
  },
  {
   "cell_type": "code",
   "execution_count": null,
   "id": "480cef01",
   "metadata": {},
   "outputs": [],
   "source": [
    "df = pd.DataFrame(metrics)\n",
    "df[\"difference\"] = df.train_accuracy - df.validate_accuracy\n",
    "df"
   ]
  },
  {
   "cell_type": "code",
   "execution_count": null,
   "id": "62e78c36",
   "metadata": {},
   "outputs": [],
   "source": []
  },
  {
   "cell_type": "markdown",
   "id": "b0da3b62",
   "metadata": {},
   "source": [
    "### Logistic Regression"
   ]
  },
  {
   "cell_type": "code",
   "execution_count": null,
   "id": "62ccdfe1",
   "metadata": {},
   "outputs": [],
   "source": [
    "model = sklearn.linear_model.LogisticRegression(C=1)\n",
    "model.fit(x_train, y_train)\n",
    "accuracy = model.score(x_validate, y_validate)\n",
    "coefs = dict(zip(x_train.columns, model.coef_[0]))"
   ]
  },
  {
   "cell_type": "code",
   "execution_count": null,
   "id": "79774b16",
   "metadata": {},
   "outputs": [],
   "source": [
    "# Looping through different C values and look at resulting model coefficients\n",
    "\n",
    "# creating a function for C\n",
    "def evaluate_model(c):\n",
    "    model = sklearn.linear_model.LogisticRegression(C=c)\n",
    "    model.fit(x_train, y_train)\n",
    "    accuracy = model.score(x_validate, y_validate)\n",
    "    coefs = dict(zip(x_train.columns, model.coef_[0]))\n",
    "    return {'C': c, 'accuracy': accuracy, **coefs}\n",
    "\n",
    "# looping through different C values\n",
    "models = [evaluate_model(c) for c in [.001, .01, .1, 1, 10, 100, 1000]]\n",
    "\n",
    "\n",
    "(pd.DataFrame(models).round(3)\n",
    " .set_index(['C', 'accuracy'])\n",
    " .style\n",
    " .set_caption('Effect of different C values on accuracy (t=.5) and the resulting coefficients.')\n",
    " .set_precision(3)\n",
    ")"
   ]
  },
  {
   "cell_type": "markdown",
   "id": "430347b6",
   "metadata": {},
   "source": [
    "C value of 0.01 seems to provide most accurate results."
   ]
  },
  {
   "cell_type": "code",
   "execution_count": null,
   "id": "ce6aa036",
   "metadata": {},
   "outputs": [],
   "source": []
  },
  {
   "cell_type": "code",
   "execution_count": null,
   "id": "520a5944",
   "metadata": {},
   "outputs": [],
   "source": []
  },
  {
   "cell_type": "code",
   "execution_count": null,
   "id": "4c327b78",
   "metadata": {},
   "outputs": [],
   "source": []
  },
  {
   "cell_type": "code",
   "execution_count": null,
   "id": "7582e1b9",
   "metadata": {},
   "outputs": [],
   "source": []
  },
  {
   "cell_type": "code",
   "execution_count": null,
   "id": "05224a92",
   "metadata": {},
   "outputs": [],
   "source": []
  },
  {
   "cell_type": "markdown",
   "id": "4a8ebcd9",
   "metadata": {},
   "source": [
    "## Addl. exploration: "
   ]
  },
  {
   "cell_type": "code",
   "execution_count": null,
   "id": "eee82561",
   "metadata": {
    "scrolled": true
   },
   "outputs": [],
   "source": [
    "train.corr().churn_encoded.sort_values(ascending=False).plot(kind='bar', figsize=(18,5))"
   ]
  },
  {
   "cell_type": "code",
   "execution_count": null,
   "id": "17bced5f",
   "metadata": {},
   "outputs": [],
   "source": []
  },
  {
   "cell_type": "code",
   "execution_count": null,
   "id": "95009dd6",
   "metadata": {},
   "outputs": [],
   "source": []
  },
  {
   "cell_type": "code",
   "execution_count": null,
   "id": "619360ad",
   "metadata": {},
   "outputs": [],
   "source": []
  },
  {
   "cell_type": "code",
   "execution_count": null,
   "id": "46b9d5ff",
   "metadata": {},
   "outputs": [],
   "source": []
  },
  {
   "cell_type": "code",
   "execution_count": null,
   "id": "e69ee77a",
   "metadata": {},
   "outputs": [],
   "source": []
  },
  {
   "cell_type": "code",
   "execution_count": null,
   "id": "c75fdcab",
   "metadata": {},
   "outputs": [],
   "source": []
  },
  {
   "cell_type": "code",
   "execution_count": null,
   "id": "2afddc6d",
   "metadata": {},
   "outputs": [],
   "source": []
  }
 ],
 "metadata": {
  "kernelspec": {
   "display_name": "Python 3 (ipykernel)",
   "language": "python",
   "name": "python3"
  },
  "language_info": {
   "codemirror_mode": {
    "name": "ipython",
    "version": 3
   },
   "file_extension": ".py",
   "mimetype": "text/x-python",
   "name": "python",
   "nbconvert_exporter": "python",
   "pygments_lexer": "ipython3",
   "version": "3.9.12"
  },
  "vscode": {
   "interpreter": {
    "hash": "3067ead486e059ec00ffe7555bdb889e6e264a24dc711bf108106cc7baee8d5d"
   }
  }
 },
 "nbformat": 4,
 "nbformat_minor": 5
}
